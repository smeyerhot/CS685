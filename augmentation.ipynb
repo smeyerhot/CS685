{
 "metadata": {
  "language_info": {
   "codemirror_mode": {
    "name": "ipython",
    "version": 3
   },
   "file_extension": ".py",
   "mimetype": "text/x-python",
   "name": "python",
   "nbconvert_exporter": "python",
   "pygments_lexer": "ipython3",
   "version": 3
  },
  "orig_nbformat": 2
 },
 "nbformat": 4,
 "nbformat_minor": 2,
 "cells": [
  {
   "cell_type": "code",
   "execution_count": null,
   "metadata": {},
   "outputs": [],
   "source": [
    "from google.colab import drive\n",
    "drive.mount('/content/drive/')"
   ]
  },
  {
   "cell_type": "code",
   "execution_count": null,
   "metadata": {},
   "outputs": [],
   "source": [
    "!pip install transformers\n",
    "!pip install datasets\n",
    "!pip install pytorch_pretrained_bert"
   ]
  },
  {
   "cell_type": "code",
   "execution_count": null,
   "metadata": {},
   "outputs": [],
   "source": [
    "%cd '/content/drive/MyDrive/CS685/'"
   ]
  },
  {
   "cell_type": "code",
   "execution_count": null,
   "metadata": {},
   "outputs": [],
   "source": [
    "import os\n",
    "import time\n",
    "# from google.colab import drive\n",
    "\n",
    "import pandas as pd\n",
    "import numpy as np\n",
    "import random\n",
    "\n",
    "import matplotlib.pyplot as plt\n",
    "%matplotlib inline\n",
    "\n",
    "import torch\n",
    "from torch.utils.data import Dataset, DataLoader, RandomSampler, SequentialSampler\n",
    "\n",
    "from datasets import load_dataset\n",
    "\n",
    "import nltk\n",
    "nltk.download('punkt')"
   ]
  },
  {
   "cell_type": "code",
   "execution_count": null,
   "metadata": {},
   "outputs": [],
   "source": [
    "seed_val = 42\n",
    "random.seed(seed_val)\n",
    "np.random.seed(seed_val)\n",
    "torch.manual_seed(seed_val)\n",
    "torch.cuda.manual_seed_all(seed_val)"
   ]
  },
  {
   "cell_type": "code",
   "execution_count": null,
   "metadata": {},
   "outputs": [],
   "source": [
    "med_dialog = load_dataset(\"medical_dialog\", \"en\", data_dir=\"./Medical-Dialogue-Dataset-English\")\n",
    "md_df = med_dialog['train'].to_pandas()\n",
    "print(len(md_df))\n",
    "md_df.head()"
   ]
  },
  {
   "cell_type": "code",
   "execution_count": null,
   "metadata": {},
   "outputs": [],
   "source": [
    "filtered = pd.DataFrame(columns = md_df.columns)\n",
    "keywords = [\"respiratory\", \"coronavirus\"]\n",
    "for index, row in md_df.iterrows():\n",
    "  u = \" \".join(row[\"dialogue_turns\"][\"utterance\"])\n",
    "  if any([word in u for word in keywords]):\n",
    "    filtered = filtered.append(row, ignore_index = True)\n",
    "    if len(filtered) > 1500:\n",
    "      break\n",
    "  \n",
    "filtered.to_pickle(\"/content/drive/MyDrive/CS685/med_dialogue_sample.pickle\")\n",
    "print(len(filtered))\n",
    "filtered.head()"
   ]
  }
 ]
}