{
 "cells": [
  {
   "cell_type": "code",
   "execution_count": null,
   "id": "60c32e82",
   "metadata": {},
   "outputs": [],
   "source": [
    "!pip install praw"
   ]
  },
  {
   "cell_type": "code",
   "execution_count": null,
   "id": "cddacb1d",
   "metadata": {},
   "outputs": [],
   "source": [
    "import praw\n",
    "import collections\n",
    "import json\n",
    "import pandas as pd\n",
    "import numpy as np"
   ]
  },
  {
   "cell_type": "code",
   "execution_count": null,
   "id": "47797b61",
   "metadata": {},
   "outputs": [],
   "source": [
    "reddit = praw.Reddit(\n",
    "    client_id=\"<clientid>\",\n",
    "    client_secret=\"<clientid>\",\n",
    "    user_agent=\"<username>\",\n",
    ")"
   ]
  },
  {
   "cell_type": "code",
   "execution_count": null,
   "id": "baffb7e9",
   "metadata": {},
   "outputs": [],
   "source": [
    "subreddit_count = collections.defaultdict(int)\n",
    "user = reddit.redditor('<username>')\n",
    "for comment in user.comments.new(limit=None):\n",
    "    subreddit_count[comment.subreddit.display_name] += 1"
   ]
  },
  {
   "cell_type": "code",
   "execution_count": null,
   "id": "13d73620",
   "metadata": {},
   "outputs": [],
   "source": [
    "df = pd.concat([pd.DataFrame([[key, value]],columns=['subreddit','ranking']) for key, value in subreddit_count.items()], ignore_index=True)"
   ]
  },
  {
   "cell_type": "code",
   "execution_count": null,
   "id": "33ef636a",
   "metadata": {},
   "outputs": [],
   "source": [
    "with open('s2Id.json', 'r') as fp:\n",
    "    s2I = json.load(fp)"
   ]
  },
  {
   "cell_type": "code",
   "execution_count": null,
   "id": "67fe27a8",
   "metadata": {},
   "outputs": [],
   "source": [
    "def parseIndices(x):\n",
    "    if x in s2I:\n",
    "        return int(s2I[x])\n",
    "    else:\n",
    "        return np.nan"
   ]
  },
  {
   "cell_type": "code",
   "execution_count": null,
   "id": "e5143dc5",
   "metadata": {},
   "outputs": [],
   "source": [
    "tdcol = df['subreddit'].apply(parseIndices)"
   ]
  },
  {
   "cell_type": "code",
   "execution_count": null,
   "id": "e4cfda26",
   "metadata": {},
   "outputs": [],
   "source": [
    "df['reddit_id'] = tdcol"
   ]
  },
  {
   "cell_type": "code",
   "execution_count": null,
   "id": "6bbc6a0e",
   "metadata": {},
   "outputs": [],
   "source": [
    "td = df.dropna().reset_index()"
   ]
  },
  {
   "cell_type": "code",
   "execution_count": null,
   "id": "0b2c3b63",
   "metadata": {},
   "outputs": [],
   "source": [
    "td['reddit_id'] = td.reddit_id.astype(int)"
   ]
  },
  {
   "cell_type": "code",
   "execution_count": null,
   "id": "65c25afc",
   "metadata": {},
   "outputs": [],
   "source": [
    "td['ranking'] += 100"
   ]
  },
  {
   "cell_type": "code",
   "execution_count": null,
   "id": "c55796dd",
   "metadata": {},
   "outputs": [],
   "source": [
    "tdf = td.rename(columns={'ranking':'rating'})"
   ]
  },
  {
   "cell_type": "code",
   "execution_count": null,
   "id": "8891eb43",
   "metadata": {},
   "outputs": [],
   "source": [
    "tdf.to_pickle('tdf.pkl')"
   ]
  }
 ],
 "metadata": {
  "kernelspec": {
   "display_name": "Python 3 (ipykernel)",
   "language": "python",
   "name": "python3"
  },
  "language_info": {
   "codemirror_mode": {
    "name": "ipython",
    "version": 3
   },
   "file_extension": ".py",
   "mimetype": "text/x-python",
   "name": "python",
   "nbconvert_exporter": "python",
   "pygments_lexer": "ipython3",
   "version": "3.9.6"
  }
 },
 "nbformat": 4,
 "nbformat_minor": 5
}
