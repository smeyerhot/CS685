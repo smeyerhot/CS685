{
 "cells": [
  {
   "cell_type": "code",
   "execution_count": null,
   "metadata": {
    "colab": {
     "base_uri": "https://localhost:8080/"
    },
    "id": "JJRXZJd7Fc-t",
    "outputId": "20e34bab-c442-4614-ee36-77d962982b53"
   },
   "outputs": [
    {
     "name": "stdout",
     "output_type": "stream",
     "text": [
      "Drive already mounted at /content/drive/; to attempt to forcibly remount, call drive.mount(\"/content/drive/\", force_remount=True).\n"
     ]
    }
   ],
   "source": [
    "from google.colab import drive\n",
    "drive.mount('/content/drive/')"
   ]
  },
  {
   "cell_type": "code",
   "execution_count": null,
   "metadata": {
    "id": "dFQhxqyAFeE5"
   },
   "outputs": [],
   "source": [
    "!pip install transformers\n",
    "!pip install datasets\n",
    "!pip install pytorch_pretrained_bert\n",
    "\n",
    "!pip install rouge/requirements.txt\n",
    "!pip install rouge-score"
   ]
  },
  {
   "cell_type": "code",
   "execution_count": null,
   "metadata": {
    "colab": {
     "base_uri": "https://localhost:8080/"
    },
    "id": "DPHKlzSVsWJL",
    "outputId": "97f0a517-f1d7-4c59-aa52-42743cce2b97"
   },
   "outputs": [
    {
     "name": "stdout",
     "output_type": "stream",
     "text": [
      "[nltk_data] Downloading package punkt to /root/nltk_data...\n",
      "[nltk_data]   Package punkt is already up-to-date!\n"
     ]
    },
    {
     "data": {
      "text/plain": [
       "True"
      ]
     },
     "execution_count": 3,
     "metadata": {},
     "output_type": "execute_result"
    }
   ],
   "source": [
    "import os\n",
    "import time\n",
    "# from google.colab import drive\n",
    "\n",
    "import json\n",
    "import pandas as pd\n",
    "import seaborn as sns\n",
    "import numpy as np\n",
    "import random\n",
    "\n",
    "import matplotlib.pyplot as plt\n",
    "% matplotlib inline\n",
    "\n",
    "import torch\n",
    "from torch.utils.data import Dataset, DataLoader, random_split, RandomSampler, SequentialSampler\n",
    "torch.manual_seed(42)\n",
    "\n",
    "from transformers import AutoModelForCausalLM, AutoTokenizer, AdamW, GPT2LMHeadModel, \\\n",
    "GPT2DoubleHeadsModel, GPT2TokenizerFast, GPT2Config, BertTokenizer, EncoderDecoderModel\n",
    "from transformers import AdamW, get_linear_schedule_with_warmup\n",
    "\n",
    "from datasets import load_dataset\n",
    "\n",
    "from helper import format_time, rouge\n",
    "from data import GPT2Dataset, preprocessing, split_data\n",
    "from plots import loss_curves\n",
    "\n",
    "import nltk\n",
    "nltk.download('punkt')"
   ]
  },
  {
   "cell_type": "code",
   "execution_count": null,
   "metadata": {
    "colab": {
     "base_uri": "https://localhost:8080/",
     "height": 103,
     "referenced_widgets": [
      "bc3a4b6bd4174d97ac04959ea380fe73",
      "2cc717ed724e47cead95fcf93c2b4229",
      "9158df3d61f24f54a997d857095a932b",
      "1599bd38199d4807a71b83e28f30fc15",
      "75fbd495f02f4696beca61d1dd52574b",
      "ee1bc9cbb4324fb4a835bb502ff39c58",
      "01df83da34e042daa4bf51d2bf84c2d2",
      "60a64755acba40db92b6ba198053ebc1",
      "9bcfab2e565a4e7e99ec6320508f1899",
      "e597bd8f7a4e4da88b9b8231877ec7d8",
      "8119372accdd44d8bf9b6b82dd3c67ed"
     ]
    },
    "id": "oT0Yc_OmsWJP",
    "outputId": "95aa0cfa-94b6-4d8b-d9fa-1a13ca58f806"
   },
   "outputs": [
    {
     "name": "stderr",
     "output_type": "stream",
     "text": [
      "Using custom data configuration en-7330ead6fca24743\n",
      "Reusing dataset covid_qa_ucsd (/root/.cache/huggingface/datasets/covid_qa_ucsd/en-7330ead6fca24743/1.0.0/2a15b6e8fdc7cee91951d8f20ac2b26ede79fbef988919fbde22dbb97bf4df81)\n"
     ]
    },
    {
     "data": {
      "application/vnd.jupyter.widget-view+json": {
       "model_id": "bc3a4b6bd4174d97ac04959ea380fe73",
       "version_major": 2,
       "version_minor": 0
      },
      "text/plain": [
       "  0%|          | 0/1 [00:00<?, ?it/s]"
      ]
     },
     "metadata": {},
     "output_type": "display_data"
    }
   ],
   "source": [
    "covid_dialog = load_dataset(\"covid_qa_ucsd\", \"en\", data_dir=\"/content/drive/My Drive/Colab Notebooks\" )"
   ]
  },
  {
   "cell_type": "code",
   "execution_count": null,
   "metadata": {
    "colab": {
     "base_uri": "https://localhost:8080/",
     "height": 221
    },
    "id": "HT4pD4vdsWJQ",
    "outputId": "184c92a3-6a67-40d0-f1f7-73455ba5928e"
   },
   "outputs": [
    {
     "name": "stdout",
     "output_type": "stream",
     "text": [
      "572\n"
     ]
    },
    {
     "data": {
      "text/html": [
       "<div>\n",
       "<style scoped>\n",
       "    .dataframe tbody tr th:only-of-type {\n",
       "        vertical-align: middle;\n",
       "    }\n",
       "\n",
       "    .dataframe tbody tr th {\n",
       "        vertical-align: top;\n",
       "    }\n",
       "\n",
       "    .dataframe thead th {\n",
       "        text-align: right;\n",
       "    }\n",
       "</style>\n",
       "<table border=\"1\" class=\"dataframe\">\n",
       "  <thead>\n",
       "    <tr style=\"text-align: right;\">\n",
       "      <th></th>\n",
       "      <th>dialogue_id</th>\n",
       "      <th>dialogue_url</th>\n",
       "      <th>dialogue_turns</th>\n",
       "    </tr>\n",
       "  </thead>\n",
       "  <tbody>\n",
       "    <tr>\n",
       "      <th>0</th>\n",
       "      <td>1</td>\n",
       "      <td>https://www.icliniq.com/qa/covid-19/i-have-cou...</td>\n",
       "      <td>{'speaker': [0, 1, 0, 1], 'utterance': ['I hav...</td>\n",
       "    </tr>\n",
       "    <tr>\n",
       "      <th>1</th>\n",
       "      <td>2</td>\n",
       "      <td>https://www.icliniq.com/qa/covid-19/i-have-a-l...</td>\n",
       "      <td>{'speaker': [0, 1, 0, 1, 0, 1, 0, 1], 'utteran...</td>\n",
       "    </tr>\n",
       "    <tr>\n",
       "      <th>2</th>\n",
       "      <td>3</td>\n",
       "      <td>https://www.icliniq.com/qa/coronavirus/can-cor...</td>\n",
       "      <td>{'speaker': [0, 1], 'utterance': ['Can Coronav...</td>\n",
       "    </tr>\n",
       "    <tr>\n",
       "      <th>3</th>\n",
       "      <td>4</td>\n",
       "      <td>https://www.icliniq.com/qa/covid-19/i-have-chi...</td>\n",
       "      <td>{'speaker': [0, 1, 0, 1, 0, 1, 0, 1, 0, 1, 0, ...</td>\n",
       "    </tr>\n",
       "    <tr>\n",
       "      <th>4</th>\n",
       "      <td>5</td>\n",
       "      <td>https://www.healthcaremagic.com/premiumquestio...</td>\n",
       "      <td>{'speaker': [0, 1], 'utterance': ['Does COVID-...</td>\n",
       "    </tr>\n",
       "  </tbody>\n",
       "</table>\n",
       "</div>"
      ],
      "text/plain": [
       "   dialogue_id  ...                                     dialogue_turns\n",
       "0            1  ...  {'speaker': [0, 1, 0, 1], 'utterance': ['I hav...\n",
       "1            2  ...  {'speaker': [0, 1, 0, 1, 0, 1, 0, 1], 'utteran...\n",
       "2            3  ...  {'speaker': [0, 1], 'utterance': ['Can Coronav...\n",
       "3            4  ...  {'speaker': [0, 1, 0, 1, 0, 1, 0, 1, 0, 1, 0, ...\n",
       "4            5  ...  {'speaker': [0, 1], 'utterance': ['Does COVID-...\n",
       "\n",
       "[5 rows x 3 columns]"
      ]
     },
     "execution_count": 5,
     "metadata": {},
     "output_type": "execute_result"
    }
   ],
   "source": [
    "cd_df = covid_dialog['train'].to_pandas()\n",
    "print(len(cd_df))\n",
    "cd_df.head()"
   ]
  },
  {
   "cell_type": "code",
   "execution_count": null,
   "metadata": {
    "colab": {
     "base_uri": "https://localhost:8080/",
     "height": 258
    },
    "id": "P5ia7GGJsWJR",
    "outputId": "85ef90b9-4d39-4418-fe28-59680cc956f5"
   },
   "outputs": [
    {
     "name": "stderr",
     "output_type": "stream",
     "text": [
      "/content/data.py:45: VisibleDeprecationWarning: Creating an ndarray from ragged nested sequences (which is a list-or-tuple of lists-or-tuples-or ndarrays with different lengths or shapes) is deprecated. If you meant to do this, you must specify 'dtype=object' when creating the ndarray\n",
      "  all_fields = np.transpose(np.array(all_fields).reshape((4, -1)))\n"
     ]
    },
    {
     "data": {
      "text/html": [
       "<div>\n",
       "<style scoped>\n",
       "    .dataframe tbody tr th:only-of-type {\n",
       "        vertical-align: middle;\n",
       "    }\n",
       "\n",
       "    .dataframe tbody tr th {\n",
       "        vertical-align: top;\n",
       "    }\n",
       "\n",
       "    .dataframe thead th {\n",
       "        text-align: right;\n",
       "    }\n",
       "</style>\n",
       "<table border=\"1\" class=\"dataframe\">\n",
       "  <thead>\n",
       "    <tr style=\"text-align: right;\">\n",
       "      <th></th>\n",
       "      <th>id</th>\n",
       "      <th>encoder</th>\n",
       "      <th>decoder</th>\n",
       "      <th>text</th>\n",
       "    </tr>\n",
       "  </thead>\n",
       "  <tbody>\n",
       "    <tr>\n",
       "      <th>0</th>\n",
       "      <td>0</td>\n",
       "      <td>[I have cough with no travel history. Is this ...</td>\n",
       "      <td>[Hello, I understand your concern. I just have...</td>\n",
       "      <td>[I have cough with no travel history. Is this ...</td>\n",
       "    </tr>\n",
       "    <tr>\n",
       "      <th>1</th>\n",
       "      <td>0</td>\n",
       "      <td>[I have cough with no travel history. Is this ...</td>\n",
       "      <td>[Hi, I would recommend you take n-acetylcystei...</td>\n",
       "      <td>[I have cough with no travel history. Is this ...</td>\n",
       "    </tr>\n",
       "    <tr>\n",
       "      <th>2</th>\n",
       "      <td>1</td>\n",
       "      <td>[I have a little fever with no history of fore...</td>\n",
       "      <td>[Hello, I can understand your concern.In my op...</td>\n",
       "      <td>[I have a little fever with no history of fore...</td>\n",
       "    </tr>\n",
       "    <tr>\n",
       "      <th>3</th>\n",
       "      <td>1</td>\n",
       "      <td>[I have a little fever with no history of fore...</td>\n",
       "      <td>[Hi, yes, upload in this query only. I will se...</td>\n",
       "      <td>[I have a little fever with no history of fore...</td>\n",
       "    </tr>\n",
       "    <tr>\n",
       "      <th>4</th>\n",
       "      <td>1</td>\n",
       "      <td>[I have a little fever with no history of fore...</td>\n",
       "      <td>[Hi, I can understand your concern. I have gon...</td>\n",
       "      <td>[I have a little fever with no history of fore...</td>\n",
       "    </tr>\n",
       "  </tbody>\n",
       "</table>\n",
       "</div>"
      ],
      "text/plain": [
       "  id  ...                                               text\n",
       "0  0  ...  [I have cough with no travel history. Is this ...\n",
       "1  0  ...  [I have cough with no travel history. Is this ...\n",
       "2  1  ...  [I have a little fever with no history of fore...\n",
       "3  1  ...  [I have a little fever with no history of fore...\n",
       "4  1  ...  [I have a little fever with no history of fore...\n",
       "\n",
       "[5 rows x 4 columns]"
      ]
     },
     "execution_count": 6,
     "metadata": {},
     "output_type": "execute_result"
    }
   ],
   "source": [
    "qa_df = preprocessing(cd_df)\n",
    "text = qa_df.text.copy()\n",
    "\n",
    "qa_df.head()"
   ]
  },
  {
   "cell_type": "code",
   "execution_count": null,
   "metadata": {
    "colab": {
     "base_uri": "https://localhost:8080/",
     "height": 336
    },
    "id": "-ANiO5wAsWJS",
    "outputId": "b05e16c3-ed76-42c3-ae77-4e26fcc639f9"
   },
   "outputs": [
    {
     "name": "stderr",
     "output_type": "stream",
     "text": [
      "/usr/local/lib/python3.7/dist-packages/seaborn/distributions.py:2619: FutureWarning: `distplot` is a deprecated function and will be removed in a future version. Please adapt your code to use either `displot` (a figure-level function with similar flexibility) or `histplot` (an axes-level function for histograms).\n",
      "  warnings.warn(msg, FutureWarning)\n"
     ]
    },
    {
     "data": {
      "text/plain": [
       "<matplotlib.axes._subplots.AxesSubplot at 0x7feb5e7a65d0>"
      ]
     },
     "execution_count": 7,
     "metadata": {},
     "output_type": "execute_result"
    },
    {
     "data": {
      "image/png": "[encoded data removed]",
      "text/plain": [
       "<Figure size 432x288 with 1 Axes>"
      ]
     },
     "metadata": {
      "needs_background": "light"
     },
     "output_type": "display_data"
    }
   ],
   "source": [
    "doc_lengths = []\n",
    "\n",
    "for bio in text:\n",
    "  \n",
    "    # get rough token count distribution\n",
    "    tokens = nltk.word_tokenize(bio[0])\n",
    "\n",
    "    doc_lengths.append(len(tokens))\n",
    "\n",
    "doc_lengths = np.array(doc_lengths)\n",
    "\n",
    "sns.distplot(doc_lengths)\n",
    "             "
   ]
  },
  {
   "cell_type": "code",
   "execution_count": null,
   "metadata": {
    "id": "6Bkb6_V9sWJS"
   },
   "outputs": [],
   "source": [
    "torch.cuda.empty_cache()"
   ]
  },
  {
   "cell_type": "code",
   "execution_count": null,
   "metadata": {
    "colab": {
     "base_uri": "https://localhost:8080/",
     "height": 282,
     "referenced_widgets": [
      "6299ee1d2a1246c68ce5a189ef08e74d",
      "5da9f2c00396426c9326a075f6a7b796",
      "f9049ec5f08d48d594c6451ae3ac7445",
      "6307373a91d94620acb90ee2aae6b60c",
      "98ae3e521da944e3b2b5f41f2d02072c",
      "8cba34d90b2c42fcbce5462bf87eb55d",
      "8bf79e03c55e444c8abf2dfa746617aa",
      "c0cdd8d92b2e4ac18ab3ab5fbe6ce031",
      "5f90f06cde16450a931596dbe02907b3",
      "deca4eae1dc74539a264654da0efd7b0",
      "aa25d111370b4541b9501e809b97860b",
      "d6aefe5968a74720b11f308bda7d36cd",
      "23f98830cf79462c912fbf3a34ea18c9",
      "ba2cf5c4c8b84e44aab8148340903d77",
      "c48c3e57deff44d7a313b5bc5fac5aad",
      "7672a91d6122405f8df7af446d869398",
      "2e9b04828a004377a4fce90e5a33b1ae",
      "e7591997513d4eb58cff4c766e0a3696",
      "30ce330a1ce04472bdf7119950115ace",
      "b61696b28f564eceb7d2a9ac00cda080",
      "d0e462ea3c484e158a7e18113dbd462b",
      "1465a4d033624937a2fc3216432268a8",
      "d0ee06f2cce64557949c938a37a20bd3",
      "4bb96dbd5844472fab1716a6534e2e19",
      "8cfc2ce95a9842e0bf3bb27953c79bbd",
      "4245f28c6fce495b8ef13080ea23d9c9",
      "2a8ae4ed66c048a29f4df104a2c86f83",
      "95e7611ae98c4c9ab461a6ad4517aa99",
      "ab7f75fc2ee6453d9c54b7abed2dc769",
      "1f651efc1f714050ae0c17459d513af4",
      "7d9edf988d2c4f09a2fc3f52c7a0efde",
      "4e27c8dac57f4f80b543a2617602c609",
      "7423bfdc991f4a78aa411dcda2cfccb7",
      "5d0f7585d35641fba9bb7f4ea93db579",
      "a837e5de00d8439cb76e7acb1cd88913",
      "6f70f73556e84f6ca1b13c198754bc2d",
      "20e01159c9e247ab8594466ec2a5282b",
      "cfd38490e7674cbd9198172e4e58bb94",
      "79b1423a08084666b50e9282df7e28d7",
      "4d6d89b0430344cfbcae2fa6d3cbb5c2",
      "e3b48d9d2ea141e490d21a1f9475d3cf",
      "6dc1976b4f844770b2adf61a1ebf3329",
      "ee734aac2cbc42628677f41a49f93b5b",
      "6b58e1ab8abe45b4ab4e5ae7bf3f53c7",
      "496ff34db4aa4580ba37e6a8ee8a9c5f",
      "1a29b393dabd46519c2564b0caa079f3",
      "cd908958b38e43a19e720ffe37c34685",
      "e5b4e157d1d547ab9759dce9407e8d06",
      "fe75ce3a70554f68892e79506d24d188",
      "4551fb10d2f9499491ea93c6a248654f",
      "24794750c22f40d6b24328e805f18ec1",
      "6285a4fe49474766bd89e641c2645b35",
      "a6b8ef7e83d24f1c9b0de5acbec87803",
      "12872f9f879d4210a0fa370c91f31fcf",
      "19d87d21d00340a2a5584301673aaac0"
     ]
    },
    "id": "1oUBg0POsWJT",
    "outputId": "ae5f67c4-079c-4e6d-9b99-69a458b9a40a"
   },
   "outputs": [
    {
     "data": {
      "application/vnd.jupyter.widget-view+json": {
       "model_id": "6299ee1d2a1246c68ce5a189ef08e74d",
       "version_major": 2,
       "version_minor": 0
      },
      "text/plain": [
       "Downloading:   0%|          | 0.00/26.0 [00:00<?, ?B/s]"
      ]
     },
     "metadata": {},
     "output_type": "display_data"
    },
    {
     "data": {
      "application/vnd.jupyter.widget-view+json": {
       "model_id": "d6aefe5968a74720b11f308bda7d36cd",
       "version_major": 2,
       "version_minor": 0
      },
      "text/plain": [
       "Downloading:   0%|          | 0.00/641 [00:00<?, ?B/s]"
      ]
     },
     "metadata": {},
     "output_type": "display_data"
    },
    {
     "data": {
      "application/vnd.jupyter.widget-view+json": {
       "model_id": "d0ee06f2cce64557949c938a37a20bd3",
       "version_major": 2,
       "version_minor": 0
      },
      "text/plain": [
       "Downloading:   0%|          | 0.00/0.99M [00:00<?, ?B/s]"
      ]
     },
     "metadata": {},
     "output_type": "display_data"
    },
    {
     "data": {
      "application/vnd.jupyter.widget-view+json": {
       "model_id": "5d0f7585d35641fba9bb7f4ea93db579",
       "version_major": 2,
       "version_minor": 0
      },
      "text/plain": [
       "Downloading:   0%|          | 0.00/446k [00:00<?, ?B/s]"
      ]
     },
     "metadata": {},
     "output_type": "display_data"
    },
    {
     "data": {
      "application/vnd.jupyter.widget-view+json": {
       "model_id": "496ff34db4aa4580ba37e6a8ee8a9c5f",
       "version_major": 2,
       "version_minor": 0
      },
      "text/plain": [
       "Downloading:   0%|          | 0.00/335M [00:00<?, ?B/s]"
      ]
     },
     "metadata": {},
     "output_type": "display_data"
    },
    {
     "name": "stderr",
     "output_type": "stream",
     "text": [
      "Some weights of the model checkpoint at microsoft/DialoGPT-small were not used when initializing GPT2Model: ['lm_head.weight']\n",
      "- This IS expected if you are initializing GPT2Model from the checkpoint of a model trained on another task or with another architecture (e.g. initializing a BertForSequenceClassification model from a BertForPreTraining model).\n",
      "- This IS NOT expected if you are initializing GPT2Model from the checkpoint of a model that you expect to be exactly identical (initializing a BertForSequenceClassification model from a BertForSequenceClassification model).\n",
      "Some weights of GPT2LMHeadModel were not initialized from the model checkpoint at microsoft/DialoGPT-small and are newly initialized: ['transformer.h.0.ln_cross_attn.weight', 'transformer.h.9.crossattention.c_attn.weight', 'transformer.h.7.crossattention.masked_bias', 'transformer.h.2.crossattention.c_proj.bias', 'transformer.h.11.crossattention.c_proj.bias', 'transformer.h.3.crossattention.q_attn.weight', 'transformer.h.8.crossattention.q_attn.weight', 'transformer.h.10.crossattention.c_proj.weight', 'transformer.h.1.crossattention.c_proj.bias', 'transformer.h.0.crossattention.q_attn.weight', 'transformer.h.1.ln_cross_attn.weight', 'transformer.h.6.crossattention.bias', 'transformer.h.11.crossattention.c_proj.weight', 'transformer.h.8.ln_cross_attn.weight', 'transformer.h.11.crossattention.q_attn.weight', 'transformer.h.5.ln_cross_attn.weight', 'transformer.h.2.crossattention.c_proj.weight', 'transformer.h.8.crossattention.c_attn.weight', 'transformer.h.3.crossattention.masked_bias', 'transformer.h.3.crossattention.c_proj.weight', 'transformer.h.6.crossattention.c_proj.bias', 'transformer.h.9.crossattention.masked_bias', 'transformer.h.6.crossattention.c_attn.weight', 'transformer.h.0.crossattention.c_attn.weight', 'transformer.h.8.crossattention.c_proj.bias', 'transformer.h.4.crossattention.c_attn.weight', 'transformer.h.10.crossattention.q_attn.weight', 'transformer.h.5.crossattention.c_proj.bias', 'transformer.h.10.crossattention.masked_bias', 'transformer.h.8.crossattention.bias', 'transformer.h.9.crossattention.c_proj.bias', 'transformer.h.11.crossattention.masked_bias', 'transformer.h.4.crossattention.c_proj.bias', 'transformer.h.1.crossattention.c_attn.weight', 'transformer.h.1.crossattention.c_proj.weight', 'transformer.h.3.crossattention.bias', 'transformer.h.4.crossattention.masked_bias', 'transformer.h.4.crossattention.c_proj.weight', 'transformer.h.7.crossattention.c_proj.bias', 'transformer.h.5.crossattention.c_proj.weight', 'transformer.h.4.ln_cross_attn.weight', 'transformer.h.5.crossattention.c_attn.weight', 'transformer.h.2.crossattention.masked_bias', 'transformer.h.1.crossattention.q_attn.weight', 'transformer.h.7.crossattention.c_proj.weight', 'transformer.h.11.crossattention.bias', 'transformer.h.5.crossattention.masked_bias', 'transformer.h.9.ln_cross_attn.weight', 'transformer.h.3.crossattention.c_attn.weight', 'transformer.h.0.crossattention.c_proj.bias', 'transformer.h.10.crossattention.c_proj.bias', 'transformer.h.10.crossattention.bias', 'transformer.h.6.crossattention.c_proj.weight', 'transformer.h.9.crossattention.q_attn.weight', 'transformer.h.0.crossattention.bias', 'transformer.h.2.crossattention.c_attn.weight', 'transformer.h.7.crossattention.bias', 'transformer.h.2.crossattention.bias', 'transformer.h.5.crossattention.bias', 'transformer.h.8.crossattention.masked_bias', 'transformer.h.9.crossattention.bias', 'transformer.h.10.crossattention.c_attn.weight', 'transformer.h.8.crossattention.c_proj.weight', 'transformer.h.0.crossattention.c_proj.weight', 'transformer.h.6.crossattention.q_attn.weight', 'transformer.h.2.crossattention.q_attn.weight', 'transformer.h.11.ln_cross_attn.weight', 'transformer.h.7.crossattention.c_attn.weight', 'transformer.h.9.crossattention.c_proj.weight', 'transformer.h.0.crossattention.masked_bias', 'transformer.h.6.crossattention.masked_bias', 'transformer.h.3.crossattention.c_proj.bias', 'transformer.h.6.ln_cross_attn.weight', 'transformer.h.1.crossattention.bias', 'transformer.h.10.ln_cross_attn.weight', 'transformer.h.3.ln_cross_attn.weight', 'transformer.h.2.ln_cross_attn.weight', 'transformer.h.7.crossattention.q_attn.weight', 'transformer.h.1.crossattention.masked_bias', 'transformer.h.4.crossattention.q_attn.weight', 'transformer.h.7.ln_cross_attn.weight', 'transformer.h.11.crossattention.c_attn.weight', 'transformer.h.5.crossattention.q_attn.weight', 'transformer.h.4.crossattention.bias']\n",
      "You should probably TRAIN this model on a down-stream task to be able to use it for predictions and inference.\n"
     ]
    }
   ],
   "source": [
    "def build_inputs_with_special_tokens(self, token_ids_0, token_ids_1=None):\n",
    "    outputs = [self.bos_token_id] + token_ids_0 + [self.eos_token_id]\n",
    "    return outputs\n",
    "\n",
    "# encoder_tokenizer = BertTokenizer.from_pretrained(\"bert-base-uncased\")\n",
    "encoder_tokenizer = AutoTokenizer.from_pretrained(\"microsoft/DialoGPT-small\")\n",
    "# GPT2TokenizerFast.build_inputs_with_special_tokens = build_inputs_with_special_tokens\n",
    "# decoder_tokenizer = GPT2TokenizerFast.from_pretrained(\"gpt2\")\n",
    "decoder_tokenizer = AutoTokenizer.from_pretrained(\"microsoft/DialoGPT-small\")\n",
    "\n",
    "# model = EncoderDecoderModel.from_encoder_decoder_pretrained(\"bert-base-uncased\", \"gpt2\")\n",
    "model = EncoderDecoderModel.from_encoder_decoder_pretrained(\"microsoft/DialoGPT-small\", \"microsoft/DialoGPT-small\")"
   ]
  },
  {
   "cell_type": "code",
   "execution_count": null,
   "metadata": {
    "id": "04jyrDIcUyxK"
   },
   "outputs": [],
   "source": [
    "# encoder_tokenizer.bos_token = encoder_tokenizer.cls_token\n",
    "# encoder_tokenizer.eos_token = encoder_tokenizer.sep_token\n",
    "# decoder_tokenizer.pad_token = decoder_tokenizer.unk_token\n",
    "\n",
    "decoder_tokenizer.pad_token = decoder_tokenizer.eos_token\n",
    "encoder_tokenizer.pad_token = encoder_tokenizer.eos_token\n",
    "# encoder_tokenizer.bos_token = encoder_tokenizer.eos_token\n",
    "\n",
    "model.config.decoder_start_token_id = decoder_tokenizer.bos_token_id\n",
    "model.config.eos_token_id = decoder_tokenizer.eos_token_id\n",
    "model.config.max_length = 142\n",
    "model.config.min_length = 56\n",
    "model.config.no_repeat_ngram_size = 3\n",
    "model.length_penalty = 2.0"
   ]
  },
  {
   "cell_type": "code",
   "execution_count": null,
   "metadata": {
    "colab": {
     "base_uri": "https://localhost:8080/"
    },
    "id": "qd9QBcC5sWJU",
    "outputId": "e98ff871-d8fe-4942-869d-7dca37b38e0f"
   },
   "outputs": [
    {
     "name": "stdout",
     "output_type": "stream",
     "text": [
      "    id  ...                                               text\n",
      "0    0  ...  [I have cough with no travel history. Is this ...\n",
      "1  174  ...  [I have a flu that is getting worse and I have...\n",
      "2  170  ...  [My hba1c is not as good as it should be. Am I...\n",
      "3  513  ...  [I have all the symptoms except fever, I went ...\n",
      "4    1  ...  [I have a little fever with no history of fore...\n",
      "\n",
      "[5 rows x 4 columns]\n",
      "length of dataset: 571\n",
      "  456 training samples\n",
      "   57 validation samples\n",
      "   58 test samples\n"
     ]
    }
   ],
   "source": [
    "batch_size = 1\n",
    "\n",
    "unique_vals = qa_df.id[len(qa_df)-1]\n",
    "\n",
    "# Split into training and validation sets\n",
    "train_size = int(0.8 * unique_vals)\n",
    "val_size = int(0.1 * unique_vals)\n",
    "test_size = unique_vals - train_size - val_size\n",
    "\n",
    "train_split, val_split, test_split = split_data(qa_df, [train_size, val_size, test_size])\n",
    "\n",
    "train_split.reset_index(drop=True, inplace=True)\n",
    "val_split.reset_index(drop=True, inplace=True)\n",
    "test_split.reset_index(drop=True, inplace=True)\n",
    "\n",
    "print(train_split.head())\n",
    "\n",
    "print(\"length of dataset: \" + str(unique_vals))\n",
    "print('{:>5,} training samples'.format(train_size))\n",
    "print('{:>5,} validation samples'.format(val_size))\n",
    "print('{:>5,} test samples'.format(test_size))\n",
    "\n",
    "train_dataset = GPT2Dataset(train_split, encoder_tokenizer, decoder_tokenizer, max_length=768) #512)\n",
    "val_dataset = GPT2Dataset(val_split, encoder_tokenizer, decoder_tokenizer, max_length=768) #512)\n",
    "test_dataset = GPT2Dataset(test_split, encoder_tokenizer, decoder_tokenizer, max_length=768) #512)"
   ]
  },
  {
   "cell_type": "code",
   "execution_count": null,
   "metadata": {
    "id": "SoGq0BvAsWJV"
   },
   "outputs": [],
   "source": [
    "# Create the DataLoaders for our training and validation datasets.\n",
    "# We'll take training samples in random order. \n",
    "train_dataloader = DataLoader(\n",
    "            train_dataset,  # The training samples.\n",
    "            sampler = RandomSampler(train_dataset), # Select batches randomly\n",
    "            batch_size = batch_size # Trains with this batch size.\n",
    "        )\n",
    "\n",
    "# For validation the order doesn't matter, so we'll just read them sequentially.\n",
    "validation_dataloader = DataLoader(\n",
    "            val_dataset, # The validation samples.\n",
    "            sampler = SequentialSampler(val_dataset), # Pull out batches sequentially.\n",
    "            batch_size = batch_size # Evaluate with this batch size.\n",
    ")"
   ]
  },
  {
   "cell_type": "code",
   "execution_count": null,
   "metadata": {
    "colab": {
     "base_uri": "https://localhost:8080/"
    },
    "id": "zNAYzpcRsWJW",
    "outputId": "3be3181f-7495-4ec0-a523-2feb23ac1d53"
   },
   "outputs": [
    {
     "name": "stdout",
     "output_type": "stream",
     "text": [
      "cuda\n"
     ]
    }
   ],
   "source": [
    "useCuda = True\n",
    "device = torch.device('cuda') if torch.cuda.is_available() else torch.device('cpu')\n",
    "model.to(device)\n",
    "print(device)"
   ]
  },
  {
   "cell_type": "code",
   "execution_count": null,
   "metadata": {
    "id": "-z2-2BFjsWJW"
   },
   "outputs": [],
   "source": [
    "# this step is necessary because I've added some tokens (bos_token, etc) to the embeddings\n",
    "# otherwise the tokenizer and model tensors won't match up\n",
    "model.encoder.resize_token_embeddings(len(encoder_tokenizer))\n",
    "model.decoder.resize_token_embeddings(len(decoder_tokenizer))\n",
    "\n",
    "# Tell pytorch to run this model on the GPU.\n",
    "device = torch.device(\"cuda\")\n",
    "model.cuda()\n",
    "\n",
    "# Set the seed value all over the place to make this reproducible.\n",
    "seed_val = 42\n",
    "\n",
    "random.seed(seed_val)\n",
    "np.random.seed(seed_val)\n",
    "torch.manual_seed(seed_val)\n",
    "torch.cuda.manual_seed_all(seed_val)"
   ]
  },
  {
   "cell_type": "code",
   "execution_count": null,
   "metadata": {
    "id": "JBBw-4-zsWJX"
   },
   "outputs": [],
   "source": [
    "# some parameters I cooked up that work reasonably well\n",
    "epochs = 5\n",
    "learning_rate = 5e-4\n",
    "warmup_steps = 1e2\n",
    "epsilon = 1e-8\n",
    "\n",
    "# this produces sample output every 100 steps\n",
    "sample_every = 100\n"
   ]
  },
  {
   "cell_type": "code",
   "execution_count": null,
   "metadata": {
    "id": "-z_W8s1ssWJX"
   },
   "outputs": [],
   "source": [
    "# Note: AdamW is a class from the huggingface library (as opposed to pytorch) \n",
    "optimizer = AdamW(model.parameters(),\n",
    "                  lr = learning_rate,\n",
    "                  eps = epsilon\n",
    "                )"
   ]
  },
  {
   "cell_type": "code",
   "execution_count": null,
   "metadata": {
    "id": "xCrJbmGBTGqC"
   },
   "outputs": [],
   "source": [
    "# Total number of training steps is [number of batches] x [number of epochs]. \n",
    "# (Note that this is not the same as the number of training samples).\n",
    "total_steps = len(train_dataloader) * epochs\n",
    "\n",
    "# Create the learning rate scheduler.\n",
    "# This changes the learning rate as the training loop progresses\n",
    "scheduler = get_linear_schedule_with_warmup(optimizer, \n",
    "                                            num_warmup_steps = warmup_steps, \n",
    "                                            num_training_steps = total_steps)"
   ]
  },
  {
   "cell_type": "code",
   "execution_count": null,
   "metadata": {},
   "outputs": [],
   "source": [
    "# cosine similarity function\n",
    "cos_sim = lambda m, n: torch.nn.functional.normalize(m) @ torch.nn.functional.normalize(n).t()\n",
    "use_similarity = True"
   ]
  },
  {
   "cell_type": "code",
   "execution_count": null,
   "metadata": {
    "colab": {
     "base_uri": "https://localhost:8080/"
    },
    "id": "xLUgsXPtsWJX",
    "outputId": "f06bca28-830f-4e25-a466-9f8d714ac097"
   },
   "outputs": [
    {
     "name": "stdout",
     "output_type": "stream",
     "text": [
      "\n",
      "======== Epoch 1 / 5 ========\n",
      "Training...\n"
     ]
    },
    {
     "name": "stderr",
     "output_type": "stream",
     "text": [
      "/usr/local/lib/python3.7/dist-packages/transformers/models/encoder_decoder/modeling_encoder_decoder.py:490: FutureWarning: Version v4.12.0 introduces a better way to train encoder-decoder models by computing the loss inside the encoder-decoder framework rather than in the decoder itself. You may observe training discrepancies if fine-tuning a model trained with versions anterior to 4.12.0. The decoder_input_ids are now created based on the labels, no need to pass them yourself anymore.\n",
      "  warnings.warn(DEPRECATION_WARNING, FutureWarning)\n",
      "Setting `pad_token_id` to `eos_token_id`:50256 for open-end generation.\n"
     ]
    },
    {
     "name": "stdout",
     "output_type": "stream",
     "text": [
      "  Batch   100  of    456. Loss: 0.3751800060272217.   Elapsed: 0:01:56.\n",
      "0:  I of have will in? the the to: that to with,... will best good know and and to with..,. with. like I or Would I.. In.. and and is that. to..19InIn I to,\n"
     ]
    },
    {
     "name": "stderr",
     "output_type": "stream",
     "text": [
      "Setting `pad_token_id` to `eos_token_id`:50256 for open-end generation.\n"
     ]
    },
    {
     "name": "stdout",
     "output_type": "stream",
     "text": [
      "  Batch   200  of    456. Loss: 0.4960043132305145.   Elapsed: 0:03:53.\n",
      "0: :::19 Here You So You Don Don Would There You You Usually Yes You Here If You You You Welcome Hope In Please You So Welcome Don There Let If Let You You Don There Welcome Hope Would Since Thanks Would Would You Take This Would Hope Wish Wish Please Hope Don Please Wish Don Welcome Take You Would It Take Since There Would You Would Would Most Would You Most You Take Would There It Don You Don You Would You You Hope Welcome Don You Please Hope Would If Don Would Please Your You For Would You Thanks Would If You Don Would I Would Hope cough Take Would Would So There Please Please You You Most Welcome Take Would Here So Hope Would So Would I I If Would Hi Let You Please Yes You Would There Your Most HopeTake Don You Yes Hope Hope You You I If I You Would Hope HopeHope HopeHello You Would Your Let You Would No If You There Would If Would What There It Yes Please Please If If Would Would Would For Would Would There Since Please You Please You Don Let\n"
     ]
    },
    {
     "name": "stderr",
     "output_type": "stream",
     "text": [
      "Setting `pad_token_id` to `eos_token_id`:50256 for open-end generation.\n"
     ]
    },
    {
     "name": "stdout",
     "output_type": "stream",
     "text": [
      "  Batch   300  of    456. Loss: 0.21788173913955688.   Elapsed: 0:05:55.\n",
      "0:  But Most Most Most Probably In In In Top Top Top A A A At As That There But But So So So What Take Take At At At For A A Top Top 4 A A In A A 4 A W W W J A A One A A First 19 19 A A For A At A A D A A The The A A W At A B A A By 2 19 First First 2 1 A A P W W D A At At A The A One As The A W w W C At A In In A At 2 W W A A As At A At The At A As A A C A A Z N A A 1 A At We A A M A A at for for for on in in for for to to to for from for for from from for on for from in for from to to on for for as for for by for for in in from for from on from from from in from from by for to for for at from for by to for at to\n"
     ]
    },
    {
     "name": "stderr",
     "output_type": "stream",
     "text": [
      "Setting `pad_token_id` to `eos_token_id`:50256 for open-end generation.\n"
     ]
    },
    {
     "name": "stdout",
     "output_type": "stream",
     "text": [
      "  Batch   400  of    456. Loss: 0.018206672742962837.   Elapsed: 0:07:56.\n",
      "0: :::...::,::?::ItItItTheTheItIt You You You We We We There We We And And And We We At At At He We We The And And The And At At As At At And And At And At In At At It It And And I It We We He He He It It It If If If When If If And And It We And With With With And And He He And And With\n",
      "\n",
      "  Average training loss: 0.55\n",
      "  Training epoch took: 0:09:03\n",
      "\n",
      "Running Validation...\n",
      "torch.Size([1, 768])\n",
      "torch.Size([1, 768])\n",
      "torch.Size([1, 768])\n",
      "torch.Size([1, 768])\n",
      "torch.Size([1, 768])\n",
      "torch.Size([1, 768])\n",
      "torch.Size([1, 768])\n",
      "torch.Size([1, 768])\n",
      "torch.Size([1, 768])\n",
      "torch.Size([1, 768])\n",
      "torch.Size([1, 768])\n",
      "torch.Size([1, 768])\n",
      "torch.Size([1, 768])\n",
      "torch.Size([1, 768])\n",
      "torch.Size([1, 768])\n",
      "torch.Size([1, 768])\n",
      "torch.Size([1, 768])\n",
      "torch.Size([1, 768])\n",
      "torch.Size([1, 768])\n",
      "torch.Size([1, 768])\n",
      "torch.Size([1, 768])\n",
      "torch.Size([1, 768])\n",
      "torch.Size([1, 768])\n",
      "torch.Size([1, 768])\n",
      "torch.Size([1, 768])\n",
      "torch.Size([1, 768])\n",
      "torch.Size([1, 768])\n",
      "torch.Size([1, 768])\n",
      "torch.Size([1, 768])\n",
      "torch.Size([1, 768])\n",
      "torch.Size([1, 768])\n",
      "torch.Size([1, 768])\n",
      "torch.Size([1, 768])\n",
      "torch.Size([1, 768])\n",
      "torch.Size([1, 768])\n",
      "torch.Size([1, 768])\n",
      "torch.Size([1, 768])\n",
      "torch.Size([1, 768])\n",
      "torch.Size([1, 768])\n",
      "torch.Size([1, 768])\n",
      "torch.Size([1, 768])\n",
      "torch.Size([1, 768])\n",
      "torch.Size([1, 768])\n",
      "torch.Size([1, 768])\n",
      "torch.Size([1, 768])\n",
      "torch.Size([1, 768])\n",
      "torch.Size([1, 768])\n",
      "torch.Size([1, 768])\n",
      "torch.Size([1, 768])\n",
      "torch.Size([1, 768])\n",
      "torch.Size([1, 768])\n",
      "torch.Size([1, 768])\n",
      "torch.Size([1, 768])\n",
      "torch.Size([1, 768])\n",
      "torch.Size([1, 768])\n",
      "torch.Size([1, 768])\n",
      "torch.Size([1, 768])\n",
      "  Validation Loss: 0.01\n",
      "  Validation took: 0:00:20\n",
      "\n",
      "======== Epoch 2 / 5 ========\n",
      "Training...\n"
     ]
    },
    {
     "name": "stderr",
     "output_type": "stream",
     "text": [
      "Setting `pad_token_id` to `eos_token_id`:50256 for open-end generation.\n"
     ]
    },
    {
     "name": "stdout",
     "output_type": "stream",
     "text": [
      "  Batch   100  of    456. Loss: 0.0006726194988004863.   Elapsed: 0:01:56.\n",
      "0:  Edit EDIT EDIT EDIT Edit EDIT Edit Edit EDIT Wikipedia Wikipedia Wikipedia wikipedia Wikipedia Wikipediaipedia Wikipediaipediaipediaipedia Wikipedia wik Wikipedia Wikipedia encyclopedia encyclopedia encyclopedia Wikipedia WikipediaWikipedia Wikipedia Wikipedia Wik wik Wikipedia wik wik wik WikipediaWikipedia wik Wikipedia encyclopedia Wikipedia wikWikipedia Wikipedia wik Wik wik wik Wik Wik Wik wik Wik Wikipedia Wikipedia Wiki Wikipedia Wikipedia Encyclopedia Wikipedia wik Wiki Wik Wik Wikipedia Wik Wik encyclopedia encyclopedia Encyclopedia Encyclopedia Encyclopedia encyclopedia encyclopediacyclopedia Encyclopedia Encyclopedia Wikipedia Wikipedia Comprehensive Comprehensive Comprehensive Encyclopedia Encyclopedia Wiki Wiki Wiki Wikipedia Encyclopedia Encyclopedia ISBN ISBN ISBN Wikipedia Wikipedia typed typed typed abbrevi abbrevi abbrevi acron acron acron abbrevi abbrevi abbre abbrevi abbrevi shorthand abbrevi abbrevi shortened abbrevi abbrevi initials initials initials abbrevi abbrevi Capitals abbrevi abbrevi Wikipedia Wikipedia abbrevi abbrevi acronym abbrevi abbreviviation abbrevi abbrevi trunc abbrevi abbrevi simplified abbrevi abbrevi prefix abbrevi abbrevi terms abbrevi abbrevi SI SI SI Encyclopedia Encyclopedia SI SI AC AC AC acron acron acronym abbrevi acron abbrevi acron shorthand abbrevi acron acronym acron acron shorthand shorthand abbrevi abbre acron acron initials abbrevi acron abbre abbrevi acron initials initials abbre abbrevi abbre abbre abbrevi shorthand abbre abbrevi acronym acron abbrevi abbre initials\n"
     ]
    },
    {
     "name": "stderr",
     "output_type": "stream",
     "text": [
      "Setting `pad_token_id` to `eos_token_id`:50256 for open-end generation.\n"
     ]
    },
    {
     "name": "stdout",
     "output_type": "stream",
     "text": [
      "  Batch   200  of    456. Loss: 0.00015287440328393131.   Elapsed: 0:03:57.\n",
      "0:  EDIT EDIT EDIT Edit EDIT EDIT edit EDIT EDIT UNCLASSIFIED UNCLASSIFIED UNCLASSIFIED Database Database Database Census Census Census census Census Census Household Census Census Type Type Type type Type Type TYPE Type TypeType Type Type typed typed typed Type Type Types Type Type types Type Type VI VI VI Type Type CI CI CI Type Type TAG TAG TAGTAG TAG TAG Tags TAG TAG tags TAG TAGTag TAG TAG tagging TAG TAG Tag TAG TAG tag TAG TAG tagged TAG TAGtag TAG TAG GS TAG TAGtags TAG TAGTags TAG TAG info TAG TAG RES TAG TAG information TAG TAG Social Social Social TAG TAG CO TAG TAG Database TAG TAG Info TAG TAG identify TAG TAG TYPE TAG TAGAGE TAG TAG Type Type Social Social social Social Social Tag TAGTAGTAG TAGTAGTag TAGTAG Tag TAG TagTag TAGTagTag TAG Tag Tag TAGTag Tag TAG TagsTag TAG TagsTAG TAGTagTAG TAG TagTAG TAG Tags Tag TAG tagsTag TAG tagsTAG TAG tags Tag TAG taggingTag TAG tagging Tag TAGtagsTag TAG tag Tag TAGtagTagTagTagTAG\n"
     ]
    },
    {
     "name": "stderr",
     "output_type": "stream",
     "text": [
      "Setting `pad_token_id` to `eos_token_id`:50256 for open-end generation.\n"
     ]
    },
    {
     "name": "stdout",
     "output_type": "stream",
     "text": [
      "  Batch   300  of    456. Loss: 0.000189271304407157.   Elapsed: 0:05:58.\n",
      "0:  EDIT EDIT EDIT edit EDIT EDIT Edit Edit EDIT EDIT Thanks Thanks Thanks Check Check Check Yahoo Yahoo Yahooahooahooahoo Yahoo Yahooyahoo Yahoo Yahoo MLB MLB MLB Yahoo Yahoo Database Database Database database Database DatabaseDatabase Database Database DB Database Database Data Database Databasedatabase Database Databaseabases Database Database Usage Database Database Tags Tags Tags Database Database Categories Tags TagsTags Tags Tags tags Tags Tags Tag Tags TagsTag Tags Tags TAG Tags Tagstags Tags TagsTAG Tags Tags tag Tags Tags tagging Tags Tags tagged Tags Tags Definitions Tags Tagstag Tags TagsNames Tags Tags Categories Tags tags tags Tags tagsTag TagsTagsTags TagsTagTag TagsTagTags TagsTagsTag Tags TagTag Tags tagsTags Tags Tag Tag TagsTags tags TagsTag Tag TagsTag tags TagsTags Tag Tags tags Tag Tags TagTags Tags tagstags TagsTag TAG TagsTagstags TagsTags TAG TagsTagtags Tags Tag TAG Tags tags TAG Tags Tag tags Tags Tag tag TagsTag tag TagsTags tag Tags Tagtags Tags tags tag Tags tagstag TagsTagtag TagsTagsTAGTag Tags\n"
     ]
    },
    {
     "name": "stderr",
     "output_type": "stream",
     "text": [
      "Setting `pad_token_id` to `eos_token_id`:50256 for open-end generation.\n"
     ]
    },
    {
     "name": "stdout",
     "output_type": "stream",
     "text": [
      "  Batch   400  of    456. Loss: 0.0001064672542270273.   Elapsed: 0:08:00.\n",
      "0:  Edit EDIT EDIT EDIT Thanks Thanks Thanks thanks thank thank thank thanks thank Thanks thank thank Thanks thanks thanks appreciate appreciate appreciate thank thank appreciate appreciate thanks thanks thank appreciate appreciated appreciate appreciate appreciated appreciated appreciate thank appreciate thank thanks appreciate appreciated thank appreciate thanks appreciate thank Thanks appreciate appreciate enjoyed appreciate appreciate enjoy appreciate appreciate Thanks appreciate thank enjoy appreciate appreciated appreciation appreciate appreciate appre appre appre appreciate appreciate appreciation appreciation appreciation appreciate appreciated greatly appreciated appreciate appreciated welcome appreciate appreciateudos appreciate appreciate welcome welcome appreciate appreciated appre appre appreciated appreciate appre appreciate appreciatedudos appreciate appreciated generous generous generous appreciated appreciate enjoy enjoy enjoy appreciate appreciation appreciate enjoy appre appre enjoy appreciate enjoy thank appreciate Thanks thank appreciate enjoy appreciated appreciateudosudos appreciate enjoy welcome welcome enjoy enjoyEnjoy appreciate appreciate THANK appreciate appreciateThanksThanksThanks ThanksThanksThanks appreciate appreciate yours appreciate appreciate Thank appreciate appreciate admire appreciate appreciatethankThanksThanks thankThanksThanksThankThanksThanksAwesomeThanksThanks thanksThanksThanksGreatThanksThanksEnjoyThanksThanksWWWThanksThanksYouThanksThanksHopeThanksThanksGThanksThanksudosThanksThanksForThanksThanksthankThanks Thanks\n",
      "\n",
      "  Average training loss: 0.00\n",
      "  Training epoch took: 0:09:10\n",
      "\n",
      "Running Validation...\n",
      "torch.Size([1, 768])\n",
      "torch.Size([1, 768])\n",
      "torch.Size([1, 768])\n",
      "torch.Size([1, 768])\n",
      "torch.Size([1, 768])\n",
      "torch.Size([1, 768])\n",
      "torch.Size([1, 768])\n",
      "torch.Size([1, 768])\n",
      "torch.Size([1, 768])\n",
      "torch.Size([1, 768])\n",
      "torch.Size([1, 768])\n",
      "torch.Size([1, 768])\n",
      "torch.Size([1, 768])\n",
      "torch.Size([1, 768])\n",
      "torch.Size([1, 768])\n",
      "torch.Size([1, 768])\n",
      "torch.Size([1, 768])\n",
      "torch.Size([1, 768])\n",
      "torch.Size([1, 768])\n",
      "torch.Size([1, 768])\n",
      "torch.Size([1, 768])\n",
      "torch.Size([1, 768])\n",
      "torch.Size([1, 768])\n",
      "torch.Size([1, 768])\n",
      "torch.Size([1, 768])\n",
      "torch.Size([1, 768])\n",
      "torch.Size([1, 768])\n",
      "torch.Size([1, 768])\n",
      "torch.Size([1, 768])\n",
      "torch.Size([1, 768])\n",
      "torch.Size([1, 768])\n",
      "torch.Size([1, 768])\n",
      "torch.Size([1, 768])\n",
      "torch.Size([1, 768])\n",
      "torch.Size([1, 768])\n",
      "torch.Size([1, 768])\n",
      "torch.Size([1, 768])\n",
      "torch.Size([1, 768])\n",
      "torch.Size([1, 768])\n",
      "torch.Size([1, 768])\n",
      "torch.Size([1, 768])\n",
      "torch.Size([1, 768])\n",
      "torch.Size([1, 768])\n",
      "torch.Size([1, 768])\n",
      "torch.Size([1, 768])\n",
      "torch.Size([1, 768])\n",
      "torch.Size([1, 768])\n",
      "torch.Size([1, 768])\n",
      "torch.Size([1, 768])\n",
      "torch.Size([1, 768])\n",
      "torch.Size([1, 768])\n",
      "torch.Size([1, 768])\n",
      "torch.Size([1, 768])\n",
      "torch.Size([1, 768])\n",
      "torch.Size([1, 768])\n",
      "torch.Size([1, 768])\n",
      "torch.Size([1, 768])\n",
      "  Validation Loss: 0.00\n",
      "  Validation took: 0:00:20\n",
      "\n",
      "======== Epoch 3 / 5 ========\n",
      "Training...\n"
     ]
    },
    {
     "name": "stderr",
     "output_type": "stream",
     "text": [
      "Setting `pad_token_id` to `eos_token_id`:50256 for open-end generation.\n"
     ]
    },
    {
     "name": "stdout",
     "output_type": "stream",
     "text": [
      "  Batch   100  of    456. Loss: 0.0002404688420938328.   Elapsed: 0:01:56.\n",
      "0:  EDIT EDIT EDIT Edit Edit EDIT EDIT edit EDIT EDIT Thanks Thanks Thanks thank thank thank thanks thank thank thanked thanked thanked thank thank thanking thanked thanked thanking thanked thanking thanking thanked thank thanked thank thanking thanking thanking thank thanked thanking thank thank Bless Bless Bless bless Bless Bless thank thank Thanks thank thanked Thank thank thank bless bless Bless bless bless bless blessings Bless Bless blessings Bless bless blessings blessings Bless blessings blessings blessings bless Bless blessings bless bless blessing blessings blessings blessing blessings Bless kindness kindness kindness generosity kindness kindness blessings blessings kindness kindness warm warm warm kindness kindness forgiveness forgiveness forgiveness kindness kindness generous kindness kindness bless bless kindness kindness gratitude gratitude gratitude thanking thanking kindness kindnessfulness kindness kindness Bless Bless kindness generosity generosity generosity kindness generosity generous kindness generosity Bless Bless generosity generosity generous generosity generosity blessings generosity generosity Bless kindness generous generosity kindness generous generous generosity generous generous kindness generous Bless Bless Blessing Bless Bless forgiveness kindness generosity bless Bless kindness Bless bless kindness generosity blessings kindness generosityGiving Bless BlessPeacePeacePeace Bless BlessRestRestRestPeacePeaceRestRest Bless BlessThanksThanksThanks Bless Bless Peace Bless Bless\n"
     ]
    },
    {
     "name": "stderr",
     "output_type": "stream",
     "text": [
      "Setting `pad_token_id` to `eos_token_id`:50256 for open-end generation.\n"
     ]
    },
    {
     "name": "stdout",
     "output_type": "stream",
     "text": [
      "  Batch   200  of    456. Loss: 0.00034607297857291996.   Elapsed: 0:03:57.\n",
      "0:  EDIT EDIT EDIT edit edit EDIT EDIT Edit EDIT EDIT typed typed typed search search search searched searched searched search searched search searchsearch search searchSearch searched searchedSearch search searchedSearchSearchSearch searched searchSearchSearch search search Search search searched Search search search searching searched searched Search Search searchsearch searched searched searching searched searchsearchsearch searched search Search searched searchedsearch searchedSearch searchedSearch SearchSearchSearch Search Search searched search searching search search searches search search Sear search search google search searchgoogle search search Bing search search Google search search keyword search search query search search results search search sear search searchGoogle search search scroll search search cached searched search searches searched searched searches searched search Google SearchSearch searchSearch searchsearchSearchSearchsearchSearch search SearchSearchsearch search searched searches search searched searching search searchedsearchSearch searched searches searches searchedSearchsearch searchedsearch searchSearchsearchsearch searchsearch SearchSearch searched SearchSearch Search searchSearch Search searchedSearchgoogle search searched keyword search searched Google search searched Sear searched searched keyword searched searchedgoogle searchSearch searching searchedsearchsearchSearch\n"
     ]
    },
    {
     "name": "stderr",
     "output_type": "stream",
     "text": [
      "Setting `pad_token_id` to `eos_token_id`:50256 for open-end generation.\n"
     ]
    },
    {
     "name": "stdout",
     "output_type": "stream",
     "text": [
      "  Batch   300  of    456. Loss: 3.73562238564773e-06.   Elapsed: 0:05:58.\n",
      "0:  Edit EDIT EDIT EDIT Edit EDIT edit EDIT EDIT edit edit EDIT Edit edit EDIT edit NHL NHL NHL hockey hockey hockey NHL NHL AHL AHL AHL NHL NHL goalie goalie goalie goaltender goalie goalie goalkeeper goalie goalie keeper goalie goalie interference interference interference foul interference interference interfered interference interference obstruction obstruction obstruction interference interference interfering interference interference obstruct obstruct obstruct obstruction obstruction obstruct obstruct interference obstruction obstruct obstruction obstruct interfering obstruct obstruct interfering obstruction obstruction blocking obstruct obstruct blocking obstruct obstruction blocking obstruction obstruction interfering obstruct obstruction interfering obstruction obstruct interference obstruct obstruction interference obstruction blocking blocking obstruct blocking obstruction obstruct blocking blocking obstruction blocking blocks obstruction obstruction blocks obstruction obstruct causing obstruct obstruct blocked obstruction obstruction violations obstruct obstruct disrupting obstruct obstruct impede obstruct obstructblocking obstruct obstruct causing obstruction obstruct impede obstruction obstruction impede obstruct obstruction distractions obstruct obstruct distracted obstruct obstruct preventing obstruction obstruction interrupt obstruct obstruct blocks obstruct obstruct distractions obstruct obstructionblocking obstruct obstruction blocks obstruct obstruction interrupt obstruction obstruction distractions obstruction obstructionblocking obstruction obstruction distracting obstruct obstruct distracting obstruct obstruction blockers obstruct obstruct blockers obstruct obstruction causing obstruct obstruction violations obstruction obstruction block obstruction obstruct distracting obstruction obstruction causing obstruction obstruction\n"
     ]
    },
    {
     "name": "stderr",
     "output_type": "stream",
     "text": [
      "Setting `pad_token_id` to `eos_token_id`:50256 for open-end generation.\n"
     ]
    },
    {
     "name": "stdout",
     "output_type": "stream",
     "text": [
      "  Batch   400  of    456. Loss: 0.00011294788419036195.   Elapsed: 0:07:59.\n",
      "0:  Edit EDIT EDIT EDIT Edit EDIT Edit Edit EDIT edit Edit EDIT Wikipedia Wikipedia Wikipedia wik Wikipedia Wikipediaipediaipediaipedia Wikipedia Wikipedia encyclopedia encyclopedia encyclopedia Wikipedia WikipediaWikipedia Wikipedia Wikipedia Wiki Wikipedia Wikipedia wiki Wikipedia Wikipediawikipedia Wikipedia Wikipedia Encyclopedia Encyclopedia Encyclopedia encyclopedia encyclopedia Encyclopedia Encyclopediacyclopedia encyclopedia encyclopediacyclopedia encyclopedia Encyclopedia encyclopedia Encyclopediacyclopediacyclopediacyclopedia encyclopediacyclopediacyclopedia Encyclopedia Encyclopedia Wikipedia Encyclopedia encyclopediacyclopedia Encyclopedia encyclopedia Wikipedia encyclopedia Encyclopedia Wikipedia encyclopediacyclopedia Wikipedia encyclopedia Wikipedia Encyclopediacyclopedia Encyclopediacyclopedia wik encyclopedia encyclopedia wik encyclopedia EncyclopediaWikipedia encyclopedia encyclopediaWikipedia encyclopedia Encyclopedia Wik Wik Wik wik wik Wikipedia Wik Wik Wiki Wik WikWikWikWik Wik WikwikwikwikWikWikwikwik Wik WikWiki Wik Wik WikipediaWikWikWikiWikWik wikWikWik WikiWikWikWikipediaWikWikwikiWikWik wikiWikWikwikipediaWikWik WikipediaWikwikWik WikWikwik WikWik WikwikWikwikWikiWikwik wikWikwik WikiWikwikWikipediaWikwikwikiWikwikwikipediaWikwik wikiWikwik WikipediaWik WikWikiWik Wik WikiWik Wik wikWik WikWikipediaWik Wik wikiWik Wikwiki\n",
      "\n",
      "  Average training loss: 0.00\n",
      "  Training epoch took: 0:09:10\n",
      "\n",
      "Running Validation...\n",
      "torch.Size([1, 768])\n",
      "torch.Size([1, 768])\n",
      "torch.Size([1, 768])\n",
      "torch.Size([1, 768])\n",
      "torch.Size([1, 768])\n",
      "torch.Size([1, 768])\n",
      "torch.Size([1, 768])\n",
      "torch.Size([1, 768])\n",
      "torch.Size([1, 768])\n",
      "torch.Size([1, 768])\n",
      "torch.Size([1, 768])\n",
      "torch.Size([1, 768])\n",
      "torch.Size([1, 768])\n",
      "torch.Size([1, 768])\n",
      "torch.Size([1, 768])\n",
      "torch.Size([1, 768])\n",
      "torch.Size([1, 768])\n",
      "torch.Size([1, 768])\n",
      "torch.Size([1, 768])\n",
      "torch.Size([1, 768])\n",
      "torch.Size([1, 768])\n",
      "torch.Size([1, 768])\n",
      "torch.Size([1, 768])\n",
      "torch.Size([1, 768])\n",
      "torch.Size([1, 768])\n",
      "torch.Size([1, 768])\n",
      "torch.Size([1, 768])\n",
      "torch.Size([1, 768])\n",
      "torch.Size([1, 768])\n",
      "torch.Size([1, 768])\n",
      "torch.Size([1, 768])\n",
      "torch.Size([1, 768])\n",
      "torch.Size([1, 768])\n",
      "torch.Size([1, 768])\n",
      "torch.Size([1, 768])\n",
      "torch.Size([1, 768])\n",
      "torch.Size([1, 768])\n",
      "torch.Size([1, 768])\n",
      "torch.Size([1, 768])\n",
      "torch.Size([1, 768])\n",
      "torch.Size([1, 768])\n",
      "torch.Size([1, 768])\n",
      "torch.Size([1, 768])\n",
      "torch.Size([1, 768])\n",
      "torch.Size([1, 768])\n",
      "torch.Size([1, 768])\n",
      "torch.Size([1, 768])\n",
      "torch.Size([1, 768])\n",
      "torch.Size([1, 768])\n",
      "torch.Size([1, 768])\n",
      "torch.Size([1, 768])\n",
      "torch.Size([1, 768])\n",
      "torch.Size([1, 768])\n",
      "torch.Size([1, 768])\n",
      "torch.Size([1, 768])\n",
      "torch.Size([1, 768])\n",
      "torch.Size([1, 768])\n",
      "  Validation Loss: 0.00\n",
      "  Validation took: 0:00:20\n",
      "\n",
      "======== Epoch 4 / 5 ========\n",
      "Training...\n"
     ]
    },
    {
     "name": "stderr",
     "output_type": "stream",
     "text": [
      "Setting `pad_token_id` to `eos_token_id`:50256 for open-end generation.\n"
     ]
    },
    {
     "name": "stdout",
     "output_type": "stream",
     "text": [
      "  Batch   100  of    456. Loss: 4.52072563348338e-05.   Elapsed: 0:01:56.\n",
      "0:  Edit EDIT EDIT EDIT edit EDIT Edit EDIT edit Edit EDIT Edit Edit EDIT NOTE NOTE NOTE EDIT EDIT Edit edit EDIT EDIT NOTE Database Database DatabaseDatabase Database Database database Database Database Data Database Database data data data Database DatabaseData data data Data data data DATA data dataData data Data Data dataData Data data DataData dataDataData dataDATA data dataDATADATA dataData DATA dataDataDATA data Data DATA data DataDATA data DATA DATA data DATA Data data DATAData data DATADATADATA DATA dataDATAData datadata data data information data datadata Data Data DataData Data Data DATA Data Data Database data Data Database Data DataDATADATADATA Data Datadata dataData Database data DATA Database dataDatadata data Datadata Data datadataData data dataset data data dataset Data dataDATA DATA DATA DATADATA dataDATA Data data dataset DATA datadataDATADATAData Data DATA DATA DataDataData DataData DATA DATADataDataData DATA Data DATADATA DATADATA DataDataDATADATA dataset data Data Census data data Census Data data Database\n"
     ]
    },
    {
     "name": "stderr",
     "output_type": "stream",
     "text": [
      "Setting `pad_token_id` to `eos_token_id`:50256 for open-end generation.\n"
     ]
    },
    {
     "name": "stdout",
     "output_type": "stream",
     "text": [
      "  Batch   200  of    456. Loss: 1.7000097614072729e-06.   Elapsed: 0:03:57.\n",
      "0:  EDIT EDIT EDIT Edit EDIT EDIT edit edit EDIT edit EDIT EDIT Wikipedia Wikipedia Wikipediaipediaipediaipedia Wikipediaipedia Wikipedia Wikipedia wikipediaipedia wikipedia Wikipedia wik wikipedia wik wik wik Wikipedia Wikipedia Wiki Wiki WikipediaipediaWikipedia Wikipedia WikipediaWikipediaWikipediaWikipedia WikipediaWikipedia Wikipediaipedia wik WikipediaWikipediaipediaipediaWikipediaWikipediaipediaWikipediaipedia WikipediaWikipediawikipedia Wikipedia WikipediawikipediaWikipediaWikipediawikipediaWikipedia Wikipedia wik Wikipedia wikWikipediaWikipedia WikiWikipediaWikipedia wikipediaWikipediawikipediawikipediawikipediaWikipediaipediawikipediaWikipediawikipediaipediaipediawikipediawikipediaipediaWikipedia wikwikipediawikipedia WikipediaWikipedia wikWikipedia Wikipediawikipediawikipedia wikipediawikipedia Wikipediaipediawikipediaipediawikipedia Wiki Wikipedia WikipediaWiki Wikipedia Wikipedia WikwikipediaWikipedia Wiki WikipediaWikipedia Wiki wik Wikipedia Wiki Wikipedia wikwikipediaWikipedia wik Wikipediawikipediaipedia Wikipediawikipedia Wikipedia wikWikWikipediaWikipediaWikWikipedia Wikipedia WikiWikipediawikipedia WikiWikipedia Wikipedia WikWikipediaWikipediaWiki WikipediaWikipediaWikWikWikipediaWikwikipediaWikipediaWikiWikipediaWikipedia WikWikipediaWiki WikiWikipedia Wiki WikiWikipediaWiki wikWikipediawikipedia wikWikipediaWik wikWikipedia wik wikWikipediaWikiWikiWikipedia WikipediaWikWikipediawikipediaWikWikipedia Wiki\n"
     ]
    },
    {
     "name": "stderr",
     "output_type": "stream",
     "text": [
      "Setting `pad_token_id` to `eos_token_id`:50256 for open-end generation.\n"
     ]
    },
    {
     "name": "stdout",
     "output_type": "stream",
     "text": [
      "  Batch   300  of    456. Loss: 3.7195757613517344e-05.   Elapsed: 0:05:58.\n",
      "0:  EDIT EDIT EDIT Edit EDIT EDIT edit EDIT EDIT edited EDIT EDIT Check Rin Rin Rin rinse rinse rinse Rin Rin Burns Burns Burns burn burn burn burns burn burn burning burn burn heat heat heat Heat heat heatHeat Heat Heat Heat heat Heat HeatHeat HeatHeatHeat Heat heatHeatHeatHeat heat heatheatHeat HeatheatHeatHeatheatHeatheatheatHeat heat HeatHeatheat heat heat heating heating heating Heat Heatheatheatheat heat Heatheat heatheatheat HeatHeat heatheat Heatheat Heat Heat heating heatingheatHeat heating heating heatheat heatHeatheat heating heatingHeatHeat heatingheatheat heating heat heat heats heating heating heats heatingheat Heat heatingheat heating HeatHeat heating heatHeat heatingHeat heat heatingheat heat heatingHeat Heat heating Heatheat heatingHeatheat Heat heatheat heatingheat heats heating Heat heat heating Heat heatingHeat heating heatsheatheat heatsheatHeat heatsheat heating heats heats heatingHeat heats heats heatsHeatHeat heats heating heat heating heats heatHeat heatHeat heatsHeatheat heats heatsheat heat heatsHeat heating Heat\n"
     ]
    },
    {
     "name": "stderr",
     "output_type": "stream",
     "text": [
      "Setting `pad_token_id` to `eos_token_id`:50256 for open-end generation.\n"
     ]
    },
    {
     "name": "stdout",
     "output_type": "stream",
     "text": [
      "  Batch   400  of    456. Loss: 6.7686173679248895e-06.   Elapsed: 0:08:00.\n",
      "0:  Edit EDIT EDIT EDIT Edit EDIT Edit edit EDIT Edit Edit EDIT edit edit edit EDIT EDIT edit EDIT edit thanks thanks thanks thank thank thanks thank thanks thanks Thanks thank thank thank appreciate appreciate appreciate thank appreciate thank thank waive waive waive waived waive waive rescind rescind rescind waive waive waiver waive waive waivers waive waive foul foul foul fou fou fou foul foul penalty foul foul Fou fou fou Fou Fou fou foul fou foul call foul foul call call call foul fou Fou fou Fou foul foul calls foul foul ref foul foul interference foul foul eject foul foul ejected foul foul referees foul foul misconduct foul foul timeout foul foul called foul foul bogus foul foul calling foul foul count foul foul rescind rescind foul foul penalties foul foul Calls foul foul whistle foul foul referee foul foul excessive foul foul play foul foul targeting foul foul malice foul foul CALL call foul call ref foul call calls foul fou timeout foul callcall foul foul favoring favoring favoring foul foul intentional foul foul NBA foul foul bias bias bias foul foul blame foul foul Crawford foul foul contact foul foul blaming blaming foul foul\n",
      "\n",
      "  Average training loss: 0.00\n",
      "  Training epoch took: 0:09:10\n",
      "\n",
      "Running Validation...\n",
      "torch.Size([1, 768])\n",
      "torch.Size([1, 768])\n",
      "torch.Size([1, 768])\n",
      "torch.Size([1, 768])\n",
      "torch.Size([1, 768])\n",
      "torch.Size([1, 768])\n",
      "torch.Size([1, 768])\n",
      "torch.Size([1, 768])\n",
      "torch.Size([1, 768])\n",
      "torch.Size([1, 768])\n",
      "torch.Size([1, 768])\n",
      "torch.Size([1, 768])\n",
      "torch.Size([1, 768])\n",
      "torch.Size([1, 768])\n",
      "torch.Size([1, 768])\n",
      "torch.Size([1, 768])\n",
      "torch.Size([1, 768])\n",
      "torch.Size([1, 768])\n",
      "torch.Size([1, 768])\n",
      "torch.Size([1, 768])\n",
      "torch.Size([1, 768])\n",
      "torch.Size([1, 768])\n",
      "torch.Size([1, 768])\n",
      "torch.Size([1, 768])\n",
      "torch.Size([1, 768])\n",
      "torch.Size([1, 768])\n",
      "torch.Size([1, 768])\n",
      "torch.Size([1, 768])\n",
      "torch.Size([1, 768])\n",
      "torch.Size([1, 768])\n",
      "torch.Size([1, 768])\n",
      "torch.Size([1, 768])\n",
      "torch.Size([1, 768])\n",
      "torch.Size([1, 768])\n",
      "torch.Size([1, 768])\n",
      "torch.Size([1, 768])\n",
      "torch.Size([1, 768])\n",
      "torch.Size([1, 768])\n",
      "torch.Size([1, 768])\n",
      "torch.Size([1, 768])\n",
      "torch.Size([1, 768])\n",
      "torch.Size([1, 768])\n",
      "torch.Size([1, 768])\n",
      "torch.Size([1, 768])\n",
      "torch.Size([1, 768])\n",
      "torch.Size([1, 768])\n",
      "torch.Size([1, 768])\n",
      "torch.Size([1, 768])\n",
      "torch.Size([1, 768])\n",
      "torch.Size([1, 768])\n",
      "torch.Size([1, 768])\n",
      "torch.Size([1, 768])\n",
      "torch.Size([1, 768])\n",
      "torch.Size([1, 768])\n",
      "torch.Size([1, 768])\n",
      "torch.Size([1, 768])\n",
      "torch.Size([1, 768])\n",
      "  Validation Loss: 0.00\n",
      "  Validation took: 0:00:20\n",
      "\n",
      "======== Epoch 5 / 5 ========\n",
      "Training...\n"
     ]
    },
    {
     "name": "stderr",
     "output_type": "stream",
     "text": [
      "Setting `pad_token_id` to `eos_token_id`:50256 for open-end generation.\n"
     ]
    },
    {
     "name": "stdout",
     "output_type": "stream",
     "text": [
      "  Batch   100  of    456. Loss: 1.1511699995025992e-05.   Elapsed: 0:01:56.\n",
      "0:  Edit Edit EDIT EDIT EDIT Edit EDIT Edit edit edit EDIT EDIT edit Edit EDIT edit edit edit edited typed typed typed typing typed typed searched searched searched search search search searched searchedSearchSearchSearch search searchsearch search searchSearchSearch searched searchedsearchSearchSearchsearch searchSearch searchSearchsearchsearchsearchSearchsearchSearch searchsearchsearch searchsearchSearch SearchSearchSearch Search search search SearchSearchsearch searched searched SearchSearch Search searched searched searching search search searching searchSearch Search SearchSearch search searched searchSearch searchedSearch search Search searchSearch searches search search searchesSearchSearch searchingSearchSearch searchesSearchsearch SearchSearch searched search searchedsearch search searchedSearch searched Search Search searchsearch searched searchsearch Search search searched searches searched searched searches searchSearch searching searched searched keywords searched searched keyword search searchgooglesearch search Search Search Search searched search searches search searched Search search Search searchedSearchsearch searching searched search searching searchedSearch Searchsearch search searches searched search SearchsearchSearch searchedsearchsearch searchedSearch searches searchedSearch searching search searched searchingSearch search searchessearchSearch searchessearchsearch\n"
     ]
    },
    {
     "name": "stderr",
     "output_type": "stream",
     "text": [
      "Setting `pad_token_id` to `eos_token_id`:50256 for open-end generation.\n"
     ]
    },
    {
     "name": "stdout",
     "output_type": "stream",
     "text": [
      "  Batch   200  of    456. Loss: 5.095758751849644e-06.   Elapsed: 0:03:57.\n",
      "0:  EDIT EDIT EDIT Edit EDIT EDIT edit EDIT EDIT NHL NHL NHL AHL AHL AHL NHL NHL NBA NHL NHL Blackhawks NHL NHL hockey hockey hockey NHL NHL MLS NHL NHL goalie goalie goalie goaltender goaltender goalie goalie goalkeeper goalie goalie interference interference interference interfered interference interference interfering interference interference obstruction interference interference tampering tampering tampering interference interference obstruct obstruction obstruction obstruction obstruct obstruction obstruct obstruct obstruction interference obstruction obstruction interference obstruct obstruct obstruct interfering obstruction obstruction interfering obstruct obstruct interference obstruction obstruct interfering obstruct obstruction interfering obstruction obstruct interference obstruct interfering interfering obstruct interfering interference obstruction interfering interfering obstruction interference interfering obstruct interference interference interfere obstruction obstruction tampering tampering obstruct obstruct tampering tampering obstruction obstruction distracted obstruction obstruction blocking obstruction obstruction distractions obstruct obstruction tampering interference obstruction tampering obstruction obstruct tampering obstruction tampering obstruct obstruction blocking obstruct obstruction collusion obstruction obstruction collusion tampering tampering collusion tampering collusion collusion tampering obstruction collusion collusion collusion interference tampering collusion interference interference collusion collusion obstruction interference collusion tampering interference tampering obstruction interference tampering interference collusion obstruction tampering collusion obstruction obstruct collusion collusion interfering tampering tampering interfering tampering collusion interfering obstruction collusion interference collusion interference obstruction collusion interfering collusion collusion conspiring collusion collusion\n"
     ]
    },
    {
     "name": "stderr",
     "output_type": "stream",
     "text": [
      "Setting `pad_token_id` to `eos_token_id`:50256 for open-end generation.\n"
     ]
    },
    {
     "name": "stdout",
     "output_type": "stream",
     "text": [
      "  Batch   300  of    456. Loss: 2.5208015358657576e-05.   Elapsed: 0:05:58.\n",
      "0:  EDIT EDIT EDIT Thanks Thanks Thanks Thank Thanks Thanks thank thank thank Thanks Thanks thanks thank thank thanks thanks thank appreciate appreciate appreciate thank appreciate appreciated appreciate appreciate appreciated appreciated appreciated appreciate appreciated appreciation appreciation appreciate appreciate appreciation appreciation appreciation appreciated appreciated appreciation appreciate appreciatedreciationreciationreciation appreciation appreciationreciationreciation appreciated appreciatedreciation appreciationreciation appreciation appreciatereciationreciation appreciate appreciatereciation appreciation appreciated appreciationreciation appreciatereciation appreciate appreciatedpaidpaidpaidreciationreciation gratitude appreciation appreciationpaidpaid paidpaidpaid Paidpaidpaid paypaidpaidpaymentpaidpaid repaid repaid repaid repay repaid repaid paid repaid repaid repayment repaid repaid Paid repaid repaid thanked repaid repaid payments repaid repaid owed repaid repaid thank thank repaid repaid rescind repaid repaidpaid repaid repay repay repaid repay repayment repaid repay thank repaid repay Paid repaid repay forgiven repaid repaid renewed repaid repaid forgiveness repaid repaid payment repaid repaid properly repaid repaid owing repaid repaid awarded repaid repaid gratitude repaid repaid honoured repaid repaid kindly repaid repaid forgiven repaid repay owe repaid repaid owe repaid repay pay repaid repaid retracted repaid repaid kindness repaid repaid done repaid repaid pay repaid repay payment repaid repay thanked repaid\n"
     ]
    },
    {
     "name": "stderr",
     "output_type": "stream",
     "text": [
      "Setting `pad_token_id` to `eos_token_id`:50256 for open-end generation.\n"
     ]
    },
    {
     "name": "stdout",
     "output_type": "stream",
     "text": [
      "  Batch   400  of    456. Loss: 8.014930244826246e-06.   Elapsed: 0:08:00.\n",
      "0:  Edit EDIT EDIT edit EDIT edit edit edit EDIT EDIT EDIT Wikipedia Wikipedia Wikipedia wikipediaipediaipedia WikipediaipediaipediaWikipediaipediaipediawikipediaipediaipediapediaipediaipedia wikipediaWikipediaWikipediaipediaWikipedia WikipediaipediaWikipedia wikipedia Wikipedia Wikipediaipedia WikipediaWikipediaWikipediaWikipedia Wikipedia WikipediaWikipediaipediawikipediaWikipediaWikipedia wikWikipediaWikipediawikipediaWikipediaipedia Wikipedia wikWikipediaipedia wikwikipediawikipediaWikipediawikipediawikipediawikipediaipediawikipediawikipedia Wikipedia Wikipediawikipediawikipedia wikipediawikipedia WikipediaWikipediawikipedia WikipediawikipediaWikipedia WikipediaWikipedia Wikipedia wikwikipediaWikipedia wikwikipedia Wikipediaipediawikipedia wikwikipediaipediaWikipediawikipediaipedia Wikipediawikipediaipedia wikWikipediawikipedia wikWikipedia Wikipediawikipedia Wikipedia wik wik WikipediaWikipedia wik Wikipedia WikipediaWikiWikipediaWikipediaWikiipediaWikipedia WikiWikipediaWikipediaWikWikipediaWikipedia Wikiwikipediawikipedia WikiWikipediawikipediaWikWikipediawikipedia WikWikipediaWikipedia WikWikipediawikipediaWikiWikipediawikipedia Wiki WikipediaWikipediaWikiWikipedia Wikipedia Wik WikWikipediaWikiwikipediaWikipediaWikWikWikWikipediaWikiWikiWikipediaWikiWikWikwikipediaWikipediaWiki WikWikipedia WikipediaWikWik WikWikWikWikiWikipediaWik Wik WikWikWikipediaWik wikWikipediaWikwikipediawikipedia\n",
      "\n",
      "  Average training loss: 0.00\n",
      "  Training epoch took: 0:09:10\n",
      "\n",
      "Running Validation...\n",
      "torch.Size([1, 768])\n",
      "torch.Size([1, 768])\n",
      "torch.Size([1, 768])\n",
      "torch.Size([1, 768])\n",
      "torch.Size([1, 768])\n",
      "torch.Size([1, 768])\n",
      "torch.Size([1, 768])\n",
      "torch.Size([1, 768])\n",
      "torch.Size([1, 768])\n",
      "torch.Size([1, 768])\n",
      "torch.Size([1, 768])\n",
      "torch.Size([1, 768])\n",
      "torch.Size([1, 768])\n",
      "torch.Size([1, 768])\n",
      "torch.Size([1, 768])\n",
      "torch.Size([1, 768])\n",
      "torch.Size([1, 768])\n",
      "torch.Size([1, 768])\n",
      "torch.Size([1, 768])\n",
      "torch.Size([1, 768])\n",
      "torch.Size([1, 768])\n",
      "torch.Size([1, 768])\n",
      "torch.Size([1, 768])\n",
      "torch.Size([1, 768])\n",
      "torch.Size([1, 768])\n",
      "torch.Size([1, 768])\n",
      "torch.Size([1, 768])\n",
      "torch.Size([1, 768])\n",
      "torch.Size([1, 768])\n",
      "torch.Size([1, 768])\n",
      "torch.Size([1, 768])\n",
      "torch.Size([1, 768])\n",
      "torch.Size([1, 768])\n",
      "torch.Size([1, 768])\n",
      "torch.Size([1, 768])\n",
      "torch.Size([1, 768])\n",
      "torch.Size([1, 768])\n",
      "torch.Size([1, 768])\n",
      "torch.Size([1, 768])\n",
      "torch.Size([1, 768])\n",
      "torch.Size([1, 768])\n",
      "torch.Size([1, 768])\n",
      "torch.Size([1, 768])\n",
      "torch.Size([1, 768])\n",
      "torch.Size([1, 768])\n",
      "torch.Size([1, 768])\n",
      "torch.Size([1, 768])\n",
      "torch.Size([1, 768])\n",
      "torch.Size([1, 768])\n",
      "torch.Size([1, 768])\n",
      "torch.Size([1, 768])\n",
      "torch.Size([1, 768])\n",
      "torch.Size([1, 768])\n",
      "torch.Size([1, 768])\n",
      "torch.Size([1, 768])\n",
      "torch.Size([1, 768])\n",
      "torch.Size([1, 768])\n",
      "  Validation Loss: 0.00\n",
      "  Validation took: 0:00:20\n",
      "\n",
      "Training complete!\n",
      "Total training took 0:47:20 (h:mm:ss)\n"
     ]
    }
   ],
   "source": [
    "total_t0 = time.time()\n",
    "\n",
    "training_stats = []\n",
    "\n",
    "model = model.to(device)\n",
    "\n",
    "for epoch_i in range(0, epochs):\n",
    "\n",
    "    # ========================================\n",
    "    #               Training\n",
    "    # ========================================\n",
    "\n",
    "    print(\"\")\n",
    "    print('======== Epoch {:} / {:} ========'.format(epoch_i + 1, epochs))\n",
    "    print('Training...')\n",
    "\n",
    "    t0 = time.time()\n",
    "\n",
    "    total_train_loss = 0\n",
    "\n",
    "    model.train()\n",
    "\n",
    "    for step, batch in enumerate(train_dataloader):\n",
    "\n",
    "        b_input_ids = batch[0].to(device)\n",
    "        b_decoder_input_ids = batch[1].to(device)\n",
    "        b_labels = batch[1].to(device)\n",
    "        b_masks = batch[3].to(device)\n",
    "        b_decoder_masks = batch[4].to(device)\n",
    "        if use_similarity:\n",
    "            cos_similarity = cos_sim(b_input_ids.type(torch.FloatTensor), b_decoder_input_ids.type(torch.FloatTensor))\n",
    "            b_decoder_input_ids = torch.stack([b_decoder_input_ids[idx,] for idx in torch.argmax(cos_similarity, dim=1)])  \n",
    "\n",
    "        model.zero_grad()        \n",
    "\n",
    "        # print(b_input_ids.shape)\n",
    "        # print(b_masks.shape)\n",
    "        # print(b_decoder_input_ids.shape)\n",
    "\n",
    "        outputs = model(input_ids=b_input_ids,\n",
    "                          labels=b_labels, \n",
    "                          attention_mask=b_masks,\n",
    "                          decoder_input_ids=b_decoder_input_ids,\n",
    "                          decoder_attention_mask=b_decoder_masks,\n",
    "                          token_type_ids=None\n",
    "                        )\n",
    "\n",
    "        loss = outputs[0]  \n",
    "\n",
    "        batch_loss = loss.item()\n",
    "        total_train_loss += batch_loss\n",
    "\n",
    "        # Get sample every x batches.\n",
    "        if step % sample_every == 0 and not step == 0:\n",
    "\n",
    "            elapsed = format_time(time.time() - t0)\n",
    "            print('  Batch {:>5,}  of  {:>5,}. Loss: {:>5,}.   Elapsed: {:}.'.format(step, len(train_dataloader), batch_loss, elapsed))\n",
    "\n",
    "            model.eval()\n",
    "\n",
    "            # print(b_input_ids)\n",
    "            # print(b_decoder_input_ids)\n",
    "\n",
    "            sample_outputs = model.generate(\n",
    "                                    input_ids=b_input_ids,\n",
    "                                    # bos_token_id=encoder_tokenizer.bos_token,\n",
    "                                    do_sample=True,   \n",
    "                                    top_k=50, \n",
    "                                    max_length = 200,\n",
    "                                    top_p=0.95, \n",
    "                                    num_return_sequences=1\n",
    "                                )\n",
    "            for i, sample_output in enumerate(sample_outputs):\n",
    "                  print(\"{}: {}\".format(i, decoder_tokenizer.decode(sample_output, skip_special_tokens=True)))\n",
    "            \n",
    "            model.train()\n",
    "\n",
    "        loss.backward()\n",
    "\n",
    "        optimizer.step()\n",
    "\n",
    "        scheduler.step()\n",
    "\n",
    "    # Calculate the average loss over all of the batches.\n",
    "    avg_train_loss = total_train_loss / len(train_dataloader)       \n",
    "    \n",
    "    # Measure how long this epoch took.\n",
    "    training_time = format_time(time.time() - t0)\n",
    "\n",
    "    print(\"\")\n",
    "    print(\"  Average training loss: {0:.2f}\".format(avg_train_loss))\n",
    "    print(\"  Training epoch took: {:}\".format(training_time))\n",
    "        \n",
    "    # ========================================\n",
    "    #               Validation\n",
    "    # ========================================\n",
    "\n",
    "    print(\"\")\n",
    "    print(\"Running Validation...\")\n",
    "\n",
    "    t0 = time.time()\n",
    "\n",
    "    model.eval()\n",
    "\n",
    "    total_eval_loss = 0\n",
    "    nb_eval_steps = 0\n",
    "\n",
    "    # Evaluate data for one epoch\n",
    "    for batch in validation_dataloader:\n",
    "        \n",
    "        #print(b_input_ids.shape)\n",
    "        b_input_ids = batch[0].to(device)\n",
    "        b_decoder_input_ids = batch[1].to(device)\n",
    "        b_labels = batch[1].to(device)\n",
    "        b_masks = batch[3].to(device)\n",
    "        b_decoder_masks = batch[4].to(device)\n",
    "        \n",
    "        with torch.no_grad():        \n",
    "\n",
    "            #print(b_input_ids.shape)\n",
    "            outputs  = model(input_ids=b_input_ids,\n",
    "                          labels=b_labels, \n",
    "                          attention_mask=b_masks,\n",
    "                          decoder_input_ids=b_decoder_input_ids,\n",
    "                          decoder_attention_mask=b_decoder_masks,\n",
    "                          token_type_ids=None\n",
    "                        )\n",
    "          \n",
    "            loss = outputs[0]  \n",
    "            \n",
    "        batch_loss = loss.item()\n",
    "        total_eval_loss += batch_loss        \n",
    "\n",
    "    avg_val_loss = total_eval_loss / len(validation_dataloader)\n",
    "    \n",
    "    validation_time = format_time(time.time() - t0)    \n",
    "\n",
    "    print(\"  Validation Loss: {0:.2f}\".format(avg_val_loss))\n",
    "    print(\"  Validation took: {:}\".format(validation_time))\n",
    "\n",
    "    # Record all statistics from this epoch.\n",
    "    training_stats.append(\n",
    "        {\n",
    "            'epoch': epoch_i + 1,\n",
    "            'Training Loss': avg_train_loss,\n",
    "            'Valid. Loss': avg_val_loss,\n",
    "            'Training Time': training_time,\n",
    "            'Validation Time': validation_time\n",
    "        }\n",
    "    )\n",
    "\n",
    "print(\"\")\n",
    "print(\"Training complete!\")\n",
    "print(\"Total training took {:} (h:mm:ss)\".format(format_time(time.time()-total_t0)))\n"
   ]
  },
  {
   "cell_type": "code",
   "execution_count": null,
   "metadata": {
    "colab": {
     "base_uri": "https://localhost:8080/",
     "height": 235
    },
    "id": "myd0_JlcsWJY",
    "outputId": "3044acf5-58b5-4e97-b6cd-abf88f353876"
   },
   "outputs": [
    {
     "data": {
      "text/html": [
       "<div>\n",
       "<style scoped>\n",
       "    .dataframe tbody tr th:only-of-type {\n",
       "        vertical-align: middle;\n",
       "    }\n",
       "\n",
       "    .dataframe tbody tr th {\n",
       "        vertical-align: top;\n",
       "    }\n",
       "\n",
       "    .dataframe thead th {\n",
       "        text-align: right;\n",
       "    }\n",
       "</style>\n",
       "<table border=\"1\" class=\"dataframe\">\n",
       "  <thead>\n",
       "    <tr style=\"text-align: right;\">\n",
       "      <th></th>\n",
       "      <th>Training Loss</th>\n",
       "      <th>Valid. Loss</th>\n",
       "      <th>Training Time</th>\n",
       "      <th>Validation Time</th>\n",
       "    </tr>\n",
       "    <tr>\n",
       "      <th>epoch</th>\n",
       "      <th></th>\n",
       "      <th></th>\n",
       "      <th></th>\n",
       "      <th></th>\n",
       "    </tr>\n",
       "  </thead>\n",
       "  <tbody>\n",
       "    <tr>\n",
       "      <th>1</th>\n",
       "      <td>5.50e-01</td>\n",
       "      <td>1.06e-02</td>\n",
       "      <td>0:09:03</td>\n",
       "      <td>0:00:20</td>\n",
       "    </tr>\n",
       "    <tr>\n",
       "      <th>2</th>\n",
       "      <td>3.39e-03</td>\n",
       "      <td>1.29e-03</td>\n",
       "      <td>0:09:10</td>\n",
       "      <td>0:00:20</td>\n",
       "    </tr>\n",
       "    <tr>\n",
       "      <th>3</th>\n",
       "      <td>6.78e-04</td>\n",
       "      <td>9.99e-04</td>\n",
       "      <td>0:09:10</td>\n",
       "      <td>0:00:20</td>\n",
       "    </tr>\n",
       "    <tr>\n",
       "      <th>4</th>\n",
       "      <td>1.90e-04</td>\n",
       "      <td>8.73e-04</td>\n",
       "      <td>0:09:10</td>\n",
       "      <td>0:00:20</td>\n",
       "    </tr>\n",
       "    <tr>\n",
       "      <th>5</th>\n",
       "      <td>9.03e-05</td>\n",
       "      <td>8.08e-04</td>\n",
       "      <td>0:09:10</td>\n",
       "      <td>0:00:20</td>\n",
       "    </tr>\n",
       "  </tbody>\n",
       "</table>\n",
       "</div>"
      ],
      "text/plain": [
       "       Training Loss  Valid. Loss Training Time Validation Time\n",
       "epoch                                                          \n",
       "1           5.50e-01     1.06e-02       0:09:03         0:00:20\n",
       "2           3.39e-03     1.29e-03       0:09:10         0:00:20\n",
       "3           6.78e-04     9.99e-04       0:09:10         0:00:20\n",
       "4           1.90e-04     8.73e-04       0:09:10         0:00:20\n",
       "5           9.03e-05     8.08e-04       0:09:10         0:00:20"
      ]
     },
     "execution_count": 22,
     "metadata": {},
     "output_type": "execute_result"
    }
   ],
   "source": [
    "# Display floats with two decimal places.\n",
    "pd.set_option('precision', 2)\n",
    "\n",
    "# Create a DataFrame from our training statistics.\n",
    "df_stats = pd.DataFrame(data=training_stats)\n",
    "\n",
    "# Use the 'epoch' as the row index.\n",
    "df_stats = df_stats.set_index('epoch')\n",
    "\n",
    "# A hack to force the column headers to wrap.\n",
    "#df = df.style.set_table_styles([dict(selector=\"th\",props=[('max-width', '70px')])])\n",
    "\n",
    "# Display the table.\n",
    "df_stats\n"
   ]
  },
  {
   "cell_type": "code",
   "execution_count": null,
   "metadata": {
    "colab": {
     "base_uri": "https://localhost:8080/",
     "height": 427
    },
    "id": "KOlJwFuosWJY",
    "outputId": "8194e987-298d-4ae6-94d9-cb183b4c6cf3"
   },
   "outputs": [
    {
     "data": {
      "image/png": "[encoded data removed]",
      "text/plain": [
       "<Figure size 864x432 with 1 Axes>"
      ]
     },
     "metadata": {},
     "output_type": "display_data"
    }
   ],
   "source": [
    "loss_curves(df_stats)"
   ]
  },
  {
   "cell_type": "code",
   "execution_count": null,
   "metadata": {
    "colab": {
     "base_uri": "https://localhost:8080/"
    },
    "id": "6vVU3SIosWJY",
    "outputId": "643556b7-5d12-4d29-8145-4792e3931230"
   },
   "outputs": [
    {
     "name": "stdout",
     "output_type": "stream",
     "text": [
      "The GPT-2 model has 443 different named parameters.\n",
      "\n",
      "==== Embedding Layer ====\n",
      "\n",
      "encoder.embeddings.word_embeddings.weight               (30522, 768)\n",
      "encoder.embeddings.position_embeddings.weight             (512, 768)\n",
      "\n",
      "==== First Transformer ====\n",
      "\n",
      "encoder.embeddings.token_type_embeddings.weight             (2, 768)\n",
      "encoder.embeddings.LayerNorm.weight                           (768,)\n",
      "encoder.embeddings.LayerNorm.bias                             (768,)\n",
      "encoder.encoder.layer.0.attention.self.query.weight       (768, 768)\n",
      "encoder.encoder.layer.0.attention.self.query.bias             (768,)\n",
      "encoder.encoder.layer.0.attention.self.key.weight         (768, 768)\n",
      "encoder.encoder.layer.0.attention.self.key.bias               (768,)\n",
      "encoder.encoder.layer.0.attention.self.value.weight       (768, 768)\n",
      "encoder.encoder.layer.0.attention.self.value.bias             (768,)\n",
      "encoder.encoder.layer.0.attention.output.dense.weight     (768, 768)\n",
      "encoder.encoder.layer.0.attention.output.dense.bias           (768,)\n",
      "encoder.encoder.layer.0.attention.output.LayerNorm.weight       (768,)\n",
      "\n",
      "==== Output Layer ====\n",
      "\n",
      "decoder.transformer.ln_f.weight                               (768,)\n",
      "decoder.transformer.ln_f.bias                                 (768,)\n"
     ]
    }
   ],
   "source": [
    "# Get all of the model's parameters as a list of tuples.\n",
    "params = list(model.named_parameters())\n",
    "\n",
    "print('The GPT-2 model has {:} different named parameters.\\n'.format(len(params)))\n",
    "\n",
    "print('==== Embedding Layer ====\\n')\n",
    "\n",
    "for p in params[0:2]:\n",
    "    print(\"{:<55} {:>12}\".format(p[0], str(tuple(p[1].size()))))\n",
    "\n",
    "print('\\n==== First Transformer ====\\n')\n",
    "\n",
    "for p in params[2:14]:\n",
    "    print(\"{:<55} {:>12}\".format(p[0], str(tuple(p[1].size()))))\n",
    "\n",
    "print('\\n==== Output Layer ====\\n')\n",
    "\n",
    "for p in params[-2:]:\n",
    "    print(\"{:<55} {:>12}\".format(p[0], str(tuple(p[1].size()))))\n",
    "    "
   ]
  },
  {
   "cell_type": "code",
   "execution_count": null,
   "metadata": {
    "colab": {
     "base_uri": "https://localhost:8080/",
     "height": 426
    },
    "id": "0kZUklPnNaOr",
    "outputId": "de2547ca-8d02-4da1-d190-db346cb73dc3"
   },
   "outputs": [
    {
     "name": "stderr",
     "output_type": "stream",
     "text": [
      "Setting `pad_token_id` to `eos_token_id`:50256 for open-end generation.\n"
     ]
    },
    {
     "ename": "RuntimeError",
     "evalue": "ignored",
     "output_type": "error",
     "traceback": [
      "\u001b[0;31m---------------------------------------------------------------------------\u001b[0m",
      "\u001b[0;31mRuntimeError\u001b[0m                              Traceback (most recent call last)",
      "\u001b[0;32m<ipython-input-24-d1bedd6f3cae>\u001b[0m in \u001b[0;36m<module>\u001b[0;34m()\u001b[0m\n\u001b[1;32m      7\u001b[0m     \u001b[0mencoder_input\u001b[0m \u001b[0;34m=\u001b[0m \u001b[0mtorch\u001b[0m\u001b[0;34m.\u001b[0m\u001b[0mreshape\u001b[0m\u001b[0;34m(\u001b[0m\u001b[0mencoder_input\u001b[0m\u001b[0;34m,\u001b[0m \u001b[0;34m(\u001b[0m\u001b[0;36m1\u001b[0m\u001b[0;34m,\u001b[0m \u001b[0;34m-\u001b[0m\u001b[0;36m1\u001b[0m\u001b[0;34m)\u001b[0m\u001b[0;34m)\u001b[0m\u001b[0;34m\u001b[0m\u001b[0;34m\u001b[0m\u001b[0m\n\u001b[1;32m      8\u001b[0m \u001b[0;34m\u001b[0m\u001b[0m\n\u001b[0;32m----> 9\u001b[0;31m     \u001b[0mpredicted\u001b[0m \u001b[0;34m=\u001b[0m \u001b[0mmodel\u001b[0m\u001b[0;34m.\u001b[0m\u001b[0mgenerate\u001b[0m\u001b[0;34m(\u001b[0m\u001b[0mencoder_input\u001b[0m\u001b[0;34m,\u001b[0m \u001b[0mmax_length\u001b[0m\u001b[0;34m=\u001b[0m\u001b[0;36m200\u001b[0m\u001b[0;34m)\u001b[0m\u001b[0;34m\u001b[0m\u001b[0;34m\u001b[0m\u001b[0m\n\u001b[0m\u001b[1;32m     10\u001b[0m \u001b[0;34m\u001b[0m\u001b[0m\n\u001b[1;32m     11\u001b[0m     \u001b[0mdecoded_input\u001b[0m \u001b[0;34m=\u001b[0m \u001b[0mencoder_tokenizer\u001b[0m\u001b[0;34m.\u001b[0m\u001b[0mdecode\u001b[0m\u001b[0;34m(\u001b[0m\u001b[0mencoder_input\u001b[0m\u001b[0;34m[\u001b[0m\u001b[0;36m0\u001b[0m\u001b[0;34m]\u001b[0m\u001b[0;34m,\u001b[0m \u001b[0mskip_special_tokens\u001b[0m\u001b[0;34m=\u001b[0m\u001b[0;32mTrue\u001b[0m\u001b[0;34m)\u001b[0m\u001b[0;34m\u001b[0m\u001b[0;34m\u001b[0m\u001b[0m\n",
      "\u001b[0;32m/usr/local/lib/python3.7/dist-packages/torch/autograd/grad_mode.py\u001b[0m in \u001b[0;36mdecorate_context\u001b[0;34m(*args, **kwargs)\u001b[0m\n\u001b[1;32m     26\u001b[0m         \u001b[0;32mdef\u001b[0m \u001b[0mdecorate_context\u001b[0m\u001b[0;34m(\u001b[0m\u001b[0;34m*\u001b[0m\u001b[0margs\u001b[0m\u001b[0;34m,\u001b[0m \u001b[0;34m**\u001b[0m\u001b[0mkwargs\u001b[0m\u001b[0;34m)\u001b[0m\u001b[0;34m:\u001b[0m\u001b[0;34m\u001b[0m\u001b[0;34m\u001b[0m\u001b[0m\n\u001b[1;32m     27\u001b[0m             \u001b[0;32mwith\u001b[0m \u001b[0mself\u001b[0m\u001b[0;34m.\u001b[0m\u001b[0m__class__\u001b[0m\u001b[0;34m(\u001b[0m\u001b[0;34m)\u001b[0m\u001b[0;34m:\u001b[0m\u001b[0;34m\u001b[0m\u001b[0;34m\u001b[0m\u001b[0m\n\u001b[0;32m---> 28\u001b[0;31m                 \u001b[0;32mreturn\u001b[0m \u001b[0mfunc\u001b[0m\u001b[0;34m(\u001b[0m\u001b[0;34m*\u001b[0m\u001b[0margs\u001b[0m\u001b[0;34m,\u001b[0m \u001b[0;34m**\u001b[0m\u001b[0mkwargs\u001b[0m\u001b[0;34m)\u001b[0m\u001b[0;34m\u001b[0m\u001b[0;34m\u001b[0m\u001b[0m\n\u001b[0m\u001b[1;32m     29\u001b[0m         \u001b[0;32mreturn\u001b[0m \u001b[0mcast\u001b[0m\u001b[0;34m(\u001b[0m\u001b[0mF\u001b[0m\u001b[0;34m,\u001b[0m \u001b[0mdecorate_context\u001b[0m\u001b[0;34m)\u001b[0m\u001b[0;34m\u001b[0m\u001b[0;34m\u001b[0m\u001b[0m\n\u001b[1;32m     30\u001b[0m \u001b[0;34m\u001b[0m\u001b[0m\n",
      "\u001b[0;32m/usr/local/lib/python3.7/dist-packages/transformers/generation_utils.py\u001b[0m in \u001b[0;36mgenerate\u001b[0;34m(self, input_ids, max_length, min_length, do_sample, early_stopping, num_beams, temperature, top_k, top_p, repetition_penalty, bad_words_ids, bos_token_id, pad_token_id, eos_token_id, length_penalty, no_repeat_ngram_size, encoder_no_repeat_ngram_size, num_return_sequences, max_time, max_new_tokens, decoder_start_token_id, use_cache, num_beam_groups, diversity_penalty, prefix_allowed_tokens_fn, output_attentions, output_hidden_states, output_scores, return_dict_in_generate, forced_bos_token_id, forced_eos_token_id, remove_invalid_values, synced_gpus, **model_kwargs)\u001b[0m\n\u001b[1;32m    905\u001b[0m         \u001b[0;32mif\u001b[0m \u001b[0mself\u001b[0m\u001b[0;34m.\u001b[0m\u001b[0mconfig\u001b[0m\u001b[0;34m.\u001b[0m\u001b[0mis_encoder_decoder\u001b[0m\u001b[0;34m:\u001b[0m\u001b[0;34m\u001b[0m\u001b[0;34m\u001b[0m\u001b[0m\n\u001b[1;32m    906\u001b[0m             \u001b[0;31m# add encoder_outputs to model_kwargs\u001b[0m\u001b[0;34m\u001b[0m\u001b[0;34m\u001b[0m\u001b[0;34m\u001b[0m\u001b[0m\n\u001b[0;32m--> 907\u001b[0;31m             \u001b[0mmodel_kwargs\u001b[0m \u001b[0;34m=\u001b[0m \u001b[0mself\u001b[0m\u001b[0;34m.\u001b[0m\u001b[0m_prepare_encoder_decoder_kwargs_for_generation\u001b[0m\u001b[0;34m(\u001b[0m\u001b[0minput_ids\u001b[0m\u001b[0;34m,\u001b[0m \u001b[0mmodel_kwargs\u001b[0m\u001b[0;34m)\u001b[0m\u001b[0;34m\u001b[0m\u001b[0;34m\u001b[0m\u001b[0m\n\u001b[0m\u001b[1;32m    908\u001b[0m \u001b[0;34m\u001b[0m\u001b[0m\n\u001b[1;32m    909\u001b[0m             \u001b[0;31m# set input_ids as decoder_input_ids\u001b[0m\u001b[0;34m\u001b[0m\u001b[0;34m\u001b[0m\u001b[0;34m\u001b[0m\u001b[0m\n",
      "\u001b[0;32m/usr/local/lib/python3.7/dist-packages/transformers/generation_utils.py\u001b[0m in \u001b[0;36m_prepare_encoder_decoder_kwargs_for_generation\u001b[0;34m(self, input_ids, model_kwargs)\u001b[0m\n\u001b[1;32m    414\u001b[0m                 \u001b[0;32mif\u001b[0m \u001b[0;32mnot\u001b[0m \u001b[0;34m(\u001b[0m\u001b[0margument\u001b[0m\u001b[0;34m.\u001b[0m\u001b[0mstartswith\u001b[0m\u001b[0;34m(\u001b[0m\u001b[0;34m\"decoder_\"\u001b[0m\u001b[0;34m)\u001b[0m \u001b[0;32mor\u001b[0m \u001b[0margument\u001b[0m\u001b[0;34m.\u001b[0m\u001b[0mstartswith\u001b[0m\u001b[0;34m(\u001b[0m\u001b[0;34m\"cross_attn\"\u001b[0m\u001b[0;34m)\u001b[0m\u001b[0;34m)\u001b[0m\u001b[0;34m\u001b[0m\u001b[0;34m\u001b[0m\u001b[0m\n\u001b[1;32m    415\u001b[0m             }\n\u001b[0;32m--> 416\u001b[0;31m             \u001b[0mmodel_kwargs\u001b[0m\u001b[0;34m[\u001b[0m\u001b[0;34m\"encoder_outputs\"\u001b[0m\u001b[0;34m]\u001b[0m\u001b[0;34m:\u001b[0m \u001b[0mModelOutput\u001b[0m \u001b[0;34m=\u001b[0m \u001b[0mencoder\u001b[0m\u001b[0;34m(\u001b[0m\u001b[0minput_ids\u001b[0m\u001b[0;34m,\u001b[0m \u001b[0mreturn_dict\u001b[0m\u001b[0;34m=\u001b[0m\u001b[0;32mTrue\u001b[0m\u001b[0;34m,\u001b[0m \u001b[0;34m**\u001b[0m\u001b[0mencoder_kwargs\u001b[0m\u001b[0;34m)\u001b[0m\u001b[0;34m\u001b[0m\u001b[0;34m\u001b[0m\u001b[0m\n\u001b[0m\u001b[1;32m    417\u001b[0m         \u001b[0;32mreturn\u001b[0m \u001b[0mmodel_kwargs\u001b[0m\u001b[0;34m\u001b[0m\u001b[0;34m\u001b[0m\u001b[0m\n\u001b[1;32m    418\u001b[0m \u001b[0;34m\u001b[0m\u001b[0m\n",
      "\u001b[0;32m/usr/local/lib/python3.7/dist-packages/torch/nn/modules/module.py\u001b[0m in \u001b[0;36m_call_impl\u001b[0;34m(self, *input, **kwargs)\u001b[0m\n\u001b[1;32m   1100\u001b[0m         if not (self._backward_hooks or self._forward_hooks or self._forward_pre_hooks or _global_backward_hooks\n\u001b[1;32m   1101\u001b[0m                 or _global_forward_hooks or _global_forward_pre_hooks):\n\u001b[0;32m-> 1102\u001b[0;31m             \u001b[0;32mreturn\u001b[0m \u001b[0mforward_call\u001b[0m\u001b[0;34m(\u001b[0m\u001b[0;34m*\u001b[0m\u001b[0minput\u001b[0m\u001b[0;34m,\u001b[0m \u001b[0;34m**\u001b[0m\u001b[0mkwargs\u001b[0m\u001b[0;34m)\u001b[0m\u001b[0;34m\u001b[0m\u001b[0;34m\u001b[0m\u001b[0m\n\u001b[0m\u001b[1;32m   1103\u001b[0m         \u001b[0;31m# Do not call functions when jit is used\u001b[0m\u001b[0;34m\u001b[0m\u001b[0;34m\u001b[0m\u001b[0;34m\u001b[0m\u001b[0m\n\u001b[1;32m   1104\u001b[0m         \u001b[0mfull_backward_hooks\u001b[0m\u001b[0;34m,\u001b[0m \u001b[0mnon_full_backward_hooks\u001b[0m \u001b[0;34m=\u001b[0m \u001b[0;34m[\u001b[0m\u001b[0;34m]\u001b[0m\u001b[0;34m,\u001b[0m \u001b[0;34m[\u001b[0m\u001b[0;34m]\u001b[0m\u001b[0;34m\u001b[0m\u001b[0;34m\u001b[0m\u001b[0m\n",
      "\u001b[0;32m/usr/local/lib/python3.7/dist-packages/transformers/models/gpt2/modeling_gpt2.py\u001b[0m in \u001b[0;36mforward\u001b[0;34m(self, input_ids, past_key_values, attention_mask, token_type_ids, position_ids, head_mask, inputs_embeds, encoder_hidden_states, encoder_attention_mask, use_cache, output_attentions, output_hidden_states, return_dict)\u001b[0m\n\u001b[1;32m    827\u001b[0m \u001b[0;34m\u001b[0m\u001b[0m\n\u001b[1;32m    828\u001b[0m         \u001b[0;32mif\u001b[0m \u001b[0minputs_embeds\u001b[0m \u001b[0;32mis\u001b[0m \u001b[0;32mNone\u001b[0m\u001b[0;34m:\u001b[0m\u001b[0;34m\u001b[0m\u001b[0;34m\u001b[0m\u001b[0m\n\u001b[0;32m--> 829\u001b[0;31m             \u001b[0minputs_embeds\u001b[0m \u001b[0;34m=\u001b[0m \u001b[0mself\u001b[0m\u001b[0;34m.\u001b[0m\u001b[0mwte\u001b[0m\u001b[0;34m(\u001b[0m\u001b[0minput_ids\u001b[0m\u001b[0;34m)\u001b[0m\u001b[0;34m\u001b[0m\u001b[0;34m\u001b[0m\u001b[0m\n\u001b[0m\u001b[1;32m    830\u001b[0m         \u001b[0mposition_embeds\u001b[0m \u001b[0;34m=\u001b[0m \u001b[0mself\u001b[0m\u001b[0;34m.\u001b[0m\u001b[0mwpe\u001b[0m\u001b[0;34m(\u001b[0m\u001b[0mposition_ids\u001b[0m\u001b[0;34m)\u001b[0m\u001b[0;34m\u001b[0m\u001b[0;34m\u001b[0m\u001b[0m\n\u001b[1;32m    831\u001b[0m         \u001b[0mhidden_states\u001b[0m \u001b[0;34m=\u001b[0m \u001b[0minputs_embeds\u001b[0m \u001b[0;34m+\u001b[0m \u001b[0mposition_embeds\u001b[0m\u001b[0;34m\u001b[0m\u001b[0;34m\u001b[0m\u001b[0m\n",
      "\u001b[0;32m/usr/local/lib/python3.7/dist-packages/torch/nn/modules/module.py\u001b[0m in \u001b[0;36m_call_impl\u001b[0;34m(self, *input, **kwargs)\u001b[0m\n\u001b[1;32m   1100\u001b[0m         if not (self._backward_hooks or self._forward_hooks or self._forward_pre_hooks or _global_backward_hooks\n\u001b[1;32m   1101\u001b[0m                 or _global_forward_hooks or _global_forward_pre_hooks):\n\u001b[0;32m-> 1102\u001b[0;31m             \u001b[0;32mreturn\u001b[0m \u001b[0mforward_call\u001b[0m\u001b[0;34m(\u001b[0m\u001b[0;34m*\u001b[0m\u001b[0minput\u001b[0m\u001b[0;34m,\u001b[0m \u001b[0;34m**\u001b[0m\u001b[0mkwargs\u001b[0m\u001b[0;34m)\u001b[0m\u001b[0;34m\u001b[0m\u001b[0;34m\u001b[0m\u001b[0m\n\u001b[0m\u001b[1;32m   1103\u001b[0m         \u001b[0;31m# Do not call functions when jit is used\u001b[0m\u001b[0;34m\u001b[0m\u001b[0;34m\u001b[0m\u001b[0;34m\u001b[0m\u001b[0m\n\u001b[1;32m   1104\u001b[0m         \u001b[0mfull_backward_hooks\u001b[0m\u001b[0;34m,\u001b[0m \u001b[0mnon_full_backward_hooks\u001b[0m \u001b[0;34m=\u001b[0m \u001b[0;34m[\u001b[0m\u001b[0;34m]\u001b[0m\u001b[0;34m,\u001b[0m \u001b[0;34m[\u001b[0m\u001b[0;34m]\u001b[0m\u001b[0;34m\u001b[0m\u001b[0;34m\u001b[0m\u001b[0m\n",
      "\u001b[0;32m/usr/local/lib/python3.7/dist-packages/torch/nn/modules/sparse.py\u001b[0m in \u001b[0;36mforward\u001b[0;34m(self, input)\u001b[0m\n\u001b[1;32m    158\u001b[0m         return F.embedding(\n\u001b[1;32m    159\u001b[0m             \u001b[0minput\u001b[0m\u001b[0;34m,\u001b[0m \u001b[0mself\u001b[0m\u001b[0;34m.\u001b[0m\u001b[0mweight\u001b[0m\u001b[0;34m,\u001b[0m \u001b[0mself\u001b[0m\u001b[0;34m.\u001b[0m\u001b[0mpadding_idx\u001b[0m\u001b[0;34m,\u001b[0m \u001b[0mself\u001b[0m\u001b[0;34m.\u001b[0m\u001b[0mmax_norm\u001b[0m\u001b[0;34m,\u001b[0m\u001b[0;34m\u001b[0m\u001b[0;34m\u001b[0m\u001b[0m\n\u001b[0;32m--> 160\u001b[0;31m             self.norm_type, self.scale_grad_by_freq, self.sparse)\n\u001b[0m\u001b[1;32m    161\u001b[0m \u001b[0;34m\u001b[0m\u001b[0m\n\u001b[1;32m    162\u001b[0m     \u001b[0;32mdef\u001b[0m \u001b[0mextra_repr\u001b[0m\u001b[0;34m(\u001b[0m\u001b[0mself\u001b[0m\u001b[0;34m)\u001b[0m \u001b[0;34m->\u001b[0m \u001b[0mstr\u001b[0m\u001b[0;34m:\u001b[0m\u001b[0;34m\u001b[0m\u001b[0;34m\u001b[0m\u001b[0m\n",
      "\u001b[0;32m/usr/local/lib/python3.7/dist-packages/torch/nn/functional.py\u001b[0m in \u001b[0;36membedding\u001b[0;34m(input, weight, padding_idx, max_norm, norm_type, scale_grad_by_freq, sparse)\u001b[0m\n\u001b[1;32m   2042\u001b[0m         \u001b[0;31m# remove once script supports set_grad_enabled\u001b[0m\u001b[0;34m\u001b[0m\u001b[0;34m\u001b[0m\u001b[0;34m\u001b[0m\u001b[0m\n\u001b[1;32m   2043\u001b[0m         \u001b[0m_no_grad_embedding_renorm_\u001b[0m\u001b[0;34m(\u001b[0m\u001b[0mweight\u001b[0m\u001b[0;34m,\u001b[0m \u001b[0minput\u001b[0m\u001b[0;34m,\u001b[0m \u001b[0mmax_norm\u001b[0m\u001b[0;34m,\u001b[0m \u001b[0mnorm_type\u001b[0m\u001b[0;34m)\u001b[0m\u001b[0;34m\u001b[0m\u001b[0;34m\u001b[0m\u001b[0m\n\u001b[0;32m-> 2044\u001b[0;31m     \u001b[0;32mreturn\u001b[0m \u001b[0mtorch\u001b[0m\u001b[0;34m.\u001b[0m\u001b[0membedding\u001b[0m\u001b[0;34m(\u001b[0m\u001b[0mweight\u001b[0m\u001b[0;34m,\u001b[0m \u001b[0minput\u001b[0m\u001b[0;34m,\u001b[0m \u001b[0mpadding_idx\u001b[0m\u001b[0;34m,\u001b[0m \u001b[0mscale_grad_by_freq\u001b[0m\u001b[0;34m,\u001b[0m \u001b[0msparse\u001b[0m\u001b[0;34m)\u001b[0m\u001b[0;34m\u001b[0m\u001b[0;34m\u001b[0m\u001b[0m\n\u001b[0m\u001b[1;32m   2045\u001b[0m \u001b[0;34m\u001b[0m\u001b[0m\n\u001b[1;32m   2046\u001b[0m \u001b[0;34m\u001b[0m\u001b[0m\n",
      "\u001b[0;31mRuntimeError\u001b[0m: Expected all tensors to be on the same device, but found at least two devices, cuda:0 and cpu! (when checking argument for argument index in method wrapper__index_select)"
     ]
    }
   ],
   "source": [
    "model = model.to('cpu')\n",
    "rougeL = []\n",
    "rougeLsum = []\n",
    "\n",
    "for i, encoder_input in enumerate(test_dataset.input_ids):\n",
    "    encoder_input = encoder_input[encoder_input != 50256]\n",
    "    encoder_input = torch.reshape(encoder_input, (1, -1))\n",
    "\n",
    "    predicted = model.generate(encoder_input, max_length=200)\n",
    "    \n",
    "    decoded_input = encoder_tokenizer.decode(encoder_input[0], skip_special_tokens=True)\n",
    "    decoded_prediction = decoder_tokenizer.decode(predicted[0], skip_special_tokens=True)\n",
    "    decoded_ground = decoder_tokenizer.decode(test_dataset.decoder_ids[i], skip_special_tokens=True)\n",
    "    \n",
    "    print(\"input: \")\n",
    "    print(decoded_input)\n",
    "    print(\"prediction: \")\n",
    "    print(decoded_prediction)\n",
    "    print(\"ground: \")\n",
    "    print(decoded_ground)\n",
    "    rouge_dict = rouge(decoded_prediction, decoded_ground)\n",
    "    rougeL.append(rouge_dict[\"rougeL\"])\n",
    "    rougeLsum.append(rouge_dict[\"rougeLsum\"])\n",
    "\n",
    "avg_rougeL = sum(rougeL)/len(rougeL)\n",
    "avg_rougeLsum = sum(rougeLsum)/len(rougeLsum)\n",
    "\n",
    "print(\"RougeL: \" + str(avg_rougeL))\n",
    "print(\"RougeLsum: \" + str(avg_rougeLsum))"
   ]
  },
  {
   "cell_type": "code",
   "execution_count": null,
   "metadata": {
    "colab": {
     "base_uri": "https://localhost:8080/",
     "height": 426
    },
    "id": "EEi_A-DbsWJZ",
    "outputId": "a1b4666b-0425-459c-fb39-9b7c3f4f1fd5"
   },
   "outputs": [
    {
     "name": "stdout",
     "output_type": "stream",
     "text": [
      ">> User:I have a dry cough. Could I have COVID?\n"
     ]
    },
    {
     "name": "stderr",
     "output_type": "stream",
     "text": [
      "Setting `pad_token_id` to `eos_token_id`:50256 for open-end generation.\n"
     ]
    },
    {
     "ename": "TypeError",
     "evalue": "ignored",
     "output_type": "error",
     "traceback": [
      "\u001b[0;31m---------------------------------------------------------------------------\u001b[0m",
      "\u001b[0;31mTypeError\u001b[0m                                 Traceback (most recent call last)",
      "\u001b[0;32m<ipython-input-24-dcc19d321133>\u001b[0m in \u001b[0;36m<module>\u001b[0;34m()\u001b[0m\n\u001b[1;32m     17\u001b[0m \u001b[0;34m\u001b[0m\u001b[0m\n\u001b[1;32m     18\u001b[0m     \u001b[0;31m# generated a response while limiting the total chat history to 1000 tokens,\u001b[0m\u001b[0;34m\u001b[0m\u001b[0;34m\u001b[0m\u001b[0;34m\u001b[0m\u001b[0m\n\u001b[0;32m---> 19\u001b[0;31m     \u001b[0mchat_history_ids1\u001b[0m \u001b[0;34m=\u001b[0m \u001b[0mmodel\u001b[0m\u001b[0;34m.\u001b[0m\u001b[0mgenerate\u001b[0m\u001b[0;34m(\u001b[0m\u001b[0mbot_input_ids1\u001b[0m\u001b[0;34m,\u001b[0m \u001b[0mmax_length\u001b[0m\u001b[0;34m=\u001b[0m\u001b[0;36m1000\u001b[0m\u001b[0;34m,\u001b[0m \u001b[0mreturn_dict\u001b[0m\u001b[0;34m=\u001b[0m\u001b[0;32mTrue\u001b[0m\u001b[0;34m)\u001b[0m\u001b[0;34m\u001b[0m\u001b[0;34m\u001b[0m\u001b[0m\n\u001b[0m\u001b[1;32m     20\u001b[0m     \u001b[0mstep\u001b[0m \u001b[0;34m+=\u001b[0m \u001b[0;36m1\u001b[0m\u001b[0;34m\u001b[0m\u001b[0;34m\u001b[0m\u001b[0m\n\u001b[1;32m     21\u001b[0m     \u001b[0;31m# pretty print last ouput tokens from bot\u001b[0m\u001b[0;34m\u001b[0m\u001b[0;34m\u001b[0m\u001b[0;34m\u001b[0m\u001b[0m\n",
      "\u001b[0;32m/usr/local/lib/python3.7/dist-packages/torch/autograd/grad_mode.py\u001b[0m in \u001b[0;36mdecorate_context\u001b[0;34m(*args, **kwargs)\u001b[0m\n\u001b[1;32m     26\u001b[0m         \u001b[0;32mdef\u001b[0m \u001b[0mdecorate_context\u001b[0m\u001b[0;34m(\u001b[0m\u001b[0;34m*\u001b[0m\u001b[0margs\u001b[0m\u001b[0;34m,\u001b[0m \u001b[0;34m**\u001b[0m\u001b[0mkwargs\u001b[0m\u001b[0;34m)\u001b[0m\u001b[0;34m:\u001b[0m\u001b[0;34m\u001b[0m\u001b[0;34m\u001b[0m\u001b[0m\n\u001b[1;32m     27\u001b[0m             \u001b[0;32mwith\u001b[0m \u001b[0mself\u001b[0m\u001b[0;34m.\u001b[0m\u001b[0m__class__\u001b[0m\u001b[0;34m(\u001b[0m\u001b[0;34m)\u001b[0m\u001b[0;34m:\u001b[0m\u001b[0;34m\u001b[0m\u001b[0;34m\u001b[0m\u001b[0m\n\u001b[0;32m---> 28\u001b[0;31m                 \u001b[0;32mreturn\u001b[0m \u001b[0mfunc\u001b[0m\u001b[0;34m(\u001b[0m\u001b[0;34m*\u001b[0m\u001b[0margs\u001b[0m\u001b[0;34m,\u001b[0m \u001b[0;34m**\u001b[0m\u001b[0mkwargs\u001b[0m\u001b[0;34m)\u001b[0m\u001b[0;34m\u001b[0m\u001b[0;34m\u001b[0m\u001b[0m\n\u001b[0m\u001b[1;32m     29\u001b[0m         \u001b[0;32mreturn\u001b[0m \u001b[0mcast\u001b[0m\u001b[0;34m(\u001b[0m\u001b[0mF\u001b[0m\u001b[0;34m,\u001b[0m \u001b[0mdecorate_context\u001b[0m\u001b[0;34m)\u001b[0m\u001b[0;34m\u001b[0m\u001b[0;34m\u001b[0m\u001b[0m\n\u001b[1;32m     30\u001b[0m \u001b[0;34m\u001b[0m\u001b[0m\n",
      "\u001b[0;32m/usr/local/lib/python3.7/dist-packages/transformers/generation_utils.py\u001b[0m in \u001b[0;36mgenerate\u001b[0;34m(self, input_ids, max_length, min_length, do_sample, early_stopping, num_beams, temperature, top_k, top_p, repetition_penalty, bad_words_ids, bos_token_id, pad_token_id, eos_token_id, length_penalty, no_repeat_ngram_size, encoder_no_repeat_ngram_size, num_return_sequences, max_time, max_new_tokens, decoder_start_token_id, use_cache, num_beam_groups, diversity_penalty, prefix_allowed_tokens_fn, output_attentions, output_hidden_states, output_scores, return_dict_in_generate, forced_bos_token_id, forced_eos_token_id, remove_invalid_values, synced_gpus, **model_kwargs)\u001b[0m\n\u001b[1;32m    905\u001b[0m         \u001b[0;32mif\u001b[0m \u001b[0mself\u001b[0m\u001b[0;34m.\u001b[0m\u001b[0mconfig\u001b[0m\u001b[0;34m.\u001b[0m\u001b[0mis_encoder_decoder\u001b[0m\u001b[0;34m:\u001b[0m\u001b[0;34m\u001b[0m\u001b[0;34m\u001b[0m\u001b[0m\n\u001b[1;32m    906\u001b[0m             \u001b[0;31m# add encoder_outputs to model_kwargs\u001b[0m\u001b[0;34m\u001b[0m\u001b[0;34m\u001b[0m\u001b[0;34m\u001b[0m\u001b[0m\n\u001b[0;32m--> 907\u001b[0;31m             \u001b[0mmodel_kwargs\u001b[0m \u001b[0;34m=\u001b[0m \u001b[0mself\u001b[0m\u001b[0;34m.\u001b[0m\u001b[0m_prepare_encoder_decoder_kwargs_for_generation\u001b[0m\u001b[0;34m(\u001b[0m\u001b[0minput_ids\u001b[0m\u001b[0;34m,\u001b[0m \u001b[0mmodel_kwargs\u001b[0m\u001b[0;34m)\u001b[0m\u001b[0;34m\u001b[0m\u001b[0;34m\u001b[0m\u001b[0m\n\u001b[0m\u001b[1;32m    908\u001b[0m \u001b[0;34m\u001b[0m\u001b[0m\n\u001b[1;32m    909\u001b[0m             \u001b[0;31m# set input_ids as decoder_input_ids\u001b[0m\u001b[0;34m\u001b[0m\u001b[0;34m\u001b[0m\u001b[0;34m\u001b[0m\u001b[0m\n",
      "\u001b[0;32m/usr/local/lib/python3.7/dist-packages/transformers/generation_utils.py\u001b[0m in \u001b[0;36m_prepare_encoder_decoder_kwargs_for_generation\u001b[0;34m(self, input_ids, model_kwargs)\u001b[0m\n\u001b[1;32m    414\u001b[0m                 \u001b[0;32mif\u001b[0m \u001b[0;32mnot\u001b[0m \u001b[0;34m(\u001b[0m\u001b[0margument\u001b[0m\u001b[0;34m.\u001b[0m\u001b[0mstartswith\u001b[0m\u001b[0;34m(\u001b[0m\u001b[0;34m\"decoder_\"\u001b[0m\u001b[0;34m)\u001b[0m \u001b[0;32mor\u001b[0m \u001b[0margument\u001b[0m\u001b[0;34m.\u001b[0m\u001b[0mstartswith\u001b[0m\u001b[0;34m(\u001b[0m\u001b[0;34m\"cross_attn\"\u001b[0m\u001b[0;34m)\u001b[0m\u001b[0;34m)\u001b[0m\u001b[0;34m\u001b[0m\u001b[0;34m\u001b[0m\u001b[0m\n\u001b[1;32m    415\u001b[0m             }\n\u001b[0;32m--> 416\u001b[0;31m             \u001b[0mmodel_kwargs\u001b[0m\u001b[0;34m[\u001b[0m\u001b[0;34m\"encoder_outputs\"\u001b[0m\u001b[0;34m]\u001b[0m\u001b[0;34m:\u001b[0m \u001b[0mModelOutput\u001b[0m \u001b[0;34m=\u001b[0m \u001b[0mencoder\u001b[0m\u001b[0;34m(\u001b[0m\u001b[0minput_ids\u001b[0m\u001b[0;34m,\u001b[0m \u001b[0mreturn_dict\u001b[0m\u001b[0;34m=\u001b[0m\u001b[0;32mTrue\u001b[0m\u001b[0;34m,\u001b[0m \u001b[0;34m**\u001b[0m\u001b[0mencoder_kwargs\u001b[0m\u001b[0;34m)\u001b[0m\u001b[0;34m\u001b[0m\u001b[0;34m\u001b[0m\u001b[0m\n\u001b[0m\u001b[1;32m    417\u001b[0m         \u001b[0;32mreturn\u001b[0m \u001b[0mmodel_kwargs\u001b[0m\u001b[0;34m\u001b[0m\u001b[0;34m\u001b[0m\u001b[0m\n\u001b[1;32m    418\u001b[0m \u001b[0;34m\u001b[0m\u001b[0m\n",
      "\u001b[0;31mTypeError\u001b[0m: BertModel object got multiple values for keyword argument 'return_dict'"
     ]
    }
   ],
   "source": [
    "model = model.to('cpu')\n",
    "step = 0\n",
    "while True:\n",
    "    context = input(\">> User:\")\n",
    "    if context == \"I am done talking\":\n",
    "      print(\"DialoGPT: Ok bye bye\")\n",
    "      print(\"How well did I answer the question? (See the five-point scale in the readme.)\")\n",
    "      input(\"Answer: \")\n",
    "      print(\"Thanks! How fluent were my answers? (See the five-point scale in the readme.)\")\n",
    "      input(\"Answer: \")\n",
    "      break\n",
    "    # encode the new user input, add the eos_token and return a tensor in Pytorch\n",
    "    new_user_input_ids1 = encoder_tokenizer(context, return_tensors='pt').input_ids\n",
    "\n",
    "    # append the new user input tokens to the chat history\n",
    "    bot_input_ids1 = torch.cat([chat_history_ids1, new_user_input_ids1], dim=-1) if step > 0 else new_user_input_ids1\n",
    "\n",
    "    # generated a response while limiting the total chat history to 1000 tokens, \n",
    "    chat_history_ids1 = model.generate(bot_input_ids1, max_length=1000, return_dict=True)\n",
    "    step += 1\n",
    "    # pretty print last ouput tokens from bot\n",
    "    print(\"DialoGPT: {}\".format(decoder_tokenizer.decode(chat_history_ids1[:, bot_input_ids1.shape[-1]:][0], skip_special_tokens=True)))"
   ]
  },
  {
   "cell_type": "code",
   "execution_count": null,
   "metadata": {
    "id": "Pr4t-i60sWJZ"
   },
   "outputs": [],
   "source": [
    "print(model.device)\n",
    "\n",
    "print(bot_input_ids1.device)\n",
    "\n",
    "# Can't be different"
   ]
  },
  {
   "cell_type": "code",
   "execution_count": null,
   "metadata": {
    "id": "VmWVVTLCsWJa"
   },
   "outputs": [],
   "source": [
    "# Saving best-practices: if you use defaults names for the model, you can reload it using from_pretrained()\n",
    "\n",
    "output_dir = './model_save/'\n",
    "\n",
    "# Create output directory if needed\n",
    "if not os.path.exists(output_dir):\n",
    "    os.makedirs(output_dir)\n",
    "\n",
    "print(\"Saving model to %s\" % output_dir)\n",
    "\n",
    "# Save a trained model, configuration and tokenizer using `save_pretrained()`.\n",
    "# They can then be reloaded using `from_pretrained()`\n",
    "model_to_save = model.module if hasattr(model, 'module') else model  # Take care of distributed/parallel training\n",
    "model_to_save.save_pretrained(output_dir)\n",
    "tokenizer.save_pretrained(output_dir)\n",
    "\n",
    "# Good practice: save your training arguments together with the trained model\n",
    "# torch.save(args, os.path.join(output_dir, 'training_args.bin'))\n"
   ]
  }
 ],
 "metadata": {
  "accelerator": "GPU",
  "colab": {
   "collapsed_sections": [],
   "name": "gpt_covid.ipynb",
   "provenance": []
  },
  "kernelspec": {
   "display_name": "Python 3 (ipykernel)",
   "language": "python",
   "name": "python3"
  },
  "language_info": {
   "codemirror_mode": {
    "name": "ipython",
    "version": 3
   },
   "file_extension": ".py",
   "mimetype": "text/x-python",
   "name": "python",
   "nbconvert_exporter": "python",
   "pygments_lexer": "ipython3",
   "version": "3.9.7"
  },
  "widgets": {
   "application/vnd.jupyter.widget-state+json": {
    "01df83da34e042daa4bf51d2bf84c2d2": {
     "model_module": "@jupyter-widgets/base",
     "model_module_version": "1.2.0",
     "model_name": "LayoutModel",
     "state": {
      "_model_module": "@jupyter-widgets/base",
      "_model_module_version": "1.2.0",
      "_model_name": "LayoutModel",
      "_view_count": null,
      "_view_module": "@jupyter-widgets/base",
      "_view_module_version": "1.2.0",
      "_view_name": "LayoutView",
      "align_content": null,
      "align_items": null,
      "align_self": null,
      "border": null,
      "bottom": null,
      "display": null,
      "flex": null,
      "flex_flow": null,
      "grid_area": null,
      "grid_auto_columns": null,
      "grid_auto_flow": null,
      "grid_auto_rows": null,
      "grid_column": null,
      "grid_gap": null,
      "grid_row": null,
      "grid_template_areas": null,
      "grid_template_columns": null,
      "grid_template_rows": null,
      "height": null,
      "justify_content": null,
      "justify_items": null,
      "left": null,
      "margin": null,
      "max_height": null,
      "max_width": null,
      "min_height": null,
      "min_width": null,
      "object_fit": null,
      "object_position": null,
      "order": null,
      "overflow": null,
      "overflow_x": null,
      "overflow_y": null,
      "padding": null,
      "right": null,
      "top": null,
      "visibility": null,
      "width": null
     }
    },
    "12872f9f879d4210a0fa370c91f31fcf": {
     "model_module": "@jupyter-widgets/controls",
     "model_module_version": "1.5.0",
     "model_name": "DescriptionStyleModel",
     "state": {
      "_model_module": "@jupyter-widgets/controls",
      "_model_module_version": "1.5.0",
      "_model_name": "DescriptionStyleModel",
      "_view_count": null,
      "_view_module": "@jupyter-widgets/base",
      "_view_module_version": "1.2.0",
      "_view_name": "StyleView",
      "description_width": ""
     }
    },
    "1465a4d033624937a2fc3216432268a8": {
     "model_module": "@jupyter-widgets/base",
     "model_module_version": "1.2.0",
     "model_name": "LayoutModel",
     "state": {
      "_model_module": "@jupyter-widgets/base",
      "_model_module_version": "1.2.0",
      "_model_name": "LayoutModel",
      "_view_count": null,
      "_view_module": "@jupyter-widgets/base",
      "_view_module_version": "1.2.0",
      "_view_name": "LayoutView",
      "align_content": null,
      "align_items": null,
      "align_self": null,
      "border": null,
      "bottom": null,
      "display": null,
      "flex": null,
      "flex_flow": null,
      "grid_area": null,
      "grid_auto_columns": null,
      "grid_auto_flow": null,
      "grid_auto_rows": null,
      "grid_column": null,
      "grid_gap": null,
      "grid_row": null,
      "grid_template_areas": null,
      "grid_template_columns": null,
      "grid_template_rows": null,
      "height": null,
      "justify_content": null,
      "justify_items": null,
      "left": null,
      "margin": null,
      "max_height": null,
      "max_width": null,
      "min_height": null,
      "min_width": null,
      "object_fit": null,
      "object_position": null,
      "order": null,
      "overflow": null,
      "overflow_x": null,
      "overflow_y": null,
      "padding": null,
      "right": null,
      "top": null,
      "visibility": null,
      "width": null
     }
    },
    "1599bd38199d4807a71b83e28f30fc15": {
     "model_module": "@jupyter-widgets/controls",
     "model_module_version": "1.5.0",
     "model_name": "FloatProgressModel",
     "state": {
      "_dom_classes": [],
      "_model_module": "@jupyter-widgets/controls",
      "_model_module_version": "1.5.0",
      "_model_name": "FloatProgressModel",
      "_view_count": null,
      "_view_module": "@jupyter-widgets/controls",
      "_view_module_version": "1.5.0",
      "_view_name": "ProgressView",
      "bar_style": "success",
      "description": "",
      "description_tooltip": null,
      "layout": "IPY_MODEL_9bcfab2e565a4e7e99ec6320508f1899",
      "max": 1,
      "min": 0,
      "orientation": "horizontal",
      "style": "IPY_MODEL_60a64755acba40db92b6ba198053ebc1",
      "value": 1
     }
    },
    "19d87d21d00340a2a5584301673aaac0": {
     "model_module": "@jupyter-widgets/base",
     "model_module_version": "1.2.0",
     "model_name": "LayoutModel",
     "state": {
      "_model_module": "@jupyter-widgets/base",
      "_model_module_version": "1.2.0",
      "_model_name": "LayoutModel",
      "_view_count": null,
      "_view_module": "@jupyter-widgets/base",
      "_view_module_version": "1.2.0",
      "_view_name": "LayoutView",
      "align_content": null,
      "align_items": null,
      "align_self": null,
      "border": null,
      "bottom": null,
      "display": null,
      "flex": null,
      "flex_flow": null,
      "grid_area": null,
      "grid_auto_columns": null,
      "grid_auto_flow": null,
      "grid_auto_rows": null,
      "grid_column": null,
      "grid_gap": null,
      "grid_row": null,
      "grid_template_areas": null,
      "grid_template_columns": null,
      "grid_template_rows": null,
      "height": null,
      "justify_content": null,
      "justify_items": null,
      "left": null,
      "margin": null,
      "max_height": null,
      "max_width": null,
      "min_height": null,
      "min_width": null,
      "object_fit": null,
      "object_position": null,
      "order": null,
      "overflow": null,
      "overflow_x": null,
      "overflow_y": null,
      "padding": null,
      "right": null,
      "top": null,
      "visibility": null,
      "width": null
     }
    },
    "1a29b393dabd46519c2564b0caa079f3": {
     "model_module": "@jupyter-widgets/base",
     "model_module_version": "1.2.0",
     "model_name": "LayoutModel",
     "state": {
      "_model_module": "@jupyter-widgets/base",
      "_model_module_version": "1.2.0",
      "_model_name": "LayoutModel",
      "_view_count": null,
      "_view_module": "@jupyter-widgets/base",
      "_view_module_version": "1.2.0",
      "_view_name": "LayoutView",
      "align_content": null,
      "align_items": null,
      "align_self": null,
      "border": null,
      "bottom": null,
      "display": null,
      "flex": null,
      "flex_flow": null,
      "grid_area": null,
      "grid_auto_columns": null,
      "grid_auto_flow": null,
      "grid_auto_rows": null,
      "grid_column": null,
      "grid_gap": null,
      "grid_row": null,
      "grid_template_areas": null,
      "grid_template_columns": null,
      "grid_template_rows": null,
      "height": null,
      "justify_content": null,
      "justify_items": null,
      "left": null,
      "margin": null,
      "max_height": null,
      "max_width": null,
      "min_height": null,
      "min_width": null,
      "object_fit": null,
      "object_position": null,
      "order": null,
      "overflow": null,
      "overflow_x": null,
      "overflow_y": null,
      "padding": null,
      "right": null,
      "top": null,
      "visibility": null,
      "width": null
     }
    },
    "1f651efc1f714050ae0c17459d513af4": {
     "model_module": "@jupyter-widgets/controls",
     "model_module_version": "1.5.0",
     "model_name": "ProgressStyleModel",
     "state": {
      "_model_module": "@jupyter-widgets/controls",
      "_model_module_version": "1.5.0",
      "_model_name": "ProgressStyleModel",
      "_view_count": null,
      "_view_module": "@jupyter-widgets/base",
      "_view_module_version": "1.2.0",
      "_view_name": "StyleView",
      "bar_color": null,
      "description_width": ""
     }
    },
    "20e01159c9e247ab8594466ec2a5282b": {
     "model_module": "@jupyter-widgets/controls",
     "model_module_version": "1.5.0",
     "model_name": "FloatProgressModel",
     "state": {
      "_dom_classes": [],
      "_model_module": "@jupyter-widgets/controls",
      "_model_module_version": "1.5.0",
      "_model_name": "FloatProgressModel",
      "_view_count": null,
      "_view_module": "@jupyter-widgets/controls",
      "_view_module_version": "1.5.0",
      "_view_name": "ProgressView",
      "bar_style": "success",
      "description": "",
      "description_tooltip": null,
      "layout": "IPY_MODEL_6dc1976b4f844770b2adf61a1ebf3329",
      "max": 456318,
      "min": 0,
      "orientation": "horizontal",
      "style": "IPY_MODEL_e3b48d9d2ea141e490d21a1f9475d3cf",
      "value": 456318
     }
    },
    "23f98830cf79462c912fbf3a34ea18c9": {
     "model_module": "@jupyter-widgets/base",
     "model_module_version": "1.2.0",
     "model_name": "LayoutModel",
     "state": {
      "_model_module": "@jupyter-widgets/base",
      "_model_module_version": "1.2.0",
      "_model_name": "LayoutModel",
      "_view_count": null,
      "_view_module": "@jupyter-widgets/base",
      "_view_module_version": "1.2.0",
      "_view_name": "LayoutView",
      "align_content": null,
      "align_items": null,
      "align_self": null,
      "border": null,
      "bottom": null,
      "display": null,
      "flex": null,
      "flex_flow": null,
      "grid_area": null,
      "grid_auto_columns": null,
      "grid_auto_flow": null,
      "grid_auto_rows": null,
      "grid_column": null,
      "grid_gap": null,
      "grid_row": null,
      "grid_template_areas": null,
      "grid_template_columns": null,
      "grid_template_rows": null,
      "height": null,
      "justify_content": null,
      "justify_items": null,
      "left": null,
      "margin": null,
      "max_height": null,
      "max_width": null,
      "min_height": null,
      "min_width": null,
      "object_fit": null,
      "object_position": null,
      "order": null,
      "overflow": null,
      "overflow_x": null,
      "overflow_y": null,
      "padding": null,
      "right": null,
      "top": null,
      "visibility": null,
      "width": null
     }
    },
    "24794750c22f40d6b24328e805f18ec1": {
     "model_module": "@jupyter-widgets/base",
     "model_module_version": "1.2.0",
     "model_name": "LayoutModel",
     "state": {
      "_model_module": "@jupyter-widgets/base",
      "_model_module_version": "1.2.0",
      "_model_name": "LayoutModel",
      "_view_count": null,
      "_view_module": "@jupyter-widgets/base",
      "_view_module_version": "1.2.0",
      "_view_name": "LayoutView",
      "align_content": null,
      "align_items": null,
      "align_self": null,
      "border": null,
      "bottom": null,
      "display": null,
      "flex": null,
      "flex_flow": null,
      "grid_area": null,
      "grid_auto_columns": null,
      "grid_auto_flow": null,
      "grid_auto_rows": null,
      "grid_column": null,
      "grid_gap": null,
      "grid_row": null,
      "grid_template_areas": null,
      "grid_template_columns": null,
      "grid_template_rows": null,
      "height": null,
      "justify_content": null,
      "justify_items": null,
      "left": null,
      "margin": null,
      "max_height": null,
      "max_width": null,
      "min_height": null,
      "min_width": null,
      "object_fit": null,
      "object_position": null,
      "order": null,
      "overflow": null,
      "overflow_x": null,
      "overflow_y": null,
      "padding": null,
      "right": null,
      "top": null,
      "visibility": null,
      "width": null
     }
    },
    "2a8ae4ed66c048a29f4df104a2c86f83": {
     "model_module": "@jupyter-widgets/controls",
     "model_module_version": "1.5.0",
     "model_name": "HTMLModel",
     "state": {
      "_dom_classes": [],
      "_model_module": "@jupyter-widgets/controls",
      "_model_module_version": "1.5.0",
      "_model_name": "HTMLModel",
      "_view_count": null,
      "_view_module": "@jupyter-widgets/controls",
      "_view_module_version": "1.5.0",
      "_view_name": "HTMLView",
      "description": "",
      "description_tooltip": null,
      "layout": "IPY_MODEL_7423bfdc991f4a78aa411dcda2cfccb7",
      "placeholder": "​",
      "style": "IPY_MODEL_4e27c8dac57f4f80b543a2617602c609",
      "value": " 0.99M/0.99M [00:00&lt;00:00, 5.72MB/s]"
     }
    },
    "2cc717ed724e47cead95fcf93c2b4229": {
     "model_module": "@jupyter-widgets/base",
     "model_module_version": "1.2.0",
     "model_name": "LayoutModel",
     "state": {
      "_model_module": "@jupyter-widgets/base",
      "_model_module_version": "1.2.0",
      "_model_name": "LayoutModel",
      "_view_count": null,
      "_view_module": "@jupyter-widgets/base",
      "_view_module_version": "1.2.0",
      "_view_name": "LayoutView",
      "align_content": null,
      "align_items": null,
      "align_self": null,
      "border": null,
      "bottom": null,
      "display": null,
      "flex": null,
      "flex_flow": null,
      "grid_area": null,
      "grid_auto_columns": null,
      "grid_auto_flow": null,
      "grid_auto_rows": null,
      "grid_column": null,
      "grid_gap": null,
      "grid_row": null,
      "grid_template_areas": null,
      "grid_template_columns": null,
      "grid_template_rows": null,
      "height": null,
      "justify_content": null,
      "justify_items": null,
      "left": null,
      "margin": null,
      "max_height": null,
      "max_width": null,
      "min_height": null,
      "min_width": null,
      "object_fit": null,
      "object_position": null,
      "order": null,
      "overflow": null,
      "overflow_x": null,
      "overflow_y": null,
      "padding": null,
      "right": null,
      "top": null,
      "visibility": null,
      "width": null
     }
    },
    "2e9b04828a004377a4fce90e5a33b1ae": {
     "model_module": "@jupyter-widgets/controls",
     "model_module_version": "1.5.0",
     "model_name": "DescriptionStyleModel",
     "state": {
      "_model_module": "@jupyter-widgets/controls",
      "_model_module_version": "1.5.0",
      "_model_name": "DescriptionStyleModel",
      "_view_count": null,
      "_view_module": "@jupyter-widgets/base",
      "_view_module_version": "1.2.0",
      "_view_name": "StyleView",
      "description_width": ""
     }
    },
    "30ce330a1ce04472bdf7119950115ace": {
     "model_module": "@jupyter-widgets/controls",
     "model_module_version": "1.5.0",
     "model_name": "ProgressStyleModel",
     "state": {
      "_model_module": "@jupyter-widgets/controls",
      "_model_module_version": "1.5.0",
      "_model_name": "ProgressStyleModel",
      "_view_count": null,
      "_view_module": "@jupyter-widgets/base",
      "_view_module_version": "1.2.0",
      "_view_name": "StyleView",
      "bar_color": null,
      "description_width": ""
     }
    },
    "4245f28c6fce495b8ef13080ea23d9c9": {
     "model_module": "@jupyter-widgets/controls",
     "model_module_version": "1.5.0",
     "model_name": "FloatProgressModel",
     "state": {
      "_dom_classes": [],
      "_model_module": "@jupyter-widgets/controls",
      "_model_module_version": "1.5.0",
      "_model_name": "FloatProgressModel",
      "_view_count": null,
      "_view_module": "@jupyter-widgets/controls",
      "_view_module_version": "1.5.0",
      "_view_name": "ProgressView",
      "bar_style": "success",
      "description": "",
      "description_tooltip": null,
      "layout": "IPY_MODEL_7d9edf988d2c4f09a2fc3f52c7a0efde",
      "max": 1042301,
      "min": 0,
      "orientation": "horizontal",
      "style": "IPY_MODEL_1f651efc1f714050ae0c17459d513af4",
      "value": 1042301
     }
    },
    "4551fb10d2f9499491ea93c6a248654f": {
     "model_module": "@jupyter-widgets/controls",
     "model_module_version": "1.5.0",
     "model_name": "DescriptionStyleModel",
     "state": {
      "_model_module": "@jupyter-widgets/controls",
      "_model_module_version": "1.5.0",
      "_model_name": "DescriptionStyleModel",
      "_view_count": null,
      "_view_module": "@jupyter-widgets/base",
      "_view_module_version": "1.2.0",
      "_view_name": "StyleView",
      "description_width": ""
     }
    },
    "496ff34db4aa4580ba37e6a8ee8a9c5f": {
     "model_module": "@jupyter-widgets/controls",
     "model_module_version": "1.5.0",
     "model_name": "HBoxModel",
     "state": {
      "_dom_classes": [],
      "_model_module": "@jupyter-widgets/controls",
      "_model_module_version": "1.5.0",
      "_model_name": "HBoxModel",
      "_view_count": null,
      "_view_module": "@jupyter-widgets/controls",
      "_view_module_version": "1.5.0",
      "_view_name": "HBoxView",
      "box_style": "",
      "children": [
       "IPY_MODEL_cd908958b38e43a19e720ffe37c34685",
       "IPY_MODEL_e5b4e157d1d547ab9759dce9407e8d06",
       "IPY_MODEL_fe75ce3a70554f68892e79506d24d188"
      ],
      "layout": "IPY_MODEL_1a29b393dabd46519c2564b0caa079f3"
     }
    },
    "4bb96dbd5844472fab1716a6534e2e19": {
     "model_module": "@jupyter-widgets/base",
     "model_module_version": "1.2.0",
     "model_name": "LayoutModel",
     "state": {
      "_model_module": "@jupyter-widgets/base",
      "_model_module_version": "1.2.0",
      "_model_name": "LayoutModel",
      "_view_count": null,
      "_view_module": "@jupyter-widgets/base",
      "_view_module_version": "1.2.0",
      "_view_name": "LayoutView",
      "align_content": null,
      "align_items": null,
      "align_self": null,
      "border": null,
      "bottom": null,
      "display": null,
      "flex": null,
      "flex_flow": null,
      "grid_area": null,
      "grid_auto_columns": null,
      "grid_auto_flow": null,
      "grid_auto_rows": null,
      "grid_column": null,
      "grid_gap": null,
      "grid_row": null,
      "grid_template_areas": null,
      "grid_template_columns": null,
      "grid_template_rows": null,
      "height": null,
      "justify_content": null,
      "justify_items": null,
      "left": null,
      "margin": null,
      "max_height": null,
      "max_width": null,
      "min_height": null,
      "min_width": null,
      "object_fit": null,
      "object_position": null,
      "order": null,
      "overflow": null,
      "overflow_x": null,
      "overflow_y": null,
      "padding": null,
      "right": null,
      "top": null,
      "visibility": null,
      "width": null
     }
    },
    "4d6d89b0430344cfbcae2fa6d3cbb5c2": {
     "model_module": "@jupyter-widgets/base",
     "model_module_version": "1.2.0",
     "model_name": "LayoutModel",
     "state": {
      "_model_module": "@jupyter-widgets/base",
      "_model_module_version": "1.2.0",
      "_model_name": "LayoutModel",
      "_view_count": null,
      "_view_module": "@jupyter-widgets/base",
      "_view_module_version": "1.2.0",
      "_view_name": "LayoutView",
      "align_content": null,
      "align_items": null,
      "align_self": null,
      "border": null,
      "bottom": null,
      "display": null,
      "flex": null,
      "flex_flow": null,
      "grid_area": null,
      "grid_auto_columns": null,
      "grid_auto_flow": null,
      "grid_auto_rows": null,
      "grid_column": null,
      "grid_gap": null,
      "grid_row": null,
      "grid_template_areas": null,
      "grid_template_columns": null,
      "grid_template_rows": null,
      "height": null,
      "justify_content": null,
      "justify_items": null,
      "left": null,
      "margin": null,
      "max_height": null,
      "max_width": null,
      "min_height": null,
      "min_width": null,
      "object_fit": null,
      "object_position": null,
      "order": null,
      "overflow": null,
      "overflow_x": null,
      "overflow_y": null,
      "padding": null,
      "right": null,
      "top": null,
      "visibility": null,
      "width": null
     }
    },
    "4e27c8dac57f4f80b543a2617602c609": {
     "model_module": "@jupyter-widgets/controls",
     "model_module_version": "1.5.0",
     "model_name": "DescriptionStyleModel",
     "state": {
      "_model_module": "@jupyter-widgets/controls",
      "_model_module_version": "1.5.0",
      "_model_name": "DescriptionStyleModel",
      "_view_count": null,
      "_view_module": "@jupyter-widgets/base",
      "_view_module_version": "1.2.0",
      "_view_name": "StyleView",
      "description_width": ""
     }
    },
    "5d0f7585d35641fba9bb7f4ea93db579": {
     "model_module": "@jupyter-widgets/controls",
     "model_module_version": "1.5.0",
     "model_name": "HBoxModel",
     "state": {
      "_dom_classes": [],
      "_model_module": "@jupyter-widgets/controls",
      "_model_module_version": "1.5.0",
      "_model_name": "HBoxModel",
      "_view_count": null,
      "_view_module": "@jupyter-widgets/controls",
      "_view_module_version": "1.5.0",
      "_view_name": "HBoxView",
      "box_style": "",
      "children": [
       "IPY_MODEL_6f70f73556e84f6ca1b13c198754bc2d",
       "IPY_MODEL_20e01159c9e247ab8594466ec2a5282b",
       "IPY_MODEL_cfd38490e7674cbd9198172e4e58bb94"
      ],
      "layout": "IPY_MODEL_a837e5de00d8439cb76e7acb1cd88913"
     }
    },
    "5da9f2c00396426c9326a075f6a7b796": {
     "model_module": "@jupyter-widgets/base",
     "model_module_version": "1.2.0",
     "model_name": "LayoutModel",
     "state": {
      "_model_module": "@jupyter-widgets/base",
      "_model_module_version": "1.2.0",
      "_model_name": "LayoutModel",
      "_view_count": null,
      "_view_module": "@jupyter-widgets/base",
      "_view_module_version": "1.2.0",
      "_view_name": "LayoutView",
      "align_content": null,
      "align_items": null,
      "align_self": null,
      "border": null,
      "bottom": null,
      "display": null,
      "flex": null,
      "flex_flow": null,
      "grid_area": null,
      "grid_auto_columns": null,
      "grid_auto_flow": null,
      "grid_auto_rows": null,
      "grid_column": null,
      "grid_gap": null,
      "grid_row": null,
      "grid_template_areas": null,
      "grid_template_columns": null,
      "grid_template_rows": null,
      "height": null,
      "justify_content": null,
      "justify_items": null,
      "left": null,
      "margin": null,
      "max_height": null,
      "max_width": null,
      "min_height": null,
      "min_width": null,
      "object_fit": null,
      "object_position": null,
      "order": null,
      "overflow": null,
      "overflow_x": null,
      "overflow_y": null,
      "padding": null,
      "right": null,
      "top": null,
      "visibility": null,
      "width": null
     }
    },
    "5f90f06cde16450a931596dbe02907b3": {
     "model_module": "@jupyter-widgets/base",
     "model_module_version": "1.2.0",
     "model_name": "LayoutModel",
     "state": {
      "_model_module": "@jupyter-widgets/base",
      "_model_module_version": "1.2.0",
      "_model_name": "LayoutModel",
      "_view_count": null,
      "_view_module": "@jupyter-widgets/base",
      "_view_module_version": "1.2.0",
      "_view_name": "LayoutView",
      "align_content": null,
      "align_items": null,
      "align_self": null,
      "border": null,
      "bottom": null,
      "display": null,
      "flex": null,
      "flex_flow": null,
      "grid_area": null,
      "grid_auto_columns": null,
      "grid_auto_flow": null,
      "grid_auto_rows": null,
      "grid_column": null,
      "grid_gap": null,
      "grid_row": null,
      "grid_template_areas": null,
      "grid_template_columns": null,
      "grid_template_rows": null,
      "height": null,
      "justify_content": null,
      "justify_items": null,
      "left": null,
      "margin": null,
      "max_height": null,
      "max_width": null,
      "min_height": null,
      "min_width": null,
      "object_fit": null,
      "object_position": null,
      "order": null,
      "overflow": null,
      "overflow_x": null,
      "overflow_y": null,
      "padding": null,
      "right": null,
      "top": null,
      "visibility": null,
      "width": null
     }
    },
    "60a64755acba40db92b6ba198053ebc1": {
     "model_module": "@jupyter-widgets/controls",
     "model_module_version": "1.5.0",
     "model_name": "ProgressStyleModel",
     "state": {
      "_model_module": "@jupyter-widgets/controls",
      "_model_module_version": "1.5.0",
      "_model_name": "ProgressStyleModel",
      "_view_count": null,
      "_view_module": "@jupyter-widgets/base",
      "_view_module_version": "1.2.0",
      "_view_name": "StyleView",
      "bar_color": null,
      "description_width": ""
     }
    },
    "6285a4fe49474766bd89e641c2645b35": {
     "model_module": "@jupyter-widgets/controls",
     "model_module_version": "1.5.0",
     "model_name": "ProgressStyleModel",
     "state": {
      "_model_module": "@jupyter-widgets/controls",
      "_model_module_version": "1.5.0",
      "_model_name": "ProgressStyleModel",
      "_view_count": null,
      "_view_module": "@jupyter-widgets/base",
      "_view_module_version": "1.2.0",
      "_view_name": "StyleView",
      "bar_color": null,
      "description_width": ""
     }
    },
    "6299ee1d2a1246c68ce5a189ef08e74d": {
     "model_module": "@jupyter-widgets/controls",
     "model_module_version": "1.5.0",
     "model_name": "HBoxModel",
     "state": {
      "_dom_classes": [],
      "_model_module": "@jupyter-widgets/controls",
      "_model_module_version": "1.5.0",
      "_model_name": "HBoxModel",
      "_view_count": null,
      "_view_module": "@jupyter-widgets/controls",
      "_view_module_version": "1.5.0",
      "_view_name": "HBoxView",
      "box_style": "",
      "children": [
       "IPY_MODEL_f9049ec5f08d48d594c6451ae3ac7445",
       "IPY_MODEL_6307373a91d94620acb90ee2aae6b60c",
       "IPY_MODEL_98ae3e521da944e3b2b5f41f2d02072c"
      ],
      "layout": "IPY_MODEL_5da9f2c00396426c9326a075f6a7b796"
     }
    },
    "6307373a91d94620acb90ee2aae6b60c": {
     "model_module": "@jupyter-widgets/controls",
     "model_module_version": "1.5.0",
     "model_name": "FloatProgressModel",
     "state": {
      "_dom_classes": [],
      "_model_module": "@jupyter-widgets/controls",
      "_model_module_version": "1.5.0",
      "_model_name": "FloatProgressModel",
      "_view_count": null,
      "_view_module": "@jupyter-widgets/controls",
      "_view_module_version": "1.5.0",
      "_view_name": "ProgressView",
      "bar_style": "success",
      "description": "",
      "description_tooltip": null,
      "layout": "IPY_MODEL_5f90f06cde16450a931596dbe02907b3",
      "max": 26,
      "min": 0,
      "orientation": "horizontal",
      "style": "IPY_MODEL_c0cdd8d92b2e4ac18ab3ab5fbe6ce031",
      "value": 26
     }
    },
    "6b58e1ab8abe45b4ab4e5ae7bf3f53c7": {
     "model_module": "@jupyter-widgets/base",
     "model_module_version": "1.2.0",
     "model_name": "LayoutModel",
     "state": {
      "_model_module": "@jupyter-widgets/base",
      "_model_module_version": "1.2.0",
      "_model_name": "LayoutModel",
      "_view_count": null,
      "_view_module": "@jupyter-widgets/base",
      "_view_module_version": "1.2.0",
      "_view_name": "LayoutView",
      "align_content": null,
      "align_items": null,
      "align_self": null,
      "border": null,
      "bottom": null,
      "display": null,
      "flex": null,
      "flex_flow": null,
      "grid_area": null,
      "grid_auto_columns": null,
      "grid_auto_flow": null,
      "grid_auto_rows": null,
      "grid_column": null,
      "grid_gap": null,
      "grid_row": null,
      "grid_template_areas": null,
      "grid_template_columns": null,
      "grid_template_rows": null,
      "height": null,
      "justify_content": null,
      "justify_items": null,
      "left": null,
      "margin": null,
      "max_height": null,
      "max_width": null,
      "min_height": null,
      "min_width": null,
      "object_fit": null,
      "object_position": null,
      "order": null,
      "overflow": null,
      "overflow_x": null,
      "overflow_y": null,
      "padding": null,
      "right": null,
      "top": null,
      "visibility": null,
      "width": null
     }
    },
    "6dc1976b4f844770b2adf61a1ebf3329": {
     "model_module": "@jupyter-widgets/base",
     "model_module_version": "1.2.0",
     "model_name": "LayoutModel",
     "state": {
      "_model_module": "@jupyter-widgets/base",
      "_model_module_version": "1.2.0",
      "_model_name": "LayoutModel",
      "_view_count": null,
      "_view_module": "@jupyter-widgets/base",
      "_view_module_version": "1.2.0",
      "_view_name": "LayoutView",
      "align_content": null,
      "align_items": null,
      "align_self": null,
      "border": null,
      "bottom": null,
      "display": null,
      "flex": null,
      "flex_flow": null,
      "grid_area": null,
      "grid_auto_columns": null,
      "grid_auto_flow": null,
      "grid_auto_rows": null,
      "grid_column": null,
      "grid_gap": null,
      "grid_row": null,
      "grid_template_areas": null,
      "grid_template_columns": null,
      "grid_template_rows": null,
      "height": null,
      "justify_content": null,
      "justify_items": null,
      "left": null,
      "margin": null,
      "max_height": null,
      "max_width": null,
      "min_height": null,
      "min_width": null,
      "object_fit": null,
      "object_position": null,
      "order": null,
      "overflow": null,
      "overflow_x": null,
      "overflow_y": null,
      "padding": null,
      "right": null,
      "top": null,
      "visibility": null,
      "width": null
     }
    },
    "6f70f73556e84f6ca1b13c198754bc2d": {
     "model_module": "@jupyter-widgets/controls",
     "model_module_version": "1.5.0",
     "model_name": "HTMLModel",
     "state": {
      "_dom_classes": [],
      "_model_module": "@jupyter-widgets/controls",
      "_model_module_version": "1.5.0",
      "_model_name": "HTMLModel",
      "_view_count": null,
      "_view_module": "@jupyter-widgets/controls",
      "_view_module_version": "1.5.0",
      "_view_name": "HTMLView",
      "description": "",
      "description_tooltip": null,
      "layout": "IPY_MODEL_4d6d89b0430344cfbcae2fa6d3cbb5c2",
      "placeholder": "​",
      "style": "IPY_MODEL_79b1423a08084666b50e9282df7e28d7",
      "value": "Downloading: 100%"
     }
    },
    "7423bfdc991f4a78aa411dcda2cfccb7": {
     "model_module": "@jupyter-widgets/base",
     "model_module_version": "1.2.0",
     "model_name": "LayoutModel",
     "state": {
      "_model_module": "@jupyter-widgets/base",
      "_model_module_version": "1.2.0",
      "_model_name": "LayoutModel",
      "_view_count": null,
      "_view_module": "@jupyter-widgets/base",
      "_view_module_version": "1.2.0",
      "_view_name": "LayoutView",
      "align_content": null,
      "align_items": null,
      "align_self": null,
      "border": null,
      "bottom": null,
      "display": null,
      "flex": null,
      "flex_flow": null,
      "grid_area": null,
      "grid_auto_columns": null,
      "grid_auto_flow": null,
      "grid_auto_rows": null,
      "grid_column": null,
      "grid_gap": null,
      "grid_row": null,
      "grid_template_areas": null,
      "grid_template_columns": null,
      "grid_template_rows": null,
      "height": null,
      "justify_content": null,
      "justify_items": null,
      "left": null,
      "margin": null,
      "max_height": null,
      "max_width": null,
      "min_height": null,
      "min_width": null,
      "object_fit": null,
      "object_position": null,
      "order": null,
      "overflow": null,
      "overflow_x": null,
      "overflow_y": null,
      "padding": null,
      "right": null,
      "top": null,
      "visibility": null,
      "width": null
     }
    },
    "75fbd495f02f4696beca61d1dd52574b": {
     "model_module": "@jupyter-widgets/controls",
     "model_module_version": "1.5.0",
     "model_name": "HTMLModel",
     "state": {
      "_dom_classes": [],
      "_model_module": "@jupyter-widgets/controls",
      "_model_module_version": "1.5.0",
      "_model_name": "HTMLModel",
      "_view_count": null,
      "_view_module": "@jupyter-widgets/controls",
      "_view_module_version": "1.5.0",
      "_view_name": "HTMLView",
      "description": "",
      "description_tooltip": null,
      "layout": "IPY_MODEL_8119372accdd44d8bf9b6b82dd3c67ed",
      "placeholder": "​",
      "style": "IPY_MODEL_e597bd8f7a4e4da88b9b8231877ec7d8",
      "value": " 1/1 [00:00&lt;00:00, 18.24it/s]"
     }
    },
    "7672a91d6122405f8df7af446d869398": {
     "model_module": "@jupyter-widgets/controls",
     "model_module_version": "1.5.0",
     "model_name": "HTMLModel",
     "state": {
      "_dom_classes": [],
      "_model_module": "@jupyter-widgets/controls",
      "_model_module_version": "1.5.0",
      "_model_name": "HTMLModel",
      "_view_count": null,
      "_view_module": "@jupyter-widgets/controls",
      "_view_module_version": "1.5.0",
      "_view_name": "HTMLView",
      "description": "",
      "description_tooltip": null,
      "layout": "IPY_MODEL_1465a4d033624937a2fc3216432268a8",
      "placeholder": "​",
      "style": "IPY_MODEL_d0e462ea3c484e158a7e18113dbd462b",
      "value": " 641/641 [00:00&lt;00:00, 12.9kB/s]"
     }
    },
    "79b1423a08084666b50e9282df7e28d7": {
     "model_module": "@jupyter-widgets/controls",
     "model_module_version": "1.5.0",
     "model_name": "DescriptionStyleModel",
     "state": {
      "_model_module": "@jupyter-widgets/controls",
      "_model_module_version": "1.5.0",
      "_model_name": "DescriptionStyleModel",
      "_view_count": null,
      "_view_module": "@jupyter-widgets/base",
      "_view_module_version": "1.2.0",
      "_view_name": "StyleView",
      "description_width": ""
     }
    },
    "7d9edf988d2c4f09a2fc3f52c7a0efde": {
     "model_module": "@jupyter-widgets/base",
     "model_module_version": "1.2.0",
     "model_name": "LayoutModel",
     "state": {
      "_model_module": "@jupyter-widgets/base",
      "_model_module_version": "1.2.0",
      "_model_name": "LayoutModel",
      "_view_count": null,
      "_view_module": "@jupyter-widgets/base",
      "_view_module_version": "1.2.0",
      "_view_name": "LayoutView",
      "align_content": null,
      "align_items": null,
      "align_self": null,
      "border": null,
      "bottom": null,
      "display": null,
      "flex": null,
      "flex_flow": null,
      "grid_area": null,
      "grid_auto_columns": null,
      "grid_auto_flow": null,
      "grid_auto_rows": null,
      "grid_column": null,
      "grid_gap": null,
      "grid_row": null,
      "grid_template_areas": null,
      "grid_template_columns": null,
      "grid_template_rows": null,
      "height": null,
      "justify_content": null,
      "justify_items": null,
      "left": null,
      "margin": null,
      "max_height": null,
      "max_width": null,
      "min_height": null,
      "min_width": null,
      "object_fit": null,
      "object_position": null,
      "order": null,
      "overflow": null,
      "overflow_x": null,
      "overflow_y": null,
      "padding": null,
      "right": null,
      "top": null,
      "visibility": null,
      "width": null
     }
    },
    "8119372accdd44d8bf9b6b82dd3c67ed": {
     "model_module": "@jupyter-widgets/base",
     "model_module_version": "1.2.0",
     "model_name": "LayoutModel",
     "state": {
      "_model_module": "@jupyter-widgets/base",
      "_model_module_version": "1.2.0",
      "_model_name": "LayoutModel",
      "_view_count": null,
      "_view_module": "@jupyter-widgets/base",
      "_view_module_version": "1.2.0",
      "_view_name": "LayoutView",
      "align_content": null,
      "align_items": null,
      "align_self": null,
      "border": null,
      "bottom": null,
      "display": null,
      "flex": null,
      "flex_flow": null,
      "grid_area": null,
      "grid_auto_columns": null,
      "grid_auto_flow": null,
      "grid_auto_rows": null,
      "grid_column": null,
      "grid_gap": null,
      "grid_row": null,
      "grid_template_areas": null,
      "grid_template_columns": null,
      "grid_template_rows": null,
      "height": null,
      "justify_content": null,
      "justify_items": null,
      "left": null,
      "margin": null,
      "max_height": null,
      "max_width": null,
      "min_height": null,
      "min_width": null,
      "object_fit": null,
      "object_position": null,
      "order": null,
      "overflow": null,
      "overflow_x": null,
      "overflow_y": null,
      "padding": null,
      "right": null,
      "top": null,
      "visibility": null,
      "width": null
     }
    },
    "8bf79e03c55e444c8abf2dfa746617aa": {
     "model_module": "@jupyter-widgets/base",
     "model_module_version": "1.2.0",
     "model_name": "LayoutModel",
     "state": {
      "_model_module": "@jupyter-widgets/base",
      "_model_module_version": "1.2.0",
      "_model_name": "LayoutModel",
      "_view_count": null,
      "_view_module": "@jupyter-widgets/base",
      "_view_module_version": "1.2.0",
      "_view_name": "LayoutView",
      "align_content": null,
      "align_items": null,
      "align_self": null,
      "border": null,
      "bottom": null,
      "display": null,
      "flex": null,
      "flex_flow": null,
      "grid_area": null,
      "grid_auto_columns": null,
      "grid_auto_flow": null,
      "grid_auto_rows": null,
      "grid_column": null,
      "grid_gap": null,
      "grid_row": null,
      "grid_template_areas": null,
      "grid_template_columns": null,
      "grid_template_rows": null,
      "height": null,
      "justify_content": null,
      "justify_items": null,
      "left": null,
      "margin": null,
      "max_height": null,
      "max_width": null,
      "min_height": null,
      "min_width": null,
      "object_fit": null,
      "object_position": null,
      "order": null,
      "overflow": null,
      "overflow_x": null,
      "overflow_y": null,
      "padding": null,
      "right": null,
      "top": null,
      "visibility": null,
      "width": null
     }
    },
    "8cba34d90b2c42fcbce5462bf87eb55d": {
     "model_module": "@jupyter-widgets/controls",
     "model_module_version": "1.5.0",
     "model_name": "DescriptionStyleModel",
     "state": {
      "_model_module": "@jupyter-widgets/controls",
      "_model_module_version": "1.5.0",
      "_model_name": "DescriptionStyleModel",
      "_view_count": null,
      "_view_module": "@jupyter-widgets/base",
      "_view_module_version": "1.2.0",
      "_view_name": "StyleView",
      "description_width": ""
     }
    },
    "8cfc2ce95a9842e0bf3bb27953c79bbd": {
     "model_module": "@jupyter-widgets/controls",
     "model_module_version": "1.5.0",
     "model_name": "HTMLModel",
     "state": {
      "_dom_classes": [],
      "_model_module": "@jupyter-widgets/controls",
      "_model_module_version": "1.5.0",
      "_model_name": "HTMLModel",
      "_view_count": null,
      "_view_module": "@jupyter-widgets/controls",
      "_view_module_version": "1.5.0",
      "_view_name": "HTMLView",
      "description": "",
      "description_tooltip": null,
      "layout": "IPY_MODEL_ab7f75fc2ee6453d9c54b7abed2dc769",
      "placeholder": "​",
      "style": "IPY_MODEL_95e7611ae98c4c9ab461a6ad4517aa99",
      "value": "Downloading: 100%"
     }
    },
    "9158df3d61f24f54a997d857095a932b": {
     "model_module": "@jupyter-widgets/controls",
     "model_module_version": "1.5.0",
     "model_name": "HTMLModel",
     "state": {
      "_dom_classes": [],
      "_model_module": "@jupyter-widgets/controls",
      "_model_module_version": "1.5.0",
      "_model_name": "HTMLModel",
      "_view_count": null,
      "_view_module": "@jupyter-widgets/controls",
      "_view_module_version": "1.5.0",
      "_view_name": "HTMLView",
      "description": "",
      "description_tooltip": null,
      "layout": "IPY_MODEL_01df83da34e042daa4bf51d2bf84c2d2",
      "placeholder": "​",
      "style": "IPY_MODEL_ee1bc9cbb4324fb4a835bb502ff39c58",
      "value": "100%"
     }
    },
    "95e7611ae98c4c9ab461a6ad4517aa99": {
     "model_module": "@jupyter-widgets/controls",
     "model_module_version": "1.5.0",
     "model_name": "DescriptionStyleModel",
     "state": {
      "_model_module": "@jupyter-widgets/controls",
      "_model_module_version": "1.5.0",
      "_model_name": "DescriptionStyleModel",
      "_view_count": null,
      "_view_module": "@jupyter-widgets/base",
      "_view_module_version": "1.2.0",
      "_view_name": "StyleView",
      "description_width": ""
     }
    },
    "98ae3e521da944e3b2b5f41f2d02072c": {
     "model_module": "@jupyter-widgets/controls",
     "model_module_version": "1.5.0",
     "model_name": "HTMLModel",
     "state": {
      "_dom_classes": [],
      "_model_module": "@jupyter-widgets/controls",
      "_model_module_version": "1.5.0",
      "_model_name": "HTMLModel",
      "_view_count": null,
      "_view_module": "@jupyter-widgets/controls",
      "_view_module_version": "1.5.0",
      "_view_name": "HTMLView",
      "description": "",
      "description_tooltip": null,
      "layout": "IPY_MODEL_aa25d111370b4541b9501e809b97860b",
      "placeholder": "​",
      "style": "IPY_MODEL_deca4eae1dc74539a264654da0efd7b0",
      "value": " 26.0/26.0 [00:00&lt;00:00, 690B/s]"
     }
    },
    "9bcfab2e565a4e7e99ec6320508f1899": {
     "model_module": "@jupyter-widgets/base",
     "model_module_version": "1.2.0",
     "model_name": "LayoutModel",
     "state": {
      "_model_module": "@jupyter-widgets/base",
      "_model_module_version": "1.2.0",
      "_model_name": "LayoutModel",
      "_view_count": null,
      "_view_module": "@jupyter-widgets/base",
      "_view_module_version": "1.2.0",
      "_view_name": "LayoutView",
      "align_content": null,
      "align_items": null,
      "align_self": null,
      "border": null,
      "bottom": null,
      "display": null,
      "flex": null,
      "flex_flow": null,
      "grid_area": null,
      "grid_auto_columns": null,
      "grid_auto_flow": null,
      "grid_auto_rows": null,
      "grid_column": null,
      "grid_gap": null,
      "grid_row": null,
      "grid_template_areas": null,
      "grid_template_columns": null,
      "grid_template_rows": null,
      "height": null,
      "justify_content": null,
      "justify_items": null,
      "left": null,
      "margin": null,
      "max_height": null,
      "max_width": null,
      "min_height": null,
      "min_width": null,
      "object_fit": null,
      "object_position": null,
      "order": null,
      "overflow": null,
      "overflow_x": null,
      "overflow_y": null,
      "padding": null,
      "right": null,
      "top": null,
      "visibility": null,
      "width": null
     }
    },
    "a6b8ef7e83d24f1c9b0de5acbec87803": {
     "model_module": "@jupyter-widgets/base",
     "model_module_version": "1.2.0",
     "model_name": "LayoutModel",
     "state": {
      "_model_module": "@jupyter-widgets/base",
      "_model_module_version": "1.2.0",
      "_model_name": "LayoutModel",
      "_view_count": null,
      "_view_module": "@jupyter-widgets/base",
      "_view_module_version": "1.2.0",
      "_view_name": "LayoutView",
      "align_content": null,
      "align_items": null,
      "align_self": null,
      "border": null,
      "bottom": null,
      "display": null,
      "flex": null,
      "flex_flow": null,
      "grid_area": null,
      "grid_auto_columns": null,
      "grid_auto_flow": null,
      "grid_auto_rows": null,
      "grid_column": null,
      "grid_gap": null,
      "grid_row": null,
      "grid_template_areas": null,
      "grid_template_columns": null,
      "grid_template_rows": null,
      "height": null,
      "justify_content": null,
      "justify_items": null,
      "left": null,
      "margin": null,
      "max_height": null,
      "max_width": null,
      "min_height": null,
      "min_width": null,
      "object_fit": null,
      "object_position": null,
      "order": null,
      "overflow": null,
      "overflow_x": null,
      "overflow_y": null,
      "padding": null,
      "right": null,
      "top": null,
      "visibility": null,
      "width": null
     }
    },
    "a837e5de00d8439cb76e7acb1cd88913": {
     "model_module": "@jupyter-widgets/base",
     "model_module_version": "1.2.0",
     "model_name": "LayoutModel",
     "state": {
      "_model_module": "@jupyter-widgets/base",
      "_model_module_version": "1.2.0",
      "_model_name": "LayoutModel",
      "_view_count": null,
      "_view_module": "@jupyter-widgets/base",
      "_view_module_version": "1.2.0",
      "_view_name": "LayoutView",
      "align_content": null,
      "align_items": null,
      "align_self": null,
      "border": null,
      "bottom": null,
      "display": null,
      "flex": null,
      "flex_flow": null,
      "grid_area": null,
      "grid_auto_columns": null,
      "grid_auto_flow": null,
      "grid_auto_rows": null,
      "grid_column": null,
      "grid_gap": null,
      "grid_row": null,
      "grid_template_areas": null,
      "grid_template_columns": null,
      "grid_template_rows": null,
      "height": null,
      "justify_content": null,
      "justify_items": null,
      "left": null,
      "margin": null,
      "max_height": null,
      "max_width": null,
      "min_height": null,
      "min_width": null,
      "object_fit": null,
      "object_position": null,
      "order": null,
      "overflow": null,
      "overflow_x": null,
      "overflow_y": null,
      "padding": null,
      "right": null,
      "top": null,
      "visibility": null,
      "width": null
     }
    },
    "aa25d111370b4541b9501e809b97860b": {
     "model_module": "@jupyter-widgets/base",
     "model_module_version": "1.2.0",
     "model_name": "LayoutModel",
     "state": {
      "_model_module": "@jupyter-widgets/base",
      "_model_module_version": "1.2.0",
      "_model_name": "LayoutModel",
      "_view_count": null,
      "_view_module": "@jupyter-widgets/base",
      "_view_module_version": "1.2.0",
      "_view_name": "LayoutView",
      "align_content": null,
      "align_items": null,
      "align_self": null,
      "border": null,
      "bottom": null,
      "display": null,
      "flex": null,
      "flex_flow": null,
      "grid_area": null,
      "grid_auto_columns": null,
      "grid_auto_flow": null,
      "grid_auto_rows": null,
      "grid_column": null,
      "grid_gap": null,
      "grid_row": null,
      "grid_template_areas": null,
      "grid_template_columns": null,
      "grid_template_rows": null,
      "height": null,
      "justify_content": null,
      "justify_items": null,
      "left": null,
      "margin": null,
      "max_height": null,
      "max_width": null,
      "min_height": null,
      "min_width": null,
      "object_fit": null,
      "object_position": null,
      "order": null,
      "overflow": null,
      "overflow_x": null,
      "overflow_y": null,
      "padding": null,
      "right": null,
      "top": null,
      "visibility": null,
      "width": null
     }
    },
    "ab7f75fc2ee6453d9c54b7abed2dc769": {
     "model_module": "@jupyter-widgets/base",
     "model_module_version": "1.2.0",
     "model_name": "LayoutModel",
     "state": {
      "_model_module": "@jupyter-widgets/base",
      "_model_module_version": "1.2.0",
      "_model_name": "LayoutModel",
      "_view_count": null,
      "_view_module": "@jupyter-widgets/base",
      "_view_module_version": "1.2.0",
      "_view_name": "LayoutView",
      "align_content": null,
      "align_items": null,
      "align_self": null,
      "border": null,
      "bottom": null,
      "display": null,
      "flex": null,
      "flex_flow": null,
      "grid_area": null,
      "grid_auto_columns": null,
      "grid_auto_flow": null,
      "grid_auto_rows": null,
      "grid_column": null,
      "grid_gap": null,
      "grid_row": null,
      "grid_template_areas": null,
      "grid_template_columns": null,
      "grid_template_rows": null,
      "height": null,
      "justify_content": null,
      "justify_items": null,
      "left": null,
      "margin": null,
      "max_height": null,
      "max_width": null,
      "min_height": null,
      "min_width": null,
      "object_fit": null,
      "object_position": null,
      "order": null,
      "overflow": null,
      "overflow_x": null,
      "overflow_y": null,
      "padding": null,
      "right": null,
      "top": null,
      "visibility": null,
      "width": null
     }
    },
    "b61696b28f564eceb7d2a9ac00cda080": {
     "model_module": "@jupyter-widgets/base",
     "model_module_version": "1.2.0",
     "model_name": "LayoutModel",
     "state": {
      "_model_module": "@jupyter-widgets/base",
      "_model_module_version": "1.2.0",
      "_model_name": "LayoutModel",
      "_view_count": null,
      "_view_module": "@jupyter-widgets/base",
      "_view_module_version": "1.2.0",
      "_view_name": "LayoutView",
      "align_content": null,
      "align_items": null,
      "align_self": null,
      "border": null,
      "bottom": null,
      "display": null,
      "flex": null,
      "flex_flow": null,
      "grid_area": null,
      "grid_auto_columns": null,
      "grid_auto_flow": null,
      "grid_auto_rows": null,
      "grid_column": null,
      "grid_gap": null,
      "grid_row": null,
      "grid_template_areas": null,
      "grid_template_columns": null,
      "grid_template_rows": null,
      "height": null,
      "justify_content": null,
      "justify_items": null,
      "left": null,
      "margin": null,
      "max_height": null,
      "max_width": null,
      "min_height": null,
      "min_width": null,
      "object_fit": null,
      "object_position": null,
      "order": null,
      "overflow": null,
      "overflow_x": null,
      "overflow_y": null,
      "padding": null,
      "right": null,
      "top": null,
      "visibility": null,
      "width": null
     }
    },
    "ba2cf5c4c8b84e44aab8148340903d77": {
     "model_module": "@jupyter-widgets/controls",
     "model_module_version": "1.5.0",
     "model_name": "HTMLModel",
     "state": {
      "_dom_classes": [],
      "_model_module": "@jupyter-widgets/controls",
      "_model_module_version": "1.5.0",
      "_model_name": "HTMLModel",
      "_view_count": null,
      "_view_module": "@jupyter-widgets/controls",
      "_view_module_version": "1.5.0",
      "_view_name": "HTMLView",
      "description": "",
      "description_tooltip": null,
      "layout": "IPY_MODEL_e7591997513d4eb58cff4c766e0a3696",
      "placeholder": "​",
      "style": "IPY_MODEL_2e9b04828a004377a4fce90e5a33b1ae",
      "value": "Downloading: 100%"
     }
    },
    "bc3a4b6bd4174d97ac04959ea380fe73": {
     "model_module": "@jupyter-widgets/controls",
     "model_module_version": "1.5.0",
     "model_name": "HBoxModel",
     "state": {
      "_dom_classes": [],
      "_model_module": "@jupyter-widgets/controls",
      "_model_module_version": "1.5.0",
      "_model_name": "HBoxModel",
      "_view_count": null,
      "_view_module": "@jupyter-widgets/controls",
      "_view_module_version": "1.5.0",
      "_view_name": "HBoxView",
      "box_style": "",
      "children": [
       "IPY_MODEL_9158df3d61f24f54a997d857095a932b",
       "IPY_MODEL_1599bd38199d4807a71b83e28f30fc15",
       "IPY_MODEL_75fbd495f02f4696beca61d1dd52574b"
      ],
      "layout": "IPY_MODEL_2cc717ed724e47cead95fcf93c2b4229"
     }
    },
    "c0cdd8d92b2e4ac18ab3ab5fbe6ce031": {
     "model_module": "@jupyter-widgets/controls",
     "model_module_version": "1.5.0",
     "model_name": "ProgressStyleModel",
     "state": {
      "_model_module": "@jupyter-widgets/controls",
      "_model_module_version": "1.5.0",
      "_model_name": "ProgressStyleModel",
      "_view_count": null,
      "_view_module": "@jupyter-widgets/base",
      "_view_module_version": "1.2.0",
      "_view_name": "StyleView",
      "bar_color": null,
      "description_width": ""
     }
    },
    "c48c3e57deff44d7a313b5bc5fac5aad": {
     "model_module": "@jupyter-widgets/controls",
     "model_module_version": "1.5.0",
     "model_name": "FloatProgressModel",
     "state": {
      "_dom_classes": [],
      "_model_module": "@jupyter-widgets/controls",
      "_model_module_version": "1.5.0",
      "_model_name": "FloatProgressModel",
      "_view_count": null,
      "_view_module": "@jupyter-widgets/controls",
      "_view_module_version": "1.5.0",
      "_view_name": "ProgressView",
      "bar_style": "success",
      "description": "",
      "description_tooltip": null,
      "layout": "IPY_MODEL_b61696b28f564eceb7d2a9ac00cda080",
      "max": 641,
      "min": 0,
      "orientation": "horizontal",
      "style": "IPY_MODEL_30ce330a1ce04472bdf7119950115ace",
      "value": 641
     }
    },
    "cd908958b38e43a19e720ffe37c34685": {
     "model_module": "@jupyter-widgets/controls",
     "model_module_version": "1.5.0",
     "model_name": "HTMLModel",
     "state": {
      "_dom_classes": [],
      "_model_module": "@jupyter-widgets/controls",
      "_model_module_version": "1.5.0",
      "_model_name": "HTMLModel",
      "_view_count": null,
      "_view_module": "@jupyter-widgets/controls",
      "_view_module_version": "1.5.0",
      "_view_name": "HTMLView",
      "description": "",
      "description_tooltip": null,
      "layout": "IPY_MODEL_24794750c22f40d6b24328e805f18ec1",
      "placeholder": "​",
      "style": "IPY_MODEL_4551fb10d2f9499491ea93c6a248654f",
      "value": "Downloading: 100%"
     }
    },
    "cfd38490e7674cbd9198172e4e58bb94": {
     "model_module": "@jupyter-widgets/controls",
     "model_module_version": "1.5.0",
     "model_name": "HTMLModel",
     "state": {
      "_dom_classes": [],
      "_model_module": "@jupyter-widgets/controls",
      "_model_module_version": "1.5.0",
      "_model_name": "HTMLModel",
      "_view_count": null,
      "_view_module": "@jupyter-widgets/controls",
      "_view_module_version": "1.5.0",
      "_view_name": "HTMLView",
      "description": "",
      "description_tooltip": null,
      "layout": "IPY_MODEL_6b58e1ab8abe45b4ab4e5ae7bf3f53c7",
      "placeholder": "​",
      "style": "IPY_MODEL_ee734aac2cbc42628677f41a49f93b5b",
      "value": " 446k/446k [00:00&lt;00:00, 1.28MB/s]"
     }
    },
    "d0e462ea3c484e158a7e18113dbd462b": {
     "model_module": "@jupyter-widgets/controls",
     "model_module_version": "1.5.0",
     "model_name": "DescriptionStyleModel",
     "state": {
      "_model_module": "@jupyter-widgets/controls",
      "_model_module_version": "1.5.0",
      "_model_name": "DescriptionStyleModel",
      "_view_count": null,
      "_view_module": "@jupyter-widgets/base",
      "_view_module_version": "1.2.0",
      "_view_name": "StyleView",
      "description_width": ""
     }
    },
    "d0ee06f2cce64557949c938a37a20bd3": {
     "model_module": "@jupyter-widgets/controls",
     "model_module_version": "1.5.0",
     "model_name": "HBoxModel",
     "state": {
      "_dom_classes": [],
      "_model_module": "@jupyter-widgets/controls",
      "_model_module_version": "1.5.0",
      "_model_name": "HBoxModel",
      "_view_count": null,
      "_view_module": "@jupyter-widgets/controls",
      "_view_module_version": "1.5.0",
      "_view_name": "HBoxView",
      "box_style": "",
      "children": [
       "IPY_MODEL_8cfc2ce95a9842e0bf3bb27953c79bbd",
       "IPY_MODEL_4245f28c6fce495b8ef13080ea23d9c9",
       "IPY_MODEL_2a8ae4ed66c048a29f4df104a2c86f83"
      ],
      "layout": "IPY_MODEL_4bb96dbd5844472fab1716a6534e2e19"
     }
    },
    "d6aefe5968a74720b11f308bda7d36cd": {
     "model_module": "@jupyter-widgets/controls",
     "model_module_version": "1.5.0",
     "model_name": "HBoxModel",
     "state": {
      "_dom_classes": [],
      "_model_module": "@jupyter-widgets/controls",
      "_model_module_version": "1.5.0",
      "_model_name": "HBoxModel",
      "_view_count": null,
      "_view_module": "@jupyter-widgets/controls",
      "_view_module_version": "1.5.0",
      "_view_name": "HBoxView",
      "box_style": "",
      "children": [
       "IPY_MODEL_ba2cf5c4c8b84e44aab8148340903d77",
       "IPY_MODEL_c48c3e57deff44d7a313b5bc5fac5aad",
       "IPY_MODEL_7672a91d6122405f8df7af446d869398"
      ],
      "layout": "IPY_MODEL_23f98830cf79462c912fbf3a34ea18c9"
     }
    },
    "deca4eae1dc74539a264654da0efd7b0": {
     "model_module": "@jupyter-widgets/controls",
     "model_module_version": "1.5.0",
     "model_name": "DescriptionStyleModel",
     "state": {
      "_model_module": "@jupyter-widgets/controls",
      "_model_module_version": "1.5.0",
      "_model_name": "DescriptionStyleModel",
      "_view_count": null,
      "_view_module": "@jupyter-widgets/base",
      "_view_module_version": "1.2.0",
      "_view_name": "StyleView",
      "description_width": ""
     }
    },
    "e3b48d9d2ea141e490d21a1f9475d3cf": {
     "model_module": "@jupyter-widgets/controls",
     "model_module_version": "1.5.0",
     "model_name": "ProgressStyleModel",
     "state": {
      "_model_module": "@jupyter-widgets/controls",
      "_model_module_version": "1.5.0",
      "_model_name": "ProgressStyleModel",
      "_view_count": null,
      "_view_module": "@jupyter-widgets/base",
      "_view_module_version": "1.2.0",
      "_view_name": "StyleView",
      "bar_color": null,
      "description_width": ""
     }
    },
    "e597bd8f7a4e4da88b9b8231877ec7d8": {
     "model_module": "@jupyter-widgets/controls",
     "model_module_version": "1.5.0",
     "model_name": "DescriptionStyleModel",
     "state": {
      "_model_module": "@jupyter-widgets/controls",
      "_model_module_version": "1.5.0",
      "_model_name": "DescriptionStyleModel",
      "_view_count": null,
      "_view_module": "@jupyter-widgets/base",
      "_view_module_version": "1.2.0",
      "_view_name": "StyleView",
      "description_width": ""
     }
    },
    "e5b4e157d1d547ab9759dce9407e8d06": {
     "model_module": "@jupyter-widgets/controls",
     "model_module_version": "1.5.0",
     "model_name": "FloatProgressModel",
     "state": {
      "_dom_classes": [],
      "_model_module": "@jupyter-widgets/controls",
      "_model_module_version": "1.5.0",
      "_model_name": "FloatProgressModel",
      "_view_count": null,
      "_view_module": "@jupyter-widgets/controls",
      "_view_module_version": "1.5.0",
      "_view_name": "ProgressView",
      "bar_style": "success",
      "description": "",
      "description_tooltip": null,
      "layout": "IPY_MODEL_a6b8ef7e83d24f1c9b0de5acbec87803",
      "max": 351265583,
      "min": 0,
      "orientation": "horizontal",
      "style": "IPY_MODEL_6285a4fe49474766bd89e641c2645b35",
      "value": 351265583
     }
    },
    "e7591997513d4eb58cff4c766e0a3696": {
     "model_module": "@jupyter-widgets/base",
     "model_module_version": "1.2.0",
     "model_name": "LayoutModel",
     "state": {
      "_model_module": "@jupyter-widgets/base",
      "_model_module_version": "1.2.0",
      "_model_name": "LayoutModel",
      "_view_count": null,
      "_view_module": "@jupyter-widgets/base",
      "_view_module_version": "1.2.0",
      "_view_name": "LayoutView",
      "align_content": null,
      "align_items": null,
      "align_self": null,
      "border": null,
      "bottom": null,
      "display": null,
      "flex": null,
      "flex_flow": null,
      "grid_area": null,
      "grid_auto_columns": null,
      "grid_auto_flow": null,
      "grid_auto_rows": null,
      "grid_column": null,
      "grid_gap": null,
      "grid_row": null,
      "grid_template_areas": null,
      "grid_template_columns": null,
      "grid_template_rows": null,
      "height": null,
      "justify_content": null,
      "justify_items": null,
      "left": null,
      "margin": null,
      "max_height": null,
      "max_width": null,
      "min_height": null,
      "min_width": null,
      "object_fit": null,
      "object_position": null,
      "order": null,
      "overflow": null,
      "overflow_x": null,
      "overflow_y": null,
      "padding": null,
      "right": null,
      "top": null,
      "visibility": null,
      "width": null
     }
    },
    "ee1bc9cbb4324fb4a835bb502ff39c58": {
     "model_module": "@jupyter-widgets/controls",
     "model_module_version": "1.5.0",
     "model_name": "DescriptionStyleModel",
     "state": {
      "_model_module": "@jupyter-widgets/controls",
      "_model_module_version": "1.5.0",
      "_model_name": "DescriptionStyleModel",
      "_view_count": null,
      "_view_module": "@jupyter-widgets/base",
      "_view_module_version": "1.2.0",
      "_view_name": "StyleView",
      "description_width": ""
     }
    },
    "ee734aac2cbc42628677f41a49f93b5b": {
     "model_module": "@jupyter-widgets/controls",
     "model_module_version": "1.5.0",
     "model_name": "DescriptionStyleModel",
     "state": {
      "_model_module": "@jupyter-widgets/controls",
      "_model_module_version": "1.5.0",
      "_model_name": "DescriptionStyleModel",
      "_view_count": null,
      "_view_module": "@jupyter-widgets/base",
      "_view_module_version": "1.2.0",
      "_view_name": "StyleView",
      "description_width": ""
     }
    },
    "f9049ec5f08d48d594c6451ae3ac7445": {
     "model_module": "@jupyter-widgets/controls",
     "model_module_version": "1.5.0",
     "model_name": "HTMLModel",
     "state": {
      "_dom_classes": [],
      "_model_module": "@jupyter-widgets/controls",
      "_model_module_version": "1.5.0",
      "_model_name": "HTMLModel",
      "_view_count": null,
      "_view_module": "@jupyter-widgets/controls",
      "_view_module_version": "1.5.0",
      "_view_name": "HTMLView",
      "description": "",
      "description_tooltip": null,
      "layout": "IPY_MODEL_8bf79e03c55e444c8abf2dfa746617aa",
      "placeholder": "​",
      "style": "IPY_MODEL_8cba34d90b2c42fcbce5462bf87eb55d",
      "value": "Downloading: 100%"
     }
    },
    "fe75ce3a70554f68892e79506d24d188": {
     "model_module": "@jupyter-widgets/controls",
     "model_module_version": "1.5.0",
     "model_name": "HTMLModel",
     "state": {
      "_dom_classes": [],
      "_model_module": "@jupyter-widgets/controls",
      "_model_module_version": "1.5.0",
      "_model_name": "HTMLModel",
      "_view_count": null,
      "_view_module": "@jupyter-widgets/controls",
      "_view_module_version": "1.5.0",
      "_view_name": "HTMLView",
      "description": "",
      "description_tooltip": null,
      "layout": "IPY_MODEL_19d87d21d00340a2a5584301673aaac0",
      "placeholder": "​",
      "style": "IPY_MODEL_12872f9f879d4210a0fa370c91f31fcf",
      "value": " 335M/335M [00:12&lt;00:00, 29.7MB/s]"
     }
    }
   }
  }
 },
 "nbformat": 4,
 "nbformat_minor": 4
}
