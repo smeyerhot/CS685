{
  "nbformat": 4,
  "nbformat_minor": 0,
  "metadata": {
    "orig_nbformat": 2,
    "colab": {
      "name": "decoder_only.ipynb",
      "provenance": [],
      "collapsed_sections": []
    },
    "language_info": {
      "name": "python"
    },
    "kernelspec": {
      "name": "python3",
      "display_name": "Python 3"
    },
    "widgets": {
      "application/vnd.jupyter.widget-state+json": {
        "b6d174247d4342b59d7227a8d6b4c334": {
          "model_module": "@jupyter-widgets/controls",
          "model_name": "HBoxModel",
          "model_module_version": "1.5.0",
          "state": {
            "_view_name": "HBoxView",
            "_dom_classes": [],
            "_model_name": "HBoxModel",
            "_view_module": "@jupyter-widgets/controls",
            "_model_module_version": "1.5.0",
            "_view_count": null,
            "_view_module_version": "1.5.0",
            "box_style": "",
            "layout": "IPY_MODEL_e5d4d3d57daa4b2581b1c7b466574ca5",
            "_model_module": "@jupyter-widgets/controls",
            "children": [
              "IPY_MODEL_bddc2a362a884967a346e3ae0a1f2f9b",
              "IPY_MODEL_b71e4f9b3b194dd9b7049c90096104e8",
              "IPY_MODEL_139c9adab38f4826aba7a34c5241691d"
            ]
          }
        },
        "e5d4d3d57daa4b2581b1c7b466574ca5": {
          "model_module": "@jupyter-widgets/base",
          "model_name": "LayoutModel",
          "model_module_version": "1.2.0",
          "state": {
            "_view_name": "LayoutView",
            "grid_template_rows": null,
            "right": null,
            "justify_content": null,
            "_view_module": "@jupyter-widgets/base",
            "overflow": null,
            "_model_module_version": "1.2.0",
            "_view_count": null,
            "flex_flow": null,
            "width": null,
            "min_width": null,
            "border": null,
            "align_items": null,
            "bottom": null,
            "_model_module": "@jupyter-widgets/base",
            "top": null,
            "grid_column": null,
            "overflow_y": null,
            "overflow_x": null,
            "grid_auto_flow": null,
            "grid_area": null,
            "grid_template_columns": null,
            "flex": null,
            "_model_name": "LayoutModel",
            "justify_items": null,
            "grid_row": null,
            "max_height": null,
            "align_content": null,
            "visibility": null,
            "align_self": null,
            "height": null,
            "min_height": null,
            "padding": null,
            "grid_auto_rows": null,
            "grid_gap": null,
            "max_width": null,
            "order": null,
            "_view_module_version": "1.2.0",
            "grid_template_areas": null,
            "object_position": null,
            "object_fit": null,
            "grid_auto_columns": null,
            "margin": null,
            "display": null,
            "left": null
          }
        },
        "bddc2a362a884967a346e3ae0a1f2f9b": {
          "model_module": "@jupyter-widgets/controls",
          "model_name": "HTMLModel",
          "model_module_version": "1.5.0",
          "state": {
            "_view_name": "HTMLView",
            "style": "IPY_MODEL_e6bd7663b0f24aeeb8ec2ad79adf4363",
            "_dom_classes": [],
            "description": "",
            "_model_name": "HTMLModel",
            "placeholder": "​",
            "_view_module": "@jupyter-widgets/controls",
            "_model_module_version": "1.5.0",
            "value": "Downloading: ",
            "_view_count": null,
            "_view_module_version": "1.5.0",
            "description_tooltip": null,
            "_model_module": "@jupyter-widgets/controls",
            "layout": "IPY_MODEL_87896543e319434e82ebbf72f98d31ce"
          }
        },
        "b71e4f9b3b194dd9b7049c90096104e8": {
          "model_module": "@jupyter-widgets/controls",
          "model_name": "FloatProgressModel",
          "model_module_version": "1.5.0",
          "state": {
            "_view_name": "ProgressView",
            "style": "IPY_MODEL_f90dfa64241248269279598a07e1533f",
            "_dom_classes": [],
            "description": "",
            "_model_name": "FloatProgressModel",
            "bar_style": "success",
            "max": 3489,
            "_view_module": "@jupyter-widgets/controls",
            "_model_module_version": "1.5.0",
            "value": 3489,
            "_view_count": null,
            "_view_module_version": "1.5.0",
            "orientation": "horizontal",
            "min": 0,
            "description_tooltip": null,
            "_model_module": "@jupyter-widgets/controls",
            "layout": "IPY_MODEL_b9d4f3ffe93848f684b4e2aba581bfc5"
          }
        },
        "139c9adab38f4826aba7a34c5241691d": {
          "model_module": "@jupyter-widgets/controls",
          "model_name": "HTMLModel",
          "model_module_version": "1.5.0",
          "state": {
            "_view_name": "HTMLView",
            "style": "IPY_MODEL_3e64a89d362846e082f804f9e8baf8b2",
            "_dom_classes": [],
            "description": "",
            "_model_name": "HTMLModel",
            "placeholder": "​",
            "_view_module": "@jupyter-widgets/controls",
            "_model_module_version": "1.5.0",
            "value": " 12.2k/? [00:00&lt;00:00, 237kB/s]",
            "_view_count": null,
            "_view_module_version": "1.5.0",
            "description_tooltip": null,
            "_model_module": "@jupyter-widgets/controls",
            "layout": "IPY_MODEL_141044209f7a4e8c9f54873a9a1770f6"
          }
        },
        "e6bd7663b0f24aeeb8ec2ad79adf4363": {
          "model_module": "@jupyter-widgets/controls",
          "model_name": "DescriptionStyleModel",
          "model_module_version": "1.5.0",
          "state": {
            "_view_name": "StyleView",
            "_model_name": "DescriptionStyleModel",
            "description_width": "",
            "_view_module": "@jupyter-widgets/base",
            "_model_module_version": "1.5.0",
            "_view_count": null,
            "_view_module_version": "1.2.0",
            "_model_module": "@jupyter-widgets/controls"
          }
        },
        "87896543e319434e82ebbf72f98d31ce": {
          "model_module": "@jupyter-widgets/base",
          "model_name": "LayoutModel",
          "model_module_version": "1.2.0",
          "state": {
            "_view_name": "LayoutView",
            "grid_template_rows": null,
            "right": null,
            "justify_content": null,
            "_view_module": "@jupyter-widgets/base",
            "overflow": null,
            "_model_module_version": "1.2.0",
            "_view_count": null,
            "flex_flow": null,
            "width": null,
            "min_width": null,
            "border": null,
            "align_items": null,
            "bottom": null,
            "_model_module": "@jupyter-widgets/base",
            "top": null,
            "grid_column": null,
            "overflow_y": null,
            "overflow_x": null,
            "grid_auto_flow": null,
            "grid_area": null,
            "grid_template_columns": null,
            "flex": null,
            "_model_name": "LayoutModel",
            "justify_items": null,
            "grid_row": null,
            "max_height": null,
            "align_content": null,
            "visibility": null,
            "align_self": null,
            "height": null,
            "min_height": null,
            "padding": null,
            "grid_auto_rows": null,
            "grid_gap": null,
            "max_width": null,
            "order": null,
            "_view_module_version": "1.2.0",
            "grid_template_areas": null,
            "object_position": null,
            "object_fit": null,
            "grid_auto_columns": null,
            "margin": null,
            "display": null,
            "left": null
          }
        },
        "f90dfa64241248269279598a07e1533f": {
          "model_module": "@jupyter-widgets/controls",
          "model_name": "ProgressStyleModel",
          "model_module_version": "1.5.0",
          "state": {
            "_view_name": "StyleView",
            "_model_name": "ProgressStyleModel",
            "description_width": "",
            "_view_module": "@jupyter-widgets/base",
            "_model_module_version": "1.5.0",
            "_view_count": null,
            "_view_module_version": "1.2.0",
            "bar_color": null,
            "_model_module": "@jupyter-widgets/controls"
          }
        },
        "b9d4f3ffe93848f684b4e2aba581bfc5": {
          "model_module": "@jupyter-widgets/base",
          "model_name": "LayoutModel",
          "model_module_version": "1.2.0",
          "state": {
            "_view_name": "LayoutView",
            "grid_template_rows": null,
            "right": null,
            "justify_content": null,
            "_view_module": "@jupyter-widgets/base",
            "overflow": null,
            "_model_module_version": "1.2.0",
            "_view_count": null,
            "flex_flow": null,
            "width": null,
            "min_width": null,
            "border": null,
            "align_items": null,
            "bottom": null,
            "_model_module": "@jupyter-widgets/base",
            "top": null,
            "grid_column": null,
            "overflow_y": null,
            "overflow_x": null,
            "grid_auto_flow": null,
            "grid_area": null,
            "grid_template_columns": null,
            "flex": null,
            "_model_name": "LayoutModel",
            "justify_items": null,
            "grid_row": null,
            "max_height": null,
            "align_content": null,
            "visibility": null,
            "align_self": null,
            "height": null,
            "min_height": null,
            "padding": null,
            "grid_auto_rows": null,
            "grid_gap": null,
            "max_width": null,
            "order": null,
            "_view_module_version": "1.2.0",
            "grid_template_areas": null,
            "object_position": null,
            "object_fit": null,
            "grid_auto_columns": null,
            "margin": null,
            "display": null,
            "left": null
          }
        },
        "3e64a89d362846e082f804f9e8baf8b2": {
          "model_module": "@jupyter-widgets/controls",
          "model_name": "DescriptionStyleModel",
          "model_module_version": "1.5.0",
          "state": {
            "_view_name": "StyleView",
            "_model_name": "DescriptionStyleModel",
            "description_width": "",
            "_view_module": "@jupyter-widgets/base",
            "_model_module_version": "1.5.0",
            "_view_count": null,
            "_view_module_version": "1.2.0",
            "_model_module": "@jupyter-widgets/controls"
          }
        },
        "141044209f7a4e8c9f54873a9a1770f6": {
          "model_module": "@jupyter-widgets/base",
          "model_name": "LayoutModel",
          "model_module_version": "1.2.0",
          "state": {
            "_view_name": "LayoutView",
            "grid_template_rows": null,
            "right": null,
            "justify_content": null,
            "_view_module": "@jupyter-widgets/base",
            "overflow": null,
            "_model_module_version": "1.2.0",
            "_view_count": null,
            "flex_flow": null,
            "width": null,
            "min_width": null,
            "border": null,
            "align_items": null,
            "bottom": null,
            "_model_module": "@jupyter-widgets/base",
            "top": null,
            "grid_column": null,
            "overflow_y": null,
            "overflow_x": null,
            "grid_auto_flow": null,
            "grid_area": null,
            "grid_template_columns": null,
            "flex": null,
            "_model_name": "LayoutModel",
            "justify_items": null,
            "grid_row": null,
            "max_height": null,
            "align_content": null,
            "visibility": null,
            "align_self": null,
            "height": null,
            "min_height": null,
            "padding": null,
            "grid_auto_rows": null,
            "grid_gap": null,
            "max_width": null,
            "order": null,
            "_view_module_version": "1.2.0",
            "grid_template_areas": null,
            "object_position": null,
            "object_fit": null,
            "grid_auto_columns": null,
            "margin": null,
            "display": null,
            "left": null
          }
        },
        "86e85f56639440f193ba89d8270f2a4b": {
          "model_module": "@jupyter-widgets/controls",
          "model_name": "HBoxModel",
          "model_module_version": "1.5.0",
          "state": {
            "_view_name": "HBoxView",
            "_dom_classes": [],
            "_model_name": "HBoxModel",
            "_view_module": "@jupyter-widgets/controls",
            "_model_module_version": "1.5.0",
            "_view_count": null,
            "_view_module_version": "1.5.0",
            "box_style": "",
            "layout": "IPY_MODEL_066c5c57ab5c4a3788d0f56f366f15a1",
            "_model_module": "@jupyter-widgets/controls",
            "children": [
              "IPY_MODEL_d5e6e11e6c804097b8edbb2be59b4484",
              "IPY_MODEL_b296e4e4844d4139b014b157f0801ecc",
              "IPY_MODEL_c68015e6d1da4a459cf3911fbdf4d807"
            ]
          }
        },
        "066c5c57ab5c4a3788d0f56f366f15a1": {
          "model_module": "@jupyter-widgets/base",
          "model_name": "LayoutModel",
          "model_module_version": "1.2.0",
          "state": {
            "_view_name": "LayoutView",
            "grid_template_rows": null,
            "right": null,
            "justify_content": null,
            "_view_module": "@jupyter-widgets/base",
            "overflow": null,
            "_model_module_version": "1.2.0",
            "_view_count": null,
            "flex_flow": null,
            "width": null,
            "min_width": null,
            "border": null,
            "align_items": null,
            "bottom": null,
            "_model_module": "@jupyter-widgets/base",
            "top": null,
            "grid_column": null,
            "overflow_y": null,
            "overflow_x": null,
            "grid_auto_flow": null,
            "grid_area": null,
            "grid_template_columns": null,
            "flex": null,
            "_model_name": "LayoutModel",
            "justify_items": null,
            "grid_row": null,
            "max_height": null,
            "align_content": null,
            "visibility": null,
            "align_self": null,
            "height": null,
            "min_height": null,
            "padding": null,
            "grid_auto_rows": null,
            "grid_gap": null,
            "max_width": null,
            "order": null,
            "_view_module_version": "1.2.0",
            "grid_template_areas": null,
            "object_position": null,
            "object_fit": null,
            "grid_auto_columns": null,
            "margin": null,
            "display": null,
            "left": null
          }
        },
        "d5e6e11e6c804097b8edbb2be59b4484": {
          "model_module": "@jupyter-widgets/controls",
          "model_name": "HTMLModel",
          "model_module_version": "1.5.0",
          "state": {
            "_view_name": "HTMLView",
            "style": "IPY_MODEL_a4a5930ae80a49a9b3d77827f2e0ac13",
            "_dom_classes": [],
            "description": "",
            "_model_name": "HTMLModel",
            "placeholder": "​",
            "_view_module": "@jupyter-widgets/controls",
            "_model_module_version": "1.5.0",
            "value": "Downloading: ",
            "_view_count": null,
            "_view_module_version": "1.5.0",
            "description_tooltip": null,
            "_model_module": "@jupyter-widgets/controls",
            "layout": "IPY_MODEL_650cdb6b7afc4a929bcfa90b79a34bd2"
          }
        },
        "b296e4e4844d4139b014b157f0801ecc": {
          "model_module": "@jupyter-widgets/controls",
          "model_name": "FloatProgressModel",
          "model_module_version": "1.5.0",
          "state": {
            "_view_name": "ProgressView",
            "style": "IPY_MODEL_02300393144d439588cfca11341510f2",
            "_dom_classes": [],
            "description": "",
            "_model_name": "FloatProgressModel",
            "bar_style": "success",
            "max": 805,
            "_view_module": "@jupyter-widgets/controls",
            "_model_module_version": "1.5.0",
            "value": 805,
            "_view_count": null,
            "_view_module_version": "1.5.0",
            "orientation": "horizontal",
            "min": 0,
            "description_tooltip": null,
            "_model_module": "@jupyter-widgets/controls",
            "layout": "IPY_MODEL_ee246fe0d7bd498caa2392e74759d47c"
          }
        },
        "c68015e6d1da4a459cf3911fbdf4d807": {
          "model_module": "@jupyter-widgets/controls",
          "model_name": "HTMLModel",
          "model_module_version": "1.5.0",
          "state": {
            "_view_name": "HTMLView",
            "style": "IPY_MODEL_ed268e7b78724f788c9fc7b2736638ce",
            "_dom_classes": [],
            "description": "",
            "_model_name": "HTMLModel",
            "placeholder": "​",
            "_view_module": "@jupyter-widgets/controls",
            "_model_module_version": "1.5.0",
            "value": " 3.12k/? [00:00&lt;00:00, 78.6kB/s]",
            "_view_count": null,
            "_view_module_version": "1.5.0",
            "description_tooltip": null,
            "_model_module": "@jupyter-widgets/controls",
            "layout": "IPY_MODEL_b3911bef44694e98999eed554179ff39"
          }
        },
        "a4a5930ae80a49a9b3d77827f2e0ac13": {
          "model_module": "@jupyter-widgets/controls",
          "model_name": "DescriptionStyleModel",
          "model_module_version": "1.5.0",
          "state": {
            "_view_name": "StyleView",
            "_model_name": "DescriptionStyleModel",
            "description_width": "",
            "_view_module": "@jupyter-widgets/base",
            "_model_module_version": "1.5.0",
            "_view_count": null,
            "_view_module_version": "1.2.0",
            "_model_module": "@jupyter-widgets/controls"
          }
        },
        "650cdb6b7afc4a929bcfa90b79a34bd2": {
          "model_module": "@jupyter-widgets/base",
          "model_name": "LayoutModel",
          "model_module_version": "1.2.0",
          "state": {
            "_view_name": "LayoutView",
            "grid_template_rows": null,
            "right": null,
            "justify_content": null,
            "_view_module": "@jupyter-widgets/base",
            "overflow": null,
            "_model_module_version": "1.2.0",
            "_view_count": null,
            "flex_flow": null,
            "width": null,
            "min_width": null,
            "border": null,
            "align_items": null,
            "bottom": null,
            "_model_module": "@jupyter-widgets/base",
            "top": null,
            "grid_column": null,
            "overflow_y": null,
            "overflow_x": null,
            "grid_auto_flow": null,
            "grid_area": null,
            "grid_template_columns": null,
            "flex": null,
            "_model_name": "LayoutModel",
            "justify_items": null,
            "grid_row": null,
            "max_height": null,
            "align_content": null,
            "visibility": null,
            "align_self": null,
            "height": null,
            "min_height": null,
            "padding": null,
            "grid_auto_rows": null,
            "grid_gap": null,
            "max_width": null,
            "order": null,
            "_view_module_version": "1.2.0",
            "grid_template_areas": null,
            "object_position": null,
            "object_fit": null,
            "grid_auto_columns": null,
            "margin": null,
            "display": null,
            "left": null
          }
        },
        "02300393144d439588cfca11341510f2": {
          "model_module": "@jupyter-widgets/controls",
          "model_name": "ProgressStyleModel",
          "model_module_version": "1.5.0",
          "state": {
            "_view_name": "StyleView",
            "_model_name": "ProgressStyleModel",
            "description_width": "",
            "_view_module": "@jupyter-widgets/base",
            "_model_module_version": "1.5.0",
            "_view_count": null,
            "_view_module_version": "1.2.0",
            "bar_color": null,
            "_model_module": "@jupyter-widgets/controls"
          }
        },
        "ee246fe0d7bd498caa2392e74759d47c": {
          "model_module": "@jupyter-widgets/base",
          "model_name": "LayoutModel",
          "model_module_version": "1.2.0",
          "state": {
            "_view_name": "LayoutView",
            "grid_template_rows": null,
            "right": null,
            "justify_content": null,
            "_view_module": "@jupyter-widgets/base",
            "overflow": null,
            "_model_module_version": "1.2.0",
            "_view_count": null,
            "flex_flow": null,
            "width": null,
            "min_width": null,
            "border": null,
            "align_items": null,
            "bottom": null,
            "_model_module": "@jupyter-widgets/base",
            "top": null,
            "grid_column": null,
            "overflow_y": null,
            "overflow_x": null,
            "grid_auto_flow": null,
            "grid_area": null,
            "grid_template_columns": null,
            "flex": null,
            "_model_name": "LayoutModel",
            "justify_items": null,
            "grid_row": null,
            "max_height": null,
            "align_content": null,
            "visibility": null,
            "align_self": null,
            "height": null,
            "min_height": null,
            "padding": null,
            "grid_auto_rows": null,
            "grid_gap": null,
            "max_width": null,
            "order": null,
            "_view_module_version": "1.2.0",
            "grid_template_areas": null,
            "object_position": null,
            "object_fit": null,
            "grid_auto_columns": null,
            "margin": null,
            "display": null,
            "left": null
          }
        },
        "ed268e7b78724f788c9fc7b2736638ce": {
          "model_module": "@jupyter-widgets/controls",
          "model_name": "DescriptionStyleModel",
          "model_module_version": "1.5.0",
          "state": {
            "_view_name": "StyleView",
            "_model_name": "DescriptionStyleModel",
            "description_width": "",
            "_view_module": "@jupyter-widgets/base",
            "_model_module_version": "1.5.0",
            "_view_count": null,
            "_view_module_version": "1.2.0",
            "_model_module": "@jupyter-widgets/controls"
          }
        },
        "b3911bef44694e98999eed554179ff39": {
          "model_module": "@jupyter-widgets/base",
          "model_name": "LayoutModel",
          "model_module_version": "1.2.0",
          "state": {
            "_view_name": "LayoutView",
            "grid_template_rows": null,
            "right": null,
            "justify_content": null,
            "_view_module": "@jupyter-widgets/base",
            "overflow": null,
            "_model_module_version": "1.2.0",
            "_view_count": null,
            "flex_flow": null,
            "width": null,
            "min_width": null,
            "border": null,
            "align_items": null,
            "bottom": null,
            "_model_module": "@jupyter-widgets/base",
            "top": null,
            "grid_column": null,
            "overflow_y": null,
            "overflow_x": null,
            "grid_auto_flow": null,
            "grid_area": null,
            "grid_template_columns": null,
            "flex": null,
            "_model_name": "LayoutModel",
            "justify_items": null,
            "grid_row": null,
            "max_height": null,
            "align_content": null,
            "visibility": null,
            "align_self": null,
            "height": null,
            "min_height": null,
            "padding": null,
            "grid_auto_rows": null,
            "grid_gap": null,
            "max_width": null,
            "order": null,
            "_view_module_version": "1.2.0",
            "grid_template_areas": null,
            "object_position": null,
            "object_fit": null,
            "grid_auto_columns": null,
            "margin": null,
            "display": null,
            "left": null
          }
        },
        "65395ccd704947479df654455bfb0241": {
          "model_module": "@jupyter-widgets/controls",
          "model_name": "HBoxModel",
          "model_module_version": "1.5.0",
          "state": {
            "_view_name": "HBoxView",
            "_dom_classes": [],
            "_model_name": "HBoxModel",
            "_view_module": "@jupyter-widgets/controls",
            "_model_module_version": "1.5.0",
            "_view_count": null,
            "_view_module_version": "1.5.0",
            "box_style": "",
            "layout": "IPY_MODEL_362b07de9a994861a0b8b447e1a959ed",
            "_model_module": "@jupyter-widgets/controls",
            "children": [
              "IPY_MODEL_4ffe319b07664a53a40d43f136847e9e",
              "IPY_MODEL_6bc7098ccb794658bcc2d87bc2e44714",
              "IPY_MODEL_328dacd222d3433d89e2e49239183575"
            ]
          }
        },
        "362b07de9a994861a0b8b447e1a959ed": {
          "model_module": "@jupyter-widgets/base",
          "model_name": "LayoutModel",
          "model_module_version": "1.2.0",
          "state": {
            "_view_name": "LayoutView",
            "grid_template_rows": null,
            "right": null,
            "justify_content": null,
            "_view_module": "@jupyter-widgets/base",
            "overflow": null,
            "_model_module_version": "1.2.0",
            "_view_count": null,
            "flex_flow": null,
            "width": null,
            "min_width": null,
            "border": null,
            "align_items": null,
            "bottom": null,
            "_model_module": "@jupyter-widgets/base",
            "top": null,
            "grid_column": null,
            "overflow_y": null,
            "overflow_x": null,
            "grid_auto_flow": null,
            "grid_area": null,
            "grid_template_columns": null,
            "flex": null,
            "_model_name": "LayoutModel",
            "justify_items": null,
            "grid_row": null,
            "max_height": null,
            "align_content": null,
            "visibility": null,
            "align_self": null,
            "height": null,
            "min_height": null,
            "padding": null,
            "grid_auto_rows": null,
            "grid_gap": null,
            "max_width": null,
            "order": null,
            "_view_module_version": "1.2.0",
            "grid_template_areas": null,
            "object_position": null,
            "object_fit": null,
            "grid_auto_columns": null,
            "margin": null,
            "display": null,
            "left": null
          }
        },
        "4ffe319b07664a53a40d43f136847e9e": {
          "model_module": "@jupyter-widgets/controls",
          "model_name": "HTMLModel",
          "model_module_version": "1.5.0",
          "state": {
            "_view_name": "HTMLView",
            "style": "IPY_MODEL_44e4259c4145479f85297f558356bbee",
            "_dom_classes": [],
            "description": "",
            "_model_name": "HTMLModel",
            "placeholder": "​",
            "_view_module": "@jupyter-widgets/controls",
            "_model_module_version": "1.5.0",
            "value": "",
            "_view_count": null,
            "_view_module_version": "1.5.0",
            "description_tooltip": null,
            "_model_module": "@jupyter-widgets/controls",
            "layout": "IPY_MODEL_adc7804c38d34743b2e741d3d6dd9b4c"
          }
        },
        "6bc7098ccb794658bcc2d87bc2e44714": {
          "model_module": "@jupyter-widgets/controls",
          "model_name": "FloatProgressModel",
          "model_module_version": "1.5.0",
          "state": {
            "_view_name": "ProgressView",
            "style": "IPY_MODEL_9301bcd31b5d4704beeec48c98bb1a71",
            "_dom_classes": [],
            "description": "",
            "_model_name": "FloatProgressModel",
            "bar_style": "info",
            "max": 1,
            "_view_module": "@jupyter-widgets/controls",
            "_model_module_version": "1.5.0",
            "value": 1,
            "_view_count": null,
            "_view_module_version": "1.5.0",
            "orientation": "horizontal",
            "min": 0,
            "description_tooltip": null,
            "_model_module": "@jupyter-widgets/controls",
            "layout": "IPY_MODEL_8e7ef86ef1624812937d4f40b169c29b"
          }
        },
        "328dacd222d3433d89e2e49239183575": {
          "model_module": "@jupyter-widgets/controls",
          "model_name": "HTMLModel",
          "model_module_version": "1.5.0",
          "state": {
            "_view_name": "HTMLView",
            "style": "IPY_MODEL_2ff4762b4418458baa95d9b3c1a19e12",
            "_dom_classes": [],
            "description": "",
            "_model_name": "HTMLModel",
            "placeholder": "​",
            "_view_module": "@jupyter-widgets/controls",
            "_model_module_version": "1.5.0",
            "value": " 1/0 [00:00&lt;00:00,  2.61 examples/s]",
            "_view_count": null,
            "_view_module_version": "1.5.0",
            "description_tooltip": null,
            "_model_module": "@jupyter-widgets/controls",
            "layout": "IPY_MODEL_77c96c95771b4dfa99e0ba5ee81283e3"
          }
        },
        "44e4259c4145479f85297f558356bbee": {
          "model_module": "@jupyter-widgets/controls",
          "model_name": "DescriptionStyleModel",
          "model_module_version": "1.5.0",
          "state": {
            "_view_name": "StyleView",
            "_model_name": "DescriptionStyleModel",
            "description_width": "",
            "_view_module": "@jupyter-widgets/base",
            "_model_module_version": "1.5.0",
            "_view_count": null,
            "_view_module_version": "1.2.0",
            "_model_module": "@jupyter-widgets/controls"
          }
        },
        "adc7804c38d34743b2e741d3d6dd9b4c": {
          "model_module": "@jupyter-widgets/base",
          "model_name": "LayoutModel",
          "model_module_version": "1.2.0",
          "state": {
            "_view_name": "LayoutView",
            "grid_template_rows": null,
            "right": null,
            "justify_content": null,
            "_view_module": "@jupyter-widgets/base",
            "overflow": null,
            "_model_module_version": "1.2.0",
            "_view_count": null,
            "flex_flow": null,
            "width": null,
            "min_width": null,
            "border": null,
            "align_items": null,
            "bottom": null,
            "_model_module": "@jupyter-widgets/base",
            "top": null,
            "grid_column": null,
            "overflow_y": null,
            "overflow_x": null,
            "grid_auto_flow": null,
            "grid_area": null,
            "grid_template_columns": null,
            "flex": null,
            "_model_name": "LayoutModel",
            "justify_items": null,
            "grid_row": null,
            "max_height": null,
            "align_content": null,
            "visibility": null,
            "align_self": null,
            "height": null,
            "min_height": null,
            "padding": null,
            "grid_auto_rows": null,
            "grid_gap": null,
            "max_width": null,
            "order": null,
            "_view_module_version": "1.2.0",
            "grid_template_areas": null,
            "object_position": null,
            "object_fit": null,
            "grid_auto_columns": null,
            "margin": null,
            "display": null,
            "left": null
          }
        },
        "9301bcd31b5d4704beeec48c98bb1a71": {
          "model_module": "@jupyter-widgets/controls",
          "model_name": "ProgressStyleModel",
          "model_module_version": "1.5.0",
          "state": {
            "_view_name": "StyleView",
            "_model_name": "ProgressStyleModel",
            "description_width": "",
            "_view_module": "@jupyter-widgets/base",
            "_model_module_version": "1.5.0",
            "_view_count": null,
            "_view_module_version": "1.2.0",
            "bar_color": null,
            "_model_module": "@jupyter-widgets/controls"
          }
        },
        "8e7ef86ef1624812937d4f40b169c29b": {
          "model_module": "@jupyter-widgets/base",
          "model_name": "LayoutModel",
          "model_module_version": "1.2.0",
          "state": {
            "_view_name": "LayoutView",
            "grid_template_rows": null,
            "right": null,
            "justify_content": null,
            "_view_module": "@jupyter-widgets/base",
            "overflow": null,
            "_model_module_version": "1.2.0",
            "_view_count": null,
            "flex_flow": null,
            "width": "20px",
            "min_width": null,
            "border": null,
            "align_items": null,
            "bottom": null,
            "_model_module": "@jupyter-widgets/base",
            "top": null,
            "grid_column": null,
            "overflow_y": null,
            "overflow_x": null,
            "grid_auto_flow": null,
            "grid_area": null,
            "grid_template_columns": null,
            "flex": null,
            "_model_name": "LayoutModel",
            "justify_items": null,
            "grid_row": null,
            "max_height": null,
            "align_content": null,
            "visibility": null,
            "align_self": null,
            "height": null,
            "min_height": null,
            "padding": null,
            "grid_auto_rows": null,
            "grid_gap": null,
            "max_width": null,
            "order": null,
            "_view_module_version": "1.2.0",
            "grid_template_areas": null,
            "object_position": null,
            "object_fit": null,
            "grid_auto_columns": null,
            "margin": null,
            "display": null,
            "left": null
          }
        },
        "2ff4762b4418458baa95d9b3c1a19e12": {
          "model_module": "@jupyter-widgets/controls",
          "model_name": "DescriptionStyleModel",
          "model_module_version": "1.5.0",
          "state": {
            "_view_name": "StyleView",
            "_model_name": "DescriptionStyleModel",
            "description_width": "",
            "_view_module": "@jupyter-widgets/base",
            "_model_module_version": "1.5.0",
            "_view_count": null,
            "_view_module_version": "1.2.0",
            "_model_module": "@jupyter-widgets/controls"
          }
        },
        "77c96c95771b4dfa99e0ba5ee81283e3": {
          "model_module": "@jupyter-widgets/base",
          "model_name": "LayoutModel",
          "model_module_version": "1.2.0",
          "state": {
            "_view_name": "LayoutView",
            "grid_template_rows": null,
            "right": null,
            "justify_content": null,
            "_view_module": "@jupyter-widgets/base",
            "overflow": null,
            "_model_module_version": "1.2.0",
            "_view_count": null,
            "flex_flow": null,
            "width": null,
            "min_width": null,
            "border": null,
            "align_items": null,
            "bottom": null,
            "_model_module": "@jupyter-widgets/base",
            "top": null,
            "grid_column": null,
            "overflow_y": null,
            "overflow_x": null,
            "grid_auto_flow": null,
            "grid_area": null,
            "grid_template_columns": null,
            "flex": null,
            "_model_name": "LayoutModel",
            "justify_items": null,
            "grid_row": null,
            "max_height": null,
            "align_content": null,
            "visibility": null,
            "align_self": null,
            "height": null,
            "min_height": null,
            "padding": null,
            "grid_auto_rows": null,
            "grid_gap": null,
            "max_width": null,
            "order": null,
            "_view_module_version": "1.2.0",
            "grid_template_areas": null,
            "object_position": null,
            "object_fit": null,
            "grid_auto_columns": null,
            "margin": null,
            "display": null,
            "left": null
          }
        },
        "775ac963636042ccb9380701f4c76d27": {
          "model_module": "@jupyter-widgets/controls",
          "model_name": "HBoxModel",
          "model_module_version": "1.5.0",
          "state": {
            "_view_name": "HBoxView",
            "_dom_classes": [],
            "_model_name": "HBoxModel",
            "_view_module": "@jupyter-widgets/controls",
            "_model_module_version": "1.5.0",
            "_view_count": null,
            "_view_module_version": "1.5.0",
            "box_style": "",
            "layout": "IPY_MODEL_f43e4111e8814227993700117d881906",
            "_model_module": "@jupyter-widgets/controls",
            "children": [
              "IPY_MODEL_394b597a5bb546f187405ddeb9d9d9ba",
              "IPY_MODEL_037f2085a5754e75abd2d535ef340cd6",
              "IPY_MODEL_7fc5e74104094f6f8a634d43562a8a6a"
            ]
          }
        },
        "f43e4111e8814227993700117d881906": {
          "model_module": "@jupyter-widgets/base",
          "model_name": "LayoutModel",
          "model_module_version": "1.2.0",
          "state": {
            "_view_name": "LayoutView",
            "grid_template_rows": null,
            "right": null,
            "justify_content": null,
            "_view_module": "@jupyter-widgets/base",
            "overflow": null,
            "_model_module_version": "1.2.0",
            "_view_count": null,
            "flex_flow": null,
            "width": null,
            "min_width": null,
            "border": null,
            "align_items": null,
            "bottom": null,
            "_model_module": "@jupyter-widgets/base",
            "top": null,
            "grid_column": null,
            "overflow_y": null,
            "overflow_x": null,
            "grid_auto_flow": null,
            "grid_area": null,
            "grid_template_columns": null,
            "flex": null,
            "_model_name": "LayoutModel",
            "justify_items": null,
            "grid_row": null,
            "max_height": null,
            "align_content": null,
            "visibility": null,
            "align_self": null,
            "height": null,
            "min_height": null,
            "padding": null,
            "grid_auto_rows": null,
            "grid_gap": null,
            "max_width": null,
            "order": null,
            "_view_module_version": "1.2.0",
            "grid_template_areas": null,
            "object_position": null,
            "object_fit": null,
            "grid_auto_columns": null,
            "margin": null,
            "display": null,
            "left": null
          }
        },
        "394b597a5bb546f187405ddeb9d9d9ba": {
          "model_module": "@jupyter-widgets/controls",
          "model_name": "HTMLModel",
          "model_module_version": "1.5.0",
          "state": {
            "_view_name": "HTMLView",
            "style": "IPY_MODEL_cbfa108d7cb94c2098e732b39d9f3f61",
            "_dom_classes": [],
            "description": "",
            "_model_name": "HTMLModel",
            "placeholder": "​",
            "_view_module": "@jupyter-widgets/controls",
            "_model_module_version": "1.5.0",
            "value": "100%",
            "_view_count": null,
            "_view_module_version": "1.5.0",
            "description_tooltip": null,
            "_model_module": "@jupyter-widgets/controls",
            "layout": "IPY_MODEL_1917512d6c9842d290e88e1b3636492b"
          }
        },
        "037f2085a5754e75abd2d535ef340cd6": {
          "model_module": "@jupyter-widgets/controls",
          "model_name": "FloatProgressModel",
          "model_module_version": "1.5.0",
          "state": {
            "_view_name": "ProgressView",
            "style": "IPY_MODEL_bef74afe179a41bfa8ef4e9e91de6ae7",
            "_dom_classes": [],
            "description": "",
            "_model_name": "FloatProgressModel",
            "bar_style": "success",
            "max": 1,
            "_view_module": "@jupyter-widgets/controls",
            "_model_module_version": "1.5.0",
            "value": 1,
            "_view_count": null,
            "_view_module_version": "1.5.0",
            "orientation": "horizontal",
            "min": 0,
            "description_tooltip": null,
            "_model_module": "@jupyter-widgets/controls",
            "layout": "IPY_MODEL_97dabd2a0fa64d42aa29686abd9c4d33"
          }
        },
        "7fc5e74104094f6f8a634d43562a8a6a": {
          "model_module": "@jupyter-widgets/controls",
          "model_name": "HTMLModel",
          "model_module_version": "1.5.0",
          "state": {
            "_view_name": "HTMLView",
            "style": "IPY_MODEL_51feb87bb17049bdbf4f3b1612f8a4e1",
            "_dom_classes": [],
            "description": "",
            "_model_name": "HTMLModel",
            "placeholder": "​",
            "_view_module": "@jupyter-widgets/controls",
            "_model_module_version": "1.5.0",
            "value": " 1/1 [00:00&lt;00:00, 17.82it/s]",
            "_view_count": null,
            "_view_module_version": "1.5.0",
            "description_tooltip": null,
            "_model_module": "@jupyter-widgets/controls",
            "layout": "IPY_MODEL_4edb7de3cc7b421cb4d293033e5bb9e9"
          }
        },
        "cbfa108d7cb94c2098e732b39d9f3f61": {
          "model_module": "@jupyter-widgets/controls",
          "model_name": "DescriptionStyleModel",
          "model_module_version": "1.5.0",
          "state": {
            "_view_name": "StyleView",
            "_model_name": "DescriptionStyleModel",
            "description_width": "",
            "_view_module": "@jupyter-widgets/base",
            "_model_module_version": "1.5.0",
            "_view_count": null,
            "_view_module_version": "1.2.0",
            "_model_module": "@jupyter-widgets/controls"
          }
        },
        "1917512d6c9842d290e88e1b3636492b": {
          "model_module": "@jupyter-widgets/base",
          "model_name": "LayoutModel",
          "model_module_version": "1.2.0",
          "state": {
            "_view_name": "LayoutView",
            "grid_template_rows": null,
            "right": null,
            "justify_content": null,
            "_view_module": "@jupyter-widgets/base",
            "overflow": null,
            "_model_module_version": "1.2.0",
            "_view_count": null,
            "flex_flow": null,
            "width": null,
            "min_width": null,
            "border": null,
            "align_items": null,
            "bottom": null,
            "_model_module": "@jupyter-widgets/base",
            "top": null,
            "grid_column": null,
            "overflow_y": null,
            "overflow_x": null,
            "grid_auto_flow": null,
            "grid_area": null,
            "grid_template_columns": null,
            "flex": null,
            "_model_name": "LayoutModel",
            "justify_items": null,
            "grid_row": null,
            "max_height": null,
            "align_content": null,
            "visibility": null,
            "align_self": null,
            "height": null,
            "min_height": null,
            "padding": null,
            "grid_auto_rows": null,
            "grid_gap": null,
            "max_width": null,
            "order": null,
            "_view_module_version": "1.2.0",
            "grid_template_areas": null,
            "object_position": null,
            "object_fit": null,
            "grid_auto_columns": null,
            "margin": null,
            "display": null,
            "left": null
          }
        },
        "bef74afe179a41bfa8ef4e9e91de6ae7": {
          "model_module": "@jupyter-widgets/controls",
          "model_name": "ProgressStyleModel",
          "model_module_version": "1.5.0",
          "state": {
            "_view_name": "StyleView",
            "_model_name": "ProgressStyleModel",
            "description_width": "",
            "_view_module": "@jupyter-widgets/base",
            "_model_module_version": "1.5.0",
            "_view_count": null,
            "_view_module_version": "1.2.0",
            "bar_color": null,
            "_model_module": "@jupyter-widgets/controls"
          }
        },
        "97dabd2a0fa64d42aa29686abd9c4d33": {
          "model_module": "@jupyter-widgets/base",
          "model_name": "LayoutModel",
          "model_module_version": "1.2.0",
          "state": {
            "_view_name": "LayoutView",
            "grid_template_rows": null,
            "right": null,
            "justify_content": null,
            "_view_module": "@jupyter-widgets/base",
            "overflow": null,
            "_model_module_version": "1.2.0",
            "_view_count": null,
            "flex_flow": null,
            "width": null,
            "min_width": null,
            "border": null,
            "align_items": null,
            "bottom": null,
            "_model_module": "@jupyter-widgets/base",
            "top": null,
            "grid_column": null,
            "overflow_y": null,
            "overflow_x": null,
            "grid_auto_flow": null,
            "grid_area": null,
            "grid_template_columns": null,
            "flex": null,
            "_model_name": "LayoutModel",
            "justify_items": null,
            "grid_row": null,
            "max_height": null,
            "align_content": null,
            "visibility": null,
            "align_self": null,
            "height": null,
            "min_height": null,
            "padding": null,
            "grid_auto_rows": null,
            "grid_gap": null,
            "max_width": null,
            "order": null,
            "_view_module_version": "1.2.0",
            "grid_template_areas": null,
            "object_position": null,
            "object_fit": null,
            "grid_auto_columns": null,
            "margin": null,
            "display": null,
            "left": null
          }
        },
        "51feb87bb17049bdbf4f3b1612f8a4e1": {
          "model_module": "@jupyter-widgets/controls",
          "model_name": "DescriptionStyleModel",
          "model_module_version": "1.5.0",
          "state": {
            "_view_name": "StyleView",
            "_model_name": "DescriptionStyleModel",
            "description_width": "",
            "_view_module": "@jupyter-widgets/base",
            "_model_module_version": "1.5.0",
            "_view_count": null,
            "_view_module_version": "1.2.0",
            "_model_module": "@jupyter-widgets/controls"
          }
        },
        "4edb7de3cc7b421cb4d293033e5bb9e9": {
          "model_module": "@jupyter-widgets/base",
          "model_name": "LayoutModel",
          "model_module_version": "1.2.0",
          "state": {
            "_view_name": "LayoutView",
            "grid_template_rows": null,
            "right": null,
            "justify_content": null,
            "_view_module": "@jupyter-widgets/base",
            "overflow": null,
            "_model_module_version": "1.2.0",
            "_view_count": null,
            "flex_flow": null,
            "width": null,
            "min_width": null,
            "border": null,
            "align_items": null,
            "bottom": null,
            "_model_module": "@jupyter-widgets/base",
            "top": null,
            "grid_column": null,
            "overflow_y": null,
            "overflow_x": null,
            "grid_auto_flow": null,
            "grid_area": null,
            "grid_template_columns": null,
            "flex": null,
            "_model_name": "LayoutModel",
            "justify_items": null,
            "grid_row": null,
            "max_height": null,
            "align_content": null,
            "visibility": null,
            "align_self": null,
            "height": null,
            "min_height": null,
            "padding": null,
            "grid_auto_rows": null,
            "grid_gap": null,
            "max_width": null,
            "order": null,
            "_view_module_version": "1.2.0",
            "grid_template_areas": null,
            "object_position": null,
            "object_fit": null,
            "grid_auto_columns": null,
            "margin": null,
            "display": null,
            "left": null
          }
        },
        "490b30177a5748bc88ea502af544ee92": {
          "model_module": "@jupyter-widgets/controls",
          "model_name": "HBoxModel",
          "model_module_version": "1.5.0",
          "state": {
            "_view_name": "HBoxView",
            "_dom_classes": [],
            "_model_name": "HBoxModel",
            "_view_module": "@jupyter-widgets/controls",
            "_model_module_version": "1.5.0",
            "_view_count": null,
            "_view_module_version": "1.5.0",
            "box_style": "",
            "layout": "IPY_MODEL_1a67e22baff44074b61640113fa4becf",
            "_model_module": "@jupyter-widgets/controls",
            "children": [
              "IPY_MODEL_e589c54edcbb4687a2956daeb9245cfe",
              "IPY_MODEL_368bab4e6fd54b74941a34bea59e8415",
              "IPY_MODEL_6bc184ee87ab492eaa5f4fd15aafd901"
            ]
          }
        },
        "1a67e22baff44074b61640113fa4becf": {
          "model_module": "@jupyter-widgets/base",
          "model_name": "LayoutModel",
          "model_module_version": "1.2.0",
          "state": {
            "_view_name": "LayoutView",
            "grid_template_rows": null,
            "right": null,
            "justify_content": null,
            "_view_module": "@jupyter-widgets/base",
            "overflow": null,
            "_model_module_version": "1.2.0",
            "_view_count": null,
            "flex_flow": null,
            "width": null,
            "min_width": null,
            "border": null,
            "align_items": null,
            "bottom": null,
            "_model_module": "@jupyter-widgets/base",
            "top": null,
            "grid_column": null,
            "overflow_y": null,
            "overflow_x": null,
            "grid_auto_flow": null,
            "grid_area": null,
            "grid_template_columns": null,
            "flex": null,
            "_model_name": "LayoutModel",
            "justify_items": null,
            "grid_row": null,
            "max_height": null,
            "align_content": null,
            "visibility": null,
            "align_self": null,
            "height": null,
            "min_height": null,
            "padding": null,
            "grid_auto_rows": null,
            "grid_gap": null,
            "max_width": null,
            "order": null,
            "_view_module_version": "1.2.0",
            "grid_template_areas": null,
            "object_position": null,
            "object_fit": null,
            "grid_auto_columns": null,
            "margin": null,
            "display": null,
            "left": null
          }
        },
        "e589c54edcbb4687a2956daeb9245cfe": {
          "model_module": "@jupyter-widgets/controls",
          "model_name": "HTMLModel",
          "model_module_version": "1.5.0",
          "state": {
            "_view_name": "HTMLView",
            "style": "IPY_MODEL_6fd267572af14e658bb0eae53b3f3244",
            "_dom_classes": [],
            "description": "",
            "_model_name": "HTMLModel",
            "placeholder": "​",
            "_view_module": "@jupyter-widgets/controls",
            "_model_module_version": "1.5.0",
            "value": "Downloading: 100%",
            "_view_count": null,
            "_view_module_version": "1.5.0",
            "description_tooltip": null,
            "_model_module": "@jupyter-widgets/controls",
            "layout": "IPY_MODEL_e3b180727d384c4abf7c8c423c146f89"
          }
        },
        "368bab4e6fd54b74941a34bea59e8415": {
          "model_module": "@jupyter-widgets/controls",
          "model_name": "FloatProgressModel",
          "model_module_version": "1.5.0",
          "state": {
            "_view_name": "ProgressView",
            "style": "IPY_MODEL_5333e1a965d6457aa05de35b7bf65bc5",
            "_dom_classes": [],
            "description": "",
            "_model_name": "FloatProgressModel",
            "bar_style": "success",
            "max": 26,
            "_view_module": "@jupyter-widgets/controls",
            "_model_module_version": "1.5.0",
            "value": 26,
            "_view_count": null,
            "_view_module_version": "1.5.0",
            "orientation": "horizontal",
            "min": 0,
            "description_tooltip": null,
            "_model_module": "@jupyter-widgets/controls",
            "layout": "IPY_MODEL_64c10230810248f5bf9b902d0b697aed"
          }
        },
        "6bc184ee87ab492eaa5f4fd15aafd901": {
          "model_module": "@jupyter-widgets/controls",
          "model_name": "HTMLModel",
          "model_module_version": "1.5.0",
          "state": {
            "_view_name": "HTMLView",
            "style": "IPY_MODEL_95f061737bbd410bbd52783e9294433e",
            "_dom_classes": [],
            "description": "",
            "_model_name": "HTMLModel",
            "placeholder": "​",
            "_view_module": "@jupyter-widgets/controls",
            "_model_module_version": "1.5.0",
            "value": " 26.0/26.0 [00:00&lt;00:00, 624B/s]",
            "_view_count": null,
            "_view_module_version": "1.5.0",
            "description_tooltip": null,
            "_model_module": "@jupyter-widgets/controls",
            "layout": "IPY_MODEL_da30b82d33004a3d8205cbaa5d1c6573"
          }
        },
        "6fd267572af14e658bb0eae53b3f3244": {
          "model_module": "@jupyter-widgets/controls",
          "model_name": "DescriptionStyleModel",
          "model_module_version": "1.5.0",
          "state": {
            "_view_name": "StyleView",
            "_model_name": "DescriptionStyleModel",
            "description_width": "",
            "_view_module": "@jupyter-widgets/base",
            "_model_module_version": "1.5.0",
            "_view_count": null,
            "_view_module_version": "1.2.0",
            "_model_module": "@jupyter-widgets/controls"
          }
        },
        "e3b180727d384c4abf7c8c423c146f89": {
          "model_module": "@jupyter-widgets/base",
          "model_name": "LayoutModel",
          "model_module_version": "1.2.0",
          "state": {
            "_view_name": "LayoutView",
            "grid_template_rows": null,
            "right": null,
            "justify_content": null,
            "_view_module": "@jupyter-widgets/base",
            "overflow": null,
            "_model_module_version": "1.2.0",
            "_view_count": null,
            "flex_flow": null,
            "width": null,
            "min_width": null,
            "border": null,
            "align_items": null,
            "bottom": null,
            "_model_module": "@jupyter-widgets/base",
            "top": null,
            "grid_column": null,
            "overflow_y": null,
            "overflow_x": null,
            "grid_auto_flow": null,
            "grid_area": null,
            "grid_template_columns": null,
            "flex": null,
            "_model_name": "LayoutModel",
            "justify_items": null,
            "grid_row": null,
            "max_height": null,
            "align_content": null,
            "visibility": null,
            "align_self": null,
            "height": null,
            "min_height": null,
            "padding": null,
            "grid_auto_rows": null,
            "grid_gap": null,
            "max_width": null,
            "order": null,
            "_view_module_version": "1.2.0",
            "grid_template_areas": null,
            "object_position": null,
            "object_fit": null,
            "grid_auto_columns": null,
            "margin": null,
            "display": null,
            "left": null
          }
        },
        "5333e1a965d6457aa05de35b7bf65bc5": {
          "model_module": "@jupyter-widgets/controls",
          "model_name": "ProgressStyleModel",
          "model_module_version": "1.5.0",
          "state": {
            "_view_name": "StyleView",
            "_model_name": "ProgressStyleModel",
            "description_width": "",
            "_view_module": "@jupyter-widgets/base",
            "_model_module_version": "1.5.0",
            "_view_count": null,
            "_view_module_version": "1.2.0",
            "bar_color": null,
            "_model_module": "@jupyter-widgets/controls"
          }
        },
        "64c10230810248f5bf9b902d0b697aed": {
          "model_module": "@jupyter-widgets/base",
          "model_name": "LayoutModel",
          "model_module_version": "1.2.0",
          "state": {
            "_view_name": "LayoutView",
            "grid_template_rows": null,
            "right": null,
            "justify_content": null,
            "_view_module": "@jupyter-widgets/base",
            "overflow": null,
            "_model_module_version": "1.2.0",
            "_view_count": null,
            "flex_flow": null,
            "width": null,
            "min_width": null,
            "border": null,
            "align_items": null,
            "bottom": null,
            "_model_module": "@jupyter-widgets/base",
            "top": null,
            "grid_column": null,
            "overflow_y": null,
            "overflow_x": null,
            "grid_auto_flow": null,
            "grid_area": null,
            "grid_template_columns": null,
            "flex": null,
            "_model_name": "LayoutModel",
            "justify_items": null,
            "grid_row": null,
            "max_height": null,
            "align_content": null,
            "visibility": null,
            "align_self": null,
            "height": null,
            "min_height": null,
            "padding": null,
            "grid_auto_rows": null,
            "grid_gap": null,
            "max_width": null,
            "order": null,
            "_view_module_version": "1.2.0",
            "grid_template_areas": null,
            "object_position": null,
            "object_fit": null,
            "grid_auto_columns": null,
            "margin": null,
            "display": null,
            "left": null
          }
        },
        "95f061737bbd410bbd52783e9294433e": {
          "model_module": "@jupyter-widgets/controls",
          "model_name": "DescriptionStyleModel",
          "model_module_version": "1.5.0",
          "state": {
            "_view_name": "StyleView",
            "_model_name": "DescriptionStyleModel",
            "description_width": "",
            "_view_module": "@jupyter-widgets/base",
            "_model_module_version": "1.5.0",
            "_view_count": null,
            "_view_module_version": "1.2.0",
            "_model_module": "@jupyter-widgets/controls"
          }
        },
        "da30b82d33004a3d8205cbaa5d1c6573": {
          "model_module": "@jupyter-widgets/base",
          "model_name": "LayoutModel",
          "model_module_version": "1.2.0",
          "state": {
            "_view_name": "LayoutView",
            "grid_template_rows": null,
            "right": null,
            "justify_content": null,
            "_view_module": "@jupyter-widgets/base",
            "overflow": null,
            "_model_module_version": "1.2.0",
            "_view_count": null,
            "flex_flow": null,
            "width": null,
            "min_width": null,
            "border": null,
            "align_items": null,
            "bottom": null,
            "_model_module": "@jupyter-widgets/base",
            "top": null,
            "grid_column": null,
            "overflow_y": null,
            "overflow_x": null,
            "grid_auto_flow": null,
            "grid_area": null,
            "grid_template_columns": null,
            "flex": null,
            "_model_name": "LayoutModel",
            "justify_items": null,
            "grid_row": null,
            "max_height": null,
            "align_content": null,
            "visibility": null,
            "align_self": null,
            "height": null,
            "min_height": null,
            "padding": null,
            "grid_auto_rows": null,
            "grid_gap": null,
            "max_width": null,
            "order": null,
            "_view_module_version": "1.2.0",
            "grid_template_areas": null,
            "object_position": null,
            "object_fit": null,
            "grid_auto_columns": null,
            "margin": null,
            "display": null,
            "left": null
          }
        },
        "10b4fc7d0ec94a1382219fabbd9ad5df": {
          "model_module": "@jupyter-widgets/controls",
          "model_name": "HBoxModel",
          "model_module_version": "1.5.0",
          "state": {
            "_view_name": "HBoxView",
            "_dom_classes": [],
            "_model_name": "HBoxModel",
            "_view_module": "@jupyter-widgets/controls",
            "_model_module_version": "1.5.0",
            "_view_count": null,
            "_view_module_version": "1.5.0",
            "box_style": "",
            "layout": "IPY_MODEL_3a3527906c2d4f64bd2515ccdbfb16ee",
            "_model_module": "@jupyter-widgets/controls",
            "children": [
              "IPY_MODEL_a2cda5cc351f4eba89fb39d0f0fbc363",
              "IPY_MODEL_fed8ec9fd870490b9e0069237d5dd597",
              "IPY_MODEL_f5dfbdcc9a3e4a46ae96aa40188b4d9b"
            ]
          }
        },
        "3a3527906c2d4f64bd2515ccdbfb16ee": {
          "model_module": "@jupyter-widgets/base",
          "model_name": "LayoutModel",
          "model_module_version": "1.2.0",
          "state": {
            "_view_name": "LayoutView",
            "grid_template_rows": null,
            "right": null,
            "justify_content": null,
            "_view_module": "@jupyter-widgets/base",
            "overflow": null,
            "_model_module_version": "1.2.0",
            "_view_count": null,
            "flex_flow": null,
            "width": null,
            "min_width": null,
            "border": null,
            "align_items": null,
            "bottom": null,
            "_model_module": "@jupyter-widgets/base",
            "top": null,
            "grid_column": null,
            "overflow_y": null,
            "overflow_x": null,
            "grid_auto_flow": null,
            "grid_area": null,
            "grid_template_columns": null,
            "flex": null,
            "_model_name": "LayoutModel",
            "justify_items": null,
            "grid_row": null,
            "max_height": null,
            "align_content": null,
            "visibility": null,
            "align_self": null,
            "height": null,
            "min_height": null,
            "padding": null,
            "grid_auto_rows": null,
            "grid_gap": null,
            "max_width": null,
            "order": null,
            "_view_module_version": "1.2.0",
            "grid_template_areas": null,
            "object_position": null,
            "object_fit": null,
            "grid_auto_columns": null,
            "margin": null,
            "display": null,
            "left": null
          }
        },
        "a2cda5cc351f4eba89fb39d0f0fbc363": {
          "model_module": "@jupyter-widgets/controls",
          "model_name": "HTMLModel",
          "model_module_version": "1.5.0",
          "state": {
            "_view_name": "HTMLView",
            "style": "IPY_MODEL_784320d812d141cf9c640cb56f7c6cbe",
            "_dom_classes": [],
            "description": "",
            "_model_name": "HTMLModel",
            "placeholder": "​",
            "_view_module": "@jupyter-widgets/controls",
            "_model_module_version": "1.5.0",
            "value": "Downloading: 100%",
            "_view_count": null,
            "_view_module_version": "1.5.0",
            "description_tooltip": null,
            "_model_module": "@jupyter-widgets/controls",
            "layout": "IPY_MODEL_94d820d2c47442bfa768ae77d4aaf799"
          }
        },
        "fed8ec9fd870490b9e0069237d5dd597": {
          "model_module": "@jupyter-widgets/controls",
          "model_name": "FloatProgressModel",
          "model_module_version": "1.5.0",
          "state": {
            "_view_name": "ProgressView",
            "style": "IPY_MODEL_5fa1ba9c2ac64ab58344e0a6537f4f23",
            "_dom_classes": [],
            "description": "",
            "_model_name": "FloatProgressModel",
            "bar_style": "success",
            "max": 641,
            "_view_module": "@jupyter-widgets/controls",
            "_model_module_version": "1.5.0",
            "value": 641,
            "_view_count": null,
            "_view_module_version": "1.5.0",
            "orientation": "horizontal",
            "min": 0,
            "description_tooltip": null,
            "_model_module": "@jupyter-widgets/controls",
            "layout": "IPY_MODEL_d8a1160758694024b34ceed154086103"
          }
        },
        "f5dfbdcc9a3e4a46ae96aa40188b4d9b": {
          "model_module": "@jupyter-widgets/controls",
          "model_name": "HTMLModel",
          "model_module_version": "1.5.0",
          "state": {
            "_view_name": "HTMLView",
            "style": "IPY_MODEL_ec957868d7a14da08617749fe00746b9",
            "_dom_classes": [],
            "description": "",
            "_model_name": "HTMLModel",
            "placeholder": "​",
            "_view_module": "@jupyter-widgets/controls",
            "_model_module_version": "1.5.0",
            "value": " 641/641 [00:00&lt;00:00, 16.3kB/s]",
            "_view_count": null,
            "_view_module_version": "1.5.0",
            "description_tooltip": null,
            "_model_module": "@jupyter-widgets/controls",
            "layout": "IPY_MODEL_25ed242f756f4cc6872def38ce8631bb"
          }
        },
        "784320d812d141cf9c640cb56f7c6cbe": {
          "model_module": "@jupyter-widgets/controls",
          "model_name": "DescriptionStyleModel",
          "model_module_version": "1.5.0",
          "state": {
            "_view_name": "StyleView",
            "_model_name": "DescriptionStyleModel",
            "description_width": "",
            "_view_module": "@jupyter-widgets/base",
            "_model_module_version": "1.5.0",
            "_view_count": null,
            "_view_module_version": "1.2.0",
            "_model_module": "@jupyter-widgets/controls"
          }
        },
        "94d820d2c47442bfa768ae77d4aaf799": {
          "model_module": "@jupyter-widgets/base",
          "model_name": "LayoutModel",
          "model_module_version": "1.2.0",
          "state": {
            "_view_name": "LayoutView",
            "grid_template_rows": null,
            "right": null,
            "justify_content": null,
            "_view_module": "@jupyter-widgets/base",
            "overflow": null,
            "_model_module_version": "1.2.0",
            "_view_count": null,
            "flex_flow": null,
            "width": null,
            "min_width": null,
            "border": null,
            "align_items": null,
            "bottom": null,
            "_model_module": "@jupyter-widgets/base",
            "top": null,
            "grid_column": null,
            "overflow_y": null,
            "overflow_x": null,
            "grid_auto_flow": null,
            "grid_area": null,
            "grid_template_columns": null,
            "flex": null,
            "_model_name": "LayoutModel",
            "justify_items": null,
            "grid_row": null,
            "max_height": null,
            "align_content": null,
            "visibility": null,
            "align_self": null,
            "height": null,
            "min_height": null,
            "padding": null,
            "grid_auto_rows": null,
            "grid_gap": null,
            "max_width": null,
            "order": null,
            "_view_module_version": "1.2.0",
            "grid_template_areas": null,
            "object_position": null,
            "object_fit": null,
            "grid_auto_columns": null,
            "margin": null,
            "display": null,
            "left": null
          }
        },
        "5fa1ba9c2ac64ab58344e0a6537f4f23": {
          "model_module": "@jupyter-widgets/controls",
          "model_name": "ProgressStyleModel",
          "model_module_version": "1.5.0",
          "state": {
            "_view_name": "StyleView",
            "_model_name": "ProgressStyleModel",
            "description_width": "",
            "_view_module": "@jupyter-widgets/base",
            "_model_module_version": "1.5.0",
            "_view_count": null,
            "_view_module_version": "1.2.0",
            "bar_color": null,
            "_model_module": "@jupyter-widgets/controls"
          }
        },
        "d8a1160758694024b34ceed154086103": {
          "model_module": "@jupyter-widgets/base",
          "model_name": "LayoutModel",
          "model_module_version": "1.2.0",
          "state": {
            "_view_name": "LayoutView",
            "grid_template_rows": null,
            "right": null,
            "justify_content": null,
            "_view_module": "@jupyter-widgets/base",
            "overflow": null,
            "_model_module_version": "1.2.0",
            "_view_count": null,
            "flex_flow": null,
            "width": null,
            "min_width": null,
            "border": null,
            "align_items": null,
            "bottom": null,
            "_model_module": "@jupyter-widgets/base",
            "top": null,
            "grid_column": null,
            "overflow_y": null,
            "overflow_x": null,
            "grid_auto_flow": null,
            "grid_area": null,
            "grid_template_columns": null,
            "flex": null,
            "_model_name": "LayoutModel",
            "justify_items": null,
            "grid_row": null,
            "max_height": null,
            "align_content": null,
            "visibility": null,
            "align_self": null,
            "height": null,
            "min_height": null,
            "padding": null,
            "grid_auto_rows": null,
            "grid_gap": null,
            "max_width": null,
            "order": null,
            "_view_module_version": "1.2.0",
            "grid_template_areas": null,
            "object_position": null,
            "object_fit": null,
            "grid_auto_columns": null,
            "margin": null,
            "display": null,
            "left": null
          }
        },
        "ec957868d7a14da08617749fe00746b9": {
          "model_module": "@jupyter-widgets/controls",
          "model_name": "DescriptionStyleModel",
          "model_module_version": "1.5.0",
          "state": {
            "_view_name": "StyleView",
            "_model_name": "DescriptionStyleModel",
            "description_width": "",
            "_view_module": "@jupyter-widgets/base",
            "_model_module_version": "1.5.0",
            "_view_count": null,
            "_view_module_version": "1.2.0",
            "_model_module": "@jupyter-widgets/controls"
          }
        },
        "25ed242f756f4cc6872def38ce8631bb": {
          "model_module": "@jupyter-widgets/base",
          "model_name": "LayoutModel",
          "model_module_version": "1.2.0",
          "state": {
            "_view_name": "LayoutView",
            "grid_template_rows": null,
            "right": null,
            "justify_content": null,
            "_view_module": "@jupyter-widgets/base",
            "overflow": null,
            "_model_module_version": "1.2.0",
            "_view_count": null,
            "flex_flow": null,
            "width": null,
            "min_width": null,
            "border": null,
            "align_items": null,
            "bottom": null,
            "_model_module": "@jupyter-widgets/base",
            "top": null,
            "grid_column": null,
            "overflow_y": null,
            "overflow_x": null,
            "grid_auto_flow": null,
            "grid_area": null,
            "grid_template_columns": null,
            "flex": null,
            "_model_name": "LayoutModel",
            "justify_items": null,
            "grid_row": null,
            "max_height": null,
            "align_content": null,
            "visibility": null,
            "align_self": null,
            "height": null,
            "min_height": null,
            "padding": null,
            "grid_auto_rows": null,
            "grid_gap": null,
            "max_width": null,
            "order": null,
            "_view_module_version": "1.2.0",
            "grid_template_areas": null,
            "object_position": null,
            "object_fit": null,
            "grid_auto_columns": null,
            "margin": null,
            "display": null,
            "left": null
          }
        },
        "ed6badab9b454aaeb53ff827f4421caa": {
          "model_module": "@jupyter-widgets/controls",
          "model_name": "HBoxModel",
          "model_module_version": "1.5.0",
          "state": {
            "_view_name": "HBoxView",
            "_dom_classes": [],
            "_model_name": "HBoxModel",
            "_view_module": "@jupyter-widgets/controls",
            "_model_module_version": "1.5.0",
            "_view_count": null,
            "_view_module_version": "1.5.0",
            "box_style": "",
            "layout": "IPY_MODEL_41b8ad0d7c4c49febe344a8e3792ef74",
            "_model_module": "@jupyter-widgets/controls",
            "children": [
              "IPY_MODEL_2bd92347a75d4700b364e7b30fcc045f",
              "IPY_MODEL_1447b3765f414fa59cd9ceb081984c09",
              "IPY_MODEL_7237004314f54b17802850a012a3f8cd"
            ]
          }
        },
        "41b8ad0d7c4c49febe344a8e3792ef74": {
          "model_module": "@jupyter-widgets/base",
          "model_name": "LayoutModel",
          "model_module_version": "1.2.0",
          "state": {
            "_view_name": "LayoutView",
            "grid_template_rows": null,
            "right": null,
            "justify_content": null,
            "_view_module": "@jupyter-widgets/base",
            "overflow": null,
            "_model_module_version": "1.2.0",
            "_view_count": null,
            "flex_flow": null,
            "width": null,
            "min_width": null,
            "border": null,
            "align_items": null,
            "bottom": null,
            "_model_module": "@jupyter-widgets/base",
            "top": null,
            "grid_column": null,
            "overflow_y": null,
            "overflow_x": null,
            "grid_auto_flow": null,
            "grid_area": null,
            "grid_template_columns": null,
            "flex": null,
            "_model_name": "LayoutModel",
            "justify_items": null,
            "grid_row": null,
            "max_height": null,
            "align_content": null,
            "visibility": null,
            "align_self": null,
            "height": null,
            "min_height": null,
            "padding": null,
            "grid_auto_rows": null,
            "grid_gap": null,
            "max_width": null,
            "order": null,
            "_view_module_version": "1.2.0",
            "grid_template_areas": null,
            "object_position": null,
            "object_fit": null,
            "grid_auto_columns": null,
            "margin": null,
            "display": null,
            "left": null
          }
        },
        "2bd92347a75d4700b364e7b30fcc045f": {
          "model_module": "@jupyter-widgets/controls",
          "model_name": "HTMLModel",
          "model_module_version": "1.5.0",
          "state": {
            "_view_name": "HTMLView",
            "style": "IPY_MODEL_672e29cb11b445ee836d51173560082b",
            "_dom_classes": [],
            "description": "",
            "_model_name": "HTMLModel",
            "placeholder": "​",
            "_view_module": "@jupyter-widgets/controls",
            "_model_module_version": "1.5.0",
            "value": "Downloading: 100%",
            "_view_count": null,
            "_view_module_version": "1.5.0",
            "description_tooltip": null,
            "_model_module": "@jupyter-widgets/controls",
            "layout": "IPY_MODEL_3841822c5ee54f028eee639f503b56fa"
          }
        },
        "1447b3765f414fa59cd9ceb081984c09": {
          "model_module": "@jupyter-widgets/controls",
          "model_name": "FloatProgressModel",
          "model_module_version": "1.5.0",
          "state": {
            "_view_name": "ProgressView",
            "style": "IPY_MODEL_7ab713fed3404804bc1a37b9d296f257",
            "_dom_classes": [],
            "description": "",
            "_model_name": "FloatProgressModel",
            "bar_style": "success",
            "max": 1042301,
            "_view_module": "@jupyter-widgets/controls",
            "_model_module_version": "1.5.0",
            "value": 1042301,
            "_view_count": null,
            "_view_module_version": "1.5.0",
            "orientation": "horizontal",
            "min": 0,
            "description_tooltip": null,
            "_model_module": "@jupyter-widgets/controls",
            "layout": "IPY_MODEL_0f28d241dec44105a7c864da5e9ddc2e"
          }
        },
        "7237004314f54b17802850a012a3f8cd": {
          "model_module": "@jupyter-widgets/controls",
          "model_name": "HTMLModel",
          "model_module_version": "1.5.0",
          "state": {
            "_view_name": "HTMLView",
            "style": "IPY_MODEL_afe84ac1ca3c48f7a9eeb47d0a5df74d",
            "_dom_classes": [],
            "description": "",
            "_model_name": "HTMLModel",
            "placeholder": "​",
            "_view_module": "@jupyter-widgets/controls",
            "_model_module_version": "1.5.0",
            "value": " 0.99M/0.99M [00:00&lt;00:00, 2.86MB/s]",
            "_view_count": null,
            "_view_module_version": "1.5.0",
            "description_tooltip": null,
            "_model_module": "@jupyter-widgets/controls",
            "layout": "IPY_MODEL_cc066f6eb6184854ab0f1b5fed454bcc"
          }
        },
        "672e29cb11b445ee836d51173560082b": {
          "model_module": "@jupyter-widgets/controls",
          "model_name": "DescriptionStyleModel",
          "model_module_version": "1.5.0",
          "state": {
            "_view_name": "StyleView",
            "_model_name": "DescriptionStyleModel",
            "description_width": "",
            "_view_module": "@jupyter-widgets/base",
            "_model_module_version": "1.5.0",
            "_view_count": null,
            "_view_module_version": "1.2.0",
            "_model_module": "@jupyter-widgets/controls"
          }
        },
        "3841822c5ee54f028eee639f503b56fa": {
          "model_module": "@jupyter-widgets/base",
          "model_name": "LayoutModel",
          "model_module_version": "1.2.0",
          "state": {
            "_view_name": "LayoutView",
            "grid_template_rows": null,
            "right": null,
            "justify_content": null,
            "_view_module": "@jupyter-widgets/base",
            "overflow": null,
            "_model_module_version": "1.2.0",
            "_view_count": null,
            "flex_flow": null,
            "width": null,
            "min_width": null,
            "border": null,
            "align_items": null,
            "bottom": null,
            "_model_module": "@jupyter-widgets/base",
            "top": null,
            "grid_column": null,
            "overflow_y": null,
            "overflow_x": null,
            "grid_auto_flow": null,
            "grid_area": null,
            "grid_template_columns": null,
            "flex": null,
            "_model_name": "LayoutModel",
            "justify_items": null,
            "grid_row": null,
            "max_height": null,
            "align_content": null,
            "visibility": null,
            "align_self": null,
            "height": null,
            "min_height": null,
            "padding": null,
            "grid_auto_rows": null,
            "grid_gap": null,
            "max_width": null,
            "order": null,
            "_view_module_version": "1.2.0",
            "grid_template_areas": null,
            "object_position": null,
            "object_fit": null,
            "grid_auto_columns": null,
            "margin": null,
            "display": null,
            "left": null
          }
        },
        "7ab713fed3404804bc1a37b9d296f257": {
          "model_module": "@jupyter-widgets/controls",
          "model_name": "ProgressStyleModel",
          "model_module_version": "1.5.0",
          "state": {
            "_view_name": "StyleView",
            "_model_name": "ProgressStyleModel",
            "description_width": "",
            "_view_module": "@jupyter-widgets/base",
            "_model_module_version": "1.5.0",
            "_view_count": null,
            "_view_module_version": "1.2.0",
            "bar_color": null,
            "_model_module": "@jupyter-widgets/controls"
          }
        },
        "0f28d241dec44105a7c864da5e9ddc2e": {
          "model_module": "@jupyter-widgets/base",
          "model_name": "LayoutModel",
          "model_module_version": "1.2.0",
          "state": {
            "_view_name": "LayoutView",
            "grid_template_rows": null,
            "right": null,
            "justify_content": null,
            "_view_module": "@jupyter-widgets/base",
            "overflow": null,
            "_model_module_version": "1.2.0",
            "_view_count": null,
            "flex_flow": null,
            "width": null,
            "min_width": null,
            "border": null,
            "align_items": null,
            "bottom": null,
            "_model_module": "@jupyter-widgets/base",
            "top": null,
            "grid_column": null,
            "overflow_y": null,
            "overflow_x": null,
            "grid_auto_flow": null,
            "grid_area": null,
            "grid_template_columns": null,
            "flex": null,
            "_model_name": "LayoutModel",
            "justify_items": null,
            "grid_row": null,
            "max_height": null,
            "align_content": null,
            "visibility": null,
            "align_self": null,
            "height": null,
            "min_height": null,
            "padding": null,
            "grid_auto_rows": null,
            "grid_gap": null,
            "max_width": null,
            "order": null,
            "_view_module_version": "1.2.0",
            "grid_template_areas": null,
            "object_position": null,
            "object_fit": null,
            "grid_auto_columns": null,
            "margin": null,
            "display": null,
            "left": null
          }
        },
        "afe84ac1ca3c48f7a9eeb47d0a5df74d": {
          "model_module": "@jupyter-widgets/controls",
          "model_name": "DescriptionStyleModel",
          "model_module_version": "1.5.0",
          "state": {
            "_view_name": "StyleView",
            "_model_name": "DescriptionStyleModel",
            "description_width": "",
            "_view_module": "@jupyter-widgets/base",
            "_model_module_version": "1.5.0",
            "_view_count": null,
            "_view_module_version": "1.2.0",
            "_model_module": "@jupyter-widgets/controls"
          }
        },
        "cc066f6eb6184854ab0f1b5fed454bcc": {
          "model_module": "@jupyter-widgets/base",
          "model_name": "LayoutModel",
          "model_module_version": "1.2.0",
          "state": {
            "_view_name": "LayoutView",
            "grid_template_rows": null,
            "right": null,
            "justify_content": null,
            "_view_module": "@jupyter-widgets/base",
            "overflow": null,
            "_model_module_version": "1.2.0",
            "_view_count": null,
            "flex_flow": null,
            "width": null,
            "min_width": null,
            "border": null,
            "align_items": null,
            "bottom": null,
            "_model_module": "@jupyter-widgets/base",
            "top": null,
            "grid_column": null,
            "overflow_y": null,
            "overflow_x": null,
            "grid_auto_flow": null,
            "grid_area": null,
            "grid_template_columns": null,
            "flex": null,
            "_model_name": "LayoutModel",
            "justify_items": null,
            "grid_row": null,
            "max_height": null,
            "align_content": null,
            "visibility": null,
            "align_self": null,
            "height": null,
            "min_height": null,
            "padding": null,
            "grid_auto_rows": null,
            "grid_gap": null,
            "max_width": null,
            "order": null,
            "_view_module_version": "1.2.0",
            "grid_template_areas": null,
            "object_position": null,
            "object_fit": null,
            "grid_auto_columns": null,
            "margin": null,
            "display": null,
            "left": null
          }
        },
        "bf7d701421054b7fa8c8e6439fde17d3": {
          "model_module": "@jupyter-widgets/controls",
          "model_name": "HBoxModel",
          "model_module_version": "1.5.0",
          "state": {
            "_view_name": "HBoxView",
            "_dom_classes": [],
            "_model_name": "HBoxModel",
            "_view_module": "@jupyter-widgets/controls",
            "_model_module_version": "1.5.0",
            "_view_count": null,
            "_view_module_version": "1.5.0",
            "box_style": "",
            "layout": "IPY_MODEL_562db412c4584713a2f73e7e538158c8",
            "_model_module": "@jupyter-widgets/controls",
            "children": [
              "IPY_MODEL_ca0a37571b804232a014e09d83609123",
              "IPY_MODEL_ad25d4fe64d04f7c8dbf64ab96231f54",
              "IPY_MODEL_e99d894dd2644955ae5c425cdc77d8eb"
            ]
          }
        },
        "562db412c4584713a2f73e7e538158c8": {
          "model_module": "@jupyter-widgets/base",
          "model_name": "LayoutModel",
          "model_module_version": "1.2.0",
          "state": {
            "_view_name": "LayoutView",
            "grid_template_rows": null,
            "right": null,
            "justify_content": null,
            "_view_module": "@jupyter-widgets/base",
            "overflow": null,
            "_model_module_version": "1.2.0",
            "_view_count": null,
            "flex_flow": null,
            "width": null,
            "min_width": null,
            "border": null,
            "align_items": null,
            "bottom": null,
            "_model_module": "@jupyter-widgets/base",
            "top": null,
            "grid_column": null,
            "overflow_y": null,
            "overflow_x": null,
            "grid_auto_flow": null,
            "grid_area": null,
            "grid_template_columns": null,
            "flex": null,
            "_model_name": "LayoutModel",
            "justify_items": null,
            "grid_row": null,
            "max_height": null,
            "align_content": null,
            "visibility": null,
            "align_self": null,
            "height": null,
            "min_height": null,
            "padding": null,
            "grid_auto_rows": null,
            "grid_gap": null,
            "max_width": null,
            "order": null,
            "_view_module_version": "1.2.0",
            "grid_template_areas": null,
            "object_position": null,
            "object_fit": null,
            "grid_auto_columns": null,
            "margin": null,
            "display": null,
            "left": null
          }
        },
        "ca0a37571b804232a014e09d83609123": {
          "model_module": "@jupyter-widgets/controls",
          "model_name": "HTMLModel",
          "model_module_version": "1.5.0",
          "state": {
            "_view_name": "HTMLView",
            "style": "IPY_MODEL_5bd034044ad243fdb7d37b8ae17aeb64",
            "_dom_classes": [],
            "description": "",
            "_model_name": "HTMLModel",
            "placeholder": "​",
            "_view_module": "@jupyter-widgets/controls",
            "_model_module_version": "1.5.0",
            "value": "Downloading: 100%",
            "_view_count": null,
            "_view_module_version": "1.5.0",
            "description_tooltip": null,
            "_model_module": "@jupyter-widgets/controls",
            "layout": "IPY_MODEL_c80ca9ce0c474940ba2627ad4e1eb2ab"
          }
        },
        "ad25d4fe64d04f7c8dbf64ab96231f54": {
          "model_module": "@jupyter-widgets/controls",
          "model_name": "FloatProgressModel",
          "model_module_version": "1.5.0",
          "state": {
            "_view_name": "ProgressView",
            "style": "IPY_MODEL_658f3dd78c1c40c4aa556f58441bb8bf",
            "_dom_classes": [],
            "description": "",
            "_model_name": "FloatProgressModel",
            "bar_style": "success",
            "max": 456318,
            "_view_module": "@jupyter-widgets/controls",
            "_model_module_version": "1.5.0",
            "value": 456318,
            "_view_count": null,
            "_view_module_version": "1.5.0",
            "orientation": "horizontal",
            "min": 0,
            "description_tooltip": null,
            "_model_module": "@jupyter-widgets/controls",
            "layout": "IPY_MODEL_77e4b1c1c17841ac89b7e0b50f4085fe"
          }
        },
        "e99d894dd2644955ae5c425cdc77d8eb": {
          "model_module": "@jupyter-widgets/controls",
          "model_name": "HTMLModel",
          "model_module_version": "1.5.0",
          "state": {
            "_view_name": "HTMLView",
            "style": "IPY_MODEL_bcf95c0cfc92454cb379320775fbb767",
            "_dom_classes": [],
            "description": "",
            "_model_name": "HTMLModel",
            "placeholder": "​",
            "_view_module": "@jupyter-widgets/controls",
            "_model_module_version": "1.5.0",
            "value": " 446k/446k [00:00&lt;00:00, 863kB/s]",
            "_view_count": null,
            "_view_module_version": "1.5.0",
            "description_tooltip": null,
            "_model_module": "@jupyter-widgets/controls",
            "layout": "IPY_MODEL_0a9dad9287e24be396d4b6c69d93f3cc"
          }
        },
        "5bd034044ad243fdb7d37b8ae17aeb64": {
          "model_module": "@jupyter-widgets/controls",
          "model_name": "DescriptionStyleModel",
          "model_module_version": "1.5.0",
          "state": {
            "_view_name": "StyleView",
            "_model_name": "DescriptionStyleModel",
            "description_width": "",
            "_view_module": "@jupyter-widgets/base",
            "_model_module_version": "1.5.0",
            "_view_count": null,
            "_view_module_version": "1.2.0",
            "_model_module": "@jupyter-widgets/controls"
          }
        },
        "c80ca9ce0c474940ba2627ad4e1eb2ab": {
          "model_module": "@jupyter-widgets/base",
          "model_name": "LayoutModel",
          "model_module_version": "1.2.0",
          "state": {
            "_view_name": "LayoutView",
            "grid_template_rows": null,
            "right": null,
            "justify_content": null,
            "_view_module": "@jupyter-widgets/base",
            "overflow": null,
            "_model_module_version": "1.2.0",
            "_view_count": null,
            "flex_flow": null,
            "width": null,
            "min_width": null,
            "border": null,
            "align_items": null,
            "bottom": null,
            "_model_module": "@jupyter-widgets/base",
            "top": null,
            "grid_column": null,
            "overflow_y": null,
            "overflow_x": null,
            "grid_auto_flow": null,
            "grid_area": null,
            "grid_template_columns": null,
            "flex": null,
            "_model_name": "LayoutModel",
            "justify_items": null,
            "grid_row": null,
            "max_height": null,
            "align_content": null,
            "visibility": null,
            "align_self": null,
            "height": null,
            "min_height": null,
            "padding": null,
            "grid_auto_rows": null,
            "grid_gap": null,
            "max_width": null,
            "order": null,
            "_view_module_version": "1.2.0",
            "grid_template_areas": null,
            "object_position": null,
            "object_fit": null,
            "grid_auto_columns": null,
            "margin": null,
            "display": null,
            "left": null
          }
        },
        "658f3dd78c1c40c4aa556f58441bb8bf": {
          "model_module": "@jupyter-widgets/controls",
          "model_name": "ProgressStyleModel",
          "model_module_version": "1.5.0",
          "state": {
            "_view_name": "StyleView",
            "_model_name": "ProgressStyleModel",
            "description_width": "",
            "_view_module": "@jupyter-widgets/base",
            "_model_module_version": "1.5.0",
            "_view_count": null,
            "_view_module_version": "1.2.0",
            "bar_color": null,
            "_model_module": "@jupyter-widgets/controls"
          }
        },
        "77e4b1c1c17841ac89b7e0b50f4085fe": {
          "model_module": "@jupyter-widgets/base",
          "model_name": "LayoutModel",
          "model_module_version": "1.2.0",
          "state": {
            "_view_name": "LayoutView",
            "grid_template_rows": null,
            "right": null,
            "justify_content": null,
            "_view_module": "@jupyter-widgets/base",
            "overflow": null,
            "_model_module_version": "1.2.0",
            "_view_count": null,
            "flex_flow": null,
            "width": null,
            "min_width": null,
            "border": null,
            "align_items": null,
            "bottom": null,
            "_model_module": "@jupyter-widgets/base",
            "top": null,
            "grid_column": null,
            "overflow_y": null,
            "overflow_x": null,
            "grid_auto_flow": null,
            "grid_area": null,
            "grid_template_columns": null,
            "flex": null,
            "_model_name": "LayoutModel",
            "justify_items": null,
            "grid_row": null,
            "max_height": null,
            "align_content": null,
            "visibility": null,
            "align_self": null,
            "height": null,
            "min_height": null,
            "padding": null,
            "grid_auto_rows": null,
            "grid_gap": null,
            "max_width": null,
            "order": null,
            "_view_module_version": "1.2.0",
            "grid_template_areas": null,
            "object_position": null,
            "object_fit": null,
            "grid_auto_columns": null,
            "margin": null,
            "display": null,
            "left": null
          }
        },
        "bcf95c0cfc92454cb379320775fbb767": {
          "model_module": "@jupyter-widgets/controls",
          "model_name": "DescriptionStyleModel",
          "model_module_version": "1.5.0",
          "state": {
            "_view_name": "StyleView",
            "_model_name": "DescriptionStyleModel",
            "description_width": "",
            "_view_module": "@jupyter-widgets/base",
            "_model_module_version": "1.5.0",
            "_view_count": null,
            "_view_module_version": "1.2.0",
            "_model_module": "@jupyter-widgets/controls"
          }
        },
        "0a9dad9287e24be396d4b6c69d93f3cc": {
          "model_module": "@jupyter-widgets/base",
          "model_name": "LayoutModel",
          "model_module_version": "1.2.0",
          "state": {
            "_view_name": "LayoutView",
            "grid_template_rows": null,
            "right": null,
            "justify_content": null,
            "_view_module": "@jupyter-widgets/base",
            "overflow": null,
            "_model_module_version": "1.2.0",
            "_view_count": null,
            "flex_flow": null,
            "width": null,
            "min_width": null,
            "border": null,
            "align_items": null,
            "bottom": null,
            "_model_module": "@jupyter-widgets/base",
            "top": null,
            "grid_column": null,
            "overflow_y": null,
            "overflow_x": null,
            "grid_auto_flow": null,
            "grid_area": null,
            "grid_template_columns": null,
            "flex": null,
            "_model_name": "LayoutModel",
            "justify_items": null,
            "grid_row": null,
            "max_height": null,
            "align_content": null,
            "visibility": null,
            "align_self": null,
            "height": null,
            "min_height": null,
            "padding": null,
            "grid_auto_rows": null,
            "grid_gap": null,
            "max_width": null,
            "order": null,
            "_view_module_version": "1.2.0",
            "grid_template_areas": null,
            "object_position": null,
            "object_fit": null,
            "grid_auto_columns": null,
            "margin": null,
            "display": null,
            "left": null
          }
        },
        "d9f84da711e6446bab7f253a7fbeeb0f": {
          "model_module": "@jupyter-widgets/controls",
          "model_name": "HBoxModel",
          "model_module_version": "1.5.0",
          "state": {
            "_view_name": "HBoxView",
            "_dom_classes": [],
            "_model_name": "HBoxModel",
            "_view_module": "@jupyter-widgets/controls",
            "_model_module_version": "1.5.0",
            "_view_count": null,
            "_view_module_version": "1.5.0",
            "box_style": "",
            "layout": "IPY_MODEL_1d6ad34835b245faa6198eca54b01825",
            "_model_module": "@jupyter-widgets/controls",
            "children": [
              "IPY_MODEL_64994b7be2fd4668b3892541cac23b60",
              "IPY_MODEL_ceeddc739f9f47b0a4c363c5dc3611f6",
              "IPY_MODEL_603cf12377784c34847564565c9e76c4"
            ]
          }
        },
        "1d6ad34835b245faa6198eca54b01825": {
          "model_module": "@jupyter-widgets/base",
          "model_name": "LayoutModel",
          "model_module_version": "1.2.0",
          "state": {
            "_view_name": "LayoutView",
            "grid_template_rows": null,
            "right": null,
            "justify_content": null,
            "_view_module": "@jupyter-widgets/base",
            "overflow": null,
            "_model_module_version": "1.2.0",
            "_view_count": null,
            "flex_flow": null,
            "width": null,
            "min_width": null,
            "border": null,
            "align_items": null,
            "bottom": null,
            "_model_module": "@jupyter-widgets/base",
            "top": null,
            "grid_column": null,
            "overflow_y": null,
            "overflow_x": null,
            "grid_auto_flow": null,
            "grid_area": null,
            "grid_template_columns": null,
            "flex": null,
            "_model_name": "LayoutModel",
            "justify_items": null,
            "grid_row": null,
            "max_height": null,
            "align_content": null,
            "visibility": null,
            "align_self": null,
            "height": null,
            "min_height": null,
            "padding": null,
            "grid_auto_rows": null,
            "grid_gap": null,
            "max_width": null,
            "order": null,
            "_view_module_version": "1.2.0",
            "grid_template_areas": null,
            "object_position": null,
            "object_fit": null,
            "grid_auto_columns": null,
            "margin": null,
            "display": null,
            "left": null
          }
        },
        "64994b7be2fd4668b3892541cac23b60": {
          "model_module": "@jupyter-widgets/controls",
          "model_name": "HTMLModel",
          "model_module_version": "1.5.0",
          "state": {
            "_view_name": "HTMLView",
            "style": "IPY_MODEL_efcbfc61a21a4f1a86ce62d312c08ac8",
            "_dom_classes": [],
            "description": "",
            "_model_name": "HTMLModel",
            "placeholder": "​",
            "_view_module": "@jupyter-widgets/controls",
            "_model_module_version": "1.5.0",
            "value": "Downloading: 100%",
            "_view_count": null,
            "_view_module_version": "1.5.0",
            "description_tooltip": null,
            "_model_module": "@jupyter-widgets/controls",
            "layout": "IPY_MODEL_0e45905283874391ac026acfa96b411c"
          }
        },
        "ceeddc739f9f47b0a4c363c5dc3611f6": {
          "model_module": "@jupyter-widgets/controls",
          "model_name": "FloatProgressModel",
          "model_module_version": "1.5.0",
          "state": {
            "_view_name": "ProgressView",
            "style": "IPY_MODEL_c728f987e8c44662a7f514ce0645f069",
            "_dom_classes": [],
            "description": "",
            "_model_name": "FloatProgressModel",
            "bar_style": "success",
            "max": 351265583,
            "_view_module": "@jupyter-widgets/controls",
            "_model_module_version": "1.5.0",
            "value": 351265583,
            "_view_count": null,
            "_view_module_version": "1.5.0",
            "orientation": "horizontal",
            "min": 0,
            "description_tooltip": null,
            "_model_module": "@jupyter-widgets/controls",
            "layout": "IPY_MODEL_f9d1e15123af4815b5fcbe4067134638"
          }
        },
        "603cf12377784c34847564565c9e76c4": {
          "model_module": "@jupyter-widgets/controls",
          "model_name": "HTMLModel",
          "model_module_version": "1.5.0",
          "state": {
            "_view_name": "HTMLView",
            "style": "IPY_MODEL_af237b0541d04261ac412ededd7aed01",
            "_dom_classes": [],
            "description": "",
            "_model_name": "HTMLModel",
            "placeholder": "​",
            "_view_module": "@jupyter-widgets/controls",
            "_model_module_version": "1.5.0",
            "value": " 335M/335M [00:09&lt;00:00, 38.9MB/s]",
            "_view_count": null,
            "_view_module_version": "1.5.0",
            "description_tooltip": null,
            "_model_module": "@jupyter-widgets/controls",
            "layout": "IPY_MODEL_a3f62439e73740929e98075b0f7b784f"
          }
        },
        "efcbfc61a21a4f1a86ce62d312c08ac8": {
          "model_module": "@jupyter-widgets/controls",
          "model_name": "DescriptionStyleModel",
          "model_module_version": "1.5.0",
          "state": {
            "_view_name": "StyleView",
            "_model_name": "DescriptionStyleModel",
            "description_width": "",
            "_view_module": "@jupyter-widgets/base",
            "_model_module_version": "1.5.0",
            "_view_count": null,
            "_view_module_version": "1.2.0",
            "_model_module": "@jupyter-widgets/controls"
          }
        },
        "0e45905283874391ac026acfa96b411c": {
          "model_module": "@jupyter-widgets/base",
          "model_name": "LayoutModel",
          "model_module_version": "1.2.0",
          "state": {
            "_view_name": "LayoutView",
            "grid_template_rows": null,
            "right": null,
            "justify_content": null,
            "_view_module": "@jupyter-widgets/base",
            "overflow": null,
            "_model_module_version": "1.2.0",
            "_view_count": null,
            "flex_flow": null,
            "width": null,
            "min_width": null,
            "border": null,
            "align_items": null,
            "bottom": null,
            "_model_module": "@jupyter-widgets/base",
            "top": null,
            "grid_column": null,
            "overflow_y": null,
            "overflow_x": null,
            "grid_auto_flow": null,
            "grid_area": null,
            "grid_template_columns": null,
            "flex": null,
            "_model_name": "LayoutModel",
            "justify_items": null,
            "grid_row": null,
            "max_height": null,
            "align_content": null,
            "visibility": null,
            "align_self": null,
            "height": null,
            "min_height": null,
            "padding": null,
            "grid_auto_rows": null,
            "grid_gap": null,
            "max_width": null,
            "order": null,
            "_view_module_version": "1.2.0",
            "grid_template_areas": null,
            "object_position": null,
            "object_fit": null,
            "grid_auto_columns": null,
            "margin": null,
            "display": null,
            "left": null
          }
        },
        "c728f987e8c44662a7f514ce0645f069": {
          "model_module": "@jupyter-widgets/controls",
          "model_name": "ProgressStyleModel",
          "model_module_version": "1.5.0",
          "state": {
            "_view_name": "StyleView",
            "_model_name": "ProgressStyleModel",
            "description_width": "",
            "_view_module": "@jupyter-widgets/base",
            "_model_module_version": "1.5.0",
            "_view_count": null,
            "_view_module_version": "1.2.0",
            "bar_color": null,
            "_model_module": "@jupyter-widgets/controls"
          }
        },
        "f9d1e15123af4815b5fcbe4067134638": {
          "model_module": "@jupyter-widgets/base",
          "model_name": "LayoutModel",
          "model_module_version": "1.2.0",
          "state": {
            "_view_name": "LayoutView",
            "grid_template_rows": null,
            "right": null,
            "justify_content": null,
            "_view_module": "@jupyter-widgets/base",
            "overflow": null,
            "_model_module_version": "1.2.0",
            "_view_count": null,
            "flex_flow": null,
            "width": null,
            "min_width": null,
            "border": null,
            "align_items": null,
            "bottom": null,
            "_model_module": "@jupyter-widgets/base",
            "top": null,
            "grid_column": null,
            "overflow_y": null,
            "overflow_x": null,
            "grid_auto_flow": null,
            "grid_area": null,
            "grid_template_columns": null,
            "flex": null,
            "_model_name": "LayoutModel",
            "justify_items": null,
            "grid_row": null,
            "max_height": null,
            "align_content": null,
            "visibility": null,
            "align_self": null,
            "height": null,
            "min_height": null,
            "padding": null,
            "grid_auto_rows": null,
            "grid_gap": null,
            "max_width": null,
            "order": null,
            "_view_module_version": "1.2.0",
            "grid_template_areas": null,
            "object_position": null,
            "object_fit": null,
            "grid_auto_columns": null,
            "margin": null,
            "display": null,
            "left": null
          }
        },
        "af237b0541d04261ac412ededd7aed01": {
          "model_module": "@jupyter-widgets/controls",
          "model_name": "DescriptionStyleModel",
          "model_module_version": "1.5.0",
          "state": {
            "_view_name": "StyleView",
            "_model_name": "DescriptionStyleModel",
            "description_width": "",
            "_view_module": "@jupyter-widgets/base",
            "_model_module_version": "1.5.0",
            "_view_count": null,
            "_view_module_version": "1.2.0",
            "_model_module": "@jupyter-widgets/controls"
          }
        },
        "a3f62439e73740929e98075b0f7b784f": {
          "model_module": "@jupyter-widgets/base",
          "model_name": "LayoutModel",
          "model_module_version": "1.2.0",
          "state": {
            "_view_name": "LayoutView",
            "grid_template_rows": null,
            "right": null,
            "justify_content": null,
            "_view_module": "@jupyter-widgets/base",
            "overflow": null,
            "_model_module_version": "1.2.0",
            "_view_count": null,
            "flex_flow": null,
            "width": null,
            "min_width": null,
            "border": null,
            "align_items": null,
            "bottom": null,
            "_model_module": "@jupyter-widgets/base",
            "top": null,
            "grid_column": null,
            "overflow_y": null,
            "overflow_x": null,
            "grid_auto_flow": null,
            "grid_area": null,
            "grid_template_columns": null,
            "flex": null,
            "_model_name": "LayoutModel",
            "justify_items": null,
            "grid_row": null,
            "max_height": null,
            "align_content": null,
            "visibility": null,
            "align_self": null,
            "height": null,
            "min_height": null,
            "padding": null,
            "grid_auto_rows": null,
            "grid_gap": null,
            "max_width": null,
            "order": null,
            "_view_module_version": "1.2.0",
            "grid_template_areas": null,
            "object_position": null,
            "object_fit": null,
            "grid_auto_columns": null,
            "margin": null,
            "display": null,
            "left": null
          }
        }
      }
    }
  },
  "cells": [
    {
      "cell_type": "code",
      "metadata": {
        "id": "JJRXZJd7Fc-t",
        "colab": {
          "base_uri": "https://localhost:8080/"
        },
        "outputId": "56ed668f-fbce-43f9-826f-865f00080806"
      },
      "source": [
        "from google.colab import drive\n",
        "drive.mount('/content/drive/')"
      ],
      "execution_count": 7,
      "outputs": [
        {
          "output_type": "stream",
          "name": "stdout",
          "text": [
            "Drive already mounted at /content/drive/; to attempt to forcibly remount, call drive.mount(\"/content/drive/\", force_remount=True).\n"
          ]
        }
      ]
    },
    {
      "cell_type": "code",
      "metadata": {
        "id": "dFQhxqyAFeE5",
        "colab": {
          "base_uri": "https://localhost:8080/"
        },
        "outputId": "5f3b78e1-2102-4e37-8f93-a082abd368d2"
      },
      "source": [
        "!pip install transformers\n",
        "!pip install datasets\n",
        "!pip install pytorch_pretrained_bert\n",
        "\n",
        "!pip install rouge/requirements.txt\n",
        "!pip install rouge-score"
      ],
      "execution_count": 6,
      "outputs": [
        {
          "output_type": "stream",
          "name": "stdout",
          "text": [
            "Requirement already satisfied: transformers in /usr/local/lib/python3.7/dist-packages (4.13.0)\n",
            "Requirement already satisfied: tqdm>=4.27 in /usr/local/lib/python3.7/dist-packages (from transformers) (4.62.3)\n",
            "Requirement already satisfied: pyyaml>=5.1 in /usr/local/lib/python3.7/dist-packages (from transformers) (6.0)\n",
            "Requirement already satisfied: importlib-metadata in /usr/local/lib/python3.7/dist-packages (from transformers) (4.8.2)\n",
            "Requirement already satisfied: sacremoses in /usr/local/lib/python3.7/dist-packages (from transformers) (0.0.46)\n",
            "Requirement already satisfied: regex!=2019.12.17 in /usr/local/lib/python3.7/dist-packages (from transformers) (2019.12.20)\n",
            "Requirement already satisfied: packaging>=20.0 in /usr/local/lib/python3.7/dist-packages (from transformers) (21.3)\n",
            "Requirement already satisfied: huggingface-hub<1.0,>=0.1.0 in /usr/local/lib/python3.7/dist-packages (from transformers) (0.2.1)\n",
            "Requirement already satisfied: requests in /usr/local/lib/python3.7/dist-packages (from transformers) (2.23.0)\n",
            "Requirement already satisfied: numpy>=1.17 in /usr/local/lib/python3.7/dist-packages (from transformers) (1.19.5)\n",
            "Requirement already satisfied: filelock in /usr/local/lib/python3.7/dist-packages (from transformers) (3.4.0)\n",
            "Requirement already satisfied: tokenizers<0.11,>=0.10.1 in /usr/local/lib/python3.7/dist-packages (from transformers) (0.10.3)\n",
            "Requirement already satisfied: typing-extensions>=3.7.4.3 in /usr/local/lib/python3.7/dist-packages (from huggingface-hub<1.0,>=0.1.0->transformers) (3.10.0.2)\n",
            "Requirement already satisfied: pyparsing!=3.0.5,>=2.0.2 in /usr/local/lib/python3.7/dist-packages (from packaging>=20.0->transformers) (3.0.6)\n",
            "Requirement already satisfied: zipp>=0.5 in /usr/local/lib/python3.7/dist-packages (from importlib-metadata->transformers) (3.6.0)\n",
            "Requirement already satisfied: chardet<4,>=3.0.2 in /usr/local/lib/python3.7/dist-packages (from requests->transformers) (3.0.4)\n",
            "Requirement already satisfied: idna<3,>=2.5 in /usr/local/lib/python3.7/dist-packages (from requests->transformers) (2.10)\n",
            "Requirement already satisfied: certifi>=2017.4.17 in /usr/local/lib/python3.7/dist-packages (from requests->transformers) (2021.10.8)\n",
            "Requirement already satisfied: urllib3!=1.25.0,!=1.25.1,<1.26,>=1.21.1 in /usr/local/lib/python3.7/dist-packages (from requests->transformers) (1.25.11)\n",
            "Requirement already satisfied: click in /usr/local/lib/python3.7/dist-packages (from sacremoses->transformers) (7.1.2)\n",
            "Requirement already satisfied: joblib in /usr/local/lib/python3.7/dist-packages (from sacremoses->transformers) (1.1.0)\n",
            "Requirement already satisfied: six in /usr/local/lib/python3.7/dist-packages (from sacremoses->transformers) (1.15.0)\n",
            "Requirement already satisfied: datasets in /usr/local/lib/python3.7/dist-packages (1.16.1)\n",
            "Requirement already satisfied: numpy>=1.17 in /usr/local/lib/python3.7/dist-packages (from datasets) (1.19.5)\n",
            "Requirement already satisfied: requests>=2.19.0 in /usr/local/lib/python3.7/dist-packages (from datasets) (2.23.0)\n",
            "Requirement already satisfied: pandas in /usr/local/lib/python3.7/dist-packages (from datasets) (1.1.5)\n",
            "Requirement already satisfied: xxhash in /usr/local/lib/python3.7/dist-packages (from datasets) (2.0.2)\n",
            "Requirement already satisfied: huggingface-hub<1.0.0,>=0.1.0 in /usr/local/lib/python3.7/dist-packages (from datasets) (0.2.1)\n",
            "Requirement already satisfied: packaging in /usr/local/lib/python3.7/dist-packages (from datasets) (21.3)\n",
            "Requirement already satisfied: aiohttp in /usr/local/lib/python3.7/dist-packages (from datasets) (3.8.1)\n",
            "Requirement already satisfied: multiprocess in /usr/local/lib/python3.7/dist-packages (from datasets) (0.70.12.2)\n",
            "Requirement already satisfied: tqdm>=4.62.1 in /usr/local/lib/python3.7/dist-packages (from datasets) (4.62.3)\n",
            "Requirement already satisfied: importlib-metadata in /usr/local/lib/python3.7/dist-packages (from datasets) (4.8.2)\n",
            "Requirement already satisfied: pyarrow!=4.0.0,>=3.0.0 in /usr/local/lib/python3.7/dist-packages (from datasets) (3.0.0)\n",
            "Requirement already satisfied: dill in /usr/local/lib/python3.7/dist-packages (from datasets) (0.3.4)\n",
            "Requirement already satisfied: fsspec[http]>=2021.05.0 in /usr/local/lib/python3.7/dist-packages (from datasets) (2021.11.1)\n",
            "Requirement already satisfied: typing-extensions>=3.7.4.3 in /usr/local/lib/python3.7/dist-packages (from huggingface-hub<1.0.0,>=0.1.0->datasets) (3.10.0.2)\n",
            "Requirement already satisfied: pyyaml in /usr/local/lib/python3.7/dist-packages (from huggingface-hub<1.0.0,>=0.1.0->datasets) (6.0)\n",
            "Requirement already satisfied: filelock in /usr/local/lib/python3.7/dist-packages (from huggingface-hub<1.0.0,>=0.1.0->datasets) (3.4.0)\n",
            "Requirement already satisfied: pyparsing!=3.0.5,>=2.0.2 in /usr/local/lib/python3.7/dist-packages (from packaging->datasets) (3.0.6)\n",
            "Requirement already satisfied: idna<3,>=2.5 in /usr/local/lib/python3.7/dist-packages (from requests>=2.19.0->datasets) (2.10)\n",
            "Requirement already satisfied: certifi>=2017.4.17 in /usr/local/lib/python3.7/dist-packages (from requests>=2.19.0->datasets) (2021.10.8)\n",
            "Requirement already satisfied: chardet<4,>=3.0.2 in /usr/local/lib/python3.7/dist-packages (from requests>=2.19.0->datasets) (3.0.4)\n",
            "Requirement already satisfied: urllib3!=1.25.0,!=1.25.1,<1.26,>=1.21.1 in /usr/local/lib/python3.7/dist-packages (from requests>=2.19.0->datasets) (1.25.11)\n",
            "Requirement already satisfied: attrs>=17.3.0 in /usr/local/lib/python3.7/dist-packages (from aiohttp->datasets) (21.2.0)\n",
            "Requirement already satisfied: yarl<2.0,>=1.0 in /usr/local/lib/python3.7/dist-packages (from aiohttp->datasets) (1.7.2)\n",
            "Requirement already satisfied: multidict<7.0,>=4.5 in /usr/local/lib/python3.7/dist-packages (from aiohttp->datasets) (5.2.0)\n",
            "Requirement already satisfied: asynctest==0.13.0 in /usr/local/lib/python3.7/dist-packages (from aiohttp->datasets) (0.13.0)\n",
            "Requirement already satisfied: frozenlist>=1.1.1 in /usr/local/lib/python3.7/dist-packages (from aiohttp->datasets) (1.2.0)\n",
            "Requirement already satisfied: async-timeout<5.0,>=4.0.0a3 in /usr/local/lib/python3.7/dist-packages (from aiohttp->datasets) (4.0.1)\n",
            "Requirement already satisfied: aiosignal>=1.1.2 in /usr/local/lib/python3.7/dist-packages (from aiohttp->datasets) (1.2.0)\n",
            "Requirement already satisfied: charset-normalizer<3.0,>=2.0 in /usr/local/lib/python3.7/dist-packages (from aiohttp->datasets) (2.0.8)\n",
            "Requirement already satisfied: zipp>=0.5 in /usr/local/lib/python3.7/dist-packages (from importlib-metadata->datasets) (3.6.0)\n",
            "Requirement already satisfied: python-dateutil>=2.7.3 in /usr/local/lib/python3.7/dist-packages (from pandas->datasets) (2.8.2)\n",
            "Requirement already satisfied: pytz>=2017.2 in /usr/local/lib/python3.7/dist-packages (from pandas->datasets) (2018.9)\n",
            "Requirement already satisfied: six>=1.5 in /usr/local/lib/python3.7/dist-packages (from python-dateutil>=2.7.3->pandas->datasets) (1.15.0)\n",
            "Requirement already satisfied: pytorch_pretrained_bert in /usr/local/lib/python3.7/dist-packages (0.6.2)\n",
            "Requirement already satisfied: torch>=0.4.1 in /usr/local/lib/python3.7/dist-packages (from pytorch_pretrained_bert) (1.10.0+cu111)\n",
            "Requirement already satisfied: requests in /usr/local/lib/python3.7/dist-packages (from pytorch_pretrained_bert) (2.23.0)\n",
            "Requirement already satisfied: numpy in /usr/local/lib/python3.7/dist-packages (from pytorch_pretrained_bert) (1.19.5)\n",
            "Requirement already satisfied: regex in /usr/local/lib/python3.7/dist-packages (from pytorch_pretrained_bert) (2019.12.20)\n",
            "Requirement already satisfied: tqdm in /usr/local/lib/python3.7/dist-packages (from pytorch_pretrained_bert) (4.62.3)\n",
            "Requirement already satisfied: boto3 in /usr/local/lib/python3.7/dist-packages (from pytorch_pretrained_bert) (1.20.23)\n",
            "Requirement already satisfied: typing-extensions in /usr/local/lib/python3.7/dist-packages (from torch>=0.4.1->pytorch_pretrained_bert) (3.10.0.2)\n",
            "Requirement already satisfied: s3transfer<0.6.0,>=0.5.0 in /usr/local/lib/python3.7/dist-packages (from boto3->pytorch_pretrained_bert) (0.5.0)\n",
            "Requirement already satisfied: jmespath<1.0.0,>=0.7.1 in /usr/local/lib/python3.7/dist-packages (from boto3->pytorch_pretrained_bert) (0.10.0)\n",
            "Requirement already satisfied: botocore<1.24.0,>=1.23.23 in /usr/local/lib/python3.7/dist-packages (from boto3->pytorch_pretrained_bert) (1.23.23)\n",
            "Requirement already satisfied: python-dateutil<3.0.0,>=2.1 in /usr/local/lib/python3.7/dist-packages (from botocore<1.24.0,>=1.23.23->boto3->pytorch_pretrained_bert) (2.8.2)\n",
            "Requirement already satisfied: urllib3<1.27,>=1.25.4 in /usr/local/lib/python3.7/dist-packages (from botocore<1.24.0,>=1.23.23->boto3->pytorch_pretrained_bert) (1.25.11)\n",
            "Requirement already satisfied: six>=1.5 in /usr/local/lib/python3.7/dist-packages (from python-dateutil<3.0.0,>=2.1->botocore<1.24.0,>=1.23.23->boto3->pytorch_pretrained_bert) (1.15.0)\n",
            "Requirement already satisfied: idna<3,>=2.5 in /usr/local/lib/python3.7/dist-packages (from requests->pytorch_pretrained_bert) (2.10)\n",
            "Requirement already satisfied: chardet<4,>=3.0.2 in /usr/local/lib/python3.7/dist-packages (from requests->pytorch_pretrained_bert) (3.0.4)\n",
            "Requirement already satisfied: certifi>=2017.4.17 in /usr/local/lib/python3.7/dist-packages (from requests->pytorch_pretrained_bert) (2021.10.8)\n",
            "\u001b[31mERROR: Invalid requirement: 'rouge/requirements.txt'\n",
            "Hint: It looks like a path. File 'rouge/requirements.txt' does not exist.\u001b[0m\n",
            "Collecting rouge-score\n",
            "  Downloading rouge_score-0.0.4-py2.py3-none-any.whl (22 kB)\n",
            "Requirement already satisfied: six>=1.14.0 in /usr/local/lib/python3.7/dist-packages (from rouge-score) (1.15.0)\n",
            "Requirement already satisfied: nltk in /usr/local/lib/python3.7/dist-packages (from rouge-score) (3.2.5)\n",
            "Requirement already satisfied: numpy in /usr/local/lib/python3.7/dist-packages (from rouge-score) (1.19.5)\n",
            "Requirement already satisfied: absl-py in /usr/local/lib/python3.7/dist-packages (from rouge-score) (0.12.0)\n",
            "Installing collected packages: rouge-score\n",
            "Successfully installed rouge-score-0.0.4\n"
          ]
        }
      ]
    },
    {
      "cell_type": "code",
      "metadata": {
        "colab": {
          "base_uri": "https://localhost:8080/"
        },
        "id": "oOglUtjNXXc0",
        "outputId": "3630a31a-a984-40e4-d03a-1848e3278d31"
      },
      "source": [
        "%cd '/content/drive/MyDrive/CS685/'"
      ],
      "execution_count": 8,
      "outputs": [
        {
          "output_type": "stream",
          "name": "stdout",
          "text": [
            "/content/drive/MyDrive/CS685\n"
          ]
        }
      ]
    },
    {
      "cell_type": "code",
      "metadata": {
        "id": "DPHKlzSVsWJL",
        "colab": {
          "base_uri": "https://localhost:8080/"
        },
        "outputId": "0fa65b2b-8ca7-4f53-c550-4e61f7ba0466"
      },
      "source": [
        "import os\n",
        "import time\n",
        "# from google.colab import drive\n",
        "\n",
        "import json\n",
        "import pandas as pd\n",
        "import seaborn as sns\n",
        "import numpy as np\n",
        "import random\n",
        "\n",
        "import matplotlib.pyplot as plt\n",
        "%matplotlib inline\n",
        "\n",
        "import torch\n",
        "from torch.utils.data import Dataset, DataLoader, random_split, RandomSampler, SequentialSampler\n",
        "\n",
        "from transformers import AutoModelForCausalLM, AutoTokenizer, AdamW, GPT2LMHeadModel, \\\n",
        "GPT2DoubleHeadsModel, GPT2TokenizerFast, GPT2Config, BertTokenizer\n",
        "from transformers import AdamW, get_linear_schedule_with_warmup\n",
        "\n",
        "from datasets import load_dataset\n",
        "from helper import format_time, rouge\n",
        "from data import GPT2Dataset, preprocessing, split_data\n",
        "from plots import loss_curves\n",
        "\n",
        "import nltk\n",
        "nltk.download('punkt')"
      ],
      "execution_count": 9,
      "outputs": [
        {
          "output_type": "stream",
          "name": "stdout",
          "text": [
            "[nltk_data] Downloading package punkt to /root/nltk_data...\n",
            "[nltk_data]   Unzipping tokenizers/punkt.zip.\n"
          ]
        },
        {
          "output_type": "execute_result",
          "data": {
            "text/plain": [
              "True"
            ]
          },
          "metadata": {},
          "execution_count": 9
        }
      ]
    },
    {
      "cell_type": "code",
      "source": [
        "seed_val = 42\n",
        "random.seed(seed_val)\n",
        "np.random.seed(seed_val)\n",
        "torch.manual_seed(seed_val)\n",
        "torch.cuda.manual_seed_all(seed_val)"
      ],
      "metadata": {
        "id": "JXKZAvhA40FI"
      },
      "execution_count": 10,
      "outputs": []
    },
    {
      "cell_type": "code",
      "metadata": {
        "id": "oT0Yc_OmsWJP",
        "colab": {
          "base_uri": "https://localhost:8080/",
          "height": 286,
          "referenced_widgets": [
            "b6d174247d4342b59d7227a8d6b4c334",
            "e5d4d3d57daa4b2581b1c7b466574ca5",
            "bddc2a362a884967a346e3ae0a1f2f9b",
            "b71e4f9b3b194dd9b7049c90096104e8",
            "139c9adab38f4826aba7a34c5241691d",
            "e6bd7663b0f24aeeb8ec2ad79adf4363",
            "87896543e319434e82ebbf72f98d31ce",
            "f90dfa64241248269279598a07e1533f",
            "b9d4f3ffe93848f684b4e2aba581bfc5",
            "3e64a89d362846e082f804f9e8baf8b2",
            "141044209f7a4e8c9f54873a9a1770f6",
            "86e85f56639440f193ba89d8270f2a4b",
            "066c5c57ab5c4a3788d0f56f366f15a1",
            "d5e6e11e6c804097b8edbb2be59b4484",
            "b296e4e4844d4139b014b157f0801ecc",
            "c68015e6d1da4a459cf3911fbdf4d807",
            "a4a5930ae80a49a9b3d77827f2e0ac13",
            "650cdb6b7afc4a929bcfa90b79a34bd2",
            "02300393144d439588cfca11341510f2",
            "ee246fe0d7bd498caa2392e74759d47c",
            "ed268e7b78724f788c9fc7b2736638ce",
            "b3911bef44694e98999eed554179ff39",
            "65395ccd704947479df654455bfb0241",
            "362b07de9a994861a0b8b447e1a959ed",
            "4ffe319b07664a53a40d43f136847e9e",
            "6bc7098ccb794658bcc2d87bc2e44714",
            "328dacd222d3433d89e2e49239183575",
            "44e4259c4145479f85297f558356bbee",
            "adc7804c38d34743b2e741d3d6dd9b4c",
            "9301bcd31b5d4704beeec48c98bb1a71",
            "8e7ef86ef1624812937d4f40b169c29b",
            "2ff4762b4418458baa95d9b3c1a19e12",
            "77c96c95771b4dfa99e0ba5ee81283e3",
            "775ac963636042ccb9380701f4c76d27",
            "f43e4111e8814227993700117d881906",
            "394b597a5bb546f187405ddeb9d9d9ba",
            "037f2085a5754e75abd2d535ef340cd6",
            "7fc5e74104094f6f8a634d43562a8a6a",
            "cbfa108d7cb94c2098e732b39d9f3f61",
            "1917512d6c9842d290e88e1b3636492b",
            "bef74afe179a41bfa8ef4e9e91de6ae7",
            "97dabd2a0fa64d42aa29686abd9c4d33",
            "51feb87bb17049bdbf4f3b1612f8a4e1",
            "4edb7de3cc7b421cb4d293033e5bb9e9"
          ]
        },
        "outputId": "861d6b6e-6ee3-4378-ac03-23337a33e9bd"
      },
      "source": [
        "covid_dialog = load_dataset(\"covid_qa_ucsd\", \"en\", data_dir=\"./\" )\n",
        "md_df = pd.read_pickle(\"./med_dialogue_sample.pickle\")\n",
        "print(covid_dialog)"
      ],
      "execution_count": 11,
      "outputs": [
        {
          "output_type": "display_data",
          "data": {
            "application/vnd.jupyter.widget-view+json": {
              "model_id": "b6d174247d4342b59d7227a8d6b4c334",
              "version_minor": 0,
              "version_major": 2
            },
            "text/plain": [
              "Downloading:   0%|          | 0.00/3.49k [00:00<?, ?B/s]"
            ]
          },
          "metadata": {}
        },
        {
          "output_type": "display_data",
          "data": {
            "application/vnd.jupyter.widget-view+json": {
              "model_id": "86e85f56639440f193ba89d8270f2a4b",
              "version_minor": 0,
              "version_major": 2
            },
            "text/plain": [
              "Downloading:   0%|          | 0.00/805 [00:00<?, ?B/s]"
            ]
          },
          "metadata": {}
        },
        {
          "output_type": "stream",
          "name": "stderr",
          "text": [
            "Using custom data configuration en-data_dir=.%2F\n"
          ]
        },
        {
          "output_type": "stream",
          "name": "stdout",
          "text": [
            "Downloading and preparing dataset covid_qa_ucsd/en (download: Unknown size, generated: 473.58 KiB, post-processed: Unknown size, total: 473.58 KiB) to /root/.cache/huggingface/datasets/covid_qa_ucsd/en-data_dir=.%2F/1.0.0/2a15b6e8fdc7cee91951d8f20ac2b26ede79fbef988919fbde22dbb97bf4df81...\n"
          ]
        },
        {
          "output_type": "display_data",
          "data": {
            "application/vnd.jupyter.widget-view+json": {
              "model_id": "65395ccd704947479df654455bfb0241",
              "version_minor": 0,
              "version_major": 2
            },
            "text/plain": [
              "0 examples [00:00, ? examples/s]"
            ]
          },
          "metadata": {}
        },
        {
          "output_type": "stream",
          "name": "stdout",
          "text": [
            "Dataset covid_qa_ucsd downloaded and prepared to /root/.cache/huggingface/datasets/covid_qa_ucsd/en-data_dir=.%2F/1.0.0/2a15b6e8fdc7cee91951d8f20ac2b26ede79fbef988919fbde22dbb97bf4df81. Subsequent calls will reuse this data.\n"
          ]
        },
        {
          "output_type": "display_data",
          "data": {
            "application/vnd.jupyter.widget-view+json": {
              "model_id": "775ac963636042ccb9380701f4c76d27",
              "version_minor": 0,
              "version_major": 2
            },
            "text/plain": [
              "  0%|          | 0/1 [00:00<?, ?it/s]"
            ]
          },
          "metadata": {}
        },
        {
          "output_type": "stream",
          "name": "stdout",
          "text": [
            "DatasetDict({\n",
            "    train: Dataset({\n",
            "        features: ['dialogue_id', 'dialogue_url', 'dialogue_turns'],\n",
            "        num_rows: 572\n",
            "    })\n",
            "})\n"
          ]
        }
      ]
    },
    {
      "cell_type": "code",
      "metadata": {
        "id": "HT4pD4vdsWJQ",
        "colab": {
          "base_uri": "https://localhost:8080/",
          "height": 221
        },
        "outputId": "32221eae-31e0-42a9-fece-a174836a2bf1"
      },
      "source": [
        "cd_df = covid_dialog['train'].to_pandas()\n",
        "md_df.drop(columns=[\"file_name\"])\n",
        "md_df = md_df[0:570]\n",
        "print(len(md_df))\n",
        "md_df.head()"
      ],
      "execution_count": 12,
      "outputs": [
        {
          "output_type": "stream",
          "name": "stdout",
          "text": [
            "570\n"
          ]
        },
        {
          "output_type": "execute_result",
          "data": {
            "text/html": [
              "<div>\n",
              "<style scoped>\n",
              "    .dataframe tbody tr th:only-of-type {\n",
              "        vertical-align: middle;\n",
              "    }\n",
              "\n",
              "    .dataframe tbody tr th {\n",
              "        vertical-align: top;\n",
              "    }\n",
              "\n",
              "    .dataframe thead th {\n",
              "        text-align: right;\n",
              "    }\n",
              "</style>\n",
              "<table border=\"1\" class=\"dataframe\">\n",
              "  <thead>\n",
              "    <tr style=\"text-align: right;\">\n",
              "      <th></th>\n",
              "      <th>file_name</th>\n",
              "      <th>dialogue_id</th>\n",
              "      <th>dialogue_url</th>\n",
              "      <th>dialogue_turns</th>\n",
              "    </tr>\n",
              "  </thead>\n",
              "  <tbody>\n",
              "    <tr>\n",
              "      <th>0</th>\n",
              "      <td>/content/drive/MyDrive/CS685/Medical-Dialogue-...</td>\n",
              "      <td>699</td>\n",
              "      <td>https://www.healthcaremagic.com/questions/What...</td>\n",
              "      <td>{'speaker': [0, 1], 'utterance': ['What causes...</td>\n",
              "    </tr>\n",
              "    <tr>\n",
              "      <th>1</th>\n",
              "      <td>/content/drive/MyDrive/CS685/Medical-Dialogue-...</td>\n",
              "      <td>1380</td>\n",
              "      <td>https://www.healthcaremagic.com/questions/Coul...</td>\n",
              "      <td>{'speaker': [0, 1], 'utterance': ['Could frequ...</td>\n",
              "    </tr>\n",
              "    <tr>\n",
              "      <th>2</th>\n",
              "      <td>/content/drive/MyDrive/CS685/Medical-Dialogue-...</td>\n",
              "      <td>1574</td>\n",
              "      <td>https://www.healthcaremagic.com/questions/What...</td>\n",
              "      <td>{'speaker': [0, 1], 'utterance': ['What can ca...</td>\n",
              "    </tr>\n",
              "    <tr>\n",
              "      <th>3</th>\n",
              "      <td>/content/drive/MyDrive/CS685/Medical-Dialogue-...</td>\n",
              "      <td>2049</td>\n",
              "      <td>https://www.healthcaremagic.com/questions/Can-...</td>\n",
              "      <td>{'speaker': [0, 1], 'utterance': ['Can someone...</td>\n",
              "    </tr>\n",
              "    <tr>\n",
              "      <th>4</th>\n",
              "      <td>/content/drive/MyDrive/CS685/Medical-Dialogue-...</td>\n",
              "      <td>2239</td>\n",
              "      <td>https://www.healthcaremagic.com/questions/Can-...</td>\n",
              "      <td>{'speaker': [0, 1], 'utterance': ['Can respira...</td>\n",
              "    </tr>\n",
              "  </tbody>\n",
              "</table>\n",
              "</div>"
            ],
            "text/plain": [
              "                                           file_name  ...                                     dialogue_turns\n",
              "0  /content/drive/MyDrive/CS685/Medical-Dialogue-...  ...  {'speaker': [0, 1], 'utterance': ['What causes...\n",
              "1  /content/drive/MyDrive/CS685/Medical-Dialogue-...  ...  {'speaker': [0, 1], 'utterance': ['Could frequ...\n",
              "2  /content/drive/MyDrive/CS685/Medical-Dialogue-...  ...  {'speaker': [0, 1], 'utterance': ['What can ca...\n",
              "3  /content/drive/MyDrive/CS685/Medical-Dialogue-...  ...  {'speaker': [0, 1], 'utterance': ['Can someone...\n",
              "4  /content/drive/MyDrive/CS685/Medical-Dialogue-...  ...  {'speaker': [0, 1], 'utterance': ['Can respira...\n",
              "\n",
              "[5 rows x 4 columns]"
            ]
          },
          "metadata": {},
          "execution_count": 12
        }
      ]
    },
    {
      "cell_type": "code",
      "metadata": {
        "id": "P5ia7GGJsWJR",
        "colab": {
          "base_uri": "https://localhost:8080/",
          "height": 292
        },
        "outputId": "5cf27c16-fdec-4b00-d6dc-f830d85e1790"
      },
      "source": [
        "combined = pd.concat([cd_df, md_df])\n",
        "qa_df = preprocessing(combined)\n",
        "text = qa_df.text.copy()\n",
        "print(qa_df[\"encoder\"][0])\n",
        "print(qa_df[\"encoder\"][1])\n",
        "qa_df.head()"
      ],
      "execution_count": 13,
      "outputs": [
        {
          "output_type": "stream",
          "name": "stdout",
          "text": [
            "['<|patient|>I have cough with no travel history. Is this a symptom of Covid-19?Hello doctor, I get a cough for the last few days, which is heavy during night times. No raise in temperature but feeling tired with no travel history. No contact with any Covid-19 persons. It has been four to five days and has drunk a lot of Benadryl and took Paracetamol too. Doctors have shut the OP so do not know what to do? Please help. <|doctor|>']\n",
            "['<|patient|>I have cough with no travel history. Is this a symptom of Covid-19?Hello doctor, I get a cough for the last few days, which is heavy during night times. No raise in temperature but feeling tired with no travel history. No contact with any Covid-19 persons. It has been four to five days and has drunk a lot of Benadryl and took Paracetamol too. Doctors have shut the OP so do not know what to do? Please help. <|doctor|>Hello, I understand your concern. I just have a few more questions.Does your cough has phlegm? Any other symptoms like difficulty breathing? Any other medical condition such as asthma, hypertension? Are you a smoker? Alcoholic beverage drinker? <|patient|>Thank you doctor,I have phlegm but not a lot. A tiny amount comes out most of the time. I have no difficulty in breathing. No medical conditions and not a smoker nor a drinker. <|doctor|>']\n"
          ]
        },
        {
          "output_type": "stream",
          "name": "stderr",
          "text": [
            "/content/data.py:56: VisibleDeprecationWarning: Creating an ndarray from ragged nested sequences (which is a list-or-tuple of lists-or-tuples-or ndarrays with different lengths or shapes) is deprecated. If you meant to do this, you must specify 'dtype=object' when creating the ndarray\n",
            "  all_fields = np.transpose(np.array(all_fields).reshape((4, -1)))\n"
          ]
        },
        {
          "output_type": "execute_result",
          "data": {
            "text/html": [
              "<div>\n",
              "<style scoped>\n",
              "    .dataframe tbody tr th:only-of-type {\n",
              "        vertical-align: middle;\n",
              "    }\n",
              "\n",
              "    .dataframe tbody tr th {\n",
              "        vertical-align: top;\n",
              "    }\n",
              "\n",
              "    .dataframe thead th {\n",
              "        text-align: right;\n",
              "    }\n",
              "</style>\n",
              "<table border=\"1\" class=\"dataframe\">\n",
              "  <thead>\n",
              "    <tr style=\"text-align: right;\">\n",
              "      <th></th>\n",
              "      <th>id</th>\n",
              "      <th>encoder</th>\n",
              "      <th>decoder</th>\n",
              "      <th>text</th>\n",
              "    </tr>\n",
              "  </thead>\n",
              "  <tbody>\n",
              "    <tr>\n",
              "      <th>0</th>\n",
              "      <td>0</td>\n",
              "      <td>[&lt;|patient|&gt;I have cough with no travel histor...</td>\n",
              "      <td>[Hello, I understand your concern. I just have...</td>\n",
              "      <td>[&lt;|patient|&gt;I have cough with no travel histor...</td>\n",
              "    </tr>\n",
              "    <tr>\n",
              "      <th>1</th>\n",
              "      <td>0</td>\n",
              "      <td>[&lt;|patient|&gt;I have cough with no travel histor...</td>\n",
              "      <td>[Hi, I would recommend you take n-acetylcystei...</td>\n",
              "      <td>[&lt;|patient|&gt;I have cough with no travel histor...</td>\n",
              "    </tr>\n",
              "    <tr>\n",
              "      <th>2</th>\n",
              "      <td>1</td>\n",
              "      <td>[&lt;|patient|&gt;I have a little fever with no hist...</td>\n",
              "      <td>[Hello, I can understand your concern.In my op...</td>\n",
              "      <td>[&lt;|patient|&gt;I have a little fever with no hist...</td>\n",
              "    </tr>\n",
              "    <tr>\n",
              "      <th>3</th>\n",
              "      <td>1</td>\n",
              "      <td>[&lt;|patient|&gt;I have a little fever with no hist...</td>\n",
              "      <td>[Hi, yes, upload in this query only. I will se...</td>\n",
              "      <td>[&lt;|patient|&gt;I have a little fever with no hist...</td>\n",
              "    </tr>\n",
              "    <tr>\n",
              "      <th>4</th>\n",
              "      <td>1</td>\n",
              "      <td>[&lt;|patient|&gt;I have a little fever with no hist...</td>\n",
              "      <td>[Hi, I can understand your concern. I have gon...</td>\n",
              "      <td>[&lt;|patient|&gt;I have a little fever with no hist...</td>\n",
              "    </tr>\n",
              "  </tbody>\n",
              "</table>\n",
              "</div>"
            ],
            "text/plain": [
              "  id  ...                                               text\n",
              "0  0  ...  [<|patient|>I have cough with no travel histor...\n",
              "1  0  ...  [<|patient|>I have cough with no travel histor...\n",
              "2  1  ...  [<|patient|>I have a little fever with no hist...\n",
              "3  1  ...  [<|patient|>I have a little fever with no hist...\n",
              "4  1  ...  [<|patient|>I have a little fever with no hist...\n",
              "\n",
              "[5 rows x 4 columns]"
            ]
          },
          "metadata": {},
          "execution_count": 13
        }
      ]
    },
    {
      "cell_type": "code",
      "metadata": {
        "id": "-ANiO5wAsWJS",
        "colab": {
          "base_uri": "https://localhost:8080/",
          "height": 336
        },
        "outputId": "a99bb43a-afeb-4edb-f199-7fd15b51fcc9"
      },
      "source": [
        "doc_lengths = []\n",
        "\n",
        "for bio in text:\n",
        "  \n",
        "    # get rough token count distribution\n",
        "    tokens = nltk.word_tokenize(bio[0])\n",
        "\n",
        "    doc_lengths.append(len(tokens))\n",
        "\n",
        "doc_lengths = np.array(doc_lengths)\n",
        "\n",
        "sns.distplot(doc_lengths)\n",
        "             "
      ],
      "execution_count": 14,
      "outputs": [
        {
          "output_type": "stream",
          "name": "stderr",
          "text": [
            "/usr/local/lib/python3.7/dist-packages/seaborn/distributions.py:2619: FutureWarning: `distplot` is a deprecated function and will be removed in a future version. Please adapt your code to use either `displot` (a figure-level function with similar flexibility) or `histplot` (an axes-level function for histograms).\n",
            "  warnings.warn(msg, FutureWarning)\n"
          ]
        },
        {
          "output_type": "execute_result",
          "data": {
            "text/plain": [
              "<matplotlib.axes._subplots.AxesSubplot at 0x7fe27071ec10>"
            ]
          },
          "metadata": {},
          "execution_count": 14
        },
        {
          "output_type": "display_data",
          "data": {
            "image/png": "[encoded data removed]",
            "text/plain": [
              "<Figure size 432x288 with 1 Axes>"
            ]
          },
          "metadata": {
            "needs_background": "light"
          }
        }
      ]
    },
    {
      "cell_type": "code",
      "metadata": {
        "id": "6Bkb6_V9sWJS"
      },
      "source": [
        "torch.cuda.empty_cache()"
      ],
      "execution_count": 15,
      "outputs": []
    },
    {
      "cell_type": "code",
      "metadata": {
        "id": "1oUBg0POsWJT",
        "colab": {
          "base_uri": "https://localhost:8080/",
          "height": 177,
          "referenced_widgets": [
            "490b30177a5748bc88ea502af544ee92",
            "1a67e22baff44074b61640113fa4becf",
            "e589c54edcbb4687a2956daeb9245cfe",
            "368bab4e6fd54b74941a34bea59e8415",
            "6bc184ee87ab492eaa5f4fd15aafd901",
            "6fd267572af14e658bb0eae53b3f3244",
            "e3b180727d384c4abf7c8c423c146f89",
            "5333e1a965d6457aa05de35b7bf65bc5",
            "64c10230810248f5bf9b902d0b697aed",
            "95f061737bbd410bbd52783e9294433e",
            "da30b82d33004a3d8205cbaa5d1c6573",
            "10b4fc7d0ec94a1382219fabbd9ad5df",
            "3a3527906c2d4f64bd2515ccdbfb16ee",
            "a2cda5cc351f4eba89fb39d0f0fbc363",
            "fed8ec9fd870490b9e0069237d5dd597",
            "f5dfbdcc9a3e4a46ae96aa40188b4d9b",
            "784320d812d141cf9c640cb56f7c6cbe",
            "94d820d2c47442bfa768ae77d4aaf799",
            "5fa1ba9c2ac64ab58344e0a6537f4f23",
            "d8a1160758694024b34ceed154086103",
            "ec957868d7a14da08617749fe00746b9",
            "25ed242f756f4cc6872def38ce8631bb",
            "ed6badab9b454aaeb53ff827f4421caa",
            "41b8ad0d7c4c49febe344a8e3792ef74",
            "2bd92347a75d4700b364e7b30fcc045f",
            "1447b3765f414fa59cd9ceb081984c09",
            "7237004314f54b17802850a012a3f8cd",
            "672e29cb11b445ee836d51173560082b",
            "3841822c5ee54f028eee639f503b56fa",
            "7ab713fed3404804bc1a37b9d296f257",
            "0f28d241dec44105a7c864da5e9ddc2e",
            "afe84ac1ca3c48f7a9eeb47d0a5df74d",
            "cc066f6eb6184854ab0f1b5fed454bcc",
            "bf7d701421054b7fa8c8e6439fde17d3",
            "562db412c4584713a2f73e7e538158c8",
            "ca0a37571b804232a014e09d83609123",
            "ad25d4fe64d04f7c8dbf64ab96231f54",
            "e99d894dd2644955ae5c425cdc77d8eb",
            "5bd034044ad243fdb7d37b8ae17aeb64",
            "c80ca9ce0c474940ba2627ad4e1eb2ab",
            "658f3dd78c1c40c4aa556f58441bb8bf",
            "77e4b1c1c17841ac89b7e0b50f4085fe",
            "bcf95c0cfc92454cb379320775fbb767",
            "0a9dad9287e24be396d4b6c69d93f3cc",
            "d9f84da711e6446bab7f253a7fbeeb0f",
            "1d6ad34835b245faa6198eca54b01825",
            "64994b7be2fd4668b3892541cac23b60",
            "ceeddc739f9f47b0a4c363c5dc3611f6",
            "603cf12377784c34847564565c9e76c4",
            "efcbfc61a21a4f1a86ce62d312c08ac8",
            "0e45905283874391ac026acfa96b411c",
            "c728f987e8c44662a7f514ce0645f069",
            "f9d1e15123af4815b5fcbe4067134638",
            "af237b0541d04261ac412ededd7aed01",
            "a3f62439e73740929e98075b0f7b784f"
          ]
        },
        "outputId": "6f6a22d6-e771-4ab9-a214-f91d72cef417"
      },
      "source": [
        "# tokenizer = GPT2Tokenizer.from_pretrained('gpt2', bos_token='<|startoftext|>', eos_token='<|endoftext|>', pad_token='<|pad|>') #gpt2-medium\n",
        "tokenizer = AutoTokenizer.from_pretrained(\"microsoft/DialoGPT-small\")\n",
        "tokenizer.add_tokens([\"<|patient|>\", \"<|doctor|>\"], special_tokens=True)\n",
        "model = AutoModelForCausalLM.from_pretrained(\"microsoft/DialoGPT-small\")\n"
      ],
      "execution_count": 16,
      "outputs": [
        {
          "output_type": "display_data",
          "data": {
            "application/vnd.jupyter.widget-view+json": {
              "model_id": "490b30177a5748bc88ea502af544ee92",
              "version_minor": 0,
              "version_major": 2
            },
            "text/plain": [
              "Downloading:   0%|          | 0.00/26.0 [00:00<?, ?B/s]"
            ]
          },
          "metadata": {}
        },
        {
          "output_type": "display_data",
          "data": {
            "application/vnd.jupyter.widget-view+json": {
              "model_id": "10b4fc7d0ec94a1382219fabbd9ad5df",
              "version_minor": 0,
              "version_major": 2
            },
            "text/plain": [
              "Downloading:   0%|          | 0.00/641 [00:00<?, ?B/s]"
            ]
          },
          "metadata": {}
        },
        {
          "output_type": "display_data",
          "data": {
            "application/vnd.jupyter.widget-view+json": {
              "model_id": "ed6badab9b454aaeb53ff827f4421caa",
              "version_minor": 0,
              "version_major": 2
            },
            "text/plain": [
              "Downloading:   0%|          | 0.00/0.99M [00:00<?, ?B/s]"
            ]
          },
          "metadata": {}
        },
        {
          "output_type": "display_data",
          "data": {
            "application/vnd.jupyter.widget-view+json": {
              "model_id": "bf7d701421054b7fa8c8e6439fde17d3",
              "version_minor": 0,
              "version_major": 2
            },
            "text/plain": [
              "Downloading:   0%|          | 0.00/446k [00:00<?, ?B/s]"
            ]
          },
          "metadata": {}
        },
        {
          "output_type": "display_data",
          "data": {
            "application/vnd.jupyter.widget-view+json": {
              "model_id": "d9f84da711e6446bab7f253a7fbeeb0f",
              "version_minor": 0,
              "version_major": 2
            },
            "text/plain": [
              "Downloading:   0%|          | 0.00/335M [00:00<?, ?B/s]"
            ]
          },
          "metadata": {}
        }
      ]
    },
    {
      "cell_type": "code",
      "metadata": {
        "id": "qd9QBcC5sWJU",
        "colab": {
          "base_uri": "https://localhost:8080/"
        },
        "outputId": "8efff831-c16b-443f-f6dd-063fd3a2e2b3"
      },
      "source": [
        "batch_size = 2\n",
        "tokenizer.pad_token = tokenizer.eos_token\n",
        "\n",
        "unique_vals = qa_df.id[len(qa_df)-1]\n",
        "\n",
        "# Split into training and validation sets\n",
        "train_size = int(0.75 * unique_vals)\n",
        "val_size = int(0.125 * unique_vals)\n",
        "test_size = unique_vals - train_size - val_size\n",
        "\n",
        "train_split, val_split, test_split = split_data(qa_df, [train_size, val_size, test_size])\n",
        "\n",
        "train_split.reset_index(drop=True, inplace=True)\n",
        "val_split.reset_index(drop=True, inplace=True)\n",
        "test_split.reset_index(drop=True, inplace=True)\n",
        "\n",
        "train_split1 = train_split[0:int(len(train_split)/3)]\n",
        "train_split2 = train_split[int(len(train_split)/3):2*int(len(train_split)/3)]\n",
        "train_split3 = train_split[2*int(len(train_split)/3):]\n",
        "\n",
        "print(len(train_split1))\n",
        "print(len(train_split2))\n",
        "print(len(train_split3))\n",
        "\n",
        "# train_split1.to_pickle(\"/content/drive/MyDrive/CS685/splits/1.pickle\")\n",
        "# train_split2.to_pickle(\"/content/drive/MyDrive/CS685/splits/2.pickle\")\n",
        "# train_split3.to_pickle(\"/content/drive/MyDrive/CS685/splits/3.pickle\")\n",
        "# val_split.to_pickle(\"/content/drive/MyDrive/CS685/splits/4.pickle\")\n",
        "# test_split.to_pickle(\"/content/drive/MyDrive/CS685/splits/5.pickle\")\n",
        "\n",
        "print(train_split.head())\n",
        "\n",
        "print(\"length of dataset: \" + str(unique_vals))\n",
        "print('{:>5,} training samples'.format(train_size))\n",
        "print('{:>5,} validation samples'.format(val_size))\n",
        "print('{:>5,} test samples'.format(test_size))\n",
        "\n",
        "train_dataset = GPT2Dataset(train_split, tokenizer, max_length=768)\n",
        "val_dataset = GPT2Dataset(val_split, tokenizer, max_length=768)\n",
        "test_dataset = GPT2Dataset(test_split, tokenizer, max_length=768)"
      ],
      "execution_count": 17,
      "outputs": [
        {
          "output_type": "stream",
          "name": "stdout",
          "text": [
            "285\n",
            "285\n",
            "285\n",
            "     id  ...                                               text\n",
            "0   963  ...  [<|patient|>What is the suggested medicine for...\n",
            "1   877  ...  [<|patient|>What causes problem problem in bre...\n",
            "2   342  ...  [<|patient|>If I'm not sure if I have allergie...\n",
            "3  1040  ...  [<|patient|>What could itchy small firm white ...\n",
            "4   881  ...  [<|patient|>Suggest medication for sore throat...\n",
            "\n",
            "[5 rows x 4 columns]\n",
            "length of dataset: 1141\n",
            "  855 training samples\n",
            "  142 validation samples\n",
            "  144 test samples\n"
          ]
        }
      ]
    },
    {
      "cell_type": "code",
      "metadata": {
        "id": "SoGq0BvAsWJV"
      },
      "source": [
        "# Create the DataLoaders for our training and validation datasets.\n",
        "# We'll take training samples in random order. \n",
        "train_dataloader = DataLoader(\n",
        "            train_dataset,  # The training samples.\n",
        "            sampler = RandomSampler(train_dataset), # Select batches randomly\n",
        "            batch_size = batch_size # Trains with this batch size.\n",
        "        )\n",
        "\n",
        "# For validation the order doesn't matter, so we'll just read them sequentially.\n",
        "validation_dataloader = DataLoader(\n",
        "            val_dataset, # The validation samples.\n",
        "            sampler = SequentialSampler(val_dataset), # Pull out batches sequentially.\n",
        "            batch_size = batch_size # Evaluate with this batch size.\n",
        ")"
      ],
      "execution_count": 18,
      "outputs": []
    },
    {
      "cell_type": "code",
      "metadata": {
        "id": "zNAYzpcRsWJW",
        "colab": {
          "base_uri": "https://localhost:8080/"
        },
        "outputId": "31ab47eb-6846-40fb-dbd6-63bba2dec1f8"
      },
      "source": [
        "useCuda = True\n",
        "device = torch.device('cuda') if torch.cuda.is_available() else torch.device('cpu')\n",
        "model.to(device)\n",
        "print(device)"
      ],
      "execution_count": 19,
      "outputs": [
        {
          "output_type": "stream",
          "name": "stdout",
          "text": [
            "cpu\n"
          ]
        }
      ]
    },
    {
      "cell_type": "code",
      "metadata": {
        "id": "-z2-2BFjsWJW",
        "colab": {
          "base_uri": "https://localhost:8080/"
        },
        "outputId": "7ac5bed4-e988-4114-d508-50feb771355c"
      },
      "source": [
        "# I'm not really doing anything with the config buheret\n",
        "# configuration = GPT2Config.from_pretrained('gpt2', output_hidden_states=False)\n",
        "\n",
        "# instantiate the model\n",
        "# model = GPT2LMHeadModel.from_pretrained(\"microsoft/DialoGPT-small\")\n",
        "# model = GPT2LMHeadModel.from_pretrained(\"gpt2\", config=configuration)\n",
        "\n",
        "# this step is necessary because I've added some tokens (bos_token, etc) to the embeddings\n",
        "# otherwise the tokenizer and model tensors won't match up\n",
        "model.resize_token_embeddings(len(tokenizer))\n",
        "\n",
        "# Tell pytorch to run this model on the GPU.\n",
        "# if torch.cuda.is_available() and useCuda:\n",
        "\n",
        "# device = torch.device(\"cuda\")\n",
        "# model.cuda()\n",
        "\n",
        "# Set the seed value all over the place to make this reproducible.\n",
        "# seed_val = 42\n",
        "\n",
        "# random.seed(seed_val)\n",
        "# np.random.seed(seed_val)\n",
        "# torch.manual_seed(seed_val)\n",
        "# torch.cuda.manual_seed_all(seed_val)"
      ],
      "execution_count": 20,
      "outputs": [
        {
          "output_type": "execute_result",
          "data": {
            "text/plain": [
              "Embedding(50259, 768)"
            ]
          },
          "metadata": {},
          "execution_count": 20
        }
      ]
    },
    {
      "cell_type": "code",
      "metadata": {
        "id": "JBBw-4-zsWJX"
      },
      "source": [
        "# some parameters I cooked up that work reasonably well\n",
        "epochs = 4\n",
        "learning_rate = 5e-4\n",
        "warmup_steps = 1e2\n",
        "epsilon = 1e-8\n",
        "\n",
        "# this produces sample output every 100 steps\n",
        "sample_every = 100\n"
      ],
      "execution_count": 16,
      "outputs": []
    },
    {
      "cell_type": "code",
      "metadata": {
        "id": "-z_W8s1ssWJX"
      },
      "source": [
        "# Note: AdamW is a class from the huggingface library (as opposed to pytorch) \n",
        "optimizer = AdamW(model.parameters(),\n",
        "                  lr = learning_rate,\n",
        "                  eps = epsilon\n",
        "                )"
      ],
      "execution_count": 17,
      "outputs": []
    },
    {
      "cell_type": "code",
      "metadata": {
        "id": "xCrJbmGBTGqC"
      },
      "source": [
        "# Total number of training steps is [number of batches] x [number of epochs]. \n",
        "# (Note that this is not the same as the number of training samples).\n",
        "total_steps = len(train_dataloader) * epochs\n",
        "\n",
        "# Create the learning rate scheduler.\n",
        "# This changes the learning rate as the training loop progresses\n",
        "scheduler = get_linear_schedule_with_warmup(optimizer, \n",
        "                                            num_warmup_steps = warmup_steps, \n",
        "                                            num_training_steps = total_steps)"
      ],
      "execution_count": 18,
      "outputs": []
    },
    {
      "cell_type": "code",
      "metadata": {
        "id": "xLUgsXPtsWJX",
        "colab": {
          "base_uri": "https://localhost:8080/"
        },
        "outputId": "cb17e310-0f2c-4e7d-ff9e-1fdb900c5304"
      },
      "source": [
        "total_t0 = time.time()\n",
        "\n",
        "training_stats = []\n",
        "\n",
        "model = model.to(device)\n",
        "\n",
        "for epoch_i in range(0, epochs):\n",
        "\n",
        "    # ========================================\n",
        "    #               Training\n",
        "    # ========================================\n",
        "\n",
        "    print(\"\")\n",
        "    print('======== Epoch {:} / {:} ========'.format(epoch_i + 1, epochs))\n",
        "    print('Training...')\n",
        "\n",
        "    t0 = time.time()\n",
        "\n",
        "    total_train_loss = 0\n",
        "\n",
        "    model.train()\n",
        "\n",
        "    for step, batch in enumerate(train_dataloader):\n",
        "\n",
        "        b_input_ids = batch[5].to(device)\n",
        "        b_labels = batch[5].to(device)\n",
        "        b_masks = batch[6].to(device)\n",
        "        model.zero_grad()        \n",
        "\n",
        "        outputs = model(b_input_ids,\n",
        "                          labels=b_labels, \n",
        "                          attention_mask = b_masks,\n",
        "                          token_type_ids=None\n",
        "                        )\n",
        "\n",
        "        loss = outputs[0]  \n",
        "\n",
        "        batch_loss = loss.item()\n",
        "        total_train_loss += batch_loss\n",
        "\n",
        "        # Get sample every x batches.\n",
        "        if step % sample_every == 0 and not step == 0:\n",
        "\n",
        "            elapsed = format_time(time.time() - t0)\n",
        "            print('  Batch {:>5,}  of  {:>5,}. Loss: {:>5,}.   Elapsed: {:}.'.format(step, len(train_dataloader), batch_loss, elapsed))\n",
        "\n",
        "            model.eval()\n",
        "\n",
        "            sample_outputs = model.generate(\n",
        "                                    # bos_token_id=random.randint(1,30000),\n",
        "                                    do_sample=True,   \n",
        "                                    top_k=50, \n",
        "                                    min_length = 50,\n",
        "                                    max_length = 200,\n",
        "                                    # top_p=0.95, \n",
        "                                    num_return_sequences=1\n",
        "                                )\n",
        "            for i, sample_output in enumerate(sample_outputs):\n",
        "                  print(\"{}: {}\".format(i, tokenizer.decode(sample_output, skip_special_tokens=True)))\n",
        "            \n",
        "            model.train()\n",
        "\n",
        "        loss.backward()\n",
        "\n",
        "        optimizer.step()\n",
        "\n",
        "        scheduler.step()\n",
        "\n",
        "    # Calculate the average loss over all of the batches.\n",
        "    avg_train_loss = total_train_loss / len(train_dataloader)       \n",
        "    \n",
        "    # Measure how long this epoch took.\n",
        "    training_time = format_time(time.time() - t0)\n",
        "\n",
        "    print(\"\")\n",
        "    print(\"  Average training loss: {0:.2f}\".format(avg_train_loss))\n",
        "    print(\"  Training epoch took: {:}\".format(training_time))\n",
        "        \n",
        "    # ========================================\n",
        "    #               Validation\n",
        "    # ========================================\n",
        "\n",
        "    print(\"\")\n",
        "    print(\"Running Validation...\")\n",
        "\n",
        "    t0 = time.time()\n",
        "\n",
        "    model.eval()\n",
        "\n",
        "    total_eval_loss = 0\n",
        "    nb_eval_steps = 0\n",
        "\n",
        "    # Evaluate data for one epoch\n",
        "    for batch in validation_dataloader:\n",
        "        \n",
        "        b_input_ids = batch[5].to(device)\n",
        "        b_labels = batch[5].to(device)\n",
        "        b_masks = batch[6].to(device)\n",
        "        \n",
        "        with torch.no_grad():        \n",
        "\n",
        "            outputs  = model(b_input_ids, \n",
        "#                            token_type_ids=None, \n",
        "                             attention_mask = b_masks,\n",
        "                            labels=b_labels)\n",
        "          \n",
        "            loss = outputs[0]  \n",
        "            \n",
        "        batch_loss = loss.item()\n",
        "        total_eval_loss += batch_loss     \n",
        "\n",
        "        # if step % 1 == 0:\n",
        "\n",
        "        #     elapsed = format_time(time.time() - t0)\n",
        "        #     print('  Batch {:>5,}  of  {:>5,}. Loss: {:>5,}.   Elapsed: {:}.'.format(step, len(train_dataloader), batch_loss, elapsed))\n",
        "\n",
        "        #     sample_outputs = model.generate(\n",
        "        #                             # bos_token_id=random.randint(1,30000),\n",
        "        #                             do_sample=True,   \n",
        "        #                             top_k=50, \n",
        "        #                             min_length = 50,\n",
        "        #                             max_length = 200,\n",
        "        #                             top_p=0.95, \n",
        "        #                             num_return_sequences=1\n",
        "        #                         )\n",
        "        #     for i, sample_output in enumerate(sample_outputs):\n",
        "        #           print(\"{}: {}\".format(i, tokenizer.decode(sample_output, skip_special_tokens=True)))\n",
        "               \n",
        "\n",
        "    avg_val_loss = total_eval_loss / len(validation_dataloader)\n",
        "    \n",
        "    validation_time = format_time(time.time() - t0)    \n",
        "\n",
        "    print(\"  Validation Loss: {0:.2f}\".format(avg_val_loss))\n",
        "    print(\"  Validation took: {:}\".format(validation_time))\n",
        "\n",
        "    # Record all statistics from this epoch.\n",
        "    training_stats.append(\n",
        "        {\n",
        "            'epoch': epoch_i + 1,\n",
        "            'Training Loss': avg_train_loss,\n",
        "            'Valid. Loss': avg_val_loss,\n",
        "            'Training Time': training_time,\n",
        "            'Validation Time': validation_time\n",
        "        }\n",
        "    )\n",
        "\n",
        "print(\"\")\n",
        "print(\"Training complete!\")\n",
        "print(\"Total training took {:} (h:mm:ss)\".format(format_time(time.time()-total_t0)))\n"
      ],
      "execution_count": 19,
      "outputs": [
        {
          "output_type": "stream",
          "name": "stdout",
          "text": [
            "\n",
            "======== Epoch 1 / 4 ========\n",
            "Training...\n"
          ]
        },
        {
          "output_type": "stream",
          "name": "stderr",
          "text": [
            "Setting `pad_token_id` to `eos_token_id`:50256 for open-end generation.\n"
          ]
        },
        {
          "output_type": "stream",
          "name": "stdout",
          "text": [
            "  Batch   100  of    428. Loss: 1.9904370307922363.   Elapsed: 0:01:36.\n",
            "0: :, 10,1,10,1,5,1,1,2,4,1,1,4,2,4,1,2,5,1,1,2,3,2,1,5,1,3,3,1,3,4,1,2,1,4,1,3,1,3,3,3,4,1,3,1,1,1,3,1,3,4,1,3,1,1,3,3,2,2,1,3,1,1,1\n"
          ]
        },
        {
          "output_type": "stream",
          "name": "stderr",
          "text": [
            "Setting `pad_token_id` to `eos_token_id`:50256 for open-end generation.\n"
          ]
        },
        {
          "output_type": "stream",
          "name": "stdout",
          "text": [
            "  Batch   200  of    428. Loss: 0.8578883409500122.   Elapsed: 0:03:14.\n",
            "0: It is also important that you are patient the following pregnancy if you need your doctor's permission. There is no serious concern for coronavirus risk, which in the case the risk of antibiotic treatment is high as well. As your current infection is likely to be cured, you need antibiotics to prevent infection infection.\n"
          ]
        },
        {
          "output_type": "stream",
          "name": "stderr",
          "text": [
            "Setting `pad_token_id` to `eos_token_id`:50256 for open-end generation.\n"
          ]
        },
        {
          "output_type": "stream",
          "name": "stdout",
          "text": [
            "  Batch   300  of    428. Loss: 1.6800845861434937.   Elapsed: 0:04:51.\n",
            "0: ???? I went on a date with my husband from HCM. I had it down. I did not talk to him and it seemed weird when he called me. He said I was having a stroke but then the doctor prescribed a new card that I have not been given yet and gave me a call and told him that I was having an allergic reaction and he gave me two of the cards that were given to me. It just seems weird that I have such a strange reaction? Is it a medical issue or some type of respiratory disorder. Any history of asthma or something? What causes an allergic reaction in his eyes and mouth? Do I have to go to the doctor immediately? Any history of allergy or is it due to allergies/breathlessness etc. Or maybe pneumonia/not a severe case of allergic reaction/or something?\n"
          ]
        },
        {
          "output_type": "stream",
          "name": "stderr",
          "text": [
            "Setting `pad_token_id` to `eos_token_id`:50256 for open-end generation.\n"
          ]
        },
        {
          "output_type": "stream",
          "name": "stdout",
          "text": [
            "  Batch   400  of    428. Loss: 1.2006853818893433.   Elapsed: 0:06:30.\n",
            "0: Why does he have an x Ray on his face in the last picture? Last picture he has an X Ray on his face at the end of the month. He doesn't have an X Ray but it says he is using Oxycodone inhaler. So if he is using it it then he can not have an X Ray yet.\n",
            "\n",
            "  Average training loss: 1.46\n",
            "  Training epoch took: 0:06:58\n",
            "\n",
            "Running Validation...\n",
            "  Validation Loss: 0.96\n",
            "  Validation took: 0:00:21\n",
            "\n",
            "======== Epoch 2 / 4 ========\n",
            "Training...\n"
          ]
        },
        {
          "output_type": "stream",
          "name": "stderr",
          "text": [
            "Setting `pad_token_id` to `eos_token_id`:50256 for open-end generation.\n"
          ]
        },
        {
          "output_type": "stream",
          "name": "stdout",
          "text": [
            "  Batch   100  of    428. Loss: 0.6916390061378479.   Elapsed: 0:01:37.\n",
            "0: Suggest remedy for allergic rhinitis in my neck and back? Hello I had an allergic rhinitis for over a week and now i can not sleep. My neck is hurting my heart. My body hurts from exertion. I feel more exhausted and more stiff than I do. Itchy in my neck. I have also been coughing and spitting mucus and saliva all day. I have been using prescription drugs for months. I have quit smoking since i was born. How long does it take to revert to normal when i cough up. Hi,                    \n"
          ]
        },
        {
          "output_type": "stream",
          "name": "stderr",
          "text": [
            "Setting `pad_token_id` to `eos_token_id`:50256 for open-end generation.\n"
          ]
        },
        {
          "output_type": "stream",
          "name": "stdout",
          "text": [
            "  Batch   200  of    428. Loss: 0.6165674924850464.   Elapsed: 0:03:15.\n",
            "0: What can cause severe coughing and difficulty breathing?What can cause severe coughing and difficulty breathing? HI,Thank you for providing the history of the coughing.I can only say the history of coughing and difficulty breathing were the last 4 days.Since now I have improved and it has been a long while that started again.Can you please tell me what is the last 4 days for the coughing. It is still present?   I have not developed any symptoms.  I would like to know more about this.    I have not slept for a while. I have no breathing difficulty and can feel my breathing is improving. It seems I have some symptoms.  I can not find any place to help you now. Please help.    If you have any further query, I would be glad to help you.If you are unable to find a chest consult you should start to consult another doctor for further guidance.  Would you like to video or text chat with me\n"
          ]
        },
        {
          "output_type": "stream",
          "name": "stderr",
          "text": [
            "Setting `pad_token_id` to `eos_token_id`:50256 for open-end generation.\n"
          ]
        },
        {
          "output_type": "stream",
          "name": "stdout",
          "text": [
            "  Batch   300  of    428. Loss: 0.8655839562416077.   Elapsed: 0:04:55.\n",
            "0: Will taking Corona B complex 10mg of Corona B complex 10mg of Corona B complex give me asthmatic fever?I am having mild asthmatic fever for 4 days now.  When I take it, does my asthmatic fever go away or do I have to take another drug?  My doctor says the combination is normal and he has advised me that I could be alright.  One thing is I need to know about my allergy, if the cough is severe. It's not a common allergy and I don't want to get it over, I do have asthma which causes me asthma problems. I am taking a drug though I am a kid and my mom has been in the facility since childhood.  My asthma is not a problem.  I do have a cough that is persistent and I am allergic to other substances.  I am a young adult. The drug may have been administered for childhood though I have tried others.   I should have investigated further and get\n"
          ]
        },
        {
          "output_type": "stream",
          "name": "stderr",
          "text": [
            "Setting `pad_token_id` to `eos_token_id`:50256 for open-end generation.\n"
          ]
        },
        {
          "output_type": "stream",
          "name": "stdout",
          "text": [
            "  Batch   400  of    428. Loss: 2.2357161045074463.   Elapsed: 0:06:34.\n",
            "0: Could be a strep throat?I have strep throat and have been in contact with a person with Covid 19 since Sept of 2016.  Could be a strep throat? Symptoms: Throat tightness, body aches, headache, and runny eyes. Throat tightness, body aches, headache and runny eyes. Throat tightness, body aches, headache, body ache. Symptoms: Throat tightness, headache, headache, body aches. Symptoms: Throat tightness, headache, body ache. Throat tightness, body ache. \n",
            "\n",
            "  Average training loss: 0.94\n",
            "  Training epoch took: 0:07:03\n",
            "\n",
            "Running Validation...\n",
            "  Validation Loss: 0.92\n",
            "  Validation took: 0:00:21\n",
            "\n",
            "======== Epoch 3 / 4 ========\n",
            "Training...\n"
          ]
        },
        {
          "output_type": "stream",
          "name": "stderr",
          "text": [
            "Setting `pad_token_id` to `eos_token_id`:50256 for open-end generation.\n"
          ]
        },
        {
          "output_type": "stream",
          "name": "stdout",
          "text": [
            "  Batch   100  of    428. Loss: 0.4415791630744934.   Elapsed: 0:01:37.\n",
            "0: My grandaughter is just a hiatal hiatal. Her history of heart problem was mentioned in the video description. She has had a heart transplant and has been admitted to hospital for a second round of antibiotics. But the heart transplant was planned at the beginning of the season. She has a history of heart problems and was admitted to hospital a second round of antibiotics. But the heart transplant was planned at the beginning of the season. She has a history of heart problems and was admitted to hospital a second round of antibiotics. But the heart transplant was planned at the beginning of the season. She has a history of heart problems and was admitted to hospital a second round of antibiotics. But the heart transplant was planned at the beginning of the season. She has a history of heart problems and was admitted to hospital a second round of antibiotics. But the heart transplant was planned at the beginning of the season. She has a history of heart problems and was admitted to hospital a second round of antibiotics.\n"
          ]
        },
        {
          "output_type": "stream",
          "name": "stderr",
          "text": [
            "Setting `pad_token_id` to `eos_token_id`:50256 for open-end generation.\n"
          ]
        },
        {
          "output_type": "stream",
          "name": "stdout",
          "text": [
            "  Batch   200  of    428. Loss: 1.055413007736206.   Elapsed: 0:03:16.\n",
            "0: Hi there, I had been experiencing a dry cough for a couple weeks now. One or two times, I feel like my nose sometimes runs a little tight in the middle of the night (about 5-6 inches) and it starts becoming a bit wobbly. Do you think that may be due to my allergies? Thank you... Hello,Welcome to HCM,As you are having severe cough with a clear throat and a severe headache, it might be due to some infection.You may have a mild respiratory infection like upper respiratory tract infection which is more likely to occur due to allergy, and it has to be treated by your doctor, but as you are having the cough with clear throat you should see a doctor and ask what else you can do?Regards,Dr. Bhagyesh V. Patel, General Surgeon\n"
          ]
        },
        {
          "output_type": "stream",
          "name": "stderr",
          "text": [
            "Setting `pad_token_id` to `eos_token_id`:50256 for open-end generation.\n"
          ]
        },
        {
          "output_type": "stream",
          "name": "stdout",
          "text": [
            "  Batch   300  of    428. Loss: 0.5863871574401855.   Elapsed: 0:04:55.\n",
            "0: Is the coronavirus the correct choice for getting treatment for pneumonia?Hi. I'm a 59 year old man. I had pneumonia for a week on Sunday and I went to the hospital (where is the treating doctor? Is the coronavirus the correct choice for getting treatment for pneumonia? I'm a 59 year old man. I had pneumonia for a week on Sunday and I went to the hospital (where is the treating doctor? Hello, thanks for using healthcare magicIt may be viral but it is best advised to be examined in case of pneumonia.The coronavirus also might act as a permanent home for the patient.However, it depends upon severity of the pneumonia and other underlying cause.Things like allergic rhinitis may give rise to symptoms of pneumonia like dry cough and shortness of breath.If not it is best to consult a physician.As per Dr.Jolanda, the coronavirus may not act as a permanent home for the patient.Hope\n"
          ]
        },
        {
          "output_type": "stream",
          "name": "stderr",
          "text": [
            "Setting `pad_token_id` to `eos_token_id`:50256 for open-end generation.\n"
          ]
        },
        {
          "output_type": "stream",
          "name": "stdout",
          "text": [
            "  Batch   400  of    428. Loss: 0.8355044722557068.   Elapsed: 0:06:35.\n",
            "0: Have neck and back pain, neck pain but no pain in back. Why can I sleep for 7 days without feeling sick.  Have had 3 incidents of neck pain, no sore throat.  No fever.  Fever doesn't go down easily.   What could it be?  I have also been having headache since the beginning of the year.  My usual days are productive, but this time it feels worse.  I am feeling sick at work and have not been able to sleep.  Should I be worried? Thanks for your question on Healthcare Magic.I can understand your concern.As you are having chronic headache as well, there might be underlying respiratory tract infection.And a headache could be coming along with it.If I were the treating physician,I would do some test,i.e.e.g. a chest X-ray.Then I would know if it is right,but I still need some advise.I.e.e.e\n",
            "\n",
            "  Average training loss: 0.77\n",
            "  Training epoch took: 0:07:05\n",
            "\n",
            "Running Validation...\n",
            "  Validation Loss: 0.90\n",
            "  Validation took: 0:00:21\n",
            "\n",
            "======== Epoch 4 / 4 ========\n",
            "Training...\n"
          ]
        },
        {
          "output_type": "stream",
          "name": "stderr",
          "text": [
            "Setting `pad_token_id` to `eos_token_id`:50256 for open-end generation.\n"
          ]
        },
        {
          "output_type": "stream",
          "name": "stdout",
          "text": [
            "  Batch   100  of    428. Loss: 1.4446381330490112.   Elapsed: 0:01:37.\n",
            "0: What causes bronchitis, bronchitis and runny nose while treating pneumonia?Hi there, my name is Brent. I am a 22 year old man. I have chest x-rays and a bronchoscope. I have asthma and I have cough from past two years. I have seen a lot of patients with bronchitis and have been to the doctor 4 times. Two of them were told they had type 1 diabetes and it turned into type 2 diabetes. Is this true? Hi Brent,Your history suggest that you are having allergic rhinitis, bronchitis and a high immune system.You should see your pulmonologist and PFT (Pulmonary Function Test). You will need inhaled cortico quinolones and inhaled corticosteroid (ICS) and inhaled cortico quinolones (formoterol or fluticasone).Don't worry, you will be alright with all these.\n"
          ]
        },
        {
          "output_type": "stream",
          "name": "stderr",
          "text": [
            "Setting `pad_token_id` to `eos_token_id`:50256 for open-end generation.\n"
          ]
        },
        {
          "output_type": "stream",
          "name": "stdout",
          "text": [
            "  Batch   200  of    428. Loss: 0.5501934885978699.   Elapsed: 0:03:16.\n",
            "0: What causes sore throat, runny nose, sore throat/upper respiratory?I have a little sore throat and body aches. Initially, I thought it was a cold, but now I got cold, and I'm still sore. I can do a lot of things while coughing, and sometimes I have to do some breathing exercises that don't help. Hi, thanks for using healthcare magicItchy upper respiratory tract can lead to upper respiratory tract infection or common cold such as coughing,nasal blockage, bronchitis, laryngitis,  any malaise etc., So do not worry. You can use salbutamol and ibuprofen to cure that.I hope this helps\n"
          ]
        },
        {
          "output_type": "stream",
          "name": "stderr",
          "text": [
            "Setting `pad_token_id` to `eos_token_id`:50256 for open-end generation.\n"
          ]
        },
        {
          "output_type": "stream",
          "name": "stdout",
          "text": [
            "  Batch   300  of    428. Loss: 0.300914466381073.   Elapsed: 0:04:55.\n",
            "0: Suggest treatment for cough and shortness of breathHi i am a 14 year old female who suffers from cough and shortness of breath with slight nasal allergies. Symptoms as follows:1. First of all I would suggest you to consult a doctor to rule out COVID-192. After that a clear understanding about this can be reached and it can be decided very quickly if you are diagnosed with any abnormality like weight loss, shortness of breath, or anxiety.\n"
          ]
        },
        {
          "output_type": "stream",
          "name": "stderr",
          "text": [
            "Setting `pad_token_id` to `eos_token_id`:50256 for open-end generation.\n"
          ]
        },
        {
          "output_type": "stream",
          "name": "stdout",
          "text": [
            "  Batch   400  of    428. Loss: 0.7755762934684753.   Elapsed: 0:06:33.\n",
            "0: Suggest treatment for pneumonia and COPDII have been in close contact with individuals with Pnemonia for 2 weeks, as well as individuals with Cavidurism and COPDI who now have an increased immune response to stimuli. Are these conditions likely to ever go away? How long will this problem continue to be exacerbated? My sister is now suffering from pneumonia and is having COPDI and her doctor has suggested a course of antibiotics with montelukast and inhalers. She has been taking Advair and Levaquin. Is there anything she can do to help? The only option is to wait it out. She needs to take another course of antibiotics  I am a 61 year old female. Thanks for your question on Healthcare Magic.I can understand your concern.Pneumonia means heart failure.Management involves:1. A course of antibiotics based on culture & sensitivity reports.2. Asthalin+ Seroflo inhaler- provide symptomatic relief\n",
            "\n",
            "  Average training loss: 0.64\n",
            "  Training epoch took: 0:07:03\n",
            "\n",
            "Running Validation...\n",
            "  Validation Loss: 0.93\n",
            "  Validation took: 0:00:21\n",
            "\n",
            "Training complete!\n",
            "Total training took 0:29:33 (h:mm:ss)\n"
          ]
        }
      ]
    },
    {
      "cell_type": "code",
      "metadata": {
        "id": "myd0_JlcsWJY",
        "colab": {
          "base_uri": "https://localhost:8080/",
          "height": 204
        },
        "outputId": "6322897e-0644-40d1-d31c-586025e4e566"
      },
      "source": [
        "# Display floats with two decimal places.\n",
        "pd.set_option('precision', 2)\n",
        "\n",
        "# Create a DataFrame from our training statistics.\n",
        "df_stats = pd.DataFrame(data=training_stats)\n",
        "\n",
        "# Use the 'epoch' as the row index.\n",
        "df_stats = df_stats.set_index('epoch')\n",
        "\n",
        "# A hack to force the column headers to wrap.\n",
        "#df = df.style.set_table_styles([dict(selector=\"th\",props=[('max-width', '70px')])])\n",
        "\n",
        "# Display the table.\n",
        "df_stats\n"
      ],
      "execution_count": 20,
      "outputs": [
        {
          "output_type": "execute_result",
          "data": {
            "text/html": [
              "<div>\n",
              "<style scoped>\n",
              "    .dataframe tbody tr th:only-of-type {\n",
              "        vertical-align: middle;\n",
              "    }\n",
              "\n",
              "    .dataframe tbody tr th {\n",
              "        vertical-align: top;\n",
              "    }\n",
              "\n",
              "    .dataframe thead th {\n",
              "        text-align: right;\n",
              "    }\n",
              "</style>\n",
              "<table border=\"1\" class=\"dataframe\">\n",
              "  <thead>\n",
              "    <tr style=\"text-align: right;\">\n",
              "      <th></th>\n",
              "      <th>Training Loss</th>\n",
              "      <th>Valid. Loss</th>\n",
              "      <th>Training Time</th>\n",
              "      <th>Validation Time</th>\n",
              "    </tr>\n",
              "    <tr>\n",
              "      <th>epoch</th>\n",
              "      <th></th>\n",
              "      <th></th>\n",
              "      <th></th>\n",
              "      <th></th>\n",
              "    </tr>\n",
              "  </thead>\n",
              "  <tbody>\n",
              "    <tr>\n",
              "      <th>1</th>\n",
              "      <td>1.46</td>\n",
              "      <td>0.96</td>\n",
              "      <td>0:06:58</td>\n",
              "      <td>0:00:21</td>\n",
              "    </tr>\n",
              "    <tr>\n",
              "      <th>2</th>\n",
              "      <td>0.94</td>\n",
              "      <td>0.92</td>\n",
              "      <td>0:07:03</td>\n",
              "      <td>0:00:21</td>\n",
              "    </tr>\n",
              "    <tr>\n",
              "      <th>3</th>\n",
              "      <td>0.77</td>\n",
              "      <td>0.90</td>\n",
              "      <td>0:07:05</td>\n",
              "      <td>0:00:21</td>\n",
              "    </tr>\n",
              "    <tr>\n",
              "      <th>4</th>\n",
              "      <td>0.64</td>\n",
              "      <td>0.93</td>\n",
              "      <td>0:07:03</td>\n",
              "      <td>0:00:21</td>\n",
              "    </tr>\n",
              "  </tbody>\n",
              "</table>\n",
              "</div>"
            ],
            "text/plain": [
              "       Training Loss  Valid. Loss Training Time Validation Time\n",
              "epoch                                                          \n",
              "1               1.46         0.96       0:06:58         0:00:21\n",
              "2               0.94         0.92       0:07:03         0:00:21\n",
              "3               0.77         0.90       0:07:05         0:00:21\n",
              "4               0.64         0.93       0:07:03         0:00:21"
            ]
          },
          "metadata": {},
          "execution_count": 20
        }
      ]
    },
    {
      "cell_type": "code",
      "metadata": {
        "id": "KOlJwFuosWJY",
        "colab": {
          "base_uri": "https://localhost:8080/",
          "height": 427
        },
        "outputId": "430a25e0-641e-4894-c68d-b55df11c95ca"
      },
      "source": [
        "loss_curves(df_stats)"
      ],
      "execution_count": 21,
      "outputs": [
        {
          "output_type": "display_data",
          "data": {
            "image/png": "[encoded data removed]",
            "text/plain": [
              "<Figure size 864x432 with 1 Axes>"
            ]
          },
          "metadata": {}
        }
      ]
    },
    {
      "cell_type": "code",
      "metadata": {
        "id": "6vVU3SIosWJY",
        "colab": {
          "base_uri": "https://localhost:8080/"
        },
        "outputId": "d2672edf-70d3-4f19-8c9d-2c056268b8c1"
      },
      "source": [
        "# Get all of the model's parameters as a list of tuples.\n",
        "params = list(model.named_parameters())\n",
        "\n",
        "print('The GPT-2 model has {:} different named parameters.\\n'.format(len(params)))\n",
        "\n",
        "print('==== Embedding Layer ====\\n')\n",
        "\n",
        "for p in params[0:2]:\n",
        "    print(\"{:<55} {:>12}\".format(p[0], str(tuple(p[1].size()))))\n",
        "\n",
        "print('\\n==== First Transformer ====\\n')\n",
        "\n",
        "for p in params[2:14]:\n",
        "    print(\"{:<55} {:>12}\".format(p[0], str(tuple(p[1].size()))))\n",
        "\n",
        "print('\\n==== Output Layer ====\\n')\n",
        "\n",
        "for p in params[-2:]:\n",
        "    print(\"{:<55} {:>12}\".format(p[0], str(tuple(p[1].size()))))\n",
        "    "
      ],
      "execution_count": 22,
      "outputs": [
        {
          "output_type": "stream",
          "name": "stdout",
          "text": [
            "The GPT-2 model has 148 different named parameters.\n",
            "\n",
            "==== Embedding Layer ====\n",
            "\n",
            "transformer.wte.weight                                  (50259, 768)\n",
            "transformer.wpe.weight                                   (1024, 768)\n",
            "\n",
            "==== First Transformer ====\n",
            "\n",
            "transformer.h.0.ln_1.weight                                   (768,)\n",
            "transformer.h.0.ln_1.bias                                     (768,)\n",
            "transformer.h.0.attn.c_attn.weight                       (768, 2304)\n",
            "transformer.h.0.attn.c_attn.bias                             (2304,)\n",
            "transformer.h.0.attn.c_proj.weight                        (768, 768)\n",
            "transformer.h.0.attn.c_proj.bias                              (768,)\n",
            "transformer.h.0.ln_2.weight                                   (768,)\n",
            "transformer.h.0.ln_2.bias                                     (768,)\n",
            "transformer.h.0.mlp.c_fc.weight                          (768, 3072)\n",
            "transformer.h.0.mlp.c_fc.bias                                (3072,)\n",
            "transformer.h.0.mlp.c_proj.weight                        (3072, 768)\n",
            "transformer.h.0.mlp.c_proj.bias                               (768,)\n",
            "\n",
            "==== Output Layer ====\n",
            "\n",
            "transformer.ln_f.weight                                       (768,)\n",
            "transformer.ln_f.bias                                         (768,)\n"
          ]
        }
      ]
    },
    {
      "cell_type": "code",
      "metadata": {
        "id": "VmWVVTLCsWJa",
        "colab": {
          "base_uri": "https://localhost:8080/"
        },
        "outputId": "fc603b04-3af3-4ac6-8040-b04a911c1b81"
      },
      "source": [
        "# Saving best-practices: if you use defaults names for the model, you can reload it using from_pretrained()\n",
        "\n",
        "output_dir = './models/decoder1/'\n",
        "\n",
        "# Create output directory if needed\n",
        "if not os.path.exists(output_dir):\n",
        "    os.makedirs(output_dir)\n",
        "\n",
        "print(\"Saving model to %s\" % output_dir)\n",
        "\n",
        "# Save a trained model, configuration and tokenizer using `save_pretrained()`.\n",
        "# They can then be reloaded using `from_pretrained()`\n",
        "model_to_save = model.module if hasattr(model, 'module') else model  # Take care of distributed/parallel training\n",
        "model_to_save.save_pretrained(output_dir)\n",
        "tokenizer.save_pretrained(output_dir)"
      ],
      "execution_count": 23,
      "outputs": [
        {
          "output_type": "stream",
          "name": "stdout",
          "text": [
            "Saving model to ./models/decoder1/\n"
          ]
        },
        {
          "output_type": "execute_result",
          "data": {
            "text/plain": [
              "('./models/decoder1/tokenizer_config.json',\n",
              " './models/decoder1/special_tokens_map.json',\n",
              " './models/decoder1/vocab.json',\n",
              " './models/decoder1/merges.txt',\n",
              " './models/decoder1/added_tokens.json',\n",
              " './models/decoder1/tokenizer.json')"
            ]
          },
          "metadata": {},
          "execution_count": 23
        }
      ]
    },
    {
      "cell_type": "code",
      "source": [
        "tokenizer = AutoTokenizer.from_pretrained(\"models/decoder1\")\n",
        "model = AutoModelForCausalLM.from_pretrained(\"models/decoder1\")\n",
        "model.to(device)"
      ],
      "metadata": {
        "colab": {
          "base_uri": "https://localhost:8080/"
        },
        "id": "PxQYo6TjjSLZ",
        "outputId": "a6b398b5-3608-4bb6-f37c-9339a0257b77"
      },
      "execution_count": 21,
      "outputs": [
        {
          "output_type": "execute_result",
          "data": {
            "text/plain": [
              "GPT2LMHeadModel(\n",
              "  (transformer): GPT2Model(\n",
              "    (wte): Embedding(50259, 768)\n",
              "    (wpe): Embedding(1024, 768)\n",
              "    (drop): Dropout(p=0.1, inplace=False)\n",
              "    (h): ModuleList(\n",
              "      (0): GPT2Block(\n",
              "        (ln_1): LayerNorm((768,), eps=1e-05, elementwise_affine=True)\n",
              "        (attn): GPT2Attention(\n",
              "          (c_attn): Conv1D()\n",
              "          (c_proj): Conv1D()\n",
              "          (attn_dropout): Dropout(p=0.1, inplace=False)\n",
              "          (resid_dropout): Dropout(p=0.1, inplace=False)\n",
              "        )\n",
              "        (ln_2): LayerNorm((768,), eps=1e-05, elementwise_affine=True)\n",
              "        (mlp): GPT2MLP(\n",
              "          (c_fc): Conv1D()\n",
              "          (c_proj): Conv1D()\n",
              "          (dropout): Dropout(p=0.1, inplace=False)\n",
              "        )\n",
              "      )\n",
              "      (1): GPT2Block(\n",
              "        (ln_1): LayerNorm((768,), eps=1e-05, elementwise_affine=True)\n",
              "        (attn): GPT2Attention(\n",
              "          (c_attn): Conv1D()\n",
              "          (c_proj): Conv1D()\n",
              "          (attn_dropout): Dropout(p=0.1, inplace=False)\n",
              "          (resid_dropout): Dropout(p=0.1, inplace=False)\n",
              "        )\n",
              "        (ln_2): LayerNorm((768,), eps=1e-05, elementwise_affine=True)\n",
              "        (mlp): GPT2MLP(\n",
              "          (c_fc): Conv1D()\n",
              "          (c_proj): Conv1D()\n",
              "          (dropout): Dropout(p=0.1, inplace=False)\n",
              "        )\n",
              "      )\n",
              "      (2): GPT2Block(\n",
              "        (ln_1): LayerNorm((768,), eps=1e-05, elementwise_affine=True)\n",
              "        (attn): GPT2Attention(\n",
              "          (c_attn): Conv1D()\n",
              "          (c_proj): Conv1D()\n",
              "          (attn_dropout): Dropout(p=0.1, inplace=False)\n",
              "          (resid_dropout): Dropout(p=0.1, inplace=False)\n",
              "        )\n",
              "        (ln_2): LayerNorm((768,), eps=1e-05, elementwise_affine=True)\n",
              "        (mlp): GPT2MLP(\n",
              "          (c_fc): Conv1D()\n",
              "          (c_proj): Conv1D()\n",
              "          (dropout): Dropout(p=0.1, inplace=False)\n",
              "        )\n",
              "      )\n",
              "      (3): GPT2Block(\n",
              "        (ln_1): LayerNorm((768,), eps=1e-05, elementwise_affine=True)\n",
              "        (attn): GPT2Attention(\n",
              "          (c_attn): Conv1D()\n",
              "          (c_proj): Conv1D()\n",
              "          (attn_dropout): Dropout(p=0.1, inplace=False)\n",
              "          (resid_dropout): Dropout(p=0.1, inplace=False)\n",
              "        )\n",
              "        (ln_2): LayerNorm((768,), eps=1e-05, elementwise_affine=True)\n",
              "        (mlp): GPT2MLP(\n",
              "          (c_fc): Conv1D()\n",
              "          (c_proj): Conv1D()\n",
              "          (dropout): Dropout(p=0.1, inplace=False)\n",
              "        )\n",
              "      )\n",
              "      (4): GPT2Block(\n",
              "        (ln_1): LayerNorm((768,), eps=1e-05, elementwise_affine=True)\n",
              "        (attn): GPT2Attention(\n",
              "          (c_attn): Conv1D()\n",
              "          (c_proj): Conv1D()\n",
              "          (attn_dropout): Dropout(p=0.1, inplace=False)\n",
              "          (resid_dropout): Dropout(p=0.1, inplace=False)\n",
              "        )\n",
              "        (ln_2): LayerNorm((768,), eps=1e-05, elementwise_affine=True)\n",
              "        (mlp): GPT2MLP(\n",
              "          (c_fc): Conv1D()\n",
              "          (c_proj): Conv1D()\n",
              "          (dropout): Dropout(p=0.1, inplace=False)\n",
              "        )\n",
              "      )\n",
              "      (5): GPT2Block(\n",
              "        (ln_1): LayerNorm((768,), eps=1e-05, elementwise_affine=True)\n",
              "        (attn): GPT2Attention(\n",
              "          (c_attn): Conv1D()\n",
              "          (c_proj): Conv1D()\n",
              "          (attn_dropout): Dropout(p=0.1, inplace=False)\n",
              "          (resid_dropout): Dropout(p=0.1, inplace=False)\n",
              "        )\n",
              "        (ln_2): LayerNorm((768,), eps=1e-05, elementwise_affine=True)\n",
              "        (mlp): GPT2MLP(\n",
              "          (c_fc): Conv1D()\n",
              "          (c_proj): Conv1D()\n",
              "          (dropout): Dropout(p=0.1, inplace=False)\n",
              "        )\n",
              "      )\n",
              "      (6): GPT2Block(\n",
              "        (ln_1): LayerNorm((768,), eps=1e-05, elementwise_affine=True)\n",
              "        (attn): GPT2Attention(\n",
              "          (c_attn): Conv1D()\n",
              "          (c_proj): Conv1D()\n",
              "          (attn_dropout): Dropout(p=0.1, inplace=False)\n",
              "          (resid_dropout): Dropout(p=0.1, inplace=False)\n",
              "        )\n",
              "        (ln_2): LayerNorm((768,), eps=1e-05, elementwise_affine=True)\n",
              "        (mlp): GPT2MLP(\n",
              "          (c_fc): Conv1D()\n",
              "          (c_proj): Conv1D()\n",
              "          (dropout): Dropout(p=0.1, inplace=False)\n",
              "        )\n",
              "      )\n",
              "      (7): GPT2Block(\n",
              "        (ln_1): LayerNorm((768,), eps=1e-05, elementwise_affine=True)\n",
              "        (attn): GPT2Attention(\n",
              "          (c_attn): Conv1D()\n",
              "          (c_proj): Conv1D()\n",
              "          (attn_dropout): Dropout(p=0.1, inplace=False)\n",
              "          (resid_dropout): Dropout(p=0.1, inplace=False)\n",
              "        )\n",
              "        (ln_2): LayerNorm((768,), eps=1e-05, elementwise_affine=True)\n",
              "        (mlp): GPT2MLP(\n",
              "          (c_fc): Conv1D()\n",
              "          (c_proj): Conv1D()\n",
              "          (dropout): Dropout(p=0.1, inplace=False)\n",
              "        )\n",
              "      )\n",
              "      (8): GPT2Block(\n",
              "        (ln_1): LayerNorm((768,), eps=1e-05, elementwise_affine=True)\n",
              "        (attn): GPT2Attention(\n",
              "          (c_attn): Conv1D()\n",
              "          (c_proj): Conv1D()\n",
              "          (attn_dropout): Dropout(p=0.1, inplace=False)\n",
              "          (resid_dropout): Dropout(p=0.1, inplace=False)\n",
              "        )\n",
              "        (ln_2): LayerNorm((768,), eps=1e-05, elementwise_affine=True)\n",
              "        (mlp): GPT2MLP(\n",
              "          (c_fc): Conv1D()\n",
              "          (c_proj): Conv1D()\n",
              "          (dropout): Dropout(p=0.1, inplace=False)\n",
              "        )\n",
              "      )\n",
              "      (9): GPT2Block(\n",
              "        (ln_1): LayerNorm((768,), eps=1e-05, elementwise_affine=True)\n",
              "        (attn): GPT2Attention(\n",
              "          (c_attn): Conv1D()\n",
              "          (c_proj): Conv1D()\n",
              "          (attn_dropout): Dropout(p=0.1, inplace=False)\n",
              "          (resid_dropout): Dropout(p=0.1, inplace=False)\n",
              "        )\n",
              "        (ln_2): LayerNorm((768,), eps=1e-05, elementwise_affine=True)\n",
              "        (mlp): GPT2MLP(\n",
              "          (c_fc): Conv1D()\n",
              "          (c_proj): Conv1D()\n",
              "          (dropout): Dropout(p=0.1, inplace=False)\n",
              "        )\n",
              "      )\n",
              "      (10): GPT2Block(\n",
              "        (ln_1): LayerNorm((768,), eps=1e-05, elementwise_affine=True)\n",
              "        (attn): GPT2Attention(\n",
              "          (c_attn): Conv1D()\n",
              "          (c_proj): Conv1D()\n",
              "          (attn_dropout): Dropout(p=0.1, inplace=False)\n",
              "          (resid_dropout): Dropout(p=0.1, inplace=False)\n",
              "        )\n",
              "        (ln_2): LayerNorm((768,), eps=1e-05, elementwise_affine=True)\n",
              "        (mlp): GPT2MLP(\n",
              "          (c_fc): Conv1D()\n",
              "          (c_proj): Conv1D()\n",
              "          (dropout): Dropout(p=0.1, inplace=False)\n",
              "        )\n",
              "      )\n",
              "      (11): GPT2Block(\n",
              "        (ln_1): LayerNorm((768,), eps=1e-05, elementwise_affine=True)\n",
              "        (attn): GPT2Attention(\n",
              "          (c_attn): Conv1D()\n",
              "          (c_proj): Conv1D()\n",
              "          (attn_dropout): Dropout(p=0.1, inplace=False)\n",
              "          (resid_dropout): Dropout(p=0.1, inplace=False)\n",
              "        )\n",
              "        (ln_2): LayerNorm((768,), eps=1e-05, elementwise_affine=True)\n",
              "        (mlp): GPT2MLP(\n",
              "          (c_fc): Conv1D()\n",
              "          (c_proj): Conv1D()\n",
              "          (dropout): Dropout(p=0.1, inplace=False)\n",
              "        )\n",
              "      )\n",
              "    )\n",
              "    (ln_f): LayerNorm((768,), eps=1e-05, elementwise_affine=True)\n",
              "  )\n",
              "  (lm_head): Linear(in_features=768, out_features=50259, bias=False)\n",
              ")"
            ]
          },
          "metadata": {},
          "execution_count": 21
        }
      ]
    },
    {
      "cell_type": "code",
      "metadata": {
        "id": "0kZUklPnNaOr",
        "colab": {
          "base_uri": "https://localhost:8080/"
        },
        "outputId": "730fbb59-aa47-4774-f8d5-26477bba4a6f"
      },
      "source": [
        "model = model.to('cpu')\n",
        "rougeL = []\n",
        "rougeLsum = []\n",
        "rouge1 = []\n",
        "rouge2 = []\n",
        "\n",
        "test_dataset = GPT2Dataset(test_split, tokenizer, max_length=768, padding=False)\n",
        "val_dataset = GPT2Dataset(val_split, tokenizer, max_length=768, padding=False)\n",
        "\n",
        "f = open('decoder.csv','w')\n",
        "f.write(\"input, prediction, ground\\n\")\n",
        "\n",
        "for i, encoder_input in enumerate(val_dataset.input_ids):\n",
        "    # print(type(encoder_input))\n",
        "    # encoder_input = encoder_input[encoder_input != 50256]\n",
        "    encoder_input = torch.reshape(encoder_input[0:-1], (1, -1))\n",
        "\n",
        "    # predicted = model.generate(encoder_input, max_length=1000, min_length=50, return_dict=True)\n",
        "    predicted = model.generate(encoder_input,\n",
        "                            do_sample=True,   \n",
        "                            top_k=50, \n",
        "                            # beam=5,\n",
        "                            min_length = 50,\n",
        "                            max_length = 1000,\n",
        "                            top_p=0.95, \n",
        "                            return_dict=True\n",
        "                          )\n",
        "\n",
        "    decoded_input = tokenizer.decode(encoder_input[0], skip_special_tokens=True)\n",
        "    decoded_prediction = tokenizer.decode(predicted[:, encoder_input.shape[-1]:][0], skip_special_tokens=True)\n",
        "    decoded_ground = tokenizer.decode(test_dataset.decoder_ids[i], skip_special_tokens=True)\n",
        "    \n",
        "    print(decoded_input)\n",
        "    # print(\"\\n\")\n",
        "    print(decoded_prediction)\n",
        "    # print(\"\\n\")\n",
        "    print(decoded_ground)\n",
        "    # print(\"How well did I answer the question? (See the five-point scale in the readme.)\")\n",
        "    # question_score = input(\"Answer: \")\n",
        "    # print(\"Thanks! How fluent were my answers? (See the five-point scale in the readme.)\")\n",
        "    # fluency_score = input(\"Answer: \")\n",
        "    print(\"\\n\")\n",
        "\n",
        "    row = \"\\\"\" + decoded_input.replace(\"\\\"\", \"\\'\") + \"\\\", \\\"\" + decoded_prediction.replace(\"\\\"\", \"\\'\") + \"\\\", \\\"\" + decoded_ground.replace(\"\\\"\", \"\\'\") + \"\\\"\\n\"\n",
        "    # print(row)\n",
        "    f.write(row)\n",
        "    \n",
        "    rouge_dict = rouge(decoded_prediction, decoded_ground)\n",
        "    rougeL.append(rouge_dict[\"rougeL\"])\n",
        "    rougeLsum.append(rouge_dict[\"rougeLsum\"])\n",
        "    rouge1.append(rouge_dict[\"rouge1\"])\n",
        "    rouge2.append(rouge_dict[\"rouge2\"])\n",
        "\n",
        "f.close()\n",
        "\n",
        "avg_rougeL_p = sum([rougeL[i].precision for i in range(len(rougeL))])/len(rougeL)\n",
        "avg_rougeL_r = sum([rougeL[i].recall for i in range(len(rougeL))])/len(rougeL)\n",
        "avg_rougeL_f = sum([rougeL[i].fmeasure for i in range(len(rougeL))])/len(rougeL)\n",
        "\n",
        "avg_rougeLsum_p = sum([rougeLsum[i].precision for i in range(len(rougeLsum))])/len(rougeLsum)\n",
        "avg_rougeLsum_r = sum([rougeLsum[i].recall for i in range(len(rougeLsum))])/len(rougeLsum)\n",
        "avg_rougeLsum_f = sum([rougeLsum[i].fmeasure for i in range(len(rougeLsum))])/len(rougeLsum)\n",
        "\n",
        "avg_rouge1_p = sum([rouge1[i].precision for i in range(len(rouge1))])/len(rouge1)\n",
        "avg_rouge1_r = sum([rouge1[i].recall for i in range(len(rouge1))])/len(rouge1)\n",
        "avg_rouge1_f = sum([rouge1[i].fmeasure for i in range(len(rouge1))])/len(rouge1)\n",
        "\n",
        "avg_rouge2_p = sum([rouge2[i].precision for i in range(len(rouge2))])/len(rouge2)\n",
        "avg_rouge2_r = sum([rouge2[i].recall for i in range(len(rouge2))])/len(rouge2)\n",
        "avg_rouge2_f = sum([rouge2[i].fmeasure for i in range(len(rouge2))])/len(rouge2)\n",
        "\n",
        "print(\"RougeL - precision: \" + str(avg_rougeL_p) + \", recall: \" + str(avg_rougeL_r) + \", fmeasure: \" + str(avg_rougeL_f))\n",
        "print(\"RougeLsum - precision: \" + str(avg_rougeLsum_r) + \", recall: \" + str(avg_rougeLsum_r) + \", fmeasure: \" + str(avg_rougeLsum_f))\n",
        "print(\"Rouge1 - precision: \" + str(avg_rouge1_p) + \", recall: \" + str(avg_rouge1_r) + \", fmeasure: \" + str(avg_rouge1_f))\n",
        "print(\"Rouge2 - precision: \" + str(avg_rouge2_p) + \", recall: \" + str(avg_rouge2_r) + \", fmeasure: \" + str(avg_rouge2_f))"
      ],
      "execution_count": 22,
      "outputs": [
        {
          "output_type": "stream",
          "name": "stderr",
          "text": [
            "Setting `pad_token_id` to `eos_token_id`:50256 for open-end generation.\n",
            "Setting `pad_token_id` to `eos_token_id`:50256 for open-end generation.\n"
          ]
        },
        {
          "output_type": "stream",
          "name": "stdout",
          "text": [
            "What are my chances of only getting mild symptoms if I get the virus, because I have type 1 diabetes?What are my chances of only getting mild symptoms if I get the virus, because I have type 1 diabetes? \n",
            "If you get the virus, you must not have traveled. The only way to cure your diabetes is by testing positive for covid-19, and staying at home and eating ice cream. Get well soon.\n",
            "HI, sinus infection is secondary to  repeated common cold attacks getting secondary infection,if person has low resistance.    So, allergy being  one of  the instigating factor in repeated colds,may be blamed for sinusitis.    Yes one can be allergic to fabric/quilt dust fibers -inhaled & manifested as allergic rhinitis ( common cold)allergy.     You need to-        - get allergy testing, followed by avoiding allergens/ a desensatization treatment for removing allergy.        - have a nutritive diet,exercises,respiratory exercises,vitamin,iron,supplements( if advised by your doctor)        Thanks.\n",
            "\n",
            "\n"
          ]
        },
        {
          "output_type": "stream",
          "name": "stderr",
          "text": [
            "Setting `pad_token_id` to `eos_token_id`:50256 for open-end generation.\n"
          ]
        },
        {
          "output_type": "stream",
          "name": "stdout",
          "text": [
            "What causes sharp pain in collar bone while coughing?I ve been treated for bronchitis and finished my z-pack today. Every time I courgh and breath deep there is a really sharp pain under my collarbone on the left side. I thought it might be pulled muscles but it s only on one side and really high up where no muscles are. Any advise would be helpful. Thank you I do have a pace maker in that area sss or sinus node syndrome Cassie L. FTW TX \n",
            "Hi, thanks for using healthcaremagic.comI have evaluated your query thoroughly.*  It is possible that the trauma to the collarbone may be due to infection of the heart with its compression of the back muscles due to the trauma to the sternum or shoulder blades.*      In either case, a chest x ray is needed.To confirm whether the pain is coming from either the chest itself or from the collarbone.If the pain is coming from the chest muscles then yes, chest pain can be treated with an x ray.Chest pain can be related to the injury of the neck/leg muscles.Hope this helps\n",
            "In brief:   Maybe   Such a mask helps protect others from any respiratory material you exhale or cough but does not filter out the virus.   Only high end medical & industrial masks (P95/N95)would filter that. Your best protection is frequent hand washing and not touching your face/mouth/nose with contaminated fingers.,  Would you like to video or text chat with me?\n",
            "\n",
            "\n"
          ]
        },
        {
          "output_type": "stream",
          "name": "stderr",
          "text": [
            "Setting `pad_token_id` to `eos_token_id`:50256 for open-end generation.\n"
          ]
        },
        {
          "output_type": "stream",
          "name": "stdout",
          "text": [
            "Why am I having choking feeling with throat pain?Hi, may I answer your health queries right now?  Please type your query here...I have been on inhaler Seroflo 250 twice and Xyzal tablet for quite some time after severe asthma.For last about 10 days,I have continuous throat pain and a feeling of swelling in the throat, though the cough has reduced a lot, whenever I cough I have a choking feeling and I really gasp for breath. The choking is very severe for 10 - 15 seconds and I can neither breathe in through the nose nor the mouth. It takes a minute or so to calm down to normalcy. \n",
            "Hi,Thank you for asking at HCM.I went through your history and would like to make suggestions for you as follows:1. Do you have any respiratory tract infection as well as chest pain?2. Do you have any respiratory tract infections other than pneumonia?3. Do you have any other chronic disease like pneumonia or common cold?4. Drink adequate amounts of water and take acetaminophen, ibuprofen if needed.5. Also, I would suggest you to consult an Allergist of respiratory system for proper treatment.Hope I have answered your query. Let me know if I can assist you further.Should you have any further.Should you have any further query, you have any further query, I will be happy to help you further.Should you have any further query, please feel free to ask at HCM.Wish you the best of the health ahead.Thank you & Regards.\n",
            "Thanks for your question on Healthcare Magic.I can understand your concern.Yes, you should definitely consult your doctor.Pneumonia spread by coughing. So you might have cought infection from your boyfriend's grandmother. You are also a diabetic, so lung infections are very easy to affect you.So better to consult your doctor and get done clinical examination of respiratory system and chest x ray.If chest x ray is normal then no need to worry for pneumonia, take simple painkiller like paracetamol for your chest pain.Hope I have solved your query. I will be happy to help you further. Wish you good health. Thanks.\n",
            "\n",
            "\n"
          ]
        },
        {
          "output_type": "stream",
          "name": "stderr",
          "text": [
            "Setting `pad_token_id` to `eos_token_id`:50256 for open-end generation.\n"
          ]
        },
        {
          "output_type": "stream",
          "name": "stdout",
          "text": [
            "What causes cold sensations in the abdomen and back while having pneumonia?My husband, age 63 is feeling cool on his abdomen and back while the rest of him is warm...currently sleeping. Last week was diagnosed with pneumonia...had a period last week when he was so cold, couldn t get warm so we went to the hospital. He says he is feeling fine and feels OK to work everyday (does construction work outside on a normal basis). Should I be concerned tonight that part of him feels cool even when under covera for an hour or two Thanks so much \n",
            "Hello,Thank you for asking at HCM.As per his history, he is having pneumonis.The pneumonia has been diagnosed by a chest xray and is likely to occur as the pneumonia is under medical control. The treatment may not be complete, but it does include antibiotics,antibiotics, antibiotics, bronchodilators, antihistaminics, antipyretics and mast cell stabilizers as prescribed by the doctor.Thank you.\n",
            "In brief:   Covid-19 unlikely.   The usual infections in your area of Kwa Zulu Natal are more likely to be the cause of his fever. If he is exposed to someone who is sick with Covid-19, then you need to be concerned.   Meanwhile, treat him as you would have treated him 2 months ago.  If he has shortness of breath or any form of difficulty breathing, get him to a doctor ASAP  Would you like to video or text chat with me?\n",
            "\n",
            "\n"
          ]
        },
        {
          "output_type": "stream",
          "name": "stderr",
          "text": [
            "Setting `pad_token_id` to `eos_token_id`:50256 for open-end generation.\n"
          ]
        },
        {
          "output_type": "stream",
          "name": "stdout",
          "text": [
            "What will happen after the incubation period for covid 19?What will happen after the incubation period for covid 19? \n",
            "In brief:   There is a high level of COVID 19.    The goal is to have people who have traveled to high risk countries meet the criteria for testing and then go to meet the criteria for testing after the official test is confirmed. You will not have to wait much longer to get tested.   It is a long wait and even longer wait it is inevitable.  Would you like to video or text chat with me?\n",
            "Hi thanks for your question.The big lump in along with several small lumps in the neck could be lymph nodes. Lymph nodes are normally present in body and get enlarged when there is infection in their vicinity. You are having sinusitis, upper respiratory tract infection and bronchitis. These lumps could be cervical lymph nodes. You are taking antibiotics along with plenty of symptomatic medicine. Continue with these medicines. But you a good physical examination along with investigations like, chest X Ray, blood count and fine needle aspiration cytology of these lymph node is necessary to establish the diagnosis. After accurate diagnosis treatment can be prescribed to you. For migraine continue the medicine prescribed to you by your G p. Re consult your G P with these base line facts in your mind, so that he may re evaluate you for your problems.Hope this answers your question\n",
            "\n",
            "\n"
          ]
        },
        {
          "output_type": "stream",
          "name": "stderr",
          "text": [
            "Setting `pad_token_id` to `eos_token_id`:50256 for open-end generation.\n"
          ]
        },
        {
          "output_type": "stream",
          "name": "stdout",
          "text": [
            "What risk am I from coronavirus as I have VTE?What risk am I from coronavirus as I have VTE? \n",
            "In brief:  Not necessarily  Not a risk         There are no direct precautions to prevent coronavirus but people in good health would not necessarily go to a testing centre to get screened.  Would you like to video or text chat with me?\n",
            "In brief:   If bad, needs ER   COVID-19 pandemic at this time, so a doctor on video may consult by video instead of requiring an in-person visit.   Flu-like symptoms can be from a strep throat infection, a cold or influenza, or from some other cause like COVID-19. Usually, a person calls the doctor if the symptoms are bothersome, serious, recurrent, or persistent. COVID-19 testing depends on local availability. (3/22/20)  Would you like to video or text chat with me?\n",
            "\n",
            "\n"
          ]
        },
        {
          "output_type": "stream",
          "name": "stderr",
          "text": [
            "Setting `pad_token_id` to `eos_token_id`:50256 for open-end generation.\n"
          ]
        },
        {
          "output_type": "stream",
          "name": "stdout",
          "text": [
            "Does getting covid19 make you immune to a reinfection or just less likely to be reinfected?Does getting covid19 make you immune to a reinfection or just less likely to be reinfected? \n",
            "In brief:    Viral infectives.  Usually infections cause the reinfection, but most cases in the infectious areas tend to cause infection.   Usually, a person sees the doctor (call first) if the infection is bothersome, recurrent, or doesn't go away quickly.  Would you like to video or text chat with me?\n",
            "In brief:   Yes and no.   Yes for the first question.   For the second question i should say no because the possibility of the store employee coming close less than 6 feet is great. But what you can do is you get out of the car open the truck and then call the store employee for a curb side pick up leaving always a 6 feet distance between two of you.  Would you like to video or text chat with me?\n",
            "\n",
            "\n"
          ]
        },
        {
          "output_type": "stream",
          "name": "stderr",
          "text": [
            "Setting `pad_token_id` to `eos_token_id`:50256 for open-end generation.\n"
          ]
        },
        {
          "output_type": "stream",
          "name": "stdout",
          "text": [
            "What causes breathlessness and suffocation?recently about 5 months ago i have noticed that I have to take deep & long breathe after every 5 minutes,as such now last night before going to sleep,I got a smell of volini pain relief spray.after a few minutes I felt as if I am unable to breathe in,I tried to take deep breathe but then also I felt like suffocating.Can u plz tell me what it could be? \n",
            "HI! thanks for using health care magicThe most common cause for breathlessness and suffocating problems is breathlessness and suddenness of breath.It can be due to allergic reaction.This leads to a trigger factor of some respiratory system and will leads to breathlessness. This leads to breathlessness and will increase the chance of suffocating.The cough is so bad that it can never happen.The cough will resolve itself once the breathlessness subsides.In short, the breathing will be better.Hope I have solved your query. I will be happy to help you further. Wishing you good health. Thanks.\n",
            "Hi,If your father is suffering from throat pain then it might be due to upper respiratory infection or acute bronchitis then he would require antibiotics (quinolones or macrolides or cephalosporins or amoxicillin with clavulanic acid) with antihisamines,nebulization and steam inhalation.Now.asthma is itself a allergic disease due to cold or dust or pollens or grass etc irrespective of the triggering factor.You can go for pulmonary function tests if not done.Treatment is mainly symptomatic which might require steroids inhalers,beta receptor agonists,anticholinergics (as MDI or rotahaler) as a regular treatment.To decrease the inflammation of bronchi and bronchioles,you might be given oral antihistamines with mast cell stabilizers(montelukast) and steroids (prednisolone) with nebulization and frequently steam inhalation.The best way to cure any allergy is a complete avoidance of allergen or triggering factor.Consult your pulmonologist for further advise.\n",
            "\n",
            "\n"
          ]
        },
        {
          "output_type": "stream",
          "name": "stderr",
          "text": [
            "Setting `pad_token_id` to `eos_token_id`:50256 for open-end generation.\n"
          ]
        },
        {
          "output_type": "stream",
          "name": "stdout",
          "text": [
            "Painful abdomen, below chest, itching, tiredness. Is this normal?Hi sir,I am having a dull pain on the upper central abdomen just below the chest. Its been 2 weeks. I feel sort of pain and itchiness when i press with my finger on it. When i go for work i feel really tired,i dont feel like working at all.What could be the reasons?do i have to check with doctor and have some sort of test or its normal, \n",
            "Hello,Welcome to HCM,The symptoms as mentioned in your post can be attributed to an upper or lower respiratory tract infection.In either case, the above symptoms are not indicating an infection. You should consult pulmonologist for a thorough clinical examination with sputum examination to rule out an infection. You may need bronchoscopy (Pulmonary X-ray) to rule out strep.You may also need bronchodilators (formoterol or salmeterol) as a treatment.A course of antibiotics (formoterol or salmeterol) with anti biotics (quinolones or macrolides group) will be helpful. You may also use anti histaminics to decrease inflammation and symptoms of breathlessness.Continue taking analgesics, and treatment accordingly.Take care.\n",
            "Low blood pressure can be a serious and life-threatening problem. Is her blood pressure normally a lot higher than this? If so, then I would suggest urgent evaluation by a physician. Infections can lead to a response called sepsis, and part of this may include a drop in blood pressure, which can be dangerous to her organs. Ensuring adequate hydration is important, as dehydration can cause low blood pressure as well. If she is acting confused, fatigued, or more tired than usual then I would suggest urgent medical evaluation. I hope she feels better.\n",
            "\n",
            "\n"
          ]
        },
        {
          "output_type": "stream",
          "name": "stderr",
          "text": [
            "Setting `pad_token_id` to `eos_token_id`:50256 for open-end generation.\n"
          ]
        },
        {
          "output_type": "stream",
          "name": "stdout",
          "text": [
            "What are the signs and symptoms of pneumonia or pertussis?How can one be sure of a diagnosis of pneumonia or pertusses in adults. How do you compare? My doc thinks I have pertusses. But the doctor in Mexico where I was originally treated said I had PB pneumonia. I was on intravenous antibiotics for three days in Mexico before coming home to my dr.here in L.A.The xrays showed lots of mucus in my lungs.  I am confused.  is there a definitive test for petusses in adults? Dr said I will be fine. Gave me ADVAIR and cough medicine and says I will be fine but will cough for a pretty long while until the lungs are clear.  He said I do not need antibiotics because I have already had zpack and 10 days of ampicillin, and then 3 days fo intravenous antibiotics. Who do I believe? I am 65 years old. never was feeling this sick or tired before or have had any kind of lung involvement in my life.  I am a strong healthy woman. No immune deficiency or anything like that. \n",
            "Thank you doctor,Your pneumonia has been identified as bronchial sputum, secondary to upper respiratory tract infection of the body, secondary to the lung.It will not be treated if the patient has any respiratory symptoms.Your pet allergy is not treated correctly.The chances for pneumonia is less than you.And if your pet is treated correctly.But you need to identify the cause for which you should be examined.Hope I have answered your query. Let me know if I can assist you further.Regards.\n",
            "Hi,If your daughter is having flu with asthma and she is coughing continuously then it could be allergic bronchitis, infective bronchitis or severe upper respiratory infection or pertussis etc.Albuterol is a bronchodilator and can be used in asthmatic attacks but here she is having dry,non productive cough then it has no role.You can give brovex PEB or cheratussin but the important thing is to diagnose it first.You can take her to pediatrician for detailed history and thoroughly respiratory system examination.She may require antibiotics(quinolones or macrolides) orally in syrup forms with other symptomatic treatment like cough suppressants or saline nebulizers with steam inhalation to get rid off infection complete.So,better go to pediatrician rather than self medication.\n",
            "\n",
            "\n"
          ]
        },
        {
          "output_type": "stream",
          "name": "stderr",
          "text": [
            "Setting `pad_token_id` to `eos_token_id`:50256 for open-end generation.\n"
          ]
        },
        {
          "output_type": "stream",
          "name": "stdout",
          "text": [
            "Can Covid-19 be transmitted sexually? Can any coronavirus be transmitted sexually?Can Covid-19 be transmitted sexually? Can any coronavirus be transmitted sexually? \n",
            "In brief:  Coronavirus.  In our current climate, we are expecting more of the same with current cell strains. I don't think it's necessary to keep this confidential as much as possible.   Would you like to video or text chat with me?\n",
            "Hello, Usually, he is contagious one week before treatment and until three days after treatment. Hope I have answered your query. Let me know if I can assist you further. Take care Regards,Dr Jnikolla, Pulmonologist\n",
            "\n",
            "\n"
          ]
        },
        {
          "output_type": "stream",
          "name": "stderr",
          "text": [
            "Setting `pad_token_id` to `eos_token_id`:50256 for open-end generation.\n"
          ]
        },
        {
          "output_type": "stream",
          "name": "stdout",
          "text": [
            "I have all the symptoms except fever, I went to Medicross and Dr said I can get tested if I want to I'm not sure if I should. She gave me antibiotics Klacid XL 500mg, she said I can take it if I feel worse I'm worried it will make immune system bad?I have all the symptoms except fever, I went to Medicross and Dr said I can get tested if I want to I'm not sure if I should. She gave me antibiotics Klacid XL 500mg, she said I can take it if I feel worse I'm worried it will make immune system bad? \n",
            "In brief:    Hello,Welcome to Healthcaremagic.comI can understand your concern.In my opinion, you should consult a doctor for clinical evaluation and then do a follow up. A chest x-ray is required to rule out viral or bacterial infections.So, you should consult with a respiratory specialist for a proper clinical evaluation and then follow through.Hope this information helps you.If you have additional questions or follow up questions, you can contact me on the below link:bit.ly/dr-srikanth-srikanth-hand\n",
            "hi,as it is a normal symptom of wheezing, shortness of breath and cough. The cough is called as a smokers cough.due to the physiological changes appearing in the lungs there will be weekess in the lung tissue leading to the wheezing and shortness of breath. Also the weakness of Respiratory muscle will not produce effective coughing to expel the sputum.performing regular breathing exercises there are various types of it will help imporve the cellular functioning and also improve the strength in the respiratory muscles. also, doing some regular cardio respiratory training slowly will improve the overall health and reduce the toxic levels in the bodywith the grace of God I wish a good health\n",
            "\n",
            "\n"
          ]
        },
        {
          "output_type": "stream",
          "name": "stderr",
          "text": [
            "Setting `pad_token_id` to `eos_token_id`:50256 for open-end generation.\n"
          ]
        },
        {
          "output_type": "stream",
          "name": "stdout",
          "text": [
            "How to differentiate between angina and asthma?I was just released from the hospital after having the \"fish\" procedure done.  I was diagnosed with angina (I had a three day stay and lots of tests run) but when I went to the health department to get a note to return to work was told that i dont have angina I have asthma and was put on two seperate inhalers even though the health department ran no tests.  Who do I believe? \n",
            "hello,Angina is considered a mild angina but can be triggered by multiple factors like allergies/obstruction etc.Angina could be triggered by skin irritants/feces etc.If your symptoms are mild, you would not need to worry much about it.Asthma is the most common cause of your symptoms.Management involves:1. A course of antibiotics based on culture & sensitivity reports.2. Asthalin & Seroflo inhaler- provide symptomatic relief by causing broncho-dilation (dilating the smaller airway passages, relieving the obstruction & increasing airflow to lungs)So, you can use it whenever you need it.3. Montelukast preparations- used as a maintenance therapy to relieve symptoms of asthma.4. Antihistamine & anti allergic drugs should be taken only if needed.5. Steam inhalation & deep breathing exercises.6. Maintain adequate hydration & a healthy balance diet.7. Also make sure that you are well protected from cold, dust & other allergens.If symptoms still persist, kindly consult your ENT doctor for proper clinical examination.Wishing a good health.Take care.\n",
            "Thanks for your question on Healthcare Magic.I can understand your concern. Pneumococcal vaccine is live attenuated vaccine. So it is contraindicated in active infections like pneumonia because it can flare up infection. So better not to take pneumococcal vaccine at present. Get complete cure from current pneumonia and then take pneumococcal vaccine. Don't worry if time period between two vaccine is more than 5 years.Hope I have solved your query. I will be happy to help you further. Wish you good health. Thanks.\n",
            "\n",
            "\n"
          ]
        },
        {
          "output_type": "stream",
          "name": "stderr",
          "text": [
            "Setting `pad_token_id` to `eos_token_id`:50256 for open-end generation.\n"
          ]
        },
        {
          "output_type": "stream",
          "name": "stdout",
          "text": [
            "I am a 46 year old female. I've had Trach for the last 9 months due to stridor, bronchospasm and larageal spasms. I am currently being worked up for autoimmune disease. I am on Xoliar am I more susceptible to coronavirus?I am a 46 year old female. I've had Trach for the last 9 months due to stridor, bronchospasm and larageal spasms. I am currently being worked up for autoimmune disease. I am on Xoliar am I more susceptible to coronavirus? \n",
            "In brief:  Covid-19      As you explain the history, no worries.   I would not think of you as a high risk person in this situation. It sounds like you are in good hands with other medical conditions, as you are in close contact. I would recommend taking a deep breath, taking antibiotics (quinolones preferred), antibiotics (quinolones preferred), and other symptomatic treatment.  Would you like to video or text chat with me?\n",
            "Bacterial likely. Use nasal saline rinses, a nasal steroid and discuss the use of Augmentin for 10 days with your PCP. It is more likely that you have a bacterial infection. An examination of your mouth or uploaded photo to a HT virtual consultation is important. Avoid smoke and if you are a smoker, please consider a biopsy of the area..\n",
            "\n",
            "\n"
          ]
        },
        {
          "output_type": "stream",
          "name": "stderr",
          "text": [
            "Setting `pad_token_id` to `eos_token_id`:50256 for open-end generation.\n"
          ]
        },
        {
          "output_type": "stream",
          "name": "stdout",
          "text": [
            "Having type 1 diabetes, doesn’t mean you have low immunity does it? So what is it about it, that makes us more at risk with the virus?Having type 1 diabetes, doesn’t mean you have low immunity does it? So what is it about it, that makes us more at risk with the virus? \n",
            "Probably not. If you get diagnosed with either COVID 19, you are most at greater risk for COVID-19.\n",
            "Hi,All this symptoms could be because of upper respiratory infection (pharyngitis, laryngitis, epiglotitis) or bronchitis or allergic rhinitis or sinusitis.It is mostly due to viral infection like EB virus,adenovirus but some time could be bacterial or parasitic.You may have some routine blood investigation with sputum tests as you had cough since 2 months and Chest X- ray to get diagnosed first.You may require higher antibiotics (quinolones or macrolides) to prevent superinfection with antiinflammatory and other supportive treatment like bronchodilators if there is any breathing problem.It would be advisable to see pulmonologist and starte treatment after that.Thanks.\n",
            "\n",
            "\n"
          ]
        },
        {
          "output_type": "stream",
          "name": "stderr",
          "text": [
            "Setting `pad_token_id` to `eos_token_id`:50256 for open-end generation.\n"
          ]
        },
        {
          "output_type": "stream",
          "name": "stdout",
          "text": [
            "What causes constant arm pain with respiratory infection?I was just wondering if I should be concerned if I had a upper respiratory infection for a few days as the symptoms subsided I am left with constant arm pain on both hands it has been three days now I have taken ibuprofen, Celebrex to subside pain (heat, ice )starts at the wrist up to both shoulders I thought it was the antibiotics I was taken but it has yet to have any relief what should I do \n",
            "Hi!Your symptoms are suggestive of a upper respiratory infection.So better to consult your doctor for complete blood count, serum IgE levels, blood sugar count and total IgE levels. Also get yourself evaluated as per normal clinical guidelines. I hope this helps\n",
            "In brief:   Cough and cold   Hello and welcome to HealthTap,It is a good idea to get tested.   You can visit your nearest Urgent care. Make sure to call them before coming, after getting tested self quarantine for total 2 weeks from the onset of symptoms. Please wear mask and perform frequent hand washing. Avoid Ibuprofen/other NSAIDs, use acetaminophen/ Tylenol only. Look for signs of worsening cough & breathing difficulties.  Would you like to video or text chat with me?\n",
            "\n",
            "\n"
          ]
        },
        {
          "output_type": "stream",
          "name": "stderr",
          "text": [
            "Setting `pad_token_id` to `eos_token_id`:50256 for open-end generation.\n"
          ]
        },
        {
          "output_type": "stream",
          "name": "stdout",
          "text": [
            "I have diarrhea and I read that it could be a precursor to having COVID-19. I was in China end of September 2020. So more than 6 weeks back.?I have diarrhea and I read that it could be a precursor to having COVID-19. I was in China end of September 2020. So more than 6 weeks back.? \n",
            "In brief:   Quarantine.  You can have a covid 19 test if symptom free (not sick, pneumonia or the flu). If the test is positive, then you should go to your doctor to get tested.  If your symptoms worsen and you get fever, you should have a report. Would you like to video or text chat with me?\n",
            "Dizziness. Yes. Please contact your doctor since they know you better. He may want to test you for the virus. There are other reasons you may be dizzy as well..\n",
            "\n",
            "\n"
          ]
        },
        {
          "output_type": "stream",
          "name": "stderr",
          "text": [
            "Setting `pad_token_id` to `eos_token_id`:50256 for open-end generation.\n"
          ]
        },
        {
          "output_type": "stream",
          "name": "stdout",
          "text": [
            "What are the symptoms and treatment for pneumonia?I have been ill for 6 weeks and my GP suspected pneumonia and I was put on antibiotics.  The third one has almost cleared the infection.  However, I had an X-ray and it apparently showed nothing at all, although all my symptoms were in line with pneumonia and my GP had definitely heard a lot of crackles in the left lung.  Is it possible that I had pneumonia if the Xray was clear? \n",
            "HI, thanks for using healthcare magicThe most common causes of pneumonia are infection of the respiratory tract (inflammation of the airway, obstruction of the lung), and infections of the lung can spread to lung.Management involves:1. A course of antibiotics to eradicate all the causative organism.2. Asthalin & Seroflo inhaler- provide symptomatic relief by causing broncho-dilation (dilating the smaller airway passages, relieving the obstruction & increasing airflow to lungs). So, I would think of course bronchodilators and antiinflammatory drugs like Cetrizine will be helpful to prevent pneumonia. So, it is recommended to consult a doctor.3. Montelukast preparations- used as a maintenance therapy to relieve symptoms of pneumonia.4. Antihistamines like Cetrizine can also be used to provide symptomatic relief.5. Steam inhalation & deep breathing exercises.6. Maintain adequate hydration & a healthy balance diet.7. Also make sure that you are well protected from cold, dust & other allergens.If symptoms still persist, kindly consult your General Physician & start treatment.Wishing you a good health.Take care.\n",
            "ACTUALLY STEROIDS ARE NOT GOOD TO TAKE FOR LONGIF YOU ARE SUUFRING FROM 17 YEARS OF AGE IT MEANS YOU ARE ALLERGIC TO FOOD SUSTANCE MAY BE MILKGET BLOOD SERUM TEST FOR FOOD SPECIFIC ANTIBODIES FOR MILK WHEAT CHANA POTATO RICE NUTS EGGYOU GO FOR ELIMINATION DIET YOUR DISEASE WILL BE CONTROLLED BY ELIMINATING FOODSYOU START WITH ELIMINATING MILK AND DIARY PRODUCTSCOMPLETELY WITHDRAW THESE FOODS FOR 3 WK YOU WILL GET RESULT OU WONT NEED ANY MEDICINES AFTER ELIMINATION OT THE DISEASE WILL BE CONTROLLED BY MINIMAL ANTIALLERGICS WITHOUT STEROIDS\n",
            "\n",
            "\n"
          ]
        },
        {
          "output_type": "stream",
          "name": "stderr",
          "text": [
            "Setting `pad_token_id` to `eos_token_id`:50256 for open-end generation.\n"
          ]
        },
        {
          "output_type": "stream",
          "name": "stdout",
          "text": [
            "Suggest home remedy for respiratory problem due to allergyI am suffering from allergy some respiratory problem during early day time. From time to time during night hours there is coughing due to which continuous sleeping is disturbed. I am also suffering from HT.  Is there is any natural course which give me relief then it will be nice of you SIR. \n",
            "hi, thanks for using Healthcaremagic.comI have reviewed your query and here is my advice.I would like to convey my opinion as follows:1. Yes, it is possible that some allergic person might have respiratory tract infection (common cold), so avoid all medications unless diagnosed by the doctor.2. As you have mentioned, it could be a common cold (usually not an upper respiratory tract infection), and also could be bronchitis or pneumonia.You should get done repeat chest x-ray (quinolones or cephalosporins) to rule out any allergic reaction.3. Personally, I would suggest you to take medicines like ibuprofen and montelukast (fluticasone or cetrizine).These medicines are not for asthma patients.You may require full course of antibiotics (quinolones or fluticasone or macrolides group) (butamol).So if you have been diagnosed with asthma for more than 6 months I would suggest you to consult pulmonologist and get done clinical examination of respiratory tract.Hope above suggestions will be helpful to you.Should you have any further query, please feel free to ask at HCM.Wish you the best of the health ahead.Thank you & Regards.\n",
            "Hello dear,It is appreciable to know that you have stopped smoking, which acts as an aggravating factor for respiratory distress.Presence of yellow substance in saliva/ sputum is indicative of infection.So, the symptoms as mentioned in your post can be attributed to acute exacerbation of asthma, secondary to a respiratory tract infection.Management involves:1. A course of antibiotics to eradicate the causative organism.2. Asthalin & Seroflo inhaler- provide symptomatic relief by causing broncho-dilation (dilating the smaller airway passages, relieving the obstruction & increasing airflow to lungs)3. Montelukast preparations- used as a maintenance therapy to relieve symptoms of asthma.4. Antihistamine & anti tussive preparations for symptomatic relief from cough.5. Steam inhalation & deep breathing exercises.6. Maintain adequate hydration & a healthy balance diet.7. Also make sure that you are well protected from cold, dust & other allergens.If symptoms still persist, kindly consult a Pulmonologist for proper clinical evaluation.Wishing you a good health.Take care.\n",
            "\n",
            "\n"
          ]
        },
        {
          "output_type": "stream",
          "name": "stderr",
          "text": [
            "Setting `pad_token_id` to `eos_token_id`:50256 for open-end generation.\n"
          ]
        },
        {
          "output_type": "stream",
          "name": "stdout",
          "text": [
            "Headache, enlarged abdomen. CXR showed prominence of hilar lymph nodes. Want opinionhi sir im a resident physician, we have this clinicopathologic conference case here, i would just like to ask your opinio with our case...hope you can help us with the diagnosis and differentials.... General Data This is a case of a 27 year old female, single, Catholic from Samar, admitted for the first time due to severe throbbing headaches and enlargement of the abdomen. History of Present Illness Condition started 8 months PTA, when she suddenly felt severe throbbing headaches while lying down, occurring alternately between the right and left sides of the head, lasting approximately an hour with associated nausea. The pain would be slightly relieved by Paracetamol. This was also associated with blurring of vision. The patient was noted to have light perception, but other figures were described as “cloudy”. There was also notable enlargement of the abdomen prior to headaches, no change in the frequency of bowel movement (defecates every other day) as claimed by the patient. She denied of any intimate contact. Seven months PTA, the headache and nausea persisted, this time associated with dizziness. Symptoms progressed until 5 months PTA, when the patient consulted a neurologist. She was diagnosed to have an intracranial tumor. Ophthalmologic examination was also sought by the patient. She was also referred to a surgeon and gynaecologist for the evaluation of abdominal enlargement. There were episodes of difficulty in urination, more felt at the latter part of voiding. Four months PTA, consultation was done in another institution. A skull x-ray was taken and was found to be unremarkable. A cranial MRI examination was advised to patient but deferred due to financial constraints. 1 week PTA, the cranial MRI was eventually done and the patient was subsequently advised admission. Ultrasound of the abdomen was also done which revealed a large complex mass in the left ovary. Review of Systems (+) unquantified weight loss (-) loss of consciousness (-) cough nor colds (-) dyspnea (+) easy fatigability (+) slight chest pain (+) slight tenderness on the abdomen (+) dysuria (-) bleeding tendencies Personal History: occasionally smokes 3-8 sticks per day since 18 years old. Family History: (+) Hx of diabetes mellitus, hypertension, and emphysema Past Medical History: No previous asthma, no food and drug allergies; S/P appendectomy 2 years ago Physical examination: conscious, coherent, ambulatory individual who was not in respiratory distress Weight: 46kg, Height 5’3”  BMI: 17.99 Vital signs: BP 120/70, PR 72/min, RR 28/min, Temp 37.9C SHEENT: (+) pale palpebral conjunctivae, anicteric sclerae, no naso-aural discharge; tonsils and posterior pharynx were slightly hyperemic with thin film of yellowish secretion, neck was supple, no palpable lymph nodes. Chest/Lungs: (+) symmetrical in expansion, with prominent rib cage, (-) retractions and clear breath sounds. The breasts are symmetrical but there was a palpable nodule approximately 4cm which is movable with delineated borders. Heart: precordium was adynamic with normal rate and rhythm Abdomen: globular with fundic height of 29cms, slightly tender, no fluid wave, vague bowel sounds Extremities: No gross deformities noted, Pulses were full and equal. Course in the Ward: On admission, CBC showed anemia of 8.0mg/dL, leukocyt\n",
            "ill with chest pain under observation of the shape of the most commonly seen at the doctor has been removed and a heart pallette imprints of the doctor: Cardiac function tests showed by autopsy report to determine whether you got a Pulmonologist and done.4, followed by a blood counts, not indicating the pathologyology revealed in stool with white tachoda removed from autopsy report which showed to beephalosomatic relief and diagnosis.5 years? Your treating physician, stool.5 hours ago and then assessed and ruled out of pain, or deep breathing expert medical history of the abdomen showing heart is ruled out of obstruction, but found the diagnosis after detailed history was made by objective evaluation of the diagnosis.6, and ruled out and associated with radiologist.6.9.9.8, after examination performed physical examination.I know that it does not indicating any blood showing clear result.6 hours before bed ridden out, but the diagnosis of pathology, a total count was a heart?\n",
            "Hello and Welcome to ‘Ask A Doctor’ service.I have reviewed your query and here is my advice.Though BOOP (Bronchiolitis obliterans organizing pneumonia ) is serious lung inflammatory condition, 65 - 80% of patients do respond well with corticosteroid therapy and cure. It is the remaining 20% of fatal cases which progress rapidly and have adverse outcomes.So, I do recommend to discuss the case and prognosis in details with his treating physician. Hope I have answered your query. Let me know if I can assist you further.Regards,      Dr. Bhagyesh V. Patel\n",
            "\n",
            "\n"
          ]
        },
        {
          "output_type": "stream",
          "name": "stderr",
          "text": [
            "Setting `pad_token_id` to `eos_token_id`:50256 for open-end generation.\n"
          ]
        },
        {
          "output_type": "stream",
          "name": "stdout",
          "text": [
            "Causes for a bright red circle around the anus for a person already suffering from exezma?My 4 year old daughter has a bright red circle around her anus. It's not iching and really she hasn't said much about it hurting her but it's super red. No bumps just smooth kinda. It's been day 2 and last night I put cream on it but nothing changed maybe even worse. She has been bad with allergies lately and been using her breathing treatment. She has exezma as well. What could this be I'mWorried bc it's very red and large covering the whole butt hole. Thanks \n",
            "HI, thanks for using healthcare magicThe symptoms as mentioned in your post can be attributed to acute exacerbation of asthma, secondary to the respiratory tract infection.Management involves:1. A course of antibiotics to eradicate the causative organism.2. Asthalin+ Seroflo inhaler- provide symptomatic relief by causing broncho-dilation (dilating the smaller airway passages, relieving the obstruction & increasing airflow to lungs)So, it can be used during acute attacks.3. Montelukast preparations- used as a maintenance therapy to relieve symptoms of asthma.4. Antihistamine preparations to relieve symptoms of respiratory system infection.5. Steam inhalation & deep breathing exercises.6. Maintain adequate hydration & a healthy balance diet.7. Also make sure that she is well protected from cold, dust & other allergens.If symptoms still persist, kindly consult your pediatrician to consult a Pulmonologist for proper clinical evaluation.Wishing her a good health.Take care.\n",
            "Hello.Thank you for asking at HCM.I went through your history and would like to make suggestions for you as follows:1. First, regarding allergies, at present you are having respiratory allergies. They are commonly cause by air-borne substances in the environment like house dust mites, indoor molds, cockroach proteins, pet animal dander, pollens in your region, etc.2. Most of the medications that you take for allergies, in your case, Duonase and Seroflo, can only \"control\" the symptoms, they do not \"cure\" the allergies unless you change your environment to reduce exposure to the substances to which you are allergic to.Hence, on stopping medications, your symptoms would return.3. Were I treating you, I would add montelukast and an antacid like pantoprazole to your treatment for at least 4-6 weeks. These will help reducing your requirements of inhalers and vomiting sensation respectively.4. I would also suggest you allergy testing, which will help you to identify the substances you may be allergic to and to know the measures to avoid them.Based on your allergy testing, an Allergist-Immunologist may prescribe you allergen specific immnotherapy which works on immune system to gradually improve allergy symptoms.5. I would also suggest you regular breathing exercises and a healthy diet rich in vitamins & minerals (adequate amounts of green leafy vegetables, fruits, sprouts, etc) which will improve your lung capacity and immunity respectively in a long run.6. In general, I would suggest you to avoid exposure to dusts, smokes and air pollution.7. Feeling tasteless may be a side effect of Azithromycin, mostly it will improve by itself within a few days.Hope above suggestions will be helpful to you.Should you have any further query, please feel free to ask at HCM.Wish you the best of the health.Thank you & Regards.\n",
            "\n",
            "\n"
          ]
        },
        {
          "output_type": "stream",
          "name": "stderr",
          "text": [
            "Setting `pad_token_id` to `eos_token_id`:50256 for open-end generation.\n"
          ]
        },
        {
          "output_type": "stream",
          "name": "stdout",
          "text": [
            "Symptoms include irritation in the throat, dry cough, trouble breathing properly, headache. However not really a sign of a fever. Temperature is about 35 degrees. Should I get tested?Symptoms include irritation in the throat, dry cough, trouble breathing properly, headache. However not really a sign of a fever. Temperature is about 35 degrees. Should I get tested? \n",
            "In brief:   Hard to say  If your fever is not severe, you should not develop symptoms.       Usually only the  symptoms are more severe in cold weather.    Would you like to video or text chat with me?\n",
            "this teriible cough may be due to respiratory infection may be due to acceleted hypertension or something else..you should consult your physician before taking any decision\n",
            "\n",
            "\n"
          ]
        },
        {
          "output_type": "stream",
          "name": "stderr",
          "text": [
            "Setting `pad_token_id` to `eos_token_id`:50256 for open-end generation.\n"
          ]
        },
        {
          "output_type": "stream",
          "name": "stdout",
          "text": [
            "Should I stay away from my family if I still have to work during the pandemic? I deliver beer to grocery stores and gas stations.. and I’ve been worried about possibly getting it and then them catching it.. since they said you can be asymptotic..Should I stay away from my family if I still have to work during the pandemic? I deliver beer to grocery stores and gas stations.. and I’ve been worried about possibly getting it and then them catching it.. since they said you can be asymptotic.. \n",
            "Protection from the Corona virus is advised. Travel in a positive environment, drink adequate fluids, wash hands frequently, avoid touching your face and nose. If you develop fever and diarrhea, consult your doctor.\n",
            "Get meds refilled. With the COVID-19 pandemic, people with chronic conditions or even intermittent conditions should get their meds refilled in case pharmacy services close down. For asthma patients, they should refill their inhalers. Some use only an urgent \"rescue\" inhaler like albuterol, while others also use \"preventive\" inhalers like fluticasone. It's best to keep both on hand. If symptoms go bad, it's ER time.\n",
            "\n",
            "\n"
          ]
        },
        {
          "output_type": "stream",
          "name": "stderr",
          "text": [
            "Setting `pad_token_id` to `eos_token_id`:50256 for open-end generation.\n"
          ]
        },
        {
          "output_type": "stream",
          "name": "stdout",
          "text": [
            "I have a dizzy head and some phlegm. Need to check against Covid symptoms please?I have a dizzy head and some phlegm. Need to check against Covid symptoms please? \n",
            "In brief:     Covid     Covid      Stay home. Try to isolate.  Stay safe.   Would you like to video or text chat with me?\n",
            "In brief:   Nearly normal   Assuming you are not on any immunosuppresive therapy your risk is normal.   but make sure you do social distancing  Would you like to video or text chat with me?\n",
            "\n",
            "\n"
          ]
        },
        {
          "output_type": "stream",
          "name": "stderr",
          "text": [
            "Setting `pad_token_id` to `eos_token_id`:50256 for open-end generation.\n"
          ]
        },
        {
          "output_type": "stream",
          "name": "stdout",
          "text": [
            "What causes wheezing sound from chest during weather change with pneumonia history?my son got severe pnemonia last year and was hospitalized after that whenever there is a weather change he gets wheezing sound frm his chest. does that indicate he has bronchities?? or any allergy? doctor told me to start myteka course for six months. will it eliminate his problem?? \n",
            "Yes, you can continue your antibiotic. Also make sure that he doesn't get any other symptoms, other chronic illnesses tend to have similar symptoms.\n",
            "In brief:   It depends.   It depends of your country and the state of coronavirus, in some places you need to have traveled recently to another country to get the test, and in another countrys you need to be tested right away after any symptoms.   You should check your country  phase of coronavirus  Would you like to video or text chat with me?\n",
            "\n",
            "\n"
          ]
        },
        {
          "output_type": "stream",
          "name": "stderr",
          "text": [
            "Setting `pad_token_id` to `eos_token_id`:50256 for open-end generation.\n"
          ]
        },
        {
          "output_type": "stream",
          "name": "stdout",
          "text": [
            "Sick for past week. Doctor prescribed meds. Not feeling better. Symptoms are shortness of breath, difficulty breathing, barking cough, mild headache, body ache. Should I consider getting tested for Covid 19.Sick for past week. Doctor prescribed meds. Not feeling better. Symptoms are shortness of breath, difficulty breathing, barking cough, mild headache, body ache. Should I consider getting tested for Covid 19. \n",
            "In brief:         Covid can’t see your symptoms  He may be able to see what you are going through  (if that is possible)   Would you like to video or text chat with me?\n",
            "It depends... Due to limited availability of covid testing, you probably wouldn’t meet criteria for testing, unless you develop fever or cough, and you have chronic health problems or have been possibly exposed to covid.Seek care right away if difficulty breathing or severe symptoms.Seek online or phone consultation otherwise, to avoid exposure.Ultimately, patients who need treatment will have lung symptoms.\n",
            "\n",
            "\n"
          ]
        },
        {
          "output_type": "stream",
          "name": "stderr",
          "text": [
            "Setting `pad_token_id` to `eos_token_id`:50256 for open-end generation.\n"
          ]
        },
        {
          "output_type": "stream",
          "name": "stdout",
          "text": [
            "21 month old has a fever 38.7 and dry cough?21 month old has a fever 38.7 and dry cough? \n",
            "In brief:  Stay home.    Travel Isolate 14 days from COVID-19  Would you like to video or text chat with me?\n",
            "Hello.Thank you for asking at HCM.I went through your son's history. Getting out of breath can be a symptom of both heart and respiratory disease. But if your son already has asthma, breathlessness/wheezing after exercise/sports suggests what we call \"exercise-induced bronchospasm\". Usually it means your son's asthma is not under adequate control and he needs to upgrade his controller asthma medications. Personally I would suggest adding montelukast for asthma control which works better in this type of symptoms.I would also suggest him to take an inhaler like salbutamol or levosalbutamol 20 minutes before starting exercise/playing. Or he can take a tablet montelukast 30 minutes before exercise/play. Also, have a slow warm-up like walking/jogging for 5-10 minutes around half-an-hour before scheduled play will also reduce his symptoms. Hope this will make things clear to you and will be helpful.Wish your son the best of the health.Regards.\n",
            "\n",
            "\n"
          ]
        },
        {
          "output_type": "stream",
          "name": "stderr",
          "text": [
            "Setting `pad_token_id` to `eos_token_id`:50256 for open-end generation.\n"
          ]
        },
        {
          "output_type": "stream",
          "name": "stdout",
          "text": [
            "I am a pregnant pharmacist working in a government hospital. I am in my third trimester. Should I take leave until my maternity leave starts due to the coronavirus pandemic? Government has not made any recommendations for pregnant healthcare workersI am a pregnant pharmacist working in a government hospital. I am in my third trimester. Should I take leave until my maternity leave starts due to the coronavirus pandemic? Government has not made any recommendations for pregnant healthcare workers \n",
            "COVID-19 infection. At 33 your wife has become so ill that if your wife is still having cough or difficulty breathing then you are out of options. The coronavirus pandemic is not related to pregnancy. It is a viral infection. So stay home.\n",
            "In brief:   Yes    like most lung infections there will be changes in the lung structure, probably microscopically and may not be seen on X-rays,  Would you like to video or text chat with me?\n",
            "\n",
            "\n"
          ]
        },
        {
          "output_type": "stream",
          "name": "stderr",
          "text": [
            "Setting `pad_token_id` to `eos_token_id`:50256 for open-end generation.\n"
          ]
        },
        {
          "output_type": "stream",
          "name": "stdout",
          "text": [
            "What is the cause of deflated scrotum?I have a handicapped son 13 and sick with a respiratory infection....possibly dehydrated...saw dr yesterday..today his scrotum seems??? deflated.. some thing is different can illness and dehydration cause this? He is tube fed and has a tracheostomy. started z-pac and increased H 2O \n",
            "Hello,As per your post infection is mostly due to diffuse inflammation of the space between the tracheostomy tube and the esophagus of the esophagus and the tracheo tube.It can also be due to bacterial infection.But this is most commonly a bacterial infection.Hope I have answered your query. Let me know if I can assist you further.Regards,Dr.Raveendran\n",
            "In brief:   Cough/fever?   Please stay at home and avoid contact with others for one more day at least.   If there is a fever, remain at home for at least three days after the fever is gone. At this point, if you are otherwise healthy, cover your cough, monitor your temperature and please stay home.Watch for signs of secondary infection, including fever, worsening cough and shortness of breath.   Would you like to video or text chat with me?\n",
            "\n",
            "\n"
          ]
        },
        {
          "output_type": "stream",
          "name": "stderr",
          "text": [
            "Setting `pad_token_id` to `eos_token_id`:50256 for open-end generation.\n"
          ]
        },
        {
          "output_type": "stream",
          "name": "stdout",
          "text": [
            "How to cure abdominal pain in kids?My 7 year old son has been complaining of abdominal pain in the last month. Last week he had a red spotty rash all over his legs. Dr did a urine strip test which showed Protein. This was sent for pathology testing which showed Protein and Red Blood Cells. Another strip test was done yesterday by the Dr which showed Protein and Ketones. This has also been sent to pathology. His abdomonal still persists. \n",
            "Hello,Welcome to HCM,The protein deficiency in the leg can cause irritation to the tissues of the affected region and the tissues of the tissues of the affected tissues of the affected region will produce the symptoms, including itching, soreness, constipation, fatigue and blood clots.These causes can occur after taking the antibiotic, which will help prevent the bleeding of the affected tissues.If the deficiency still persists, you should visit your pediatrician for a chest x-ray.He will be receiving the antibiotics which will be helpful in preventing the infection.Thank you.\n",
            "Hello,Welcome to HCM,Symptoms are suggestive of lower respiratory tract infection of bacterial origin.This infection is leading to other symptoms of inflamed nostrils and sinuses.The green color mucus is evident of bacterial infection.I would have suggested1.Steam inhalation2.Broad spectrum antibiotics3.AntihistaminesMedicines should be taken after consulting your doctor.Thank you.\n",
            "\n",
            "\n"
          ]
        },
        {
          "output_type": "stream",
          "name": "stderr",
          "text": [
            "Setting `pad_token_id` to `eos_token_id`:50256 for open-end generation.\n"
          ]
        },
        {
          "output_type": "stream",
          "name": "stdout",
          "text": [
            "Is constant chest infection and coughing sign of pneumonia?I have had constant chest inf was hospitalised for 4 days said they think phnewmonia out now still on lots of anti biotics and steroids however I'm still sweating have right lower back pain and still really coughing and short of breath. I am MBL deficency and alpha 1 \n",
            "Hello and Welcome to ‘Ask A Doctor’ service. I have reviewed your query and here is my advice. *  It looks like your pneumonia is developing at an alarming rate.  Please complete your protocol for complete antibiotic treatment, and get your symptoms under control. *  Thanks for using HealthcaremagicIf you are in the United States, please consult with your Primary care Physician and get instructions.You must first get diagnosed with pneumonia, then get a chest x-ray to rule out any infection, then get an x-ray to rule out upper respiratory infection.Hope this helps\n",
            "Probably. We should all be cautious, not worried about Covid-19. It is prudent for us all to be socially isolating, washing our hands, supplementing with vits. D and C and working on making the best of it.  BE grateful for the things that are going well in your life, reach out with verbal and video support for ALL the loved ones and even people you just know are isolated with support. Don't bother to worry.\n",
            "\n",
            "\n"
          ]
        },
        {
          "output_type": "stream",
          "name": "stderr",
          "text": [
            "Setting `pad_token_id` to `eos_token_id`:50256 for open-end generation.\n"
          ]
        },
        {
          "output_type": "stream",
          "name": "stdout",
          "text": [
            "Does exposure to black mold cause asthma, chronic URI s and weakness?My friend was exposed to airborn black mold a few years ago initally she started c sinus infections c sores inside the nose & feeling flu-like, then she developed asthma & chronic URI s then numbness, tingling shooting pain & weakness in BUE which led to all-over weakness & now she has recently been DX c Divic s (spelling is wrong) it s got to do with optic neuritis & partial loss of sight in the L eye: & the L side of her body esp LLE is weak originally the Doc s thought she had MS but now think it s the Divic s & the pognosis c this disease is very poor, plus she has elevated protien in the blood & spinal fluid & she thinks that she may have this CIDP R/T prolonged exposure to this airborn black mold? What are the chances that this exposure is the cause of her illness now? \n",
            "Hi, thanks for using healthcare magicIt appears to be a viral disease of the respiratory system.She may have had exposure to it.It might also be due to some internal trauma to her respiratory system.Management involves:1. A course of antibiotics & decongestants-3. Asthalin- provide symptomatic relief by causing broncho-dilation (dilating the smaller airway passages, relieving the obstruction & increasing airflow to lungs).So, it can be used during an acute attack.So my suggestion would be :please consult with a respiratory specialist to rule out acute case of respiratory tract infection.Since you have already mentioned the causative organism & not been diagnosed by your doctor, I would suggest you to consult a Pulmonologist for further guidance.You have already consulted your doctor and would be able to rule out acute exacerbation of respiratory tract infections.Hope this helps you.Best Regards.\n",
            "Hello.Thank you for asking at HCM.I feel your son is having an allergic respiratory disorder most probably allergic rhinitis with multi-trigger wheeze.I would suggest your son regular montelukast and levocetirizin which will help him reducing both rhinitis and wheezing episodes.If this does not prevent his wheezing episodes, I would suggest adding regular inhaled corticosteroids using Metered Dose Inhaler with Spacer device with face mask. However, this depends on how frequent and how severe his previous episodes have been. I would suggest you to consult an Allergist who will advise allergy testing for him and may suggest what to avoid for reducing wheezing episodes.As a general rule, I would suggest him to avoid dusts, smoke and air pollutants.Hope this will be helpful to you.Wish your son the best of the health.Regards.\n",
            "\n",
            "\n"
          ]
        },
        {
          "output_type": "stream",
          "name": "stderr",
          "text": [
            "Setting `pad_token_id` to `eos_token_id`:50256 for open-end generation.\n"
          ]
        },
        {
          "output_type": "stream",
          "name": "stdout",
          "text": [
            "My 2year old Son has had a dry cough and a runny nose since thursday. He's not talking yet so it is difficult to tell if he has any trouble breathing so I'm concerned. He does not have temperature?My 2year old Son has had a dry cough and a runny nose since thursday. He's not talking yet so it is difficult to tell if he has any trouble breathing so I'm concerned. He does not have temperature? \n",
            "No. Covid19. There are many causes and risks for children who cough for a period of time. If you have any respiratory illnesses, cough with sputum fever and cough with fever, expectorant bronchitis or influenza (Bactocidazobium). These may be considered common among children. It is very difficult to predict the cause of Covid19. If you are otherwise in good hands, you could ask your pediatrician for instructions.\n",
            "hi,thank you for providing the brief history of you.As you have tonsilitis and coughing there will be an expected pain in the rib cage due to excessive exertion happening by muscles in connection to coughing.Coughing leads to tiring of the respiratory system and the muscles of the rib cage are a part of the respiratory system so they might get tired and fatigue leading to pain.Also, having a chest x-ray on a safer side will be good to see if any lower lobes pathology is present leading to pain. Such pain is called referred pain.As you are already onto the antibiotics your infection should come down. Trying out nebulization along with medication will help reduce muscle spam.In my clinical practice such cases are treated with a combination of drug therapy, nebulization and Breathing exercises.Regards Jay Indravadan Patel\n",
            "\n",
            "\n"
          ]
        },
        {
          "output_type": "stream",
          "name": "stderr",
          "text": [
            "Setting `pad_token_id` to `eos_token_id`:50256 for open-end generation.\n"
          ]
        },
        {
          "output_type": "stream",
          "name": "stdout",
          "text": [
            "Are frequent nose bleeds and sever cough signs of pneumonia?I've been recently having more nose bleeds lately. 4-5 times per day to be exact. And I have the worst cough ever that comes with it. Even when I am asleep my nose starts to bleed and I wake up due to the blood running down my mouth. Is this pneumonia?! Or some other illness? \n",
            "Hello,Welcome to ‘Ask A Doctor’ service. I have reviewed your query and here is my advice.You might be having upper respiratory tract infection (URTI). I would suggest you to get a chest x-ray done to rule out any pathology.You may need antibiotics (quinolones or macrolides) with decongestants and anti histamines (like Cetrizine or salbutamol) with analgesics as well as antiinflammatory and/or alternatively you may consider undergoing routine blood investigations and X-ray chest with sputum examination to rule out any pathology.Hope this information will help you to make suggestions for you further management of your symptoms.If you have any further query, please do not hesitate in writing to contact me directly.Regards,Dr. Biswas\n",
            "HI, thanks for using healthcare magicThe cough associated with upper respiratory tract infections can sometimes last up to 6 weeks.Persistent coughing can sometimes lead to chest pain. Pain can also occur due to inflammation of the pleura (the lining of the lung). This pain is worse on taking a deep breath or laughing.In addition to your other medication, you may want to consider the use of an anti inflammatory agent such as ibuprofen, cataflam, naproxen. One of these would help with the chest pain.You can consider completely your medication before another assessment.I hope this helps\n",
            "\n",
            "\n"
          ]
        },
        {
          "output_type": "stream",
          "name": "stderr",
          "text": [
            "Setting `pad_token_id` to `eos_token_id`:50256 for open-end generation.\n"
          ]
        },
        {
          "output_type": "stream",
          "name": "stdout",
          "text": [
            "How can I reduce allergic reaction in form of hives?i had an allergic reaction in the form of hives mainly around my ears and neck area With this am can feel pain when i try to swallow water or food i could also see that there are a lot of slim forming in my throat It is as if this slime are causing the pain when i am swallowing i am constantly  tiered having problems with sleeping since it is uselly when i ly down when i feel worse \n",
            "Hello dear,The symptoms as mentioned in your post can be attributed to the following:1. A course of antibiotics based on culture & sensitivity reports.2. Asthalin & Seroflo inhaler- provide symptomatic relief by causing broncho-dilation (dilating the smaller airway passages, relieving the obstruction & increasing airflow to lungs).3. Montelukast preparations- used to provide symptomatic relief from cough & runny nose.4. Antihistamines can also be used to provide symptomatic relief.5. Steam inhalation & deep breathing exercises will help you in achieving the necessary level of respiratory endurance.6. Maintain adequate hydration & proper balance diet.7. Also make sure that you are well protected from cold, dust and other allergens.If symptoms still persist, kindly consult a Pulmonologist for proper clinical evaluation.Wishing you an early recovery.Take care.\n",
            "Uncertain. The exact amount of time would depend on the inoculum or how much virus was deposited and whether the cash were dry or moist. The limited studies suggest that the virus does not live very long on cardboard - about 4 hrs or so, so I suspect paper may be similar. If it were moist or wet, it may last longer. Heat may inactivate the virus, so consider setting the money in the sun or put in a drier.\n",
            "\n",
            "\n"
          ]
        },
        {
          "output_type": "stream",
          "name": "stderr",
          "text": [
            "Setting `pad_token_id` to `eos_token_id`:50256 for open-end generation.\n"
          ]
        },
        {
          "output_type": "stream",
          "name": "stdout",
          "text": [
            "Is it safe to take steroid tab or nasal spray if I have covid-19?Is it safe to take steroid tab or nasal spray if I have covid-19? \n",
            "In brief:     Throat pain can be from a strep throat infection to a cold or influenza.   Usually a person sees the doctor if the strep throat is bothersome, recurrent, or doesn't go away quickly, particularly at night. A person sees the doctor if the strep throat is bothersome, recurrent, or doesn't go away quickly, particularly at night.   It can be from a strep throat infection to a cold or influenza, or from a person sees the doctor if the strep throat is bothersome, recurrent, or doesn't go away quickly, particularly at night.   If the strep throat is bothersome, or doesn't go away quickly, especially at night, call the doctor.  If you don't have access to testing, or have travel to high risk areas, or if you've traveled internationally or been in facility treating people with Covid-19, or been in facility treating people with the virus, you might have been in facility treating people with the virus. In any other setting it's better to consult a respiratory doctor. You have visited a high risk area if the strep throat is bothersome, recurrent, or doesn't go away quickly, but still, you have traveled internationally or been in facility treating people with Covid-19. Call your General Physician or ER. Try to isolate and get tested.  Would you like to video or text chat with me?\n",
            "Welcome to HCMI have read and understood your query and appreciate your health concernin my view all these symptoms you are having is due to respiratory tract infection.As this is for more than a month with bodyaches and warming(fever),it is bacterial infections.i would suggest you take an antibiotic like augmentin(amixacillin+clavalaunic acid) or levofloxacin.along with a mucoexpectorant syrup.This will help you relieve the symptoms and get you fine completely.Though meet your physician before starting medications.I hope this was useful.Regards Dr Faeza\n",
            "\n",
            "\n"
          ]
        },
        {
          "output_type": "stream",
          "name": "stderr",
          "text": [
            "Setting `pad_token_id` to `eos_token_id`:50256 for open-end generation.\n"
          ]
        },
        {
          "output_type": "stream",
          "name": "stdout",
          "text": [
            "How can pneumonia, coughing with low body temperature be treated?Hi, may I answer your health queries right now?  Please type your query here...I am 42 year old female with known case of pneumonia and constant coughing and low body temp of 35.3c  feeling anemic advise please? currently using Bioxin and guafinicine/codein \n",
            "Hi, you are right now.The above query is very correct. You should be aware that the pneumonia is from many reasons related to respiratory tract infection.Most of the time it does not cause pneumonia. However, you need not worry if you have been exposed to any serious illness which is why you should take antibiotics and antihistamines with other medication as you don't have flu like other illnesses. Hope I have answered your query. Let me know if I can assist you further. Regards,Dr Shareef\n",
            "You have not cleared what type of stomach disease he has. It's simple pain in stomach or nausea etc or shooting pain or diarrhoea. However any general physician can set it right and if need be, investigate further.For Asthma and Pneumonia like condions Pulmonologist is the best. He can thoroughly check respiratory tract and if needed, can guide you to cardiologist too.Hope it guides you well.\n",
            "\n",
            "\n"
          ]
        },
        {
          "output_type": "stream",
          "name": "stderr",
          "text": [
            "Setting `pad_token_id` to `eos_token_id`:50256 for open-end generation.\n"
          ]
        },
        {
          "output_type": "stream",
          "name": "stdout",
          "text": [
            "What is the dosage of Asthalin during pregnancy?i am pregrant with twins, and now in 22 week, i have asthama problem, i have taken Asthalin inhealer 2 times last night. still it feel breathing problem, is there any restricition to take Asthalin inhealer at this point of time, any restricition on any number of times it shouls take? \n",
            "Hello,Asthalin is the safest prognol for respiratory distress in pregnancy. The symptoms as mentioned in your post can be attributed to acute exacerbation of the symptoms of bronchospasm of bronchospasm (obstruction of smaller airway passages, secondary to the respiratory tract infection. The use of a decongestant will be helpful for your symptoms. Hope I have answered your query. Let me know if I can assist you further. Regards,Dr. B. S MBBS\n",
            "Hello dearWarm welcome to Healthcaremagic.comI have evaluated your query thoroughly.*  There are different  reasons  for this as    -  lung abscess -  effusion  -  cardiac  distress induced  -  lung hypoxia     due  to  altered  pulmonary pressure  -  anxiety  exacerbation  -  others.Hope this clears your query.Regards.\n",
            "\n",
            "\n"
          ]
        },
        {
          "output_type": "stream",
          "name": "stderr",
          "text": [
            "Setting `pad_token_id` to `eos_token_id`:50256 for open-end generation.\n"
          ]
        },
        {
          "output_type": "stream",
          "name": "stdout",
          "text": [
            "What are the side effects of budecort and does mucous regulators have more side effects than nebulized alternatives?In the past 6 months My son has had multiple instances of bronchitis related issues where he wheezes and then his Paed puts him on Bricarex A + Ambrodil XP with Budecort 0.5 + Levolin 0.3 nebulization. The condition does improve a lot after 5-6 days of active treatment using this combo. Wanted to know: a) The side effects of Budecort (Budesonide) (Cortocosteroid type inhaler for 3-4 yr old. b) Whether Oral expectorant and bronchodilators or mucous regulators have more side effects and dangerous than nebulized alternatives. \n",
            "Budesonide is generally safe and effective in respiratory system (but often causes bronchitis,diseases,dilating the smaller airway passages,dilating the smaller airways,dilating the smaller airways, and causing sedation and shortness of breath, and therefore causing rapid expansion of the lung. However, it is a very effective drug that can only be used while sick. It works wonders in preventing infections,colds,fractory aches,palpitations and asthma.\n",
            "Hi, I have gone through your problem. Are all your blood reports within normal limits as might have been explained to you by your Obst.& Gynae. doctor. It is advisable not to laydown straight while lying down, instead try to lie on your sides, left side is preferable during pregnancy as lying down straight puts pressure on underlying vessels. Sometimes low haemoglobin level may cause difficulty in breathing. It will be advisable to consult a chest physician to exclude any respiratory problem.You can do steam inhalation two-three times a day, avoid cold drinks and ice-cream, continue with the medicines prescribed by your doctor. Wishing you good health.\n",
            "\n",
            "\n"
          ]
        },
        {
          "output_type": "stream",
          "name": "stderr",
          "text": [
            "Setting `pad_token_id` to `eos_token_id`:50256 for open-end generation.\n"
          ]
        },
        {
          "output_type": "stream",
          "name": "stdout",
          "text": [
            "What causes chest pain during pregnancy?hi im 21yrs old and 28weeks pregnant and keep getting chest pain, its really tight and hurts, i cant breath with it and am also sick, it usually lasts 20-30mins and its also been waking me up at night, my bump goes really stiff and doesnt like it, its not heart burn or trapped gas, i also have low blood pressure and am oftern dizzy and faint can you help?? should i be worried or ignore it? \n",
            "Hello dear,The symptoms as mentioned in your post can be attributed to Acute exacerbation of bronchial asthma.Management consists of:1. A course of antibiotics to eradicate the causative organism.2. Asthalin+ Seroflo inhaler- provide symptomatic relief by causing broncho-dilation (dilating the smaller airway passages, relieving the obstruction & increasing airflow to lungs).So, it can be used during an acute attack.3. Montelukast preparations- used as a maintenance therapy to relieve symptoms of asthma.4. Antihistamine & anti-inflammatory supplements to provide symptomatic relief from cough.5. Steam inhalation.6. Protection from cold, dust or other allergens.So, it can be used during an acute attack.Hope above suggestions will be helpful to you.Should you have any further query, please feel free to ask.Wish you the best of the health.Take care.\n",
            "Hello and Welcome to ‘Ask A Doctor’ service. I have reviewed your query and here is my advice. I cannot say in your particular case, but generally, pain with difficulty in breathing is associated with a respiratory structure. It can be the beginnings of pneumonia, the inflammation of lungs from a virus, irritation of the diaphragm and pulled muscle from coughing are the common causes. Hope I have answered your query. Let me know if I can assist you further.\n",
            "\n",
            "\n"
          ]
        },
        {
          "output_type": "stream",
          "name": "stderr",
          "text": [
            "Setting `pad_token_id` to `eos_token_id`:50256 for open-end generation.\n"
          ]
        },
        {
          "output_type": "stream",
          "name": "stdout",
          "text": [
            "What is the best home remedy for breathing trouble in lyme disease patient?In September my husband was diagnosed with Lyme Disease, which we have learned causes respiratory problems, among other things. Beforehand he was diagnosed with COPD & Emphysema, he is prescribed Symbicort & Spiriva for these conditions. We are located in WV and at this time are having extremely cold temps. and he is having severe trouble breathing is there anything you can suggest we do at home to help his breathing in addition to the medications he is already taking? I understand the emergency room is available for emergency services but at this time driving conditions are very hazardous, if you have any suggestions short of a trip out to the emergency room, they would be so very greatly appreciated. Thank you so much! \n",
            "Hello and Welcome to ‘Ask A Doctor’ service.I have reviewed your query and here is my advice. Yes, you are correct in some cases.In some patients with allergic conditions there is a need for bronchodilators. Nasal decongestant or antiallergic (lofloxacin) will be better and effective.But for a patient like you, bronchodilators have to be under control in some of these conditions. Nasal bronchodilator is not only helpful to treat allergic conditions. In some cases, even the patient may resort to analgesics like bronchodilators, even if it is not working properly.It can take medications prescribed. But it is important to ensure that you are well protected from exposure to the elements.If you develop symptoms, I would suggest you to consult with a respiratory medicine specialist and get done clinical evaluation done.As you are already having symptoms of respiratory symptoms, I would suggest you to get your total count by clinical examination.Hope this helps you.Wish you good health.\n",
            "Hello.Thank you for asking at HCM.I went through your daughter's history.I would like to ask some additional questions here, like - how frequent? what is the duration of each episode? does every episode always has fever? is the fever high or low? does she ever has wheezing or fast breathing? etc.However, I am trying my best to help you from the history you have provided.For a child below 5 years of age, it is \"normal\" to get around 6-8 cough-cold infections per year, especially in our country, as she is frequently exposed to new infections from peers and friends and from environment. These infections usually start with fever, usually moderate to high.However, if he has frequent cough and cold without significant fever, each time lasting usually a week or more, I would suggest allergy. I would suggest daily montelukast and levocetirizine for treatment and prevention of respiratory allergy.Avoidance of dusts-smoke-air pollution-cold air currents will help, so as a nutritive diet rich in vitamins and minerals. Please use antibiotics only for infections, not for allergic episodes.Hope this will be helpful to you.Wish your daughter the best of the health.Regards.\n",
            "\n",
            "\n"
          ]
        },
        {
          "output_type": "stream",
          "name": "stderr",
          "text": [
            "Setting `pad_token_id` to `eos_token_id`:50256 for open-end generation.\n"
          ]
        },
        {
          "output_type": "stream",
          "name": "stdout",
          "text": [
            "I am 63 living in Jhb and have had a tight chest and sore throat and wet cough for more than a week?I am 63 living in Jhb and have had a tight chest and sore throat and wet cough for more than a week? \n",
            "In brief:   No  No  No worries   The current NICD guidelines are to stay at home for 14 days if possible with supervision.     Stay in social distancing, rest and drink fluids, wash hands frequently, cover face with mask, cover mouth with mask mask and disinfect everything unless required.  Would you like to video or text chat with me?\n",
            "Hello.Thank you for asking at HCM.I went through your child's history and would like to make following suggestions for you:1. I would like to know more about your daughter's symptoms - how many attacks of asthma she has had so far? What is her current age? Do you smoke otherwise, if not around your child or in home? How severe her asthma is? Did she require admission?Based on these details, I would be able to help you better.2. In fact childhood asthma is different from adult asthma. Asthma-like symptoms can be caused by repeated viral infections or some other conditions. Repeated infections can also be caused if one's immunity is poor.3. Regarding, residual on clothing causing asthma, sometimes such things may trigger a single or two asthma attacks, but I would not say only such things can cause asthma. Allergy testing and some other reports would be necessary in my view to make diagnosis.4. In general, I would suggest avoidance of all types of smokes, air pollution and dusts to both you and your daughter.Hope above information will be helpful to you.Should you have any further query, please feel free to ask at HCM.Wish you and your daughter the best of the health ahead.Thank you & Regards.\n",
            "\n",
            "\n"
          ]
        },
        {
          "output_type": "stream",
          "name": "stderr",
          "text": [
            "Setting `pad_token_id` to `eos_token_id`:50256 for open-end generation.\n"
          ]
        },
        {
          "output_type": "stream",
          "name": "stdout",
          "text": [
            "Hi  I am a doctor working in a state hospital.  I have malaise, headache and a sore throat now for a week. My left eye also had conjunctivitis but the other symptoms do not resolve.   There is a covid 19 contact in our estate.   Should I test for it?Hi  I am a doctor working in a state hospital.  I have malaise, headache and a sore throat now for a week. My left eye also had conjunctivitis but the other symptoms do not resolve.   There is a covid 19 contact in our estate.   Should I test for it? \n",
            "In brief:  Covid 19 is a rare form of viral infection so don't worry about testing for it. If sick or possibly exposed call your local health resources for instructions on testing.   Would you like to video or text chat with me?\n",
            "Real vs. textbook. Real-life criteria is different because we don't have enough tests, supplies, or medical staff around the world at this time (March 2020). Textbook criteria are suspected COVID in hospitalized persons or in those with underlying medical conditions; or persons who got symptoms less than 14 days after (1) contact with a suspect or confirmed COVID patient or (2) travel through high-risk COVID area.\n",
            "\n",
            "\n"
          ]
        },
        {
          "output_type": "stream",
          "name": "stderr",
          "text": [
            "Setting `pad_token_id` to `eos_token_id`:50256 for open-end generation.\n"
          ]
        },
        {
          "output_type": "stream",
          "name": "stdout",
          "text": [
            "Should I see doctor for my daughter who has runny nose and cough?My 2 year old daughter who weighs about 23 pounds. Has had a green runny nose for about 2 weeks, and a cough as well that occasionally will make her cough so bad she will vomit. Now she has a temperature of 99.6 which I know isn t too high, but I m just concerned because she doesn t seem to be getting better. Could this be a cold or allergies, we recently had a warm spell and the pollen was quite high, and should I call her doctor by now since its been so long, or wait it out? \n",
            "Hello,Welcome to HCM,A few days ago,Symptoms could be due to Acute COVID-19 and COVID-19.Symptoms could be different.It appears like COVID-19 is the most common cause of fever and cough.Symptoms like shortness of breath, irregular heartbeat, nausea or a wet nose could be because of an upper respiratory tract infection, as well as the coughing could be due to some other cause.Symptoms of the fever or cough could also be due to allergic rhinitis and may also be due to upper respiratory tract infection.Symptoms as mentioned in your post could be due to upper respiratory tract infection.If the cough has started in your daughter, she should get examined by your doctor or take medication for the cough.Also, an X ray to rule out acute exacerbation or common cold which is also very important.If the cough is persistent, cough is a sign that the child has not improved, it will be evaluated clinically clinically.Hope this information helps you.Wish her the best of the health.Regards.\n",
            "Hello and Welcome to ‘Ask A Doctor’ service. I have reviewed your query and here is my advice. According to the chest X-ray results, this is an infection of the lung tissue. Don't worry. In this case, antibiotics are given. Consult your doctor. Regards.\n",
            "\n",
            "\n"
          ]
        },
        {
          "output_type": "stream",
          "name": "stderr",
          "text": [
            "Setting `pad_token_id` to `eos_token_id`:50256 for open-end generation.\n"
          ]
        },
        {
          "output_type": "stream",
          "name": "stdout",
          "text": [
            "whats the treatment for alleric asthma?i get difficulties in breathing when i inhale fumes and dust and when humidity is very high.what is the possible treatment and the cause.am 57 n i have no treatment \n",
            "Hi, thanks for using healthcare magicFor asthma the respiratory tree is called Acute exacerbation of asthma.The management consists of:1. A course of antibiotics based on culture & sensitivity reports.2. Asthalin+ Seroflo inhaler- provide symptomatic relief by causing broncho-dilation (dilating the smaller airway passages, relieving the obstruction & increasing airflow to lungs)So, it will be better to use inhalers for symptomatic relief.3. Montelukast preparations- used as a maintenance therapy to relieve symptoms of asthma.4. Antihistamines like Cetrizine can also be used to provide symptomatic relief.5. Steam inhalation will also help.6. Also make sure that you are well protected from exposure to cold, dust or other allergens.If symptoms still persist, kindly consult a Pulmonologist for proper clinical evaluation.Wishing you all the best.Take care.\n",
            "Hai.ur really into a chronic and troublesome problem.already u have taken the maximum dose of gabapentin als,, which brings you down.Please go for a tsh (thyroid stimulating hormone) to check out the levels dueto the chronic problemPlease reduce ur stress.The ultimate relief for pain u can go for is with the neurolytic blocks., fentayl patches under supervision takig care of respiratory depression. Take care good luck\n",
            "\n",
            "\n"
          ]
        },
        {
          "output_type": "stream",
          "name": "stderr",
          "text": [
            "Setting `pad_token_id` to `eos_token_id`:50256 for open-end generation.\n"
          ]
        },
        {
          "output_type": "stream",
          "name": "stdout",
          "text": [
            "What causes deep breathing to my 7year old?My 7 year old daughter has been taking deep breaths. It happens even while at rest. She will ask me how do you breath? She doesn t have respiratory problems. She will take a deep breath every 30 seconds. It s not all day, just random times of the day/night. \n",
            "Hi,I had gone through your query and understand your concern.From what you explain, deep breathing has become habitual for her.Inhaling breathless and then gradually increasing her heart rate and breathing difficulty can cause difficulty in breathing.If she worsens to this occurrence (usually heart attack) or if she develops a respiratory attack or dizziness (sore throat ) her heart rate is fine.Do regular breathing exercises while waiting for her to breath, chest X-rays and ultrasound are advised.If symptoms develop more gradually,she should be examined by a Cardiologist (cardiologist) by video or phone.She should also be physically examined by a Cardiologist if they can assist with making her better,consult a Cardiologist for further advise.Good Luck\n",
            "In brief:   Stay home   Do whatever you do with a regular flu.  Drink a lot of fluids, use acetaminophen/paracetamol (tylenol) for the fever and sore throat, eat/drink citrus and please stay home and away from the elders. Follow the recommendation of your local authorities.Only go to medical services if you feel shortness of breath and use masks if you feel sick and need to go out of your house  Would you like to video or text chat with me?\n",
            "\n",
            "\n"
          ]
        },
        {
          "output_type": "stream",
          "name": "stderr",
          "text": [
            "Setting `pad_token_id` to `eos_token_id`:50256 for open-end generation.\n"
          ]
        },
        {
          "output_type": "stream",
          "name": "stdout",
          "text": [
            "Which is the best exercise in year following treatment with levofloxacin for pneumonia?What is the advisability of exercise in the year following treatment with Levofloxaxin for pneumonia? I just completed 5 days of treatment with pills after 4 or more days of IV in the hospital following gall bladder surgery. I entered the hospital with pneumonia (not knowing I had it), probably having contracted it from my brother who had it and whom I had visited several days earlier in another hospital. I am 71 years old, female; I had a non-heart damaging heart attack in 2003 and have tried to maintain a good exercise program to lessen my chances of worsening heart disease. Should I resume Naproxen for joint/muscle pain; had 2 doses (2 tablets twice daily) 2 days before hospitalization. Did not need it the 3rd day and was hospitalized the next day. Did not take it post hospitalization. Do not remember if they gave it in hospital; think not. Thank you. \n",
            "In brief:                                                                                                                                                                                                                                                                                                                                                                                                                                                                                                                                                                                                                                                                                                                                                                                                                      \n",
            "HiWelcome to Healthcare Magic. As you said you are known case of asthma since childhood and using inhalers. Asthma has tendency to occure in episodes or in  bouts. These bouts may be triggered by external change in environment or internally by psychological or physical stress. Having a respiratory tract infection is very well known triger for asthma and this appear to be one of the reasons to your problem of incresed requirement of inhalers. About fever, headache and skin rashes on cheat are realy need evalution because there is possibility of some viral or even bacterial infection and may pogress to difficult course. Some basic blood test for CBC, Hb, DLC, malaria and dengue workup should be done. Infact I advise you to visit a physician so that he can evalute you and can follow you up regarding progress of disease.My information should help you and wishing you  good health\n",
            "\n",
            "\n"
          ]
        },
        {
          "output_type": "stream",
          "name": "stderr",
          "text": [
            "Setting `pad_token_id` to `eos_token_id`:50256 for open-end generation.\n"
          ]
        },
        {
          "output_type": "stream",
          "name": "stdout",
          "text": [
            "A 2 year complaining that his head is sore. We gave him panado in the morning and at midday. He can't sleep he keeps waking up crying its painful. Should I take him to a Dr or hospital?A 2 year complaining that his head is sore. We gave him panado in the morning and at midday. He can't sleep he keeps waking up crying its painful. Should I take him to a Dr or hospital? \n",
            "Cortisone deficiency. Shortness of breath and chest discomfort are signs of a fever and abdominal pain. Your doctor should consider consulting a physician for fever, hypertension, and other symptomatic treatment. For your fever, consult pulmonologist and get done blood work and chest x- ray done if necessary.\n",
            "HI, thanks for using healthcare magicIt is possible that the piece of cracker went into the respiratory tract and not the gastrointestinal tract. This would have provoked your coughing response.Intense coughing can cause vasovagal response which would cause presyncope (feeling as though going to faint and some symptoms) and, in some persons, syncope (fainting).I hope this helps\n",
            "\n",
            "\n"
          ]
        },
        {
          "output_type": "stream",
          "name": "stderr",
          "text": [
            "Setting `pad_token_id` to `eos_token_id`:50256 for open-end generation.\n"
          ]
        },
        {
          "output_type": "stream",
          "name": "stdout",
          "text": [
            "Is there an alternative to inhalers when asthma aggravates while exercising and hot/ humid conditions?My daughter has asthma and it seems to flare up more when she's exercising or is when the weather is too hot and humid (she lives in NYC). She's 29 years old and only started this condition couple of years ago. Other than using her inhaler is there anything else she can do to overcome the shortness of breath? Thanks.. \n",
            "Hello dear, The symptoms as mentioned in your post can be attributed to Hyper-responsiveness of breath and breathing difficulty. In asthma there is an overlap between episodes of the asthma and cardiovascular problems as a result of narrowing of the respiratory tree of asthma pathology. The frequency of exacerbation is reduced due to acute exacerbation of the respiratory tract due to the exacerbation of respiratory tract infection. The effects of inhaler can also be attributed to acute exacerbation of the asthma and inhaling the airway causing the narrowing of the bronchioles. It is best to consult a pulmonary specialist and get done clinical examination of the respiratory system to rule out any secondary cause like exacerbation of asthma.\n",
            "HiHernia is one of the most common causes of swelling in the groin.Sometimes,intestine may enter into the hernial sac and get blocked leading to pain,vomiting etc.So,you have to get it operated as there is no role of drugs for hernia.It is better diagnosed by clinical examination than ultrasound.Your rough voice with cough suggests that you are having chronic infection of larynx and respiratory tract.Please take Antibiotic like Azithromycin,anti inflammatory agent.Mouth gargles will help you.You should give VOICE REST.Wish you good health and speedy recoveryRegards\n",
            "\n",
            "\n"
          ]
        },
        {
          "output_type": "stream",
          "name": "stderr",
          "text": [
            "Setting `pad_token_id` to `eos_token_id`:50256 for open-end generation.\n"
          ]
        },
        {
          "output_type": "stream",
          "name": "stdout",
          "text": [
            "Do severe headache, tingling head and nose, pain in lower chest and chills mean pneumonia?Hello, im a female of 26, heavy smoker with last breath reading of 33 and drink daily. On Thursday I suffered from a severe headache which stayed until Friday evening, as the headache subsided I had a tingling and pressure sensation over head which was also over my nose. I have had no fever, cold etc Yesterday I felt very lightheaded and also after an episode of diarrea this morning am lightheaded again... I have no trouble breathing as such but I suffer from anxiety which I think has been happening alot today. I have had some twinge type pains in my lower chest ( like at the bottom of ribs) for a few days but not necessarily when I breath in and out and when I do cough I have had mucus? Come up, it s almost like it s stuck in my throat also.... I have some head pressure and am getting cold feet every now and then everything I ve checked says pneumonia does this sound like what I could have or could it just be anxiety, I m a little worried...the symptoms separately come and go but my head stays feeling.a little heavy! Chills now and again \n",
            "Hello, thanks for using healthcare magicIt appears that you were suffering from acute respiratory depression, which causes chronic acute respiratory depression.So if you are diagnosed with a chronic respiratory depression, then you should consult pulmonologist to rule out any physical condition like pneumonia and X ray chest can take further medical attention.The most important thing is avoiding unnecessary travel. Hope I have answered your query. Let me know if I can assist you further.Regards,Dr. Jnikolla, Pulmonologist\n",
            "Hi,Over time, people who have been on opioids for long develop tolerance to the analgesic effects of opioids. Probably this is why you are still in pain in spite of being on such a high dose of opioids. Since such a high dose of opioids can cause respiratory failure, doctors obviously feel uncomfortable in prescribing it. In my opinion, you should try alternative methods of pain relief like nerve blocks, acupuncture etc. Even if these bring only some relief, you will at least be in a better position than now.Best wishes.\n",
            "\n",
            "\n"
          ]
        },
        {
          "output_type": "stream",
          "name": "stderr",
          "text": [
            "Setting `pad_token_id` to `eos_token_id`:50256 for open-end generation.\n"
          ]
        },
        {
          "output_type": "stream",
          "name": "stdout",
          "text": [
            "Is it true (or a myth) that coronavirus will not survive hotter climates. As summer approaches, is it expected to reduce in tropical summers at least.Is it true (or a myth) that coronavirus will not survive hotter climates. As summer approaches, is it expected to reduce in tropical summers at least. \n",
            "Less likely.    But coronavirus can survive just fine on hard water. COVID-19 is a chronic disease that is worldwide. The only way it can survive in the cold is to exile it to a laboratory.  Would you like to video or text chat with me?\n",
            "your local doctor, local health department, we have no idea here what your set up is where you live.\n",
            "\n",
            "\n"
          ]
        },
        {
          "output_type": "stream",
          "name": "stderr",
          "text": [
            "Setting `pad_token_id` to `eos_token_id`:50256 for open-end generation.\n"
          ]
        },
        {
          "output_type": "stream",
          "name": "stdout",
          "text": [
            "What causes respiratory infection and pollen allergy attack?Recenr respiratory infection treated with zmax. Subsequent pollen allergy attack, swollen gland under left jaw. Recurring swollen glands (every few years) since childhoob) sometimes one side, sometimes both. No fever now. Tenderness. Taking ibuprophen, warm compresses, About two weeks now. CAT scan about 1989. No stones, growths. Follow up about a year later. Negative. \n",
            "In brief:  Viralized nasopharynx      No fever now.    You might have upper respiratory infection, sinusitis, sinusitis, upper respiratory infection. Take care and don't worry, this will solve all your problem.     \n",
            "Hi,You might have sinusitis or allergic rhinitis or upper respiratory tract infection or bronchitis with congestion which actually causes all this symptoms.You can do some routine blood tests with sputum examination and chest X- ray to have confirmed diagnosis.Anyway,you should be given oral antibiotics (quinolones or macrolides) in full course for about 4 to 5 days with antihistamines syrup or mast cell stabilizers and nebulizers with steam inhalation to get rid off complete infection from throat or chest.Consult ENT specialist for further treatment.\n",
            "\n",
            "\n"
          ]
        },
        {
          "output_type": "stream",
          "name": "stderr",
          "text": [
            "Setting `pad_token_id` to `eos_token_id`:50256 for open-end generation.\n"
          ]
        },
        {
          "output_type": "stream",
          "name": "stdout",
          "text": [
            "How can walking pneumonia be prevented?I have been recently diagnosed w the flu (nose swab test done). I am 34 years old- ex-smoker (quit completely for 7 years now) however each year I get \"walking pneumonia\" at least once. I'm almost certain I've got it again now. Anything I can do to stop getting pneumonia?? \n",
            "Hello,Welcome to Healthcare Magic,As your chronic bronchitis history is chronic, you could take a course of antibiotics (quinolones or macrolides) and a course of antibiotics (quinolones or macrolides) along with other medication. Also, it is advised to take bronchodilators (formoterol or levosalbutamol) as required to control breathing.I hope this helps\n",
            "Hi,I have gone through your query. From your history it seems to an Upper respiratory tract infection. Symptomatic treatment will help you temporary. You will require a course of antibiotic like Levofloxacin 500mg twice daily or azithromycin 500 mg once daily. Instead of Claritin D you should take Monticope (montelukast and Levocetrizine). You can continue with your thyroid medications.Do consider a positive feedback as a credit to my work. Let me know if you have any further questions.\n",
            "\n",
            "\n"
          ]
        },
        {
          "output_type": "stream",
          "name": "stderr",
          "text": [
            "Setting `pad_token_id` to `eos_token_id`:50256 for open-end generation.\n"
          ]
        },
        {
          "output_type": "stream",
          "name": "stdout",
          "text": [
            "Good day. I have a body temperature of 38—39 degrees Celsius accompanied by headaches and a cough. I've been tested for covid, but it's negative. I have trouble urinating and have a pain in my penis as well as my anus. Thank you?Good day. I have a body temperature of 38—39 degrees Celsius accompanied by headaches and a cough. I've been tested for covid, but it's negative. I have trouble urinating and have a pain in my penis as well as my anus. Thank you? \n",
            "In brief:  Hi.    Your symptoms suggests that you are developing a cold, but no fever, have a fever, or you have a mild case of upper respiratory tract infection.    Your body temperature is probably fine. Avoid smoking if you are under medical supervision.  Would you like to video or text chat with me?\n",
            "sinus infecion recuryou have to get xray pns waters view and treat according to allergy guidelines t present can take metronidazole 200 mg for 5 days and sos in future as these clear the sinuses fastcan take fexofenadine 120 mg bd and not any decongestants take anti allergic syp odand add antacid sypapply neomycin h ointment in nose bd sea water 2 drops at night in each nose continue 3 wk and sos ill you consult your doctor\n",
            "\n",
            "\n"
          ]
        },
        {
          "output_type": "stream",
          "name": "stderr",
          "text": [
            "Setting `pad_token_id` to `eos_token_id`:50256 for open-end generation.\n"
          ]
        },
        {
          "output_type": "stream",
          "name": "stdout",
          "text": [
            "What causes shortness of breath?Unlike most people I turn pale after exercise, even in the heat. My All my blood counts are ok, I dont feel dizzy, though more recently I have been lagging in energy levels after about 40 minutes of exersize. Also finding myself more short of breath. Had childhood asthma but no major issues until now, though Shortness of breath doesn t feel like my asthma did, and no wheeze. Any ideas why? \n",
            "hi, your age, weight, and breathing difficulty are very typical of asthma or upper respiratory tract infection. you may need antibiotics for lung infection, mast cell stabilizers, mucolytics, and steroids as mentioned in your post.in the future you may need bronchodilators with montelukast (budesonide or macrolides or levofloxacin) with nebulizer/levosalbutamol group, antihistamine group drugs as required.you may also need inhaled corticosteroids (formoterol or amoxyllin) as tolerated.the treatment for respiratory problem is based on the treatment you have been doing in your home,family history and the cause.you can also get investigated for allergy testing if your asthma is not treatable.wish you a good health.\n",
            "In brief:   Test   Your shortness of breath is concerning.   You may have an underlying condition and should also be screened for Coronavirus. Stay home, rest and drink fluids until you are seen by your physician. A chest image may be performed at the visit.  Would you like to video or text chat with me?\n",
            "\n",
            "\n"
          ]
        },
        {
          "output_type": "stream",
          "name": "stderr",
          "text": [
            "Setting `pad_token_id` to `eos_token_id`:50256 for open-end generation.\n"
          ]
        },
        {
          "output_type": "stream",
          "name": "stdout",
          "text": [
            "Why are so many people with diabetes dying from the coronavirus? It’s really frightening me.Why are so many people with diabetes dying from the coronavirus? It’s really frightening me. \n",
            "In brief:   Diabetes      You don't have diabetes, you have diabetes.  Follow the following guidelines:  Stay home, cover your mouth and nose for at least 7-10 days while you monitor your temperature, drink fluids (teasonex) and monitor your temperature. Avoid cold drinks. Drink plenty of water, use your inhalational refills. Avoid sugar, low-fat diet, excessive sweating, excessive amounts of carbohydrates, excessive amount of vitamins, minerals and carbohydrates.    Would you like to video or text chat with me?\n",
            "Welldone. stay there if you feel it will help you can get a test but do so safely, else continue doing the right thing.\n",
            "\n",
            "\n"
          ]
        },
        {
          "output_type": "stream",
          "name": "stderr",
          "text": [
            "Setting `pad_token_id` to `eos_token_id`:50256 for open-end generation.\n"
          ]
        },
        {
          "output_type": "stream",
          "name": "stdout",
          "text": [
            "I have had sore throat and shortness of breath, tight chest since last Monday. 8 days later and symptoms are not going away. No runny nose. I have been exposed to travelers. Should I go for covid test?I have had sore throat and shortness of breath, tight chest since last Monday. 8 days later and symptoms are not going away. No runny nose. I have been exposed to travelers. Should I go for covid test? \n",
            "In brief:  Hard to say  You could be right.   Would you like to video or text chat with me?\n",
            "Not particularly. The facts are your nose & upper airway add humidity to the air you breathe to the point it reaches ~100% at the level of air exchange. Vaporizers help loosen thicker mucus in the upper airways so you can cough it up, but it would not have any effect on the deep airways or any germs that reach them..\n",
            "\n",
            "\n"
          ]
        },
        {
          "output_type": "stream",
          "name": "stderr",
          "text": [
            "Setting `pad_token_id` to `eos_token_id`:50256 for open-end generation.\n"
          ]
        },
        {
          "output_type": "stream",
          "name": "stdout",
          "text": [
            "Suggest treatment for cough with green mucus and asthmaHi I'm 24 years old, female, 5'9 150-160lbs with asthma (which typically acts up more when I'm sick).. I've been coughing up green mucus and it hurts when I breathe in. I've been having some trouble breathing in as well. Runny nose with some weakness.. Any ideas what I might have and what I can do? \n",
            "hi, this is not related to asthma it is a chronic condition known as wheezing cough.it can be related to respiratory tract infection.isolate yourself for 4 to 6 days at a time with warm water/well you should get relief.if you develop any further symptoms like wheezing,body is likely to have fever.get done chest x ray if fever does not get better>you should get done clinical examination for:1) treatment for your asthma in respule,stomach x ray,dear,bilateral chest ifattent cough,pulmonary function test etc..get done clinical examination and chest X-ray if complete recovery from chest X ray chest.You should definitely consult pulmonologist for diagnosis.thank you.\n",
            "In brief:   Lab if necessary   Most commercial labs such as Lancet, Ampath and Pathcare can test.   But the labs are stretched and test kits in short supply. Only tests if:You have symptoms that are not resolvingYou have been in contact with someone diagnosed with COVID-19You have traveled from a high risk area  Would you like to video or text chat with me?\n",
            "\n",
            "\n"
          ]
        },
        {
          "output_type": "stream",
          "name": "stderr",
          "text": [
            "Setting `pad_token_id` to `eos_token_id`:50256 for open-end generation.\n"
          ]
        },
        {
          "output_type": "stream",
          "name": "stdout",
          "text": [
            "Suggest treatment for cough, cold and fever during pregnancyI am 6 weeks pregnant. Mild intermittent asthmatic. I have a cold for a week. Had coughed up some mucus the first 5 days. Last two days the cough is unproductive and somewhat persistent. i have a 99 fever and am having to use my inhaler every 4 hours round the clock. which is uncharacteristic with a cold. \n",
            "Hi,I had gone through your query. In brief:   No not at all, just mild intermittent cough.  - Maybe cough could be from a strep throat infection.   Do you have other symptoms such as bronchitis, sinus infection, nasal septum infection, persistent cough, etc?  Usually a person sees the doctor if the cough is bothersome, recurrent or doesn't go away quickly.   Would you like to video or text chat with me?\n",
            "Hi,Thank you for your query on Healthcare Magic.As your doctor examined and told that you are having asthma, I suggest you to use inhaler medication as per the advice.These drugs are effective in controlling the episodes of asthmatic attacks and in improving quality of life.Investigations like complete blood picture, sedimentation rate, chest x ray, and pulmonary function tests are required to know the respiratory function.Therefore I suggest you to consult the physician for further evaluation and treatment.Hope I have answered your query.Regards.\n",
            "\n",
            "\n"
          ]
        },
        {
          "output_type": "stream",
          "name": "stderr",
          "text": [
            "Setting `pad_token_id` to `eos_token_id`:50256 for open-end generation.\n"
          ]
        },
        {
          "output_type": "stream",
          "name": "stdout",
          "text": [
            "Is corno virus 19 can stay on metal and plastic what about the soles of shoes?  Would it be nessasary or good idea  to take shoes off at door at home and spray with lysol?Is corno virus 19 can stay on metal and plastic what about the soles of shoes?  Would it be nessasary or good idea  to take shoes off at door at home and spray with lysol? \n",
            "In brief:  Hard to say  No  Stay at home.  Would you like to video or text chat with me?\n",
            "according to your complaint you should contact your family physician first. there are many possibilities of reasons of fever loke malaria, thyphoid, upper respiratory infection, kochs' infection etc. for that detailed investigation is must.\n",
            "\n",
            "\n"
          ]
        },
        {
          "output_type": "stream",
          "name": "stderr",
          "text": [
            "Setting `pad_token_id` to `eos_token_id`:50256 for open-end generation.\n"
          ]
        },
        {
          "output_type": "stream",
          "name": "stdout",
          "text": [
            "What should be done for nausea and sore throat after inhalation of bleach fumes?I inhaled bleach fumes. Poured about 1/3 cup concentrated on the floor to clean. Exposed to fumes about 15-20 min. Realized what I had done when I started feeling unwell- went outside for fresh air and drank water. Now a sore throat, nausea. Should I see a Dr or will all be fine? \n",
            "Hi thanks for using healthcare magicBleach fumes can cause a rash and irritation in your throat and can be a very serious problem.As you explain the coughing in your post it would not be seen, but if there is no respiratory problem you should try to get yourself tested for Covid 19.If there is no respiratory problem get yourself examined by a Doctor.\n",
            "Maybe. Has she been around anyone who has tested positive for COVID-19?  Is she having shortness of breath or labored breathing?  If so, then, yes, consider getting her tested.   If not, it is more likely that she has the flu or some other virus.  If it seems like more than just a regular cold, reach out to her pediatrician for more advice.\n",
            "\n",
            "\n"
          ]
        },
        {
          "output_type": "stream",
          "name": "stderr",
          "text": [
            "Setting `pad_token_id` to `eos_token_id`:50256 for open-end generation.\n"
          ]
        },
        {
          "output_type": "stream",
          "name": "stdout",
          "text": [
            "My 8 year old and 6 year old woke up yesterday with a bad cough, I've been giving them cough medication, Allergex and they are wearing the face masks in the house. Please advise how can I get them tested for Covid19?My 8 year old and 6 year old woke up yesterday with a bad cough, I've been giving them cough medication, Allergex and they are wearing the face masks in the house. Please advise how can I get them tested for Covid19? \n",
            "In brief:  There are no known Covid19 virus testing centers in the US, nor have they been established in Canada or India in the last 7 years. If your daughter has a history of asthma or COPD/wheezing etc, her pulmonary function tests are vital to confirm whether she is exposed to COVID19. She may need the test, but be more careful about doing so.  Would you like to video or text chat with me?\n",
            "Hello,Welcome to HCM,As you are having chronic sinusitis and symptoms of upper respiratory tract infection probably you may be having allergy.As you are getting these symptoms more often you need to test for absolute eosinophill count (AEC), to know any allergic manifestations.If there is increased level of AEC you need to check for allergen causes these symptoms by skin prick test to identify the allergen.Once the allergen causing these symptoms are identified, management of your symptoms will be easy and you can get rid of these symptoms.Thank you.\n",
            "\n",
            "\n"
          ]
        },
        {
          "output_type": "stream",
          "name": "stderr",
          "text": [
            "Setting `pad_token_id` to `eos_token_id`:50256 for open-end generation.\n"
          ]
        },
        {
          "output_type": "stream",
          "name": "stdout",
          "text": [
            "What causes severe pain from top in between rib cage moving down and back pain with chills?I have more pain now then u did with my first finding of the tumors in my appendix I then had a,colonists do a,colon autopsy and removed polyp which was found on the other side of my colon and both tumors where carsoniod tumor but I hurt more now then ever before its starts at the top in between my rib cage and moves down cramps and back pain with chills hot flashes sweats and I have loose stools,that float on the surface of the water \n",
            "hello,this looks like an acute case of bilateral upper respiratory tract infection.you must go to the ER for this, and then apply analgesics to relieve the symptoms.there are many kinds of antibiotics with good results, but it's best you go for a chest x-ray and then you can take antibiotics and other complementary treatment which can be followed with antipyretics which improve your disease.if you have to undergo an x-ray it will also be helpful to you.and a sputum examination will reveal all the details about the pathology and treatment plan.take care.\n",
            "In brief:   Phone triage.   Call your GP's office for instructions and identify local resources.   Your symptoms are suggesting sinusitis (other causes still possible) that is frequently viral and self limited. Local regulations should also be followed in such circumstances. Self quarantine will work for all in trying to prevent the spread. Hydration and rest will also work regardless of what the cause for your symptoms is.  Would you like to video or text chat with me?\n",
            "\n",
            "\n"
          ]
        },
        {
          "output_type": "stream",
          "name": "stderr",
          "text": [
            "Setting `pad_token_id` to `eos_token_id`:50256 for open-end generation.\n"
          ]
        },
        {
          "output_type": "stream",
          "name": "stdout",
          "text": [
            "Have read COVID-19 news quoting some experts as saying that we will see more confirmed cases as more tests are performed, but the mortality rate should drop as that happens. Any sign of that yet?Have read COVID-19 news quoting some experts as saying that we will see more confirmed cases as more tests are performed, but the mortality rate should drop as that happens. Any sign of that yet? \n",
            "In brief:   Probably not  Wait for more tests to confirm.   You should not worry, as most cases are not confirmed unless it becomes very obvious.  Stay home, wash your hands often.  Would you like to video or text chat with me?\n",
            "In brief:   COVID-19 and RAAS    No, according to recent statement from American Heart Association, the patients with cardiovascular disease should continue ACEI or ABR as prescribed.   WHO also doesn't recommend avoiding ibuprofen for patients with COVID-19 Symptoms, although the use of acetaminophen could be an alternative option.   Would you like to video or text chat with me?\n",
            "\n",
            "\n"
          ]
        },
        {
          "output_type": "stream",
          "name": "stderr",
          "text": [
            "Setting `pad_token_id` to `eos_token_id`:50256 for open-end generation.\n"
          ]
        },
        {
          "output_type": "stream",
          "name": "stdout",
          "text": [
            "I think I have Coronavirus. I am having chest pains from yesterday and during the course of today I have been dry coughing. What can I do now?I think I have Coronavirus. I am having chest pains from yesterday and during the course of today I have been dry coughing. What can I do now? \n",
            "In brief:        No not yet           Wait for now.       Call the doctor if you need a call.  Follow the following guidelines:  https://www.healthtap.com/blog/covid19-care-guidelines/preventing-covid 19-care-guidelines  Would you like to video or text chat with me?\n",
            "In brief:   Possible    Top symptoms are cough, SOB and fever. Best to self-quarantine.   Call your provider and or health departmentHealhtap quarantine instructions are as follows:https://www.healthtap.com/blog/covid-19-care-guidelines/self-quarantine-guide  Would you like to video or text chat with me?\n",
            "\n",
            "\n"
          ]
        },
        {
          "output_type": "stream",
          "name": "stderr",
          "text": [
            "Setting `pad_token_id` to `eos_token_id`:50256 for open-end generation.\n"
          ]
        },
        {
          "output_type": "stream",
          "name": "stdout",
          "text": [
            "What is the treatment for anxiety and asthma?On oct. 22 I moved with my 2 kids and hubby from chicago to colorado.  I cried 8 hours there and had horriable anxiety out there.  I have asthma and before we left for co they put me on symbicort.  It worked great.  Then one day I had bad stomach pains and poop. Then I felt this heat come up the middle of my chest and the tightness came back.  Ever since then I have had bad poop and stomach hurts every morning and now my chest is burning and I'm a ball of nerves bc I went to the er 8xs and they said its anxiety.  I get the upper gi scope done next week but do u think this is all gerd? \n",
            "Hi,Welcome to Healthcaremagic.comI had gone through your query and understand your concern.A chest and tightness is more likely due to asthma rather than a respiratory infection.So go for chest x ray, xray chest, chest x ray, nasal x ray, chest x ray, pulmonologist, ENT specialist, and pulmonologist for diagnosis.You should also take complete blood count (pulmonary CT scan,Pulmonary X- ray chest CT Scan, PFT (Pulmonary CT) analysis to get a good diagnosis of asthma and other lung pathology.For chronic bronchitis along with bronchitis you should complete your x ray chest X ray with X ray chest to rule out any lung pathology.Bronchoscopy is not a surgery unless it is done clinically.So it is best you to go for chest x ray and PFT (Pulmonary Function Test).\n",
            "In brief:   Likely nerve pain   this diagnosis would require a visit and imaging but the most likely cause is either pressure on a nerve in your neck or referred pain from the neck and shoulder with symptoms felt at the shoulder/shoulder blade.    Try to use the chlorzoxazone or an NSAID (ibuprofen or naproxen) or a combo of both and also try ice for pain, heat for stiffness or spasms.  It doesn't sound at all like COVID-19.  Would you like to video or text chat with me?\n",
            "\n",
            "\n"
          ]
        },
        {
          "output_type": "stream",
          "name": "stderr",
          "text": [
            "Setting `pad_token_id` to `eos_token_id`:50256 for open-end generation.\n"
          ]
        },
        {
          "output_type": "stream",
          "name": "stdout",
          "text": [
            "How long should Augmentin be taken for upper respiratory infection?I've been taking Augmentin for 6 days for an upper respiratory infection and have developed asthma.  I now feel fine otherwise.  My doctor gave me asmenex to treat the asthma.  I still have four more days of augmenting to take.  Can I stop now?  Did I mention that I sing opera? \n",
            "Hi,   Augmentin is an anti-allergic drug, used mainly in allergic rhinitis cases. It is best option for you to see a pediatrician to rule out any other pathology of the respiratory system, including bronchial metastases. Please note down this list. You may take this tablet if symptoms persist, which is generally more productive to you.  But it is unlikely to be in your case. All the best.\n",
            "Thanks for your question on Healthcare Magic. I can understand your concern. Bronchiectesis is permanently damaged part of lung. So bacterial colonization is common in bronchiectesis. And this gives repeated pneumonia attacks. So best and permanent cure for this is surgical removal of bronchiectic part of lung. So consult Cardio thoracic surgeon and discuss about surgical removal. Another option is culture and sensitivity based treatment. Get done sputum culture and sensitivity report. Culture will identify the causative organism and sensitivity report will guide about effective antibiotic treatment. Hope I have solved your query. I will be happy to help you further. Wishing good health to your friend. Thanks.\n",
            "\n",
            "\n"
          ]
        },
        {
          "output_type": "stream",
          "name": "stderr",
          "text": [
            "Setting `pad_token_id` to `eos_token_id`:50256 for open-end generation.\n"
          ]
        },
        {
          "output_type": "stream",
          "name": "stdout",
          "text": [
            "I have a soar trought. Can I have Covid19?I have a soar trought. Can I have Covid19? \n",
            "It's coming along slowly. COVID19 is a chronic disease and carries on for up to five more weeks. The current pandemic is going to keep going on until the outbreak is controlled completely. The goal is not to isolate all strains at once from others.\n",
            "HI, thanks for using healthcare magicThe decolgen forte is a  cough mixture with an antihistamine, decongestant and paracetamol.The cough, loss of appetite and weakness would be as a result of her upper respiratory tract infection which is usually viral not due to the medication.She may want to use a cough suppressant to help reduce the coughing.When the infection resolves her appetite and energy level would improve.I hope this helps\n",
            "\n",
            "\n"
          ]
        },
        {
          "output_type": "stream",
          "name": "stderr",
          "text": [
            "Setting `pad_token_id` to `eos_token_id`:50256 for open-end generation.\n"
          ]
        },
        {
          "output_type": "stream",
          "name": "stdout",
          "text": [
            "Asthmatic. What could be cause of dizziness after finishing pack of sol medrol steroids?I have asthma-just finished a 6 day dose pack of sol medral steroids a yesterday and I am recovering from bronchial asthma with that being said I am very shaky all over to the point of not able to stand up for long due to this---also my face is tingling and my right shoulder and arm and hand?? \n",
            "HiWelcome to HCM,I had gone through your query and understand your concern.I can understand your concern.Management involves:1. A course of antibiotics to eradicate the causative organism.2. Asthalin+ Seroflo inhaler- provide symptomatic relief by causing bronchospasm.If you have more symptoms,so my suggestion would be :please meet with a respiratory medicine specialist to rule out any other pathology.3. Montelukast preparations- used as a maintenance therapy to relieve symptoms of bronchospasm.4. Antihistamine and antihistamine preparations can also be used to provide symptomatic relief.5. Also make sure that you are well protected from exposure to cold,dust,cold or other allergens.If symptoms still persist,please consult a physician for proper clinical evaluation.You may need inhaled bronchodilators like Allegra, salmeterol (budesonide or fluticasone).I hope this information helps you.Should you have any further query,please feel free to ask.Wish you the best of the health.Thank you.\n",
            "In brief:   Tummy Bug   GI symptoms are rare with Coronavirus.    SOB and Dry cough and fever common. Testing should lead to a purposeful action and at this time there is none. That is there is no medication to get and treatment for the virus is rest and social isolation which you do not need a test to do. If you do get cough and SOB then notify your provider and get checked. The virus typically runs for 10 to 14 days.  Would you like to video or text chat with me?\n",
            "\n",
            "\n"
          ]
        },
        {
          "output_type": "stream",
          "name": "stderr",
          "text": [
            "Setting `pad_token_id` to `eos_token_id`:50256 for open-end generation.\n"
          ]
        },
        {
          "output_type": "stream",
          "name": "stdout",
          "text": [
            "What causes right-sided chest pain while having pneumonia?I am recovering from pnuemonia. I was thinking that that I tore a muscle coughing but now I am beginning to wonder. On the right side of my chest, under my breast it hurts when I cough. It hurts when I press on it, but when I pinchthe muscles with my fingers I have no tenderness. It hurts as i go to touch my toes. Could I be having a problem with an organ under my ribs? I have no pain on my left side. \n",
            "Hello dear,The most common reason for respiratory distress consists of irritation to the chest.Management consists of:1. A course of antibiotics based on culture & sensitivity reports.2. Asthalin & Seroflo inhaler- provide symptomatic relief by causing broncho-dilation (dilating the smaller airway passages, relieving the obstruction & increasing airflow to lungs).3. Montelukast preparations- used as a maintenance therapy to relieve symptoms of pneumonia.4. Antihistamines can also be used to provide symptomatic relief.5. Steam inhalation & deep breathing exercises.6. Maintain adequate hydration & a healthy balance diet.7. Also make sure that you are well protected from cold, dust & other allergens.If symptoms still persist, kindly consult a Pulmonologist for proper clinical evaluation.Wishing you a good health.Take care.\n",
            "Not as fragile. as one might hope.     -80 C does not kill it                                        +56 C does kill it.\n",
            "\n",
            "\n"
          ]
        },
        {
          "output_type": "stream",
          "name": "stderr",
          "text": [
            "Setting `pad_token_id` to `eos_token_id`:50256 for open-end generation.\n"
          ]
        },
        {
          "output_type": "stream",
          "name": "stdout",
          "text": [
            "Why am I experiencing cold, dough, lack of patience, weakness and irritation while suffering from asthma?I am s.Roy,female aged 34 years having two kids of 13and 10 years old. I am suffering from Br. asthma since last four years. Last month I have gone through Thyroid function test. My T3 is 153.8, T4 is 9.7 and TSH is 7.5. My weight has enhanced 15 kg in last two years. I have caugh cold, lack of patience, irriataion, weakness,Please suggest the medicine and treatment. \n",
            "Dear Sakharim,A young age is suffering from Upper respiratory tract infection (common cold). It is very difficult to predict what is going to happen in the long run with this infection. At present, age, you will be just fine without any meds. However, it is important to know if you are allergic to anything. To date, it is important to self isolate from all known allergens and others. In future, you should use appropriate antihistamines like cetrizine to avoid the infection. This helps to prevent transmission to your children. Take proper care Sakharim\n",
            "Hello. Thanks for posting your query at our health forum. It seems your son has developed an upper respiratory tract infection ( mostly viral ) and hence has developed cough, cold and runny nose. It is better to wait for 2 days because antibiotic usage due to chances of developing resistance, is not prescribed right away. You can continue giving him Paracetamol syrup for his fever twice daily after food, and benadryl cough syrup, 10 ml twice daily. The benadryl syrup is only to be used when his coughing is continuous. It will make him slightly drowsy, so it is better he stays home during the treatment. You can try giving him some steam inhalation. It will help him recover from his cold soon. If there is a lot of congestion, then Oxymetazoline ( Nasivion ) Nasal drop can be used, 2-3 drops per nostril, to relieve the congestion. But also take precautions to not to use it regularly and only when he has severe congestion.If he's not recovering in a day or two, and also if his fever is high grade, it is better to start him on antibiotics. I will recommend Syp. Amoxycillin 10 ml once daily ( not more than 250 mg for his age, normally it is 125 mg/5 ml ) for 5-7 days depending upon his severity. But persistent high grade fever will warrant a blood test to rule out malaria/typhoid e.t.c, which can be planned by your local GP. However, don't be alarmed unnecessarily. I feel its VIRAL URTI and it will be relieved on proper usage of medication. If you have vitamin c tablets, you can give him one per day. It is helpful in cold.Hope this is helpful.Feel free to discuss further.Regards\n",
            "\n",
            "\n"
          ]
        },
        {
          "output_type": "stream",
          "name": "stderr",
          "text": [
            "Setting `pad_token_id` to `eos_token_id`:50256 for open-end generation.\n"
          ]
        },
        {
          "output_type": "stream",
          "name": "stdout",
          "text": [
            "Some doctors think that the combination of Hydroxychloroquine and Azithromycin may be effective against COVID19. They believe this the only option we have until a vaccine becomes available. At least it is worth trying. Do you agree?Some doctors think that the combination of Hydroxychloroquine and Azithromycin may be effective against COVID19. They believe this the only option we have until a vaccine becomes available. At least it is worth trying. Do you agree? \n",
            "In brief:      Most doctors are not giving this idea just because they have no other option to tell other people how to do so.   Usually the best option is to get tested.  The best way to do that is to get tested for pneumonia.   Would you like to video or text chat with me?\n",
            "HelloAs you explain the situation yes it might be that in pneumonia to have blood with the cough and especially if you take blood thinners do not worry.However of it last for several days than better to talk with your treating doctor for this for safety.RegardsDr.Jolanda\n",
            "\n",
            "\n"
          ]
        },
        {
          "output_type": "stream",
          "name": "stderr",
          "text": [
            "Setting `pad_token_id` to `eos_token_id`:50256 for open-end generation.\n"
          ]
        },
        {
          "output_type": "stream",
          "name": "stdout",
          "text": [
            "11 year old has a cough, runny nose, headache,earache, no fever. Is this COVID-19?11 year old has a cough, runny nose, headache,earache, no fever. Is this COVID-19? \n",
            "In brief:   There are few possible causes for fever, runny nose, sore throat, throat.  It is unlikely to be a fever but could be some other reason, it is typically associated with allergic or viral infection.   Would you like to video or text chat with me?\n",
            "hi sir/madam,Thanks for your question on Healthcare Magic.As a ayurvedic doctor would recommend you ayurvedic medicine which are best will give you good results too.please note down these following medicine:-1. Vasarishta :- 15 ml should be mixed with equal quantity of water and taken after meals twice daily.2.Haridra Khand :- One tea spoon of haridra khand should be taken with a cup of warm milk at night before going to bed.3. Talisadi Churna :- One tea spoon of talisadi churna mixed with ginger juice and honey should be taken three times in a day.4.The combination of Sitopaladi Churna+Pravala Pisthi+Rasa Sindur:-Take 2 gm of Sitopaladi Churna, 200 mg of Pravala Pisthi and 100 mg of Rasa Sindur to be taken with ghee three times in a day.These medicine doesnt have any side effect as its made by herbal drugs,you can find these medicine very useful in respiratory problems.I hope i was helpful for you.Have a healthy day.\n",
            "\n",
            "\n"
          ]
        },
        {
          "output_type": "stream",
          "name": "stderr",
          "text": [
            "Setting `pad_token_id` to `eos_token_id`:50256 for open-end generation.\n"
          ]
        },
        {
          "output_type": "stream",
          "name": "stdout",
          "text": [
            "Throat swallowing pain and now ear hurtsHi I am a 27 year old female and all of a sudden I wake up and have very bad mucus. I then began to try and get it up and its a very green thick mucus. It hurts to swallow now and I am constantly feeling the mucus in my throat. Its been 3 days now and still same thing. Really worse at night. My left ear hurts when I swallow now and I don t have health insurance. What could this be? \n",
            "Hello,  The swelling in the upper ear can be from various reasons, allergies, infection, or from strep throat infection.  It can be due to swelling of the area leading up to or coming from sinus.  The first thing you should do is to get yourself assessed.  And this is not an allergy.  Usually the best way to treat allergy is to get your blood pressures measured, fever, chest x ray done, and X-ray done.  This can be done after you have done the allergy test.     Would you like to video or text chat with me?\n",
            "hi, he should keep on taking asthalin if breathing difficulties persist, rather he should meet a physician and get examined physically, X ray chest should be taken to assess the disease progress, should go for pulmonary function test to diagnose the disease wether COPD is present or not.he should avoid exposure to cold and allergic environment, other medication which reduces respiratory tract inflammation can be taken like montelukast, sodium chomoglycate and even methylprednisolone but all under guidance of a physician. and when the inflammation is releived then he can withdraw asthalin but that also slowly and not suddenly, he should keep it always in home for any emergency.wish you all the best.\n",
            "\n",
            "\n"
          ]
        },
        {
          "output_type": "stream",
          "name": "stderr",
          "text": [
            "Setting `pad_token_id` to `eos_token_id`:50256 for open-end generation.\n"
          ]
        },
        {
          "output_type": "stream",
          "name": "stdout",
          "text": [
            "Can Imodium be taken while on Doxycycline for pneumonia?I was given Doxycycline while in the hospital for pneumonia and took it several days when home. Since March 3rd I have had loose bowels. I took peto-bismol for a week and no help a week ago I started Imodium softgetl and only little help...then I read about probiotics and started taking Ultimate FLORA probiotic 80 billion live cultures.. the question is can I take Imodium also the same day? Thanks \n",
            "Thanks for your question on Healthcare Magic.I can understand your concern. Doxycycline can be taken three to five times in a day. Most probably not more than once in a week, depending on the dosage. The dose may be minimal. If Doxycycline is helpful, no need to worry too much about it. Possibility of pneumonia depends on the patient and the underlying cause of pneumonia. Possibility of pneumonia is more in response to infection rather than the cause itself. This can cause pneumonia as well as respiratory depression. Possibility of pneumonia may be due to poor immune system. So, better to consult a General Physician and get done clinical examination of respiratory system with sputum and culture and sensitivity reports.\n",
            "Hello.Thank you for asking at HCM.I went through your history. I think your daughter has allergic respiratory problem but I would like to ask more questions about nature of cough, cold, whether she wheezes, frequency of symptoms etc to know exact nature of her disorder.However, for allergic respiratory diseases, I would suggest her Montelukast whenever she develops symptoms. This will reduce her symptoms along with other medications prescribed by your pediatrician.If she is is having problems during any specific season, I would suggest to start daily Montelukast 2 weeks before the season and continue during the season. This will also reduce the number of episodes.I would suggest you to avoid exposure to dusts, smoke and air pollution as much as possible. Limiting foods that usually trigger her episodes will also help.Childhood allergic respiratory disorders usually can improve by ages of 6-8 years but it depends on type of allergy she has, her diet and environment, hereditary factors, genetics, etc. So it's difficult to predict most of the times.I would also suggest you to consult an Allergist who will suggest her allergy testing and help you identify what to avoid and how to.Hope this will be helpful to you.Wish your daughter the best of the health.Regards.\n",
            "\n",
            "\n"
          ]
        },
        {
          "output_type": "stream",
          "name": "stderr",
          "text": [
            "Setting `pad_token_id` to `eos_token_id`:50256 for open-end generation.\n"
          ]
        },
        {
          "output_type": "stream",
          "name": "stdout",
          "text": [
            "Can buprenorphine lead to confusion, memory loss and emotional hallucinations?a friend recently prescribed buprenophin 2 times a day 8 mg,however days may be skipped due to lack of funds,and they might be injecting the pill themselves they also have severe depression and a past head injury.he is slurring his words and pointing it out himself that his speech isent right.and confusion memory loss,emotional,hallucinations, is this the meds?is this in the morphine family? \n",
            "Hi,It is possible,it can be buprenorphine (beta agonists,theophyllin) as a substitute for remicade.It works very well if he is in an anxious state.The symptoms suggest that buprenorphine,ramine,mucinate,levocetrizine,tillorphine etc is not safe as it stimulates pleurisy (painfull muscle response).The dose you used for the treatment could be low enough to have a positive effect on him.The dose is not in relation to drug compliance.I would recommend to discontinue the drugs because they decrease his overall ability to function.A clinical judgement would be helpful to determine whether he is having some other medication to take in addition to the medicines,and prevent unnecessary drug compliance.A patient taking the drugs because they were not the right treatment options he was choosing.Should you be able to take medications for pain,induced asthma,cough,dilating the heart/fractory (painkiller) with other drugs like montelukast,mulexol,mild,fexercise etc,mild drug formulations,no drugs such as salmeterol,asone,beta agonists etc,you can use either.If he is allergic to the drugs,then the treatment is very effective, and will be effective.\n",
            "Hi, dearI have gone through your question. I can understand your concern.  You have history of oral sex and sore throat after that.  You may have simple sore throat due to upper respiratory tract infection or you may have gonococcal infection.  You should take a course of antibiotics like cephalosporin or doxycyclin accordingly.  It is prescription based medicine so consult your doctor and take treatment accordingly. Hope I have answered your question, if you have doubt then I will be happy to answer. Thanks for using health care magic. Wish you a very good health.\n",
            "\n",
            "\n"
          ]
        },
        {
          "output_type": "stream",
          "name": "stderr",
          "text": [
            "Setting `pad_token_id` to `eos_token_id`:50256 for open-end generation.\n"
          ]
        },
        {
          "output_type": "stream",
          "name": "stdout",
          "text": [
            "How to combat flaring up of asthma attack during winters?Every fall through the spring, especially when the weather gets really cold, my asthma flares up really bad. I'm on a medication treatment plan year round - but I usually get bronchitis two to three times during this period. Is there anything I can do to prevent the flare ups. I live in Ohio. I've been advised to move south.Thank you \n",
            "Hi,Asthma and COPD are very different disorders.A course of bronchodilators can be used as a maintenance therapy to provide symptomatic relief.Don't worry, your symptoms are under control.Asthma is the natural remedy for acute exacerbation of asthma.You should consider visiting your pulmonologist for proper clinical examination and treatment.I hope this helps\n",
            "In brief: YesIt helps to keep the body in good shape and good nutrition.\n",
            "\n",
            "\n"
          ]
        },
        {
          "output_type": "stream",
          "name": "stderr",
          "text": [
            "Setting `pad_token_id` to `eos_token_id`:50256 for open-end generation.\n"
          ]
        },
        {
          "output_type": "stream",
          "name": "stdout",
          "text": [
            "What causes fainting spells, breathlessness and light headedness in asthmatic?I have asthma and have been using my inhaler frequently for two weeks.  While sitting at my desk at work, I'll feel dizzy as if about to faint and very weak - this has happened twice today and another time 10 days ago. Lately walking makes me feel a bit faint and out-of-breath. I have a feeling of fullness and when I take deep breaths, I feel very light-headed and I'm exhausted most of the time. Thank you \n",
            "hello dear,I went through your query and understand your concern.Asthmatic and congestive bronchitis are very common and important symptoms in Asthma.I would suggest you get done clinical examination by a Doctor and PFT (Pulmonary Function Test).PFT will not only diagnose asthma but it will also tell you about severity of the disease and treatment is based on severity only.PFT will also do clinical examination of asthma as well as PFT (Pulmonary Function Test).If the PFT is not showing any improvement then I would suggest you to see a Pulmonologist and PFT (Pulmonary Function Test).PFT will not only diagnose asthma but it will also tell you about severity of the disease and treatment is based on severity only.Hope this information will help you.If you have additional questions or follow up queries, you can use this platform.Wish you the best of the health.Regards.\n",
            "Only if hospitalized. COVID-19 infection is worldwide, in all but some isolated areas. The goal is to keep people separated so that the clinics and hospitals are not overwhelmed. Patients can be presumed positive regardless of whether they got tested or not, as there's no way to test everyone. No good outpatient treatment found yet. Trials of various meds are done for hospitalized patients. (Mar. 2020)\n",
            "\n",
            "\n"
          ]
        },
        {
          "output_type": "stream",
          "name": "stderr",
          "text": [
            "Setting `pad_token_id` to `eos_token_id`:50256 for open-end generation.\n"
          ]
        },
        {
          "output_type": "stream",
          "name": "stdout",
          "text": [
            "How to treat walking pneumonia?My fiancé has been coughing uncontrollably every night for the past 4 months. He is 23 years old, 5'9\", about 140 lbs., and has been told by his dr that he has walking pneumonia. He has been prescribed antibiotics, cough syrup, allergy medicine, mucinex, nasal sprays, and inhalers and although they suppress the coughing at times he still does not seem to have gotten rid of the coughing. His coughing is accompanied with phlegm and has also caused him to throw up due to the extremity. He does smoke cigars as well. What is this!? \n",
            "Hello,Welcome to HCM,The coughing technique can be attributed to a viral upper respiratory tract infection.Management involves:1. A course of antibiotics to eradicate the causative organism.2. Asthalin+ Seroflo inhaler- provide symptomatic relief by causing broncho-dilation (dilating the smaller airway passages, relieving the obstruction & increasing airflow to lungs). So, it can be used during an acute attack.3. Montelukast preparations- used as a maintenance therapy to relieve symptoms of pneumonia.4. Antihistamine & antihistamine can also be used to provide symptomatic relief.5. Steam inhalation & deep breathing exercises.6. Maintain adequate hydration & a healthy balance diet.7. Also make sure that your husband is well protected from cold, dust or other allergens.If symptoms still persist, kindly consult a Pulmonologist for proper clinical evaluation.Wishing a good health.Take care.\n",
            "Hello dear...The symptoms as mentioned in your post suggest that you might be having Allergic bronchitis.Management includes:1. Steam inhalation for providing soothing effect & reduce the irritation in the respiratory tract.2. Antihistamine preparations like Allegra can be taken for symptomatic relief.3. Montelukast, which is used as a maintenance therapy to relieve symptoms of seasonal allergies & asthma.4. Maintain adequate hydration & take a healthy balance diet.5. Also make sure that you are well protected from cold, dust & other allergens.You can ask me any further query on this website using the below link: http://www.healthcaremagic.com/doctors/dr-polash-sannigrahi/64925Wishing a good health.Take care.\n",
            "\n",
            "\n"
          ]
        },
        {
          "output_type": "stream",
          "name": "stderr",
          "text": [
            "Setting `pad_token_id` to `eos_token_id`:50256 for open-end generation.\n"
          ]
        },
        {
          "output_type": "stream",
          "name": "stdout",
          "text": [
            "Should I really be worried about my elderly parents catching COVID-19? What steps should they take to stay healthy?Should I really be worried about my elderly parents catching COVID-19? What steps should they take to stay healthy? \n",
            "Maybe not’t, but they are more concerned about COVID-19. In my opinion, stay healthy, just like everyone else.\n",
            "Hello and Welcome to ‘Ask A Doctor’ service.I have reviewed your query and here is my advice. * The pneumonia management depends upon the symptoms which are not narrated here precisely.* The Methadone is known to cause long terms side effects over liver, kidney and other body systems, which should be discussed with the   treating physician. Awaiting for the symptomatic details to guide further. Hope I have answered your query. Let me know if I can assist you further.\n",
            "\n",
            "\n"
          ]
        },
        {
          "output_type": "stream",
          "name": "stderr",
          "text": [
            "Setting `pad_token_id` to `eos_token_id`:50256 for open-end generation.\n"
          ]
        },
        {
          "output_type": "stream",
          "name": "stdout",
          "text": [
            "Is it use Lysol disinfectant inspite of having asthma?I have Asthma and receive 2 allergy shorts every four week. In September I was hospitalized for a upper respiratory infection and an inpatient for 5 days. I work in a hospital and have a co worker who sprays Lysol every morning very heavy. I ask her to stop this and also told my supervisor. She did not use the spray for 2 or 3 days, but came back to work this week and is using Lysol stray again. What should I do? \n",
            "Hello! Asthma is hyper responsive to allergens. So it is best to prevent it. Don't use Lysol so much. If you have recurrent infection, use a sanitizer or a dry cough with soap and water frequently. Keep using plenty of zinc lozenges and plenty of potassium. Hope I have answered your query. Let me know if I can assist you further.Regards,Dr. Parth Goswami\n",
            "HelloWelcome to HCM,Your history and symptoms are suggestive of upper respiratory tract infection. As you are a frequent traveller that has made you more vulnerable for the infection. I would suggest you to follow1. Take adequate rest.2. Drink lot of hot water to replenish the body watet loss.3. Tab Montek LC, once daily for atleast 15 days.4. A course of antibiotics like Tab Bactoclav 625 mg, twice daily for 5 days.5. Multi vitamins to boost up the immunity. The aforementioned measures will helpto reduce the symptoms and improve your condition. Thank you.\n",
            "\n",
            "\n"
          ]
        },
        {
          "output_type": "stream",
          "name": "stderr",
          "text": [
            "Setting `pad_token_id` to `eos_token_id`:50256 for open-end generation.\n"
          ]
        },
        {
          "output_type": "stream",
          "name": "stdout",
          "text": [
            "Are viruses and bacterias live creatures?Are viruses and bacterias live creatures? \n",
            "In brief:    If not   I have no idea.  But most of all the virus and bacterias are more than a little bit ill with a small amount of immunity to.   Would you like to video or text chat with me?\n",
            "Hello dearWarm welcome to Healthcaremagic.comI have gone through your query thoroughly.*  X-ray result indicates infection of the lung with some sort of bacteria     giving  rise to pneumonia.*  Pneumonia  recovery  takes  time  depending upon the virulence of the    organisms, host immune  response and other co morbid conditions.*  If  your  symptom score has declined  from  the  initiation of the therapy    wait  for  further  progress, if  the  intensity  of  the symptoms  is  as    it  is  then  have  to  consider  the change  of  therapy  or  consultant.Hope this clears your doubt.Thanks.Regards.\n",
            "\n",
            "\n"
          ]
        },
        {
          "output_type": "stream",
          "name": "stderr",
          "text": [
            "Setting `pad_token_id` to `eos_token_id`:50256 for open-end generation.\n"
          ]
        },
        {
          "output_type": "stream",
          "name": "stdout",
          "text": [
            "What else besides a mask can I wear to protect myself from catching corona from others?What else besides a mask can I wear to protect myself from catching corona from others? \n",
            "Hard to say. Stay safe. Stay safe. Stay safe. Stay safe. Stay safe. Stay safe. Stay safe. Stay safe. Stay safe.\n",
            "Hi welcome to HCMI have gone thru  your query.I can understand your concern for your daughter.It would have helped prescribing a remedy if age,length of  suferring, lifstyle were given? and situation and stage of her  problem?Besides constipation. Any way, as whooping cough, is a very contagious bacterial infection of the respiratory tract.  and  she  already  took antibiotics for whooping cough Supplements, herbs, and homeopathy may help her further,  to get better faster when used along with conventional medications.  \"magnitude of the survival advantage from improved nutrition can even be greater than the magnitude of the treatment effects being targeted in current clinical drug trials.\"In fact,I am of the opinion that getting adequate amounts of vitamins specially D & C, minerals and other nutrients through lifestyle changes, such as a healthy natural diet  including more of fiber,green leafy veges,citrus fruit,minerals,vitamins  and lot of water  Antioxidants like ginger,garlic,lemon jiuice with warm water,,Turmeric powder with a cup of hot milk gives resistance from diseases.  Eating small meals every couple of hours to keep up energy and replenish nutrientsdrinking plenty of clear waterAvoid milk, butter, margarine, vegetable shortening, cheese, red meat, and sugar,chicken skin, all phlegm producuing ingeredients.  avoid lying flat, which can aggravate whooping cough spasms, and avoiding chills and drafts,, Mental worry,anxiety,anger induce hopelessness, should be avoided at any cost. So should be avoided constipation.1. Gargles with salty luke warm water (body Temprature ),and 2. Kunjal - Drink4-5 glasses of salty luke warm water,empty stomach, hold for a minute - shake your tummy -vomit and force vomit.3. Neti -- salty luke warm water applied to both nasal cavities  and cleaned turn by turn, lighten the burden of phlegm  giving healthy feeling. helps melting your  phlegm   from  bronchial tubes  Give her Homeopathic  remedy according to her symptpms.Aconite  -- when individuals with a hoarse, dry, cough who complain of dry mouth, thirst, restlessness, worsened symptoms from cold air or lying on the side, and being awakened from the cough.Drosera -- is appropriate for individuals who tend to be hoarse, become worse when lying down, and perspire during the night.Bryonia -- for painful cough with a marked tendency to hold their chest or hold something to the chest when coughing. Helps for constipation also.If constipation persists Anima can be given with,salty luke warm water.Can give her  grated ginger or juice of ginger  in honey  with a pinch of black pepper is very soothing. Above regimen and Proper exercise from head to toe,brisk Walk, yoga, pranayam  deep breathing  & proper rest , sufficient sleep can boost immunity, and strengthening our system,paving way for perfectly healthy,disease free, blissful life ahead.The condition is Regularity Always talk with your doctor if you are using alternative therapies in addition to medication. Hope this helps you in solving your query  Take care.All the best Don't hesitate to get back  for further query.\n",
            "\n",
            "\n"
          ]
        },
        {
          "output_type": "stream",
          "name": "stderr",
          "text": [
            "Setting `pad_token_id` to `eos_token_id`:50256 for open-end generation.\n"
          ]
        },
        {
          "output_type": "stream",
          "name": "stdout",
          "text": [
            "I am unaware of being in contact with anyone showing Covid-19 symptoms. I've only been to the shops yesterday. I've been stressing about the whole pandemic and will seldom go to sleep after 11 each night. Could it be lack of sleep or anxiety at play?I am unaware of being in contact with anyone showing Covid-19 symptoms. I've only been to the shops yesterday. I've been stressing about the whole pandemic and will seldom go to sleep after 11 each night. Could it be lack of sleep or anxiety at play? \n",
            "In brief:       Covid-19  I don't think so.             I just admire your patience with your concern and hope that we have solved your query.   Seek consultation if available.  Would you like to video or text chat with me?\n",
            "Hello.Thank you for asking at HCM.I went through your history & investigations and would like to make suggestions to you as follows:1. Cough/breathing problem with weather change usually indicates allergic cause.2. I would like to know more details about you like - do you have nose symptoms like running nose, nasal congestion, sneezing? do you ever had wheezing? What is the frequency of your episodes? Are you able to carry out your routine activities?3. In reply to your query - \"Do I have asthma?\" - I would like to say that you can possibly have asthma. I would suggest you spirometry with post-bronchodilator reversibility test to confirm the diagnosis of your respiratory disease.4. Were I treating you, I would suggest you to take montelukast regularly as well as salbutamol/levosalbutamol inhaler on as-when-needed-basis for when you experience breathing difficulty.5. I would suggest you allergy testing which will help you identify the substances you may be allergic to. It will also help you to know how to avoid the substances exposure.6. In general, I would suggest you to avoid exposure to dusts, smokes and air pollution as much as possible.7. Regular breathing exercises and a healthy diet rich in vitamins & minerals (adequate amounts of green leafy vegetables, fruits, sprouts) will help you in longer run by improving lung capacity and immunity respectively.Hope above measures will be helpful to you.Should you have any further query, please feel free to ask at HCM.Wish you the best of the health.Thank you & Regards.\n",
            "\n",
            "\n"
          ]
        },
        {
          "output_type": "stream",
          "name": "stderr",
          "text": [
            "Setting `pad_token_id` to `eos_token_id`:50256 for open-end generation.\n"
          ]
        },
        {
          "output_type": "stream",
          "name": "stdout",
          "text": [
            "Why do I keep coughing after I have quit smoking?I am 39 years and quit smoking 7 years ago. I never coughed, coughed anything up, etc after quitting.  I have always had chronic sinus issues and been on lots of antibiotics and take mucus relief fairly often.  I get shortness of breath out of nowhere.  I have inhalers, and albuterol for nebulizer, prednisone, etc to help, but it takes a while to get back to breathing normal.  I excercise regularly and occasionally get bad headaches from shortness of breath.  Been to doctors and they just tell me my lungs are clear and give me an antibiotic and/or an inhaler. \n",
            "Hello,Welcome to HCM,As the above information you have provided suggests that you have a sinus problem.As you are having difficulty breathing while exerting yourselves, you should go for routine blood investigation and clinical examination. You should also complete routine blood analysis if you develop respiratory problems like asthma, bronchitis, pneumonia, hypertension, hypertension, chronic cough etc.You must go for a complete physical check up and chest X- ray chest with X-ray chest X-ray chest to rule out any pathology, including pathology of lungs or enlarged lung tissue, liver or liver enzymes.You may also undergo routine blood investigation of your lung and lung to rule out any pathology along with your current physical examination if possible.This will identify the underlying pathology of the lung and will advise you accordingly.Wish you the best of the health.\n",
            "In brief:   Tesing   Follow the following guidelines: https://www.  healthtap.com/blog/covid-19-care-guidelines/self-quarantine-guide Call your local provider or Health department. At 36 you would be considered low risk for serious infection.  The test in itself does not lead to a specific action and the tests are numbered. So at this time the tests are limited and being used for sicker patients.   Would you like to video or text chat with me?\n",
            "\n",
            "\n"
          ]
        },
        {
          "output_type": "stream",
          "name": "stderr",
          "text": [
            "Setting `pad_token_id` to `eos_token_id`:50256 for open-end generation.\n"
          ]
        },
        {
          "output_type": "stream",
          "name": "stdout",
          "text": [
            "Child having sickness, wheezing a lot, given asthalin syrup. Can he be asthmatic?hi dr santosh my name is elizabeth and i have a child who is 3years+ and she is having some seroius sickness which i am not sure about my child is sick right now and is wheezing alot and i took her to the doctor and was given Asthalin syrup i want to know if my child have asthma \n",
            "HelloThank for asking at HCM.In our clinic, a child with asthma is typically a sign of having broncho-constriction (breathing issue). This presents as fever and wheezing (shortness of breath). It can be due to many reasons,1. Correlation of the respiratory tract with infection in respiratory tract.2. Due to this illness, the child's respiratory tract itself may be compromised by poor immune system, recurrent allergies or urinary tract infection.3. The infection can be managed through allergy testing.4. Antihistamines like Cetrizine can help.5. Depletion is recommended in case of allergic recurrent allergic activity.The most common drugs for asthma attack are inhaled bronchodilators, which are usually not used unless they are very serious.Sometimes asthma, I also use albuterol or amoxyllin but the child can be allergic to any substance.So if he doesn't get relief then the child's asthma should be treated appropriately by his doctor.Hope this helps you.Should you have any further query, please feel free to ask at HCM.Wish you all the best of the health ahead.Regards.\n",
            "Hi, you should not be this much depressed as this disease can be managed in such a way that your boy can live a prouctive life although you need to take more precaution then others. avoid cold and dust exposure, try to prevent any respiratory tract infection and if this happen then get it managed by a physician as early you can, avoid home dust exposure also.consult a chest specialist for proper use of all the anti allergic drug available and mantain a regular follow up for dose adjustment of these drugs which is needed regularly according to the status of the patient to prevent any side effect of these medicines.few  years of symptom free life can revert back hyperresponsive lung pathology to normal healthy lung, you can also get a list of all allergen to which your boy is hypersensitive by complete pannel allergen test.thanks for consulting HCM, take care.\n",
            "\n",
            "\n"
          ]
        },
        {
          "output_type": "stream",
          "name": "stderr",
          "text": [
            "Setting `pad_token_id` to `eos_token_id`:50256 for open-end generation.\n"
          ]
        },
        {
          "output_type": "stream",
          "name": "stdout",
          "text": [
            "If I have fever and coughing (even blood) and I havent been outside of the country, do I have corona virus?If I have fever and coughing (even blood) and I havent been outside of the country, do I have corona virus? \n",
            "In brief:  Viral Influenza.   Hi! At least you can admit that you have it. Most people with COVID-19 get mild fever after doing very mild respiratory exams (usually at least once a day) with minimal deviation from fever. Symptoms vary from mild to severe, and vary from mild to severe.   Would you like to video or text chat with me?\n",
            "In brief:   Self isolate   The current DOH guidelines are to self isolate.   If you develop fever, cough or shortness of breath, phone your local GP/ service provider and arrange for testing. If you have traveled overseas or have been in possible contact with someone with confirmed COVID 19, arrange testing. (wear a mask when going out if needed). For more info try whatapp the word \"Hi\" to the coivd hotline 0600123456  Would you like to video or text chat with me?\n",
            "\n",
            "\n"
          ]
        },
        {
          "output_type": "stream",
          "name": "stderr",
          "text": [
            "Setting `pad_token_id` to `eos_token_id`:50256 for open-end generation.\n"
          ]
        },
        {
          "output_type": "stream",
          "name": "stdout",
          "text": [
            "Is coughing and chest heaviness related to bronchitis or pneumonia?I have been sick with a sinus infection and tonsillitis over the last week and a half. i am on antibiotics for these. Now I feel it in my chest. I am coughing non stop. My throat doesnt hurt much just from the coughing. My chest feels heavy and I have some issues with breathing. Could this be bronchitis or pneumonia? \n",
            "Hello and Welcome to ‘Ask A Doctor’ service.I have reviewed your query and here is my advice.Bronchitis is caused due to infection in the respiratory tract and is mainly due to inflammation in the respiratory tract and causes bronchitis.It can be due to narrowing of the airway passages and you should be under regular care.Bronchitis is typically caused by irritation of respiratory passages, but a few times it can also be due to some systemic factors such as allergies, irritants, or medications.You can consult pulmonologist for proper clinical examination and treatment.You should consider bronchoscopy, ultrasonography (exercortometer).Stinging of airway passages will help you identify the causative organism by culture.You should consult pulmonologist for proper clinical evaluation and management.So better to consult pulmonologist and get done clinical treatment.Wishing you good health.\n",
            "hi,    I have gone through your query & do understand your concern. Pregnancy hormones/ increasing size of abdomen & less hemoglobin make adverse conditions for breathing problem.. so asthama tends to increase in pregnancy. But asthma treatments are safe  & so management of asthma in pregnancy becomes easy.   Feeling of weight on chest along with low blood pressure out of exhaustion & breathlessness demands an immediate medical check up & investigations by a chest physician, get your asthma status evaluated & start with treatment advised instantly.  -  A healthy life style/ avoiding asthma triggers/ avoiding allergens/ avoiding physical & psychological stress along with medicines would prove beneficial. - Regular practice of respiratory exercises ( Pranayama) would help improvement.   thanks.\n",
            "\n",
            "\n"
          ]
        },
        {
          "output_type": "stream",
          "name": "stderr",
          "text": [
            "Setting `pad_token_id` to `eos_token_id`:50256 for open-end generation.\n"
          ]
        },
        {
          "output_type": "stream",
          "name": "stdout",
          "text": [
            "Where can I test on for free on a essential smart plan for COVID-19?Where can I test on for free on a essential smart plan for COVID-19? \n",
            "Hard to say. Not enough details to say. Try out to social distancing. Social distancing is not helpful at present.\n",
            "In brief:   No   If you know you have seasonal allergy treat that.   Get as much medicine as you might need for a month regarding this. If you do not fit criteria (google) then no testing for now. Stay home and stay safe.  Would you like to video or text chat with me?\n",
            "\n",
            "\n"
          ]
        },
        {
          "output_type": "stream",
          "name": "stderr",
          "text": [
            "Setting `pad_token_id` to `eos_token_id`:50256 for open-end generation.\n"
          ]
        },
        {
          "output_type": "stream",
          "name": "stdout",
          "text": [
            "What treatment is suggested for borderline disorder patient?hi,im a borderline diorder patient.often having suicidal thought.and i have attempted twice.my doctor prescribed cipralex 10 mg and roche'05.due to more stress.at a time i took 7 roche'05 tablets.now im feeling cold and dizzy.loss of appetite and weak.do i need to consult a doctor? \n",
            "Hello dear,I understand your concern. From your symptoms it seems you are having borderline disorder. You need to consult an ENT specialist for complete blood count and therefore to determine the diagnosis. As your treating doctor would recommend a total blood count, which is a very important step.The cause of your diabetes is very much depend on the diabetes patient. You need to exclude all non diabetes patients, whether they have underlying medical conditions, or if they are diagnosed with diabetics, and what is the reason for taking any particular medication. In my opinion you should get done clinical examination of your treating doctor and take complete blood counts. Diabetes is a chronic disease with many complications.Your blood counts might be low, but the risk of cardiac failure is very high. I would advise you to complete blood counts, which are important in such cases. Hope this helps.\n",
            "COVID-19 symptoms. Nausea, vomiting, and/or diarrhea occur fairly frequently early in the infection, but are rarely if ever the only symptoms. If cough and fever don't develop within a day or two after vomiting or diarrhea, probably it isn't COVID-19.\n",
            "\n",
            "\n"
          ]
        },
        {
          "output_type": "stream",
          "name": "stderr",
          "text": [
            "Setting `pad_token_id` to `eos_token_id`:50256 for open-end generation.\n"
          ]
        },
        {
          "output_type": "stream",
          "name": "stdout",
          "text": [
            "Can pneumonia affect lung function?Good day,My son, who is 4 yrs old, has been diagnosed with lobar pneumonia and is now hospitalised.  This is about his 6th or 7th infection.  He had a double aortic arch that led to the entrance of his right lung and his trachea and esophagus being squeezed. He is now diagnosed with asthma.  Can the pneumonia deplete his lung function over time? What, if anything, can I do to reduce the number of infections? \n",
            "Hello, thanks for using healthcare magicThe pneumonia deplete of lung function is due to acute exacerbation of asthma.Management involves:1. A course of antibiotics based on culture & sensitivity reports.2. Asthalin & Seroflo inhaler- provide symptomatic relief by causing broncho-dilation (dilating the smaller airway passages, relieving the obstruction & increasing airflow to lungs). So, it is better to take symptomatic treatment for pneumonia.3. Montelukast preparations- used as a maintenance therapy to relieve symptoms of broncho-dilation (dilating the smaller airway passages, relieving the obstruction & increasing airflow to lungs)4. Antihistamines like Cetrizine can also be used to provide symptomatic relief.5. Steam inhalation & deep breathing exercises.6. Also make sure that he is well protected from cold, dust & other allergens.If symptoms still persist, kindly consult a Pulmonologist for proper clinical evaluation.Wishing him a good health.Take care.\n",
            "Hello,In my opinion, you should definitely consult a pulmonologist. There are two main possibilities for your symptoms. 1. Lung infection (pneumonia).2. Worsening of asthma.So you will need a chest x-ray and PFT (Pulmonary Function Test). A chest x-ray is needed to rule out lung infection. PFT is needed to know the severity of asthma. You may need antibiotics, longer acting inhaled bronchodilators (formoterol or salmeterol) and inhaled corticosteroid (ICS) (budesonide or fluticasone).Don't worry you will be alright with all these.Hope I have answered your query. Let me know if I can assist you further.Regards, Dr. Kaushal Bhavsar\n",
            "\n",
            "\n"
          ]
        },
        {
          "output_type": "stream",
          "name": "stderr",
          "text": [
            "Setting `pad_token_id` to `eos_token_id`:50256 for open-end generation.\n"
          ]
        },
        {
          "output_type": "stream",
          "name": "stdout",
          "text": [
            "I was in contact with someone that tested positive for Covid. My last contact was the 16th  The 18th he started to feel bad, informed me and I isolated from the rest of my family Today is the 25th and none of us have symptoms. Should I stay isolated?I was in contact with someone that tested positive for Covid. My last contact was the 16th  The 18th he started to feel bad, informed me and I isolated from the rest of my family Today is the 25th and none of us have symptoms. Should I stay isolated? \n",
            "In brief:  Self isolate      Self isolate   You don't necessarily need to isolate yourself but more isolate yourself.   Would you like to video or text chat with me?\n",
            "Hi dear,Blood pressure normally rises in condition described by you and for that you need not to take anti hypertensive medication.In severe tension and stress also blood pressure goes up due to anxiety produced by tension and stress.In above condition you need not to take anti hypertensive medication rather you have to treat underlying problem.for stress and tension you can consult psychiatrist and take medication to reduce your stress and tension.Not to worry much.Thank you\n",
            "\n",
            "\n"
          ]
        },
        {
          "output_type": "stream",
          "name": "stderr",
          "text": [
            "Setting `pad_token_id` to `eos_token_id`:50256 for open-end generation.\n"
          ]
        },
        {
          "output_type": "stream",
          "name": "stdout",
          "text": [
            "If you are tested positive for Covid-19, and your fever keeps going up daily (100 to 101 to 102 to 103), what should you do if all other symptoms remain the same?If you are tested positive for Covid-19, and your fever keeps going up daily (100 to 101 to 102 to 103), what should you do if all other symptoms remain the same? \n",
            "Per RSA NICD guidelines, the test should be ordered to have your fever controlled through \"fever testing (not recommended by your doctor), not your temperature. You should stay home as much as possible during the coronavirus outbreak.\n",
            "Hi..Thanks for the query..The lump you are seeing may be an enlarged lymph node which is commonly present in any infections..You might be having an upper respiratory tract infection..You can consult general physician who can advise for antibiotics and anti allergics like ceterizine..Take warm water for drinking and do salt water gargling for relief..Hope this information is helpful.. Take care...\n",
            "\n",
            "\n"
          ]
        },
        {
          "output_type": "stream",
          "name": "stderr",
          "text": [
            "Setting `pad_token_id` to `eos_token_id`:50256 for open-end generation.\n"
          ]
        },
        {
          "output_type": "stream",
          "name": "stdout",
          "text": [
            "Associated with phlegm and mucus?Associated with phlegm and mucus? \n",
            "In brief:   Mucus and cough, commonly seen in dry cough and fever.  Call Dr on video can make you really feel the difference.   For the last 20 years you've been getting these symptoms while having some type of headache. I doubt you could even describe what you mean by the cough and you might have some kind of respiratory tract infection as well. Call your pulmonologist and get done sputum culture and sensitivity report.  Would you like to video or text chat with me?\n",
            "Hi Pat, injuries to sternum take long time to heal due to constant respiratory movement of ribs and sternum. you may take any of the above said drug or gel and stop worrying about it. you do not need x ray. Be patient and you will be free from pain in no earlier than 2-3 months. hope this helped.\n",
            "\n",
            "\n"
          ]
        },
        {
          "output_type": "stream",
          "name": "stderr",
          "text": [
            "Setting `pad_token_id` to `eos_token_id`:50256 for open-end generation.\n"
          ]
        },
        {
          "output_type": "stream",
          "name": "stdout",
          "text": [
            "I’ve entered my symptoms into the system & the return I got was that I have either the flu, Covid 19, or a cold. Should I seek physical medical advice?I’ve entered my symptoms into the system & the return I got was that I have either the flu, Covid 19, or a cold. Should I seek physical medical advice? \n",
            "In brief:   Covid testing   If you live in an area where COVID testing is conducted, stay home. If you have access to testing, self isolate. If you meet criteria to test (like self isolate or quarantine), do the test, but stay in your own home, if you have access, self isolate, drink fluids, do drugs. If you have access testing, stay home, cover your face and mouth.\n",
            "Hello,Decdan contains dexamethasone as ingredient. It is given after 32 weeks of gestational age for better fetal lung maturity. It reduces respiratory distress problem during delivery or after that. It is quite safe.You have nothing to worry. Proceed follow up check up as per schedule after consultation with obstetrician.All the best.\n",
            "\n",
            "\n"
          ]
        },
        {
          "output_type": "stream",
          "name": "stderr",
          "text": [
            "Setting `pad_token_id` to `eos_token_id`:50256 for open-end generation.\n"
          ]
        },
        {
          "output_type": "stream",
          "name": "stdout",
          "text": [
            "We went to bali via singapore, on my second day in bali (17 March) I started feeling a bit sick?We went to bali via singapore, on my second day in bali (17 March) I started feeling a bit sick? \n",
            "In brief:    In brief:     Throat pain, fever, cough, dry cough, dry cough, sore throat, cold sore throat.     A simple test:   Throat pain.  Would you like to video or text chat with me?\n",
            "Hello, According to the history you prescribed he needs a chest CT to evaluate better the situation. Hope I have answered your query. Let me know if I can assist you further. Regards,Dr. Jnikolla, Pulmonologist\n",
            "\n",
            "\n"
          ]
        },
        {
          "output_type": "stream",
          "name": "stderr",
          "text": [
            "Setting `pad_token_id` to `eos_token_id`:50256 for open-end generation.\n"
          ]
        },
        {
          "output_type": "stream",
          "name": "stdout",
          "text": [
            "Can the Advair inhaler be used while there is cough and burning in lungs?I used a nebulizer mixed with albutarol and ipatropium last night, I woke up with my lungs burning and I have been coughing all day.  My Dr gave me advair discus and albuturol rescue inhaler to use. My question is should I use the advair while my lungs still burn and am coughing? \n",
            "HALV-19? As a respiratory condition, the inhaler may help as well as relieves the coughing. But I would suggest to get the bronchoscopy. These are two very useful medicines for lung problem. The inhaler can help but the problem is more due to the burning of the airway and making the lungs inhaled less susceptible to infections. Hope I have answered your query. Let me know if I can assist you further.Regards,Dr. Bhagyesh V. Patel\n",
            "It will be better if he takes it for 10 days. In order to prevent from nausea and headache you cam give him combination of antacid with antiemetic i.e drugs like PANTOP D OR NUPENTA DSR OR GEMPRAZ DSR ONCE A DAY for the rest of the treatment period.\n",
            "\n",
            "\n"
          ]
        },
        {
          "output_type": "stream",
          "name": "stderr",
          "text": [
            "Setting `pad_token_id` to `eos_token_id`:50256 for open-end generation.\n"
          ]
        },
        {
          "output_type": "stream",
          "name": "stdout",
          "text": [
            "What causes chest pain and pain in sternum area?My 6 year old son has had 3 episodes of chest pains in the last 6 months. They occur suddenly and last about 10-15 seconds. The pains are located to the right of his sternum and seem to be painful enough to bring tears to his eyes. He recently had a doctor visit with his pediatrician; she advised she could not hear any issue with his heart or lungs. Could this be gas pains? How should I proceed? \n",
            "Hello dear,There is pain in your upper abdomen and also in the lower back of the chest.Your son should take proper physical examination to rule out any obstructive process.The chest pain and fever is not due to asthma.So the diagnosis will be based on severity only.Regards.\n",
            "Hello,Welcome to HCM,You are having allergy to grass, as you are doing mowing the small part of grass will reach the respiratory tract by droplet nuclei.As you are exposed to this frequent irritation with the allergen will stimulate the mast cells to release histamine, this will leads to symptoms of allergy.The symptoms are suggesting of allergy to grass.Thank you.\n",
            "\n",
            "\n"
          ]
        },
        {
          "output_type": "stream",
          "name": "stderr",
          "text": [
            "Setting `pad_token_id` to `eos_token_id`:50256 for open-end generation.\n"
          ]
        },
        {
          "output_type": "stream",
          "name": "stdout",
          "text": [
            "What is the severe and throughout the body and bleeding in mouth?Hi, my sister got severe allergy all over her body. Its looks like big patches through out the body and she has the allergy in her mouth too. She is not able to swallow anything and her mouth is bleeding. She is not able to talk since last 3 days. This never happened to her before. She is 38yrs old and this is the first time we are seeing this. What could be the reason? everyone in the house ate the same items that she has eating the day she got that allergy. \n",
            "Hi.Thanks for your question on Healthcare Magic. I can understand your concern. Oral and blood tests can help you to figure out what to do to stop the infection in your sister. You may need a special course of antibiotics, decongestants and antipyretics. If you need more help please do not hesitate to ask here.\n",
            "HiAny pain in the chest or radiating,it's better to evaluate,can be due to cardiac or respiratory tract problem or bony pain.Kindly go for an ECG, echo and chest x-ray  and consult your doctor.Avoid spicy foods,take plenty of water and oral fluids.Antacids like gelusil will help.All the best.\n",
            "\n",
            "\n"
          ]
        },
        {
          "output_type": "stream",
          "name": "stderr",
          "text": [
            "Setting `pad_token_id` to `eos_token_id`:50256 for open-end generation.\n"
          ]
        },
        {
          "output_type": "stream",
          "name": "stdout",
          "text": [
            "Suggest remedy for severe abdominal pain and shortness of breathMy son inlaw is having this happening.... He started with a hoarseness, shortness of breath, now extended stomach and stomach pain. His bowels have been effected as well. However, his blood pressure is a 139 over 82 and he has been watching his diet for several weeks but has not loss. \n",
            "Hi,Welcome to HCM,As your son has been suffering from many respiratory complaints in past I would like to recommend him to consult a pediatrician for his Pulmonary Function Test(PFT).He should undergo a course of antibiotics (quinolones or macrolides group preferred), followed by spirometry.He should be asked to undergo routine blood count and chest X- ray(PFT).If he has a fever he should undergo inhaled corticosteroid (budesonide or fluticasone) and X- ray (corticosteroid) to rule out any systemic illness.Hope I have answered your query. Let me know if I can assist you further.Regards,Dr. M. Patel, General Surgeon\n",
            "In brief:   Hard to answer   If not ill assume you have it and behave as if you do, wear a bandanna over nose and mouth and if you have access to testing then do it.   If not stay home and boost immunity.  Would you like to video or text chat with me?\n",
            "\n",
            "\n"
          ]
        },
        {
          "output_type": "stream",
          "name": "stderr",
          "text": [
            "Setting `pad_token_id` to `eos_token_id`:50256 for open-end generation.\n"
          ]
        },
        {
          "output_type": "stream",
          "name": "stdout",
          "text": [
            "Is it necessary to take steroids for mycoplasmic pneumonia?Dear Dr.Mahashur, i have been diagonised with 'MYCOPLASMIC PNEUMONIA' by a Dr in Singapore,(mycoplasmic pneumonia antibody fbc=  >1:1280) and am now on a 20-days course of 'avelox' ( moxifloxacin 400 mg) and have also been advised to take steroids for 10 days. I have already gone through a course of antibiotics to treat pneumonia (CLAVICEF)and TB has been eliminated by carrying out a bronchoscopy and lab analysis for TB. I am apprehensive about taking steroids, so pls advise if it is necessary to take steroids? thanks. \n",
            "Thanks for your query.In my opinion, no need to take steroids. Steroids can cause chest pain by itself. Taking systemic steroids can also provide symptomatic relief. The use of steroid along with antibiotics is the only way to treat chest pain in a severe case. However, there is a shortage in the USA and India at present. I would recommend you to follow up with your doctor. In this case I would think of a case it would be wise to take steroids. The steroids would also be the safest for your health. Steroids would be beneficial and effective in preventing the onset of symptoms. Hope I have answered your query. Let me know if I can assist you further.Regards,Dr. Mahashur\n",
            "Hi,I had gone through your query and understand your concern.For query 1:Asthma is a chronic airway disease which has no permanent cure but if you take modern medicine (allopathy) as advised by respiratory medicine specialist,the chance of having good asthma control is greater than any other of treatment methods.Query 2: This is not wise to comment over herbal medications since I am a physician of modern medicine. But I can assure you that modern medicine is the most scientific method of treatment in which sometime raw materials are also processed from herbs.Query 3: No, you will not require to take alternative medications if you follow physician's advise properly.Query 4: If cold is a trigger of your asthma, then you better think once more before shifting to cold region.For asthma management, we follow step care management according to patient’s disease status.So my suggestion is: Please consult with a respiratory medicine specialist to confirm the diagnosis (by clinical features, physical examinations, objective test etc) and get treated accordingly.Hope this answers your query. Wish you good health.\n",
            "\n",
            "\n"
          ]
        },
        {
          "output_type": "stream",
          "name": "stderr",
          "text": [
            "Setting `pad_token_id` to `eos_token_id`:50256 for open-end generation.\n"
          ]
        },
        {
          "output_type": "stream",
          "name": "stdout",
          "text": [
            "The symptoms of COVID sound like my asthma symptoms when it flares up. So how would I know the difference?The symptoms of COVID sound like my asthma symptoms when it flares up. So how would I know the difference? \n",
            "No it's not. If there is no respiratory problem and the virus is not in your system, the symptoms still persist. If you develop symptoms, it will be hard to diagnose it by a simple test.  Would you like to video or text chat with me?\n",
            "Hello,Welcome to HCM,As your husband as inhaled bleach in bathroom,it is a respiratory irritant. It releases Chlorine gas at the cell level. Chlorine gas is a direct cell toxin. It will cause coughing can cause chest pain and can cause fluid accumulation in the lungs. In very high concentration they can cause damage to the lung, but even then the lining of the lungs heals rapidly so there shouldn't be any long-term problems.The best at home action is getting fresh air. Try to ventilate your indoor living space as much as possible.If the symptoms are not improving after 24 hours of good ventilation, you need to take your husband to the doctor.Based on the Symptoms he will be treated as appropriate.Thank you.\n",
            "\n",
            "\n"
          ]
        },
        {
          "output_type": "stream",
          "name": "stderr",
          "text": [
            "Setting `pad_token_id` to `eos_token_id`:50256 for open-end generation.\n"
          ]
        },
        {
          "output_type": "stream",
          "name": "stdout",
          "text": [
            "How do I know if I have corona virus?How do I know if I have corona virus? \n",
            "Corona virus. No need to worry, self isolate. Follow the following steps: https://www.consumerreports.com/covid-19 info/coronavirus-guidelines/self-quarantine.htmlIn future if your treating physician does not see the corona virus/covid-19 symptoms he should:> contact your doctor/respiratory/telemedicine provider/snek/list/to-coronavirus-guide.> Follow this: https://www.consumerreports.com/covid-19 info/self-quarantine.html3/coronavirus-guidelines/coronavirus-guidelines.4/coronavirus-guidelines/self-quarantine.5/\n",
            "In brief:   Most likely not c   Most likely sinusitis or seasonal allergy.   Try to access a telelphonic or virtual consult to discuss thoroughly with someone. For now stay home stay safe. Treat yourself and all in your family as if they have covid for now =it's safer.  Would you like to video or text chat with me?\n",
            "\n",
            "\n"
          ]
        },
        {
          "output_type": "stream",
          "name": "stderr",
          "text": [
            "Setting `pad_token_id` to `eos_token_id`:50256 for open-end generation.\n"
          ]
        },
        {
          "output_type": "stream",
          "name": "stdout",
          "text": [
            "Hi, I have come into contact with someone that tested positive for the virus, what do I need to do? I have been isolating for a week now and developed a sore throat yesterdayHi, I have come into contact with someone that tested positive for the virus, what do I need to do? I have been isolating for a week now and developed a sore throat yesterday \n",
            "Protection, get your flu test done, you don't need to isolate yet. For now do not isolate. Stay home and do not interact with others.\n",
            "In brief:   Washing clothes.   Although so far it has not been shown to live on surfaces like clothes for as long as it lives on surfaces like plastic and metal, it is definitely good hygienic practice to wash your clothes in the hottest water the garment allows.  Would you like to video or text chat with me?\n",
            "\n",
            "\n"
          ]
        },
        {
          "output_type": "stream",
          "name": "stderr",
          "text": [
            "Setting `pad_token_id` to `eos_token_id`:50256 for open-end generation.\n"
          ]
        },
        {
          "output_type": "stream",
          "name": "stdout",
          "text": [
            "Why is my son coughing inspite of taking Montair-LC, Theo Asthalin?My son of 8YRS 6 MONTHS having asthmatic problem allergic to change in season, dust and cold is contineously coughing now almost 10 hrs. He is taking Montair-LC, Theo Asthaline, Nebulize using duolin, Puff- Budecot, Asthaline. He is having asthma problem when he was 3 years..... Is their any permanent solution to this.. \n",
            "Hi.I had gone through your query and understand your concern.In my opinion as per my guideline and opinion doctors should be taking Montair-Co-Budecort for asthma control and preventative measures.Ok and revert to inhaler.Regards.\n",
            "Isolation.. The virus is spread by respiratory route,  it can live on surfaces for up,to 72 hours. SO:Social isolation (keep 6 feet from others)Wear disposable,gloves when coming in contact with surfaces outside your home for several weeksStay healthy, eat right, get exercise, proper sleepDiscuss your fears with others to get a realistic view of this illness and it’s risks.Don’t panic..\n",
            "\n",
            "\n"
          ]
        },
        {
          "output_type": "stream",
          "name": "stderr",
          "text": [
            "Setting `pad_token_id` to `eos_token_id`:50256 for open-end generation.\n"
          ]
        },
        {
          "output_type": "stream",
          "name": "stdout",
          "text": [
            "Can coronavirus symptoms be mild for some people versus severe? For example, could it just involve being very fatigued, low grade fever for a few days and not the extreme symptoms? Or is it always a full blown cold and struggle to breathe?Can coronavirus symptoms be mild for some people versus severe? For example, could it just involve being very fatigued, low grade fever for a few days and not the extreme symptoms? Or is it always a full blown cold and struggle to breathe? \n",
            "In brief:      No.    You can't call coronavirus if your symptoms are severe    (although most people call it a mild virus infection with mild clinical attention).  Would you like to video or text chat with me?\n",
            "Hi,Welcome to health care magic,You might have sinusitis with upper respiratory tract infection with congestion which actually causes this sneezing, headache or throat irritation.You can do some routine blood tests with sputum examination and X- ray to have confirmed diagnosis. You can take alka-seltzer plus which is a good multi drug combination for common cold and runny nose.You should also be given oral antibiotics (quinolones or macrolides) in full course for about 5 days with antiinflammatory and nebulizers with steam inhalation to get rid off complete infection from throat or sinus.Consult ENT specialist for treatment.\n",
            "\n",
            "\n"
          ]
        },
        {
          "output_type": "stream",
          "name": "stderr",
          "text": [
            "Setting `pad_token_id` to `eos_token_id`:50256 for open-end generation.\n"
          ]
        },
        {
          "output_type": "stream",
          "name": "stdout",
          "text": [
            "What causes persistent pneumonia?How much will this cost? I have had pneumonia 8 time last year. Not 1 specialist could find the bacteria causing this. By December of that year I almost passed away. I had just been dismissed by a hospital and sent home, and 1 hour layer I could barely breathe. I was filling up with fluid and foamy blood was coming out. The paramedics saved me and took me to another hospital The drs. found a serious heart condition, still waiting for open heart surgery. I fill up to my bronchials with fluid every few weeks, it bubbles up and I can hear gurgling. I have no lung problems, such as copd, or emphasyma. What can I do. \n",
            "Hi,You have respiratory tract infection, bronchial problem, allergic rhinitis, chronic bronchitis, pneumonia, and asthma.You need to be diagnosed by a chest X-ray chest.Don't worry, you will be alright with all these.Hope I have solved your query. I will be happy to help you further. Wish you good health.\n",
            "Hello,welcome to HCM,Inhalation of bleach will irritates the respiratory tract and it will make you uncomfortable for breathing.If you have inhaled bleach fumes, you can notice as soon as the fumes enters your nostrils. First  thing to do is you have to come out that room to the well ventilated place and try to exile all the fumes which as reached your lungs. It wil take some time to exile all the fumes you have inhaled.Most of the time it does not require any treatment and you will be fine in one or two days. If your symptoms are persisting even after two days you may require a course of antibiotics and oxygen.Thank you.\n",
            "\n",
            "\n"
          ]
        },
        {
          "output_type": "stream",
          "name": "stderr",
          "text": [
            "Setting `pad_token_id` to `eos_token_id`:50256 for open-end generation.\n"
          ]
        },
        {
          "output_type": "stream",
          "name": "stdout",
          "text": [
            "I have a dry cough and sore throat. Should I be scared of contacting of Covid 19?I have a dry cough and sore throat. Should I be scared of contacting of Covid 19? \n",
            "In brief:  You do not need to contact with an infected person. If you are not in direct contact with a corona virus then a very small number of people will get the virus.   This pandemic may spread to others through non contact.  Would you like to video or text chat with me?\n",
            "You respiratory system expelling air along with it also our mineral due to that compensatory mechanism your body lose much water.\n",
            "\n",
            "\n"
          ]
        },
        {
          "output_type": "stream",
          "name": "stderr",
          "text": [
            "Setting `pad_token_id` to `eos_token_id`:50256 for open-end generation.\n"
          ]
        },
        {
          "output_type": "stream",
          "name": "stdout",
          "text": [
            "I've been sick for the last two weeks with severe sinus pain, hot flashes and a very tight chest along with coughing up some mucus. I've been treated with antibiotics however it doesn't feel like it has worked. Is it possible that this can be Covid-1?I've been sick for the last two weeks with severe sinus pain, hot flashes and a very tight chest along with coughing up some mucus. I've been treated with antibiotics however it doesn't feel like it has worked. Is it possible that this can be Covid-1? \n",
            "In brief:    No.     We don't know if it's a covid-1.  If you actually need testing done (with other tests) and it's been thoroughly considerable, you have to go for covid-19. You can't just start treatment with another test without testing!  Would you like to video or text chat with me?\n",
            "Hello, Thnx to contact us. I understand your concern. If I am your doctor I advice you that there is possibility of flu in your case. Kindly take the paracetamol for fever and body ache, cetrizine for sore throat and congestion, do respiratory exercise. Take precautionary measures as to involve other family members of the community.I will be happy to answer more of your concerns, kindly know me,Wish you a very good health at health care magic. Dr. Arun Tank. Infectious Disease.\n",
            "\n",
            "\n"
          ]
        },
        {
          "output_type": "stream",
          "name": "stderr",
          "text": [
            "Setting `pad_token_id` to `eos_token_id`:50256 for open-end generation.\n"
          ]
        },
        {
          "output_type": "stream",
          "name": "stdout",
          "text": [
            "Suggest treatment for an intense cough caused due to pneumoniaI started a cough in 2009 that was diagnosed as severe bronchitis and then a couple years I had pneumonia twice and now I ve got combination of bronchitis and pneumonia bad cough. I just had a second CT scan one was August 22nd and the other one was October 23rd and I ve never been told a diagnosis before but I happened to see it on my chart What: Hospital Outpatient Visit with LKS CT 1 When: Monday October 23, 2017 7:30 AM (30 minutes) Where: Lakeside Hospital Cat Scan (Lakeside)Diagnosis: Interstitial lung disease.I am going November 27th to discuss this diagnosis I hope I was just told I don t have COPD and then I get this lung disease which I ve never heard of and it doesn t have a very good survival rate I m 63 female. \n",
            "Hello dear,The pneumonia is not treated by antibiotics but there are some medications to prevent pneumonia and hence be treated by antibiotics according to the protocols and their safety.If the pneumonia is not treated promptly then the treatment will be worse.Hope this information helps you in discussing with your family physician about the recovery.RegardsJay Indravadan Patel\n",
            "Probably not. much more important is what her exposure is to anyone who has COVID19 or traveler from a highly infected area.fever >100.4F and respiratory symptoms are more common with COVID 19 than vomiting.\n",
            "\n",
            "\n"
          ]
        },
        {
          "output_type": "stream",
          "name": "stderr",
          "text": [
            "Setting `pad_token_id` to `eos_token_id`:50256 for open-end generation.\n"
          ]
        },
        {
          "output_type": "stream",
          "name": "stdout",
          "text": [
            "I am experiencing nasal congestion, sneezing (unaffected by: recent exposure to allergens, exposure to secondhand smoke), sore throat, itchy eyes, ear pressure, nasal drainage, post nasal drip, eye irritation, runny nose, and watery eyes. I am not experieI am experiencing nasal congestion, sneezing (unaffected by: recent exposure to allergens, exposure to secondhand smoke), sore throat, itchy eyes, ear pressure, nasal drainage, post nasal drip, eye irritation, runny nose, and watery eyes. I am not experie \n",
            "In brief:       Usually mild, but sometimes it is more severe.      The most common type of    is a cold or influenza or other common cold that presents itself  Usually, COVID-19, COVID-19 infections tend to have nasal congestion ( secondary to the nasal discharge).  Usually, the incidence of nasal congestion is lower in people that have been exposed.     You may need a prescription.  It would help to reduce the incidence of nasal congestion. Call your MD and discuss the steps to obtain proper information regarding these things. This helps to determine what to do. This may require some investigations like an ENT consultation, a complete blood count, and clinical examination with proper antibiotics. Please consult with your ENT specialist.\n",
            "Hard to guess. COVID-19 pandemic at this time, so a doctor on video may consult by video instead of requiring an in-person visit. Flu-like symptoms can be from a strep throat infection, a cold or influenza, or from some other cause like COVID-19. Usually, a person calls the doctor if the symptoms are bothersome, serious, recurrent, or persistent. COVID-19 testing depends on local availability. (3/22/20)\n",
            "\n",
            "\n"
          ]
        },
        {
          "output_type": "stream",
          "name": "stderr",
          "text": [
            "Setting `pad_token_id` to `eos_token_id`:50256 for open-end generation.\n"
          ]
        },
        {
          "output_type": "stream",
          "name": "stdout",
          "text": [
            "Should a CT scan be done while suffering from pneumonia?My 62 year old sister is currently hospitalized for pneumonia that was dx after foot surgery related to a fall. She had Breast CA 8 years ago. Currently taking Tamoxifin. BRCA II gene. 3 sisters also with gene mutation and hx of breast CA. Youngest sister passed away from recurrance of Breast CA. (Mets to lungs, liver and bones.) Hospital ruled out blood clot in lung. Dx with pneumonia. Should CT scan be done since she has has a long standing cough and multiple bouts of pneumonia. \n",
            "Hello.The chest CT scan has indicated that the disease is identified by pulmonary function tests. Unfortunately, the diagnosis is not yet confirmed. The only way to confirm is hemoglobin levels ( hemoglobin or serum expression of the cells in the lungs) and blood clots. The current guidelines are:1. A CT scan is needed to rule out other pathology.2. A hemoglobin deficiency is needed to rule out lung cancer.So better to consult a physician before doing complete blood count.3. The current blood tests for her lung cancer patients should also be done.4. A CT scan should be done if necessary.She is a healthy weight loss.5. If no improvement was achieved, she should be assessed as a lung specialist or neurologist should be given oral antibiotics. In your case, an ophthalmologist should be involved in her work, and should be asked questions.6. How much blood she should be kept safely protected.7. A CT Scan of her liver enzymes and liver is done.So, if symptoms worsen, can be asked in lung cancer patients, the patients should be assessed appropriately.Hope this answers your query.Should you have any further questions, please feel free to ask in case of any further doubts on this forum.Wish her the best of the health.Take care.\n",
            "Hello, I can understand your concern.In my opinion, you should get done a chest x-ray and CBC (complete blood count). If both these are normal then no need to worry much. I hope this helps.\n",
            "\n",
            "\n"
          ]
        },
        {
          "output_type": "stream",
          "name": "stderr",
          "text": [
            "Setting `pad_token_id` to `eos_token_id`:50256 for open-end generation.\n"
          ]
        },
        {
          "output_type": "stream",
          "name": "stdout",
          "text": [
            "I try to control my blood sugars as best I can, but it’s so difficult at times. I’m so scared that because of this, I will die or be seriously ill if I get the virus. I am simply terrified. Please help.I try to control my blood sugars as best I can, but it’s so difficult at times. I’m so scared that because of this, I will die or be seriously ill if I get the virus. I am simply terrified. Please help. \n",
            "In brief:   High blood sugars are high in people with chronic diseases and they need to be monitored closely.      Don't worry, you won't die at all from COVID-19. Stay at home, rest and drink fluids.  Would you like to video or text chat with me?\n",
            "In brief:   May do video consult   COVID-19 pandemic at this time, so one's doctor may want to consult by video instead of requiring an in-person visit.   Some medications are refillable by video, others are not. In this pandemic, one's primary care doctor, who knows the patient well, can usually get meds to the patient without an in-person visit... unless an exam is needed in order to adjust the meds. Just ask the doctor.  Would you like to video or text chat with me?\n",
            "\n",
            "\n"
          ]
        },
        {
          "output_type": "stream",
          "name": "stderr",
          "text": [
            "Setting `pad_token_id` to `eos_token_id`:50256 for open-end generation.\n"
          ]
        },
        {
          "output_type": "stream",
          "name": "stdout",
          "text": [
            "I was on a plane on March 8th have been home ever since self quarantine myself I have had headaches and runny throat I have 2 days left of my self quarantine should I be having worse symptoms by now?I was on a plane on March 8th have been home ever since self quarantine myself I have had headaches and runny throat I have 2 days left of my self quarantine should I be having worse symptoms by now? \n",
            "In brief:                              I don't think so.                                                                                                                                                                                                                                                                                                                                                                                                                                                                                                                                                                                                                                                                                                                                                                                                                                                                                                         \n",
            "Hello.Thank you for asking at HCM.There are many factors contributing to development of respiratory allergy in a child. Heredity, environment (pollution, humidity, temperature, etc),  dietary habits, etc contribute to it.I guess your son has allergic rhinitis with childhood asthma.I would suggest you to consult an Allergist-Immunologist, who may suggest allergy testing after detailed history from you. Allergy testing will help to know type of asthma (allergic or non-allergic) and if it is allergic, identification of allergen causing the problems to your son. If indicated, he may suggest specific allergen immunotherapy to your son which works on immune system to treat the allergy.Regarding age of cure, it depends on type of asthma. Most childhood asthma improve by 6-7 years of age, but if a child is highly allergic, herediary and environmental factors are there, he may continue to have asthma later.I am surprised to know that your son is only 4 years old and he is able to use rotacaps. Generally older children only can use rotacaps appropriately. If technique of using rotacaps is not correct, the drug does not go into lungs in right amounts. So I would suggest you to show the technique of using rotacaps to any pediatrician/physician and if it is not correct, you may use Metered Dose Inhalers with Spacers for budecort. Personally I believe Inhaler with Spacer is best equipment for a 4 years child.Hope this will help you and solve your queries.Wish your son the best of the health.Regards.\n",
            "\n",
            "\n"
          ]
        },
        {
          "output_type": "stream",
          "name": "stderr",
          "text": [
            "Setting `pad_token_id` to `eos_token_id`:50256 for open-end generation.\n"
          ]
        },
        {
          "output_type": "stream",
          "name": "stdout",
          "text": [
            "What causes chest pain and cramps after treating pneumonia?I was recently released from hospital, I had pneumonia. After 1 week, I have finished the oral antibiotics. 2 days later, the sweats have returned (no temperature) and I am feeling generally unwell. I saw my doctor y day and I had another x-ray. My doctor rang to say there is no change but didn t recommend I do anything different. I have continued my physiotherapy to bring up whatever is in my lungs. The cramping I am now experiencing is excruciatingly painful. I just don t know what to do next. I live in a remote area and accessing a doctor or hospital is difficult. Please help. \n",
            "Hello,Welcome to HCM,Respiratory pain is due to pneumonia.If you have been exposed to pneumonia or pneumonia you should undergo routine blood count, CT scans, X-ray and pulmonologist.Consult pulmonologist for proper clinical evaluation.If the pneumonia is identified and evaluated you should follow proper treatment.If the diagnosis is confirmed you will be assessed for appropriate treatment.The chest pain was due to bronchospasm.The diagnosis itself is based on severity only.So better to consult pulmonologist who will then guide you further management.Thank you.\n",
            "Thank you for the query.I would like to know your age and whether you suffer from any associated comorbidities like Diabetes mellitus, Hypertension or Thyroid dysfunction.As per the history provided, you are suffering from dry cough, bodyache, swollen glands, coryza and occasionally high grade fever (body overheating may imply that), for a period of 2 days. Your symptoms are more in favour of a viral infection. In a sunstroke you will get other symptoms like nausea, vomiting, severe cramps, dry skin, dizziness and severe headache. I would advise you to take bed rest for a few days and drink plenty of water and fluids (avoid alcohol). If your body gets overheated you can go for cold or tepid sponging. A nutritious diet is advisable, and if you are a smoker, you must abstain from smoking (this irritates your respiratory tract and aggravate your cough). If you have nasal congestion and throat irritation, steam inhalation may help. In case of severe bodyache, acetaminophen may be taken (after consulting your physician). Please monitor your urine output.If you develop any of the symptoms mentioned above or your symptoms do not subside in another couple of days, please consult your physician, since you may need a thorough physical check up and a course of antibiotics may be needed.Hope this helps you out.\n",
            "\n",
            "\n"
          ]
        },
        {
          "output_type": "stream",
          "name": "stderr",
          "text": [
            "Setting `pad_token_id` to `eos_token_id`:50256 for open-end generation.\n"
          ]
        },
        {
          "output_type": "stream",
          "name": "stdout",
          "text": [
            "What causes severe hair loss while recovering from pneumonia?Hi, my name is Becky and I exasberated back in Sept with heavy pneumonia in my right lung...... the last few months I have experienced tremendous hair loss and breakage--it is so thin I only have about 1/3 of my hair left but no bald spots. I also have a big lump (or bulge) about 1 inch above the base of my hairline on the back of my head. It goes all across the back of my skull. Any advice? I thought you were here to help....... but hell no....... everybody wants my money....... which I don t have. Thanks alot \n",
            "HI,Welcome to Healthcaremagic.comI had gone through your query and understand your concern.I will make you an advice.In my opinion I would think of hair loss, but you should not worry.In such condition I would advise you to consult another Physician and get done chest x-ray of your upper respiratory system which will tell you about severity of your illness.I would suggest you to get done PFT (Pulmonary Function Test). If there is a PFT, I would advise to complete the complete ENT scan and then an ECG (Transverse Inflammatory System). If I were the treating physician, I would perform the objective test, followed by objective test to confirm the diagnosis and PFT would also advise you that you are well protected from exposure to cold, dust and other allergens.Hope this answers your query. Let me know if I can assist you further.Regards,Dr. Jnikolla\n",
            "Upper Resp Inf. Dear Pretoria patient.You did not mention your daughter's age. It sounds like a viral upper airway infection( anti histamines, paracetamol, Ponstan will suffice for a day)If she gets worse, she can be checked by a doctor.If she was not in contact with a positive patient, no need for testing.Stay home,  lots of fluids, rest, meds and observe.Monitor her temp as well.RegardsDr Wil.\n",
            "\n",
            "\n"
          ]
        },
        {
          "output_type": "stream",
          "name": "stderr",
          "text": [
            "Setting `pad_token_id` to `eos_token_id`:50256 for open-end generation.\n"
          ]
        },
        {
          "output_type": "stream",
          "name": "stdout",
          "text": [
            "Having difficulty in taking deep breath. Taking pseudophedrine. Taking synthroid for hypothyroidism. Are these related?I have been having breathing problems for a few years now. I have no wheeze at all, but I have trouble getting a deep breath. I have tried a variety of asthma medicines and none work at all for me. The only medicine that does work for me is pseudoephedrine. I do not want to a make a habit of taking it though, as I find it hard on the nervous system. As an aside, I am treated for hypothyroidism and take 137 mcg of synthroid daily. I was wondering if this breathing issue could result from insufficient thyroid hormones. I have a feeling the effect pseudoephedrine has on my breathing is a result of its effect on my nervous system rather than its effect as a decongestant. Could it be that pseudoephedrine stimulates my thyroid and hence my respiratory rate is increased? It s been a long, hard battle with this and I would appreciate insightful feedback. After dealing with this for years, I am happy to know something works. Now I just need to know why it works so I can get on a safer medication. \n",
            "Thank you for asking at HCM.As per your symptoms, your previous history you seem to have an allergic reaction of asthma or pneumonis. I would suggest you take paracetamol for 5-7 days.Hope this information helps you.If I were able to assist you further, I would be glad to help you further.Regards,Dr. Parth Goswami\n",
            "Hello,Thank you for asking at HCM.I went through your history and would like to know more about you like: a. Do you have wheezing/breathing difficulties? b. Do you have any nose problems? c. What is the cause of sleep apnea? d. What is the cause of obesity? e. Do you smoke? f. Any allergies? g. Any other medical conditions/medications use?Above details would help me to understand your complaints better and therefore to make suggestions more specifically. However, at present, from your given history, I would suggest you as follows:1. As you already have chest/thorax scan as well as bronchoscopy which have not revealed any reason, I would think of possibility of asthma or upper respiratory cause like rhinitis, pharyngitis, sinusitis, etc. As you have sleep apnea, also it favors more of upper respiratory cause. However, detailed history is required before coming to a conclusion as well as to suggest tests.2. Once cause of your cough is found, appropriate medications can be suggested.3. In general, please avoid exposure to dusts, smokes and air pollution as much as possible.4. Regular warm saline gargles and steam inhalation can also help in a long run.5. Weight reduction would help increase your lung capacity as well as reduce sleep apnea. Hence, would improve both upper respiratory as well as lung symptoms. Please seek a professional advice for exercise and diet.Hope above suggestions will be helpful to you.Should you have any further query, please feel free to ask at HCM.Wish you the best of the health ahead.Thank you & Regards.\n",
            "\n",
            "\n"
          ]
        },
        {
          "output_type": "stream",
          "name": "stderr",
          "text": [
            "Setting `pad_token_id` to `eos_token_id`:50256 for open-end generation.\n"
          ]
        },
        {
          "output_type": "stream",
          "name": "stdout",
          "text": [
            "I'm told that dirrhea is a symptom of Covid 19. I have had it for 36 hours, no appetite. Do I need to be tested and where? I'm in Alberton.I'm told that dirrhea is a symptom of Covid 19. I have had it for 36 hours, no appetite. Do I need to be tested and where? I'm in Alberton. \n",
            "Slim.  In brief:  No worries.   Would you like to video or text chat with me?\n",
            "Hello.Thank you for asking at HCM.I would like to give suggestions for the 1. male 31 years with allergies as follows:1. I would suggest him tocontinue montelukast and levocetirizine.2. I would also suggest him to use salbutamol inhaler on as-and-when-needed basis for wheezing/respiratory difficulty symptoms.3. I would suggest him regular breathing exercises and steam inhalation.4. I would also suggest him allergy testing which will help him identify the allergies and also to know the measures to avoid them.Hope above suggestions will be helpful to him.For no 2 & 3 patients, please ask to appropriate forums.Thank you & Regards.\n",
            "\n",
            "\n"
          ]
        },
        {
          "output_type": "stream",
          "name": "stderr",
          "text": [
            "Setting `pad_token_id` to `eos_token_id`:50256 for open-end generation.\n"
          ]
        },
        {
          "output_type": "stream",
          "name": "stdout",
          "text": [
            "How do I book a virtual consultation with my doctor for Covid-19?How do I book a virtual consultation with my doctor for Covid-19? \n",
            "In brief:   Hi         I hope this helps.   Stay safe.   We are here for you.\n",
            "Delay/virtual. Virtual get togethers should be considered. Keep a distance of at least 6 feet between persons who are not in your household..\n",
            "\n",
            "\n"
          ]
        },
        {
          "output_type": "stream",
          "name": "stderr",
          "text": [
            "Setting `pad_token_id` to `eos_token_id`:50256 for open-end generation.\n"
          ]
        },
        {
          "output_type": "stream",
          "name": "stdout",
          "text": [
            "What causes shortness of breath, blue lips and incontinence?Hi my mother has parkinson disease/ dementia and heart failure she has recently been complaining of a spongy feeling under foot. Also she has had at least four occasions in which she struggles to breath turns blue around the lips becomes very weak and wets herself. I have reported this to our local GP and her mental health team all of whom seem puzzled she is due to see her neurologist next month but today she has said she is getting a very cold feeling down her body and a feeling of fluid trickling in her head \n",
            "Hi, hiThis looks like some kind of disability to me as I am very suspicious of what causes this kind of thing to happen to me.   Can you please advise what causes such symptoms? Hello.Welcome to HCM,In my opinion, it is due to some kind of psychological illness like upper respiratory infection, secondary to an allergic respiratory tract infection.The most common problem is the heart failure and it is due to systemic systemic infection of the respiratory tract.Management involves:1. A course of antibiotics to eradicate the causative organism.2. Asthalin & Seroflo inhaler- provide symptomatic relief by causing broncho-dilation (dilating the smaller airway passages, relieving the obstruction & increasing airflow to lungs). So, it is better to use inhalational bronchodilators (budesonide or fluticasone) when you have the symptoms.So, it can be used during an acute attack.So, use inhalational bronchodilators (budesonide or salmeterol) when you need to use a large quantity of antihistamine like salmeterol to eradicate the causative organism. So, you can avoid triggers of the diseases.So, the best option is to treat the symptoms by a physician (or doctor) who will examine the patients with clear guidance.Hope this helps you.If you have additional questions or follow up questions,please feel free to ask.Wish you good health.\n",
            "Hi,it can be due to sinusitis, flu,sore throat or just common cold,may be upper respiratory infectionBut what I have seen in my clinical practice is that only symptomatic treatment doesnt  help,antibiotics works excellently despite if its viral infectionSo go to your ENT specialist and get prescribed according\n",
            "\n",
            "\n"
          ]
        },
        {
          "output_type": "stream",
          "name": "stderr",
          "text": [
            "Setting `pad_token_id` to `eos_token_id`:50256 for open-end generation.\n"
          ]
        },
        {
          "output_type": "stream",
          "name": "stdout",
          "text": [
            "If you have wolf Parkinson white syndrome does this make you more of a risk with Covid 19?If you have wolf Parkinson white syndrome does this make you more of a risk with Covid 19? \n",
            "In brief:  Maybe.  No. If you have such a high risk it does not show any symptoms.    Covid testing is not required unless your symptoms are very severe.     Good luck.  Thank you.\n",
            "In brief:   Test   Please stay at home, rest, drink fluids and monitor your temperature.   Arrange for testing locally.You may need respiratory treatments, and additional testing for influenza and Strep A. Please contact your PCP for additional or worsening symptoms.   Would you like to video or text chat with me?\n",
            "\n",
            "\n"
          ]
        },
        {
          "output_type": "stream",
          "name": "stderr",
          "text": [
            "Setting `pad_token_id` to `eos_token_id`:50256 for open-end generation.\n"
          ]
        },
        {
          "output_type": "stream",
          "name": "stdout",
          "text": [
            "Can Pulmicort nebuliser help in temporarily treating allergic reaction?my son is 5 years old (weight 47 lbs) and had a allergic reation with hives and welts at 5 am this morning and we gave him bendryaland it subsided the problem, it re- occured in 7hours later in different spots. he recently ahd to take a duration of treatment each day for the past 3 motnhst with his nebulizer with the \"Pulmocort\" steroid, since he had a bad bout with allegies and asthma., per his allegist doctors orders. If i gave him his nebulizer with the steroid( pulmocort will that help his problem? ( he does take singular chewable every morning as a treatment also. Does the steroid have to be taken orally to work??....for it to do any good for a allegic reation to make it really subside?? he is going to his regular doctor first thing in the morning. We actually took him to the medi center early this morning and they said just do bendral. It did go away for 7 hours and now is re-occuring.. i am also taking him to the allegist on thursday to see if it isa food allegy. pls advise thank you \n",
            "HIThank for your query to HCM. I went through your son's history and would like to make him a decision to avoid meat and dairy products. Personally i would suggest you two full course of montelukast preparations like lukewarm milk, black pepper, garlic, chamomile and dried basil and dried ginger for one week as advised by your doctor. However, i doubt that would help in the long runny nose as his allergy to your son's respiratory conditions. Please do not worry about it. you will be alright. Hope I have answered your query. Let me know if I can assist you further. Regards,Dr. Griefcuthel Bhavsar\n",
            "Hello,She requires ICU care as per the symptomatic details. Stephens is right place for her; you will get pulmonologist there to take care of the issue.She has to be shifted with ICU on wheels along with ventilator support. Cost there has to be inquired.Hope I have answered your query. Let me know if I can assist you further.Regards,Dr. Bhagyesh V. Patel\n",
            "\n",
            "\n"
          ]
        },
        {
          "output_type": "stream",
          "name": "stderr",
          "text": [
            "Setting `pad_token_id` to `eos_token_id`:50256 for open-end generation.\n"
          ]
        },
        {
          "output_type": "stream",
          "name": "stdout",
          "text": [
            "I have SLE and am currently on 5 day course of dexamethasone 8 mg daily. I still have to work during coronavirus outbreak.   How concerned of risk am I?  I work in close quarters. Desks are a couple of feet apart. I am not able to work from home.I have SLE and am currently on 5 day course of dexamethasone 8 mg daily. I still have to work during coronavirus outbreak.   How concerned of risk am I?  I work in close quarters. Desks are a couple of feet apart. I am not able to work from home. \n",
            "In brief:      Not as a precaution  .      You can take another course at home from your GP.     Follow his advice & do not go outside.   Would you like to video or text chat with me?\n",
            "Hello,Go for vaccinations given below:- flu vaccine- staphylococcal vaccine - improve immunity Do exercise daily and take citrus food. Rule out diabetes.Hope I have answered your query. Let me know if I can assist you further.Regards,Dr. Chandra Shekhar\n",
            "\n",
            "\n"
          ]
        },
        {
          "output_type": "stream",
          "name": "stderr",
          "text": [
            "Setting `pad_token_id` to `eos_token_id`:50256 for open-end generation.\n"
          ]
        },
        {
          "output_type": "stream",
          "name": "stdout",
          "text": [
            "Coin shaped scars all over arms, itchy, swollen ears, lump over cartilage. What is it?I have been seeing a dermatologist for a few months now, and she's concluded that I have nummular eczema after 3 biopsies. I have coin shaped scars all over my arms--only my arms, I don't get them anywhere else. And now my ears are extremely itchy and swollen, and even a little lumpy all over the upper cartilage and it's extremely uncomfortable. I have a history of allergies but now I think it's strange my family members who don't have allergies are getting the same coins on their arms like I have. \n",
            "Hi,You must have sinusitis or upper respiratory infection.If you had both previously diagnosed with sinusitis or upper respiratory infection it's unlikely you would have both.A dermatologist can do both if there are no signs.Now, it's important to consider that infections can spread from one source to another.Hope this explains your concern.Wish you good health.Drink plenty of fluids and take care.\n",
            "Hi welcome to HCMDear Asthma is a very common respiratory disease, it affects the trachea and bronchial tubes by becoming inflamed and plugged with mucus. It can be triggered by allergies, air pollution, respiratory infections, emotions, weather conditions, This causes the airways to narrow, restricting the amount of air going to the lungs, and makes it very difficult to breathe.You are on  antibiotics and prednisone and inhaler. It is a matter of concern though, but should not worry, there are way to get rid of this problem.What you need to do is, to detoxify your system by modifying your life style and food habits and increase your immunity.1. Moderate exercise , walk, Yoga, Pranayam - Deep Breathing - slow to  fast, Bhraamarri, Tribandh , Kapaalbhati will strengthen your heart, chest and lungs, in fact whole body.2. Diet plays very important roll in maintaining your over all health. 3. Include all essential nutrients - fiber, vitamins, minerals and supplements full of antioxidants  and Use extra-virgin olive oil as your main fat.Increase intake of omega-3 fatty acids Vitamin B6 and Vitamin B12 are very important nutrients to treat asthma decreasing the inflammation in the lungs.Vitamin C Is needed to fight infection, increase the amount of oxygen and reduce inflammation. Lemon juice  and amla  are the  best source of vit C.Eat organically grown fruits and vegetables as much as possible. Take a level spoon of Turmeric Powder in a hot  goat's milk at bed time. It is contains natural antibiotics.Take crushed ginger, garlic with a little salt, a T spoon, before meals.Avoid protein to 10 percent of daily caloric intake. Replace animal protein as much as possible with plant proteinAvoid milk and milk products, substituting other calcium sources.Avoid processed foods carbs, sugar, fried,fast foods, Tea, coffee,alcohol and smoking, stress, sleeplessness and Constipation all will produce biochemical and metabolic conditions in your body that will decrease your immunity.So avoiding is definitely the first step in the right direction to detoxing the body, boosting the immune system.Always drink plenty of water to detoxify & keep your respiratory tract secretions more fluid.4. Yogic Kunjal - Drink 4-5 glasses or more of warm salty water,retain for few seconds and vomit - force  vomit   the water. Repeat this daily for a week and twice a week thereafter.  Take tea prepared from ginger, basil, black pepper and honey.  Medical treatment suggested by your doctor can be complemented using a variety of alternative therapies. Most of these therapies or home remedies focus on strengthening your immune system so that you can overcome your problem.Regular check ups from your proffesoinal are recommended.Hope this helps solves your query.Take care.All the best.Get well soon.Don't hesitate to come back in case of any further query.\n",
            "\n",
            "\n"
          ]
        },
        {
          "output_type": "stream",
          "name": "stderr",
          "text": [
            "Setting `pad_token_id` to `eos_token_id`:50256 for open-end generation.\n"
          ]
        },
        {
          "output_type": "stream",
          "name": "stdout",
          "text": [
            "What are the effects of breathing oil paint fumes without ventilation?I told these painters I cannot breathe oil based paint fumes. they said the fumes were not bad. my eyes burned, etc. could not breathe, etc, one of the painters had a stroke Thursday. late 60 s age. they said breathing oil paint fumes without ventilation was OK. help! \n",
            "Thanks for your question on Healthcare Magic.I can understand your concern.In our state fumes may cause some respiratory problems.In our state of the US, breathing fumes fumes can sometimes cause bronchitis, whereas these fumes can cause shortness of breath. I would suggest you to wear a mask with masks that provide ventilation.In our state of the USA inhalation of fumes is not an issue because fumes pollens cause shortness of breath.Nowhere in the US is there inhalation of fumes and it has been for at least 20 years.\n",
            "In brief:   Call a doctor    You may need a doctor’s order ASAP if you’ve been exposed and are symptomatic, to get tested, so call to get that order, and when you go to get tested, please try to place a mask on your face to protect others if you can  Would you like to video or text chat with me?\n",
            "\n",
            "\n"
          ]
        },
        {
          "output_type": "stream",
          "name": "stderr",
          "text": [
            "Setting `pad_token_id` to `eos_token_id`:50256 for open-end generation.\n"
          ]
        },
        {
          "output_type": "stream",
          "name": "stdout",
          "text": [
            "Suggest treatment for fever, coughing and bleeding in eyeI had high fever,eye bleeding at night,slimy cought,one stage I couldn't even talk,and the sniffles,and my fever won't disappear even I took two weeks Burana 400mg. But the temperature started go down,the point is,I still have fever,and it wont go away. \n",
            "HI, thanks for using healthcare magicBrief answer :Yes, you are right. As you mentioned fever is not associated with eye bleeding. It has to do with acute allergy or sinus infection. As you mentioned that you were coughing. So you were coughing and bleeding. It was almost down to the point where your eye could hardly open. And it went away when you sneezed. You may have some type of allergic reaction. Any irritation of the respiratory system will go away by itself. It is not hard to get yourself evaluated by a medical doctor. It will be better if you have a clear evaluation. In the mean time cough, fever, fever, and or bleeding may be due to acute allergy. If your eyes are clear, cough is not related to any infection. So if you are just cough then you should consider visiting your doctor to confirm the diagnosis. Hope this helps\n",
            "HI, thanks for using healthcare magicIf your signs and symptoms of infection are improving steadily then you may not need the antibiotics.Most respiratory tract infections are viral and do not require antibiotics.You should still consult your doctor to let her know that your symptoms are resolving and to get her opinion.I hope this helps\n",
            "\n",
            "\n"
          ]
        },
        {
          "output_type": "stream",
          "name": "stderr",
          "text": [
            "Setting `pad_token_id` to `eos_token_id`:50256 for open-end generation.\n"
          ]
        },
        {
          "output_type": "stream",
          "name": "stdout",
          "text": [
            "I have a dry cough and sore throat- it's been a week now and the cough seems to be getting worse- no runny nose or fever, sometimes a headache, no shortness of breath...should I get tested for covid19?I have a dry cough and sore throat- it's been a week now and the cough seems to be getting worse- no runny nose or fever, sometimes a headache, no shortness of breath...should I get tested for covid19? \n",
            "In brief:  No       I have not heard anything bad.    The only thing that would be hard is if you are a candidate for testing but that's unlikely in a covid ridden country.  Would you like to video or text chat with me?\n",
            "Depends on severity. COVID-19 pandemic at this time, so a doctor on video may consult by video instead of requiring an in-person visit. Flu-like symptoms can be from a strep throat infection, a cold or influenza, or from some other cause like COVID-19. Usually, a person calls the doctor if the symptoms are bothersome, serious, recurrent, or persistent. COVID-19 testing depends on local availability.\n",
            "\n",
            "\n"
          ]
        },
        {
          "output_type": "stream",
          "name": "stderr",
          "text": [
            "Setting `pad_token_id` to `eos_token_id`:50256 for open-end generation.\n"
          ]
        },
        {
          "output_type": "stream",
          "name": "stdout",
          "text": [
            "Had still birth, peri-menopausal. Can they cause palpitations?I have had palpations for a while I think it maybe due to stress and the fact that i am going through the the peri -menopausal state at the moment. Although I have been through a trying time at the moment as my daughter gave birth to stillborn banck in April and my other daughter is 30weeks pregnant and understandbly distressed. I am also finding it hard as I work full time, please can you offer any advice as to how to cope. it would be greatly appreciated. Karen Deacon \n",
            "Hello,Welcome to ‘Ask A Doctor’ service. I have reviewed your query and here is my advice.Yes, you will need inhalers and bronchodilators (formoterol or salmeterol) with other supportive treatment like bronchodilators, decongestants and steroids to control asthma.Avoid exposure to these drugs if you have repeated or repeated respiratory/cardiac/ heart/cardiac arrest.Hope I have answered your query. Let me know if I can assist you further.Regards,Dr. Kothari\n",
            "Hello dear,The symptoms as mentioned in your post can be attributed to acute exacerbation of asthma, secondary to a respiratory tract infection.Management involves:1. A course of antibiotics to eradicate the causative organism.2. Asthalin & Seroflo inhaler- provide symptomatic relief by causing broncho-dilation (dilating the smaller airway passages, relieving the obstruction & increasing airflow to lungs)Can be used during an acute attack.3. Montelukast preparations- used as a maintenance therapy to relieve symptoms of asthma.4. Antihistamine & anti tussive preparations for symptomatic relief from cough.5. Maintain adequate hydration & a healthy balance diet.6. Also make sure that you are well protected from cold, dust & other allergens.If symptoms still persist, kindly consult a Pulmonologist for proper clinical evaluation.Wishing a good health.Take care.\n",
            "\n",
            "\n"
          ]
        },
        {
          "output_type": "stream",
          "name": "stderr",
          "text": [
            "Setting `pad_token_id` to `eos_token_id`:50256 for open-end generation.\n"
          ]
        },
        {
          "output_type": "stream",
          "name": "stdout",
          "text": [
            "I need a referral for testing for COVID19. I have been in very close contact with a positive person. I am a Healthcare practitioner, it was one of my patients. I just flew to EL from CT. So no GP here.?I need a referral for testing for COVID19. I have been in very close contact with a positive person. I am a Healthcare practitioner, it was one of my patients. I just flew to EL from CT. So no GP here.? \n",
            "In brief:   It does not need a referral.  If you are at an active contact, do not consult with your GP.  Call 0800 029 999 for test. If you have a history of any kind of COVID-19 infection or other chronic illness, do not consult.  Would you like to video or text chat with me?\n",
            "some medicine you are using is causing allergies as in allergies all the symptomps occur written by youif you can find out which salt is giving you problem in consultation with doctor he can change to better  optionif you cant find start with one tab antiallergic daily as you take other medicines montelucast is safest and 10 mg daily can be taken long without any side effectsyou can add bronchodilater syp and antacid to get more help\n",
            "\n",
            "\n"
          ]
        },
        {
          "output_type": "stream",
          "name": "stderr",
          "text": [
            "Setting `pad_token_id` to `eos_token_id`:50256 for open-end generation.\n"
          ]
        },
        {
          "output_type": "stream",
          "name": "stdout",
          "text": [
            "Allergies, asthma, high blood pressure, sinus infection, leg pain, prescribed Zpack, claritin D. Healing time?I have allergies and asthma.  I also have high blood pressure.  All of these symptoms are being treated and normally fairly control.  I now have a sinus infection and so my pulmonologist prescribed Zpack and Claritin D until the congestion gets better.  I am on the 3rd day of the Zpack.  I have a fever and am now experiencing pretty persisitent leg pain.  My blood pressure is good 109/72 but my pulse is high  - 101.  Is this because of the infection or what else would you suggest. \n",
            "hi sir/madam,Thank you for asking to HCM.As per your history it seems that you have sinus infection mostly due to inflammation of your chest and having low blood pressure you should be examined for chest x ray  chest X-ray is may require a blood pressure cuff with eosinophill pressure. The only thing that needs a clear understanding is by your doctor/treating doctor/treating doctor/treating doctor. If you require a chest x-ray then a chest  is needed to rule out any infection causing respiratory tract infection by this patient. Hope I have solved your query. I will be happy to help you further. Wish you good health. Wish you good health. Thanks.\n",
            "Hello,  Thanks for the query to H.C.M.. Forum. Atacand ( anacand ) is candesartan , side effects are dizziness, nausea, sore throat, stuffy nose, upper respiratory infection. As you stated that you are already on pace maker so in my opinion consult one more cardiologist and get his opinion as physical as well ECHO E K G report is very important in this case. Weight gain is dangerous so consultation is important. Good luck. Dr. HET\n",
            "\n",
            "\n"
          ]
        },
        {
          "output_type": "stream",
          "name": "stderr",
          "text": [
            "Setting `pad_token_id` to `eos_token_id`:50256 for open-end generation.\n"
          ]
        },
        {
          "output_type": "stream",
          "name": "stdout",
          "text": [
            "Having abdominal pain, sneezing, breathing, coughing causes pain, neck pain. Serious problem?Hi i am 26 year old. my abdomen hurting on bottom right side. it hurts when i breathe in and sneeze and when cough.pain is not too much i can bear it. even i am going office with it. but i am afraid that it could be some serious problem. i have no fever, no vomiting, appetite is normal. no difference on stool and urine. but sometime my neck hurts. but it might be because i use much pillows when i watch tv. Please help me if i have any serious problem. \n",
            "Hi,please consult a physician for proper clinical examination and advice.Wishing you fine health.If symptoms is not coming down let your doctor visit you or follow his instruction.Thank you.\n",
            "In brief:   Question   You have not posted a question.  Would you like to video or text chat with me?\n",
            "\n",
            "\n"
          ]
        },
        {
          "output_type": "stream",
          "name": "stderr",
          "text": [
            "Setting `pad_token_id` to `eos_token_id`:50256 for open-end generation.\n"
          ]
        },
        {
          "output_type": "stream",
          "name": "stdout",
          "text": [
            "I have been in frequent close contact with tourists (including people from the USA and Germany), doing gin tastings. I have a cough for the past two weeks, should I get tested for Covid19 as a safety precaution?I have been in frequent close contact with tourists (including people from the USA and Germany), doing gin tastings. I have a cough for the past two weeks, should I get tested for Covid19 as a safety precaution? \n",
            "In brief:   No  Testing     COVID19 is worldwide.  For now, stay home. Follow the following guideline. Stay at home, rest, drink fluids orally, avoid contact with others, monitor your temperature and drink plenty of fluids. https://www.healthtap.com/blog/covid19-care-guidelines/selfcare-guide.\n",
            "In brief:   Yes   I would advise screening due to your exposure.   Fever is very commonly associated with COVID-19. Stay at home, rest, drink fluids and monitor your temperature. Arrange the testing which also  may include a chest image with your PCP.  Since your have been traveling, a pulmonary embolism is another possible cause of your shortness of breath.   Would you like to video or text chat with me?\n",
            "\n",
            "\n"
          ]
        },
        {
          "output_type": "stream",
          "name": "stderr",
          "text": [
            "Setting `pad_token_id` to `eos_token_id`:50256 for open-end generation.\n"
          ]
        },
        {
          "output_type": "stream",
          "name": "stdout",
          "text": [
            "Swollen tonsils, cough, and feeling slightly feverish.Swollen tonsils, cough, and feeling slightly feverish. \n",
            "No fever. Only cough. You might need fluids for this. Do go for a chest x-ray. Don't go for sleep, rest and gargle with saline solution. Wash your hands frequently and avoid touching your face or mouth. Drink plenty of water and avoid touching your nose or mouth.\n",
            "Hello,Welcome to HCM,Your son may be having upper respiratory tract infection or allergy to detergents he using.As he was tested for allergy and positive to some of the allergen, he needs to avoid that, but your is not complete.If he is having sore throat, mucus, fever and cough it will be in favor of upper respiratory tract infection.He requires thorough medical examination in some investigations to rule out the causes of choking he is having.Thank You.\n",
            "\n",
            "\n"
          ]
        },
        {
          "output_type": "stream",
          "name": "stderr",
          "text": [
            "Setting `pad_token_id` to `eos_token_id`:50256 for open-end generation.\n"
          ]
        },
        {
          "output_type": "stream",
          "name": "stdout",
          "text": [
            "What could cause cough while in basement?hello, whenever I am in the basement - I cough during the day, I know I do not have a cold. My throat feels stratchy. My basement is dusty and damp every month. I try to clean the walls with vinegar and baking soda. I used my basement for storage such 100 pairs of shoes and clothes covered with plastic. I also have sealed can of paints. Do you think these cause my cough? \n",
            "Hello! As you explain the details about the collection of clean linens along with the ventilation system you should get respiratory and respiratory symptoms.1. There is one theory of respiratory tract infections that cause cough and allergic reactions.2. The concept is that one is allergic to something, one is allergic to mold, one is allergic to mold, one is allergic to mold, one is allergic to mold etc. So one is allergic to mold, one is allergic to mold. This leads to respiratory problems.3. One is allergic to mold and one is allergic to mold. So one is allergic to mold, one is allergic to mold.4. You should definitely consult a physician for proper step care management.If the diagnosis is not confirmed, then one has been confirmed as a suspect case.5. Antibiotics and oral anti histamines like Cetrizine can also be taken for atopic dermatologist who can also prescribe you antihistamines and they may also prescribe you allergy testing as well.Hope this answers your query. Let me know if I can assist you further.Wish you good health.\n",
            "HI, thanks for using healthcare magicIt is possible that you are coming down with a viral upper respiratory tract infection.This would cause sneezing and fatigue, along with the other respiratory tract symptoms. Treatment would involve rest, fluids and cough/cold medications. These medications would be available over the counter.I hope this helps\n",
            "\n",
            "\n"
          ]
        },
        {
          "output_type": "stream",
          "name": "stderr",
          "text": [
            "Setting `pad_token_id` to `eos_token_id`:50256 for open-end generation.\n"
          ]
        },
        {
          "output_type": "stream",
          "name": "stdout",
          "text": [
            "Can a pneumonia shot raise your white blood cell count?Last tuesday I had a flu shot and a neumonia shot. I am 68 and male. I had a very sore arm and felt bad the next day in which I had blood drawn for a test. The results showed a high white cell blood count as well as high ANC and AMC. Could these high readings be because of the shots the day before? \n",
            "Thanks for your question on Healthcare Magic.I can understand your concern.In my opinion, you should definitely get your blood count measured. If your HR is normal then it's possible that you might be having viral upper respiratory tract infection.This is a sign of an infection that might be present.Hope I have answered your query. Let me know if I can assist you further.Regards,Dr. Bhagyesh V. Patel\n",
            "Covid. Top symptoms for COVID include fever, dry cough and SOB.  Actually sore throat not so common. Follow this guideline:https://www.healthtap.com/blog/covid-19-care-guidelines/preventing-covid-19.\n",
            "\n",
            "\n"
          ]
        },
        {
          "output_type": "stream",
          "name": "stderr",
          "text": [
            "Setting `pad_token_id` to `eos_token_id`:50256 for open-end generation.\n"
          ]
        },
        {
          "output_type": "stream",
          "name": "stdout",
          "text": [
            "My 22 yo son travelled by plane between Baltimore (BWI) & Rhode Island. Realistically, what are the risks of covid 19? He has no symptoms and there have not been any reported cases on his flight. I am quarantining him as best I can at home.My 22 yo son travelled by plane between Baltimore (BWI) & Rhode Island. Realistically, what are the risks of covid 19? He has no symptoms and there have not been any reported cases on his flight. I am quarantining him as best I can at home. \n",
            "Stay home, drink fluids and monitor your temperature. If you have severe symptoms, please call your MD for instructions. You may need testing if your son does not show symptoms. Keep a watch on his temperature.\n",
            "Hello,Welcome to HCM,The history and the symptoms of your daughters sounds that they may be having some bronchial hyper responsive condition, which is leading to all these problems. This hyper responsiveness is may be due to exposure to the triggering factors which may release mediators of allergy and produces the symptoms.As both of your daughters is having these symptoms they should be evaluated completely by subjecting them for all the lab investigations and the proper reason for the symptoms should be found out before suggesting appropriate remedies for your daughters.If they are any infection of the respiratory tract the antibiotics will help to control the infection but if there is any allergic manifestation it should be found out by proper physical examination and lab investigations.Thank you.\n",
            "\n",
            "\n"
          ]
        },
        {
          "output_type": "stream",
          "name": "stderr",
          "text": [
            "Setting `pad_token_id` to `eos_token_id`:50256 for open-end generation.\n"
          ]
        },
        {
          "output_type": "stream",
          "name": "stdout",
          "text": [
            "Was in Cape Town 2020/03/12 - 2020/03/15 Close proximity to sevral overseas tourists 2020/03/20 throat sore and voice gone Back (upper middle area) and shoulders hurt Shivering, dry cough, headache and lethargic Should I go for Covid19 testing?Was in Cape Town 2020/03/12 - 2020/03/15 Close proximity to sevral overseas tourists 2020/03/20 throat sore and voice gone Back (upper middle area) and shoulders hurt Shivering, dry cough, headache and lethargic Should I go for Covid19 testing? \n",
            "In brief:     No  -  Symptoms     COVID 19 test    Would you like to video or text chat with me?\n",
            "In brief:   Concern   Diabetes if controlled well typically should not be an issue.   I realize there are some conflicting information, but I think the evidence shows that if diabetes controled your immune system still reacts appropriately and not an issue. Arrythmia in itself not and issue. Your age is 60 and that starts to be category of concern with 3% mortality rate.  If you do not smoke that is the key.   Would you like to video or text chat with me?\n",
            "\n",
            "\n"
          ]
        },
        {
          "output_type": "stream",
          "name": "stderr",
          "text": [
            "Setting `pad_token_id` to `eos_token_id`:50256 for open-end generation.\n"
          ]
        },
        {
          "output_type": "stream",
          "name": "stdout",
          "text": [
            "Is attention required if sick when after zpak medication?Hello, I am in day three of taking zpak. I have alot of mucus in my nose and lungs. I am constantly coughing, I am weak, and my lungs are starting to burn. The doctor at Urgent Care called it bronchitis, and asked if I had ever had pneumonia. I am taking cpugh syrup and using an inhaler. My question is, after Thursday when I am done with my meds, if I am still this sick, should I go to the hospital, urgent care again, or just be patient? \n",
            "Hi,You have viral upper respiratory tract infection in your case.If there is no fever,then your cough is unlikely to last for more than 4-6 weeks and fever is unlikely to last much longer.Consult your ENT specialist for the continuation of antibiotic. If you are having fever again and coughing then you should be taken immediately.If you have any further problem or repeated infection then the best thing is to take care not to miss the chance.Thank you.\n",
            "HiYes it might be but not completely.To be sure she should consult her doctor for further follow up.Wishes Dr.Jolanda\n",
            "\n",
            "\n"
          ]
        },
        {
          "output_type": "stream",
          "name": "stderr",
          "text": [
            "Setting `pad_token_id` to `eos_token_id`:50256 for open-end generation.\n"
          ]
        },
        {
          "output_type": "stream",
          "name": "stdout",
          "text": [
            "Could the fever,wheezing and lung ache be pneumonia relapse?Hello. About 3-4 weeks ago I was diagnosed with pneumonia. After two weeks I felt well enough to start getting back out, but I continued to cough up mucus. I got in the swimming pool last night and it was an outdoor pool and kind of cool. this morning I woke up with fever, wheezing bad and my back in my lung area hurts so bad. The coughing is getting worse too. Could the pneumonia have came back or never left? What should I do? \n",
            "Hello,Welcome to Healthcaremagic.comI have evaluated your query thoroughly.* *  * Fever with cough indicates a viral infection.*  Fever could be a bacterial infection and could be associated with asthma, asthma, hypertension, hypertension, and other cardiac events. *  Given the time frame    your fever could be because of a non-specific cause like a strep throat infection. You may have strep throat infection with cough or a fever.    This may be due to systemic infection of the respiratory system. In addition to the above, you could have repeated infection of the lung lung tissue as your having cough and cough. You may have had pneumonia or a flu. Call your local emergency department for advice.If you have not had symptoms already, please do not worry.Regards Dr Parth Goswami\n",
            "Maybe. Do video w/\n",
            "\n",
            "\n"
          ]
        },
        {
          "output_type": "stream",
          "name": "stderr",
          "text": [
            "Setting `pad_token_id` to `eos_token_id`:50256 for open-end generation.\n"
          ]
        },
        {
          "output_type": "stream",
          "name": "stdout",
          "text": [
            "If Allegra use is associated with increased risk of viral infections, isn't it dangerous to take it during the coronavirus pandemic?If Allegra use is associated with increased risk of viral infections, isn't it dangerous to take it during the coronavirus pandemic? \n",
            "Yes. Taking it during this pandemic is very dangerous, if you don't have a fever and cough, you are unlikely to catch the virus.   Would you like to video or text chat with me?\n",
            "Hi,It can be due to upper respiratory tract infection like pharyngitis or laryngitis or sinusitis, may be acute bronchitis,pleurisy etcYou can go for routine blood and X- ray chest with sputum ( if still coming) examination, it will be helpful to make clear diagnosis.You should take antibiotics ( quinolones or macrolides group) with analgesics and antiinflammatory, antihistamines in combination with mast cell stabilizers to combat dry cough.Don't worry about stomach ache and fatigue, it will subside with the infection.You need to see pulmonologist for further advise.Thanks.\n",
            "\n",
            "\n"
          ]
        },
        {
          "output_type": "stream",
          "name": "stderr",
          "text": [
            "Setting `pad_token_id` to `eos_token_id`:50256 for open-end generation.\n"
          ]
        },
        {
          "output_type": "stream",
          "name": "stdout",
          "text": [
            "I am getting headache at night. Been battling with a sore throat and post nasal drip. No fever. Cough only slightly at times. I went for laproscope and removal of my fallopian tubes on 2nd March. All this started after that. Must i test for covid 1o?I am getting headache at night. Been battling with a sore throat and post nasal drip. No fever. Cough only slightly at times. I went for laproscope and removal of my fallopian tubes on 2nd March. All this started after that. Must i test for covid 1o? \n",
            "Test. Don't go to ER if you develop fever or severe pain...If you have a dry cough, you should get tested and if you develop fever then self isolate. Test for covid 19 if your symptoms worsen.\n",
            "Dr. Hanif warmly welcomes you with thanks for a consult!   I have carefully worked through your case, and can well realize your health worries. Being your physician, I want to assure, I will take care all of your medical concerns according to the latest medical guidelines.First of all, in the start of the cold season (sep-oct is best time) go for your flu shots. It will save you throughout the season from flu. It is how we start with prophylaxis and save the patient from a disease before a person gets that in reality.Then you need a thorough checkup of the nose and throat. Such issues may be due to nasal septal defect, nasal polyps, sinus infection or any other condition of the nose or throat. Your Otorhinolaryngologist will help you in this regard.If you get acute exacerbation of the flu and allergic asthma that lingers on, you may ask your primary care physician for a prescription for Amoxil, Ibuprofen, Claritin, Montelukast because mostly it is due to the respiratory infection.Avoid direct exposure to extremes of weather, dust, fomites, animal dander and pollens (of grass, flowers and trees) etc.Keep a healthy and balanced diet and a regular physical activity.   Hope I answered all of your questions. Please click on 'I Find This Answer Helpful' and don't forget to add your precious positive feedback to help me able to assist you better in future too.For any disease you have, a timely follow-up regarding the treatment efficacy and to see if there is any need to change the treatment options is very necessary. So keep a follow up to see how you doing. Remember to write down my name in the start of your question next time, & I will be with you right away. I am available 24/7 for providing you expert medical opinion on any health issue. Have a blessed time ahead.Regards!DR. MUHAMMAD HANIFUSAFOR DIRECT QUESTIONS: http://doctor.healthcaremagic.com/Funnel?page=askDoctorDirectly&docId=70199\n",
            "\n",
            "\n",
            "What causes itchiness in nose and nonstop sneezing?my doctor told me that I should see my allergist doctor. MY symptom are as follow:I felt itchy in my nose around 3-4 a.m and started to sneeze non stop.it is so terrible. I don t have enough sleep. I am wondering, why the symptom start around 3 or 4 a.m? what is cost? \n",
            "Hello.Welcome to health care magicHere is a prescription medicine to treat your allergy which can decrease your symptoms.I suggest you:Get treatment for allergy to allergy which has to be treated within 24 hours by your doctor.Thank you.\n",
            "7 days. Stay at home for 7 days without symptoms. Monitor your temperature, rest, drink fluids   If symptoms develop, please notify your physician and test..\n",
            "\n",
            "\n",
            "RougeL - precision: 0.130032771297366, recall: 0.15500090354788573, fmeasure: 0.12076822482663492\n",
            "RougeLsum - precision: 0.15500090354788573, recall: 0.15500090354788573, fmeasure: 0.12076822482663492\n",
            "Rouge1 - precision: 0.2098772786975697, recall: 0.24076510699142506, fmeasure: 0.19349910196865397\n",
            "Rouge2 - precision: 0.032860048514334196, recall: 0.04217078555685659, fmeasure: 0.03241383994791923\n"
          ]
        }
      ]
    },
    {
      "cell_type": "code",
      "metadata": {
        "id": "EEi_A-DbsWJZ"
      },
      "source": [
        "model = model.to('cpu')\n",
        "step = 0\n",
        "while True:\n",
        "    context = input(\">> User:\")\n",
        "    if context == \"I am done talking\":\n",
        "      print(\"DialoGPT: Ok bye bye\")\n",
        "      print(\"How well did I answer the question? (See the five-point scale in the readme.)\")\n",
        "      input(\"Answer: \")\n",
        "      print(\"Thanks! How fluent were my answers? (See the five-point scale in the readme.)\")\n",
        "      input(\"Answer: \")\n",
        "      break\n",
        "    # encode the new user input, add the eos_token and return a tensor in Pytorch\n",
        "    new_user_input_ids1 = tokenizer(context, return_tensors='pt').input_ids\n",
        "\n",
        "    # append the new user input tokens to the chat history\n",
        "    bot_input_ids1 = torch.cat([chat_history_ids1, new_user_input_ids1], dim=-1) if step > 0 else new_user_input_ids1\n",
        "\n",
        "    # generated a response while limiting the total chat history to 1000 tokens, \n",
        "    chat_history_ids1 = model.generate(bot_input_ids1, max_length=1000, return_dict=True)\n",
        "    step += 1\n",
        "    # pretty print last ouput tokens from bot\n",
        "    print(\"DialoGPT: {}\".format(tokenizer.decode(chat_history_ids1[:, bot_input_ids1.shape[-1]:][0], skip_special_tokens=True)))"
      ],
      "execution_count": null,
      "outputs": []
    },
    {
      "cell_type": "code",
      "metadata": {
        "id": "Pr4t-i60sWJZ",
        "colab": {
          "base_uri": "https://localhost:8080/",
          "height": 249
        },
        "outputId": "4517e491-0941-4b17-beaf-304aa8d5d1b4"
      },
      "source": [
        "print(model.device)\n",
        "\n",
        "print(bot_input_ids1.device)\n",
        "\n",
        "# Can't be different"
      ],
      "execution_count": null,
      "outputs": [
        {
          "output_type": "stream",
          "name": "stdout",
          "text": [
            "cpu\n"
          ]
        },
        {
          "output_type": "error",
          "ename": "NameError",
          "evalue": "ignored",
          "traceback": [
            "\u001b[0;31m---------------------------------------------------------------------------\u001b[0m",
            "\u001b[0;31mNameError\u001b[0m                                 Traceback (most recent call last)",
            "\u001b[0;32m<ipython-input-25-c929e70ddc64>\u001b[0m in \u001b[0;36m<module>\u001b[0;34m()\u001b[0m\n\u001b[1;32m      1\u001b[0m \u001b[0mprint\u001b[0m\u001b[0;34m(\u001b[0m\u001b[0mmodel\u001b[0m\u001b[0;34m.\u001b[0m\u001b[0mdevice\u001b[0m\u001b[0;34m)\u001b[0m\u001b[0;34m\u001b[0m\u001b[0;34m\u001b[0m\u001b[0m\n\u001b[1;32m      2\u001b[0m \u001b[0;34m\u001b[0m\u001b[0m\n\u001b[0;32m----> 3\u001b[0;31m \u001b[0mprint\u001b[0m\u001b[0;34m(\u001b[0m\u001b[0mbot_input_ids1\u001b[0m\u001b[0;34m.\u001b[0m\u001b[0mdevice\u001b[0m\u001b[0;34m)\u001b[0m\u001b[0;34m\u001b[0m\u001b[0;34m\u001b[0m\u001b[0m\n\u001b[0m\u001b[1;32m      4\u001b[0m \u001b[0;34m\u001b[0m\u001b[0m\n\u001b[1;32m      5\u001b[0m \u001b[0;31m# Can't be different\u001b[0m\u001b[0;34m\u001b[0m\u001b[0;34m\u001b[0m\u001b[0;34m\u001b[0m\u001b[0m\n",
            "\u001b[0;31mNameError\u001b[0m: name 'bot_input_ids1' is not defined"
          ]
        }
      ]
    }
  ]
}